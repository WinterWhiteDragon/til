{
 "cells": [
  {
   "cell_type": "code",
   "execution_count": 1,
   "metadata": {
    "collapsed": true
   },
   "outputs": [],
   "source": [
    "# Calculator를 구현하다"
   ]
  },
  {
   "cell_type": "code",
   "execution_count": 2,
   "metadata": {
    "collapsed": true
   },
   "outputs": [],
   "source": [
    "from Stack import *"
   ]
  },
  {
   "cell_type": "code",
   "execution_count": 28,
   "metadata": {},
   "outputs": [],
   "source": [
    "class Calculator:\n",
    "    def __init__(self):\n",
    "        # org_exp & postfix_exp는 string\n",
    "        self.org_exp = None\n",
    "        self.postfix_exp = None\n",
    "        self.result = None\n",
    "        \n",
    "    def set_original_expression(self, exp):\n",
    "        self.org_exp = exp.replace(' ', '')\n",
    "        self.postfix_exp = None\n",
    "        self.result = None\n",
    "        \n",
    "    def get_original_expression(self):\n",
    "        return self.org_exp\n",
    "    \n",
    "    # 편의함수 1\n",
    "        # 외부 사용자가 사용하는 것이 아니라, class 내부에서 method를 사용할 때 편의를 위해 사용하는 함수\n",
    "    # get_weight(oprt) -> 가중치를 return한다\n",
    "    def get_weight(self, oprt):\n",
    "        if oprt == '*' or oprt == '/':\n",
    "            return 9\n",
    "        elif oprt == '+' or oprt == '-':\n",
    "            return 7\n",
    "        elif oprt == '(':\n",
    "            return 5\n",
    "    \n",
    "    # *** 핵심 알고리즘 ***\n",
    "    # self.org_exp -> 후위수식법으로 변환하여 self.postfix_exp에 저장하여 return\n",
    "        # 여기서 exp_list & oprt_stack을 사용한다\n",
    "    def convert_to_postfix(self):\n",
    "        exp_list = []\n",
    "        oprt_stack = Stack()\n",
    "        \n",
    "        li = \",\".join(str(self.org_exp)).split(\",\")\n",
    "        \n",
    "        for e in li:\n",
    "            if e != '(' and e != '+' and e != '-' and e != '*' and e != '/':\n",
    "                exp_list.append(e)\n",
    "            else:\n",
    "                if e == \"(\" or oprt_stack.empty():\n",
    "                    oprt_stack.push()\n",
    "                elif e == \")\":\n",
    "                    for a in oprt_stack:\n",
    "                        if a != \"(\":\n",
    "                            exp_list.append(oprt_stack.pop())\n",
    "                        else:\n",
    "                            oprt_stack.pop()\n",
    "                            \n",
    "                # 여기 위까지는 OK (I hope anyways...)..... --+\n",
    "                \n",
    "                elif get_weight(e) == 7:\n",
    "                    for h in oprt_stack:\n",
    "                        if get_weight(h) == None or get_weight(h) == 5:\n",
    "                            oprt_stack.append(e)\n",
    "                        else:\n",
    "                            exp_list.append(h)\n",
    "                            oprt_stack.pop(h)\n",
    "                elif get_weight(e) == 9:\n",
    "                    for h in oprt_stack:\n",
    "                        if get_weight(h) == 9:\n",
    "                            exp_list.append(h)\n",
    "                            oprt_stack.pop(h)\n",
    "                        else:\n",
    "                            oprt_stack.append(e)\n",
    "                elif e == \")\":\n",
    "                    \n",
    "                    n = idx[(get_weight == 5)]\n",
    "                    exp_list.append(oprt_stack[n:])\n",
    "                    \n",
    "                \n",
    "\n",
    "                     \n",
    "        self.postfix_exp = exp_list\n",
    "        return self.postfix_exp\n",
    "    \n",
    "    # client(사용자)에게 공개된 interface이다\n",
    "    def get_postfix_expression(self):\n",
    "        if not self.org_exp:\n",
    "            return None\n",
    "        if not self.postfix_exp:\n",
    "            self.convert_to_postfix()\n",
    "        return self.postfix_exp\n",
    "    \n",
    "    # 편의함수 2\n",
    "    # 두 피연산자를 받아서 연산자로 계산해서 \n",
    "        # ex) 3 + 2:\n",
    "                # 3과 2는 피연산자 operand고, '+'는 연산자 operator다\n",
    "    def calc_two_oprd(self, oprd1, oprd2, oprt):\n",
    "        if oprt == '+':\n",
    "            return oprd1 + oprd2\n",
    "        elif oprt == \"-\":\n",
    "            return oprd1 - oprd2\n",
    "        elif oprt == \"*\":\n",
    "            return oprd1 * oprd2\n",
    "        elif oprt == '/':\n",
    "            return oprd1 // oprd2\n",
    "        \n",
    "    \n",
    "    # 알고리즘 part 2\n",
    "        # 후위표기법 수식을 실제로 계산하는 함수\n",
    "        # return은 없지만 self.result에 결과값을 저장한다\n",
    "    def calculate(self):\n",
    "        pass\n",
    "    \n",
    "        # calculate에는 피연산자용 스택(operand stack)을 만들어야 한다\n",
    "                            # == oprd_stack\n",
    "                # oprd_stack의 값은 int(ch)해서 정수 자료형으로 변환하여 추가한다\n",
    "            # 연산자를 만나면 stack에 있는 것을 빼내고 연산하여 다시 stack에 넣는다\n",
    "                # 더 이상 stack에 추가할 연산자가 없을 때 pop해서 result에 저장한다\n",
    "            # stack에 위에 있는 피연산자를 oprd2로 설정, 아래 있는 것을 oprd1으로 설정\n",
    "    \n",
    "    # client(사용자)에게 공개된 interface이다\n",
    "    def get_result(self):\n",
    "        if not self.org_exp:\n",
    "            return None\n",
    "        if not self.postfix_exp:\n",
    "            self.calculate()\n",
    "        return self.result\n",
    "    "
   ]
  },
  {
   "cell_type": "code",
   "execution_count": 26,
   "metadata": {},
   "outputs": [
    {
     "name": "stdout",
     "output_type": "stream",
     "text": [
      "수식을 입력하세요(종료 : 0) : 3\n"
     ]
    },
    {
     "ename": "NameError",
     "evalue": "name 'e' is not defined",
     "output_type": "error",
     "traceback": [
      "\u001b[1;31m---------------------------------------------------------------------------\u001b[0m",
      "\u001b[1;31mNameError\u001b[0m                                 Traceback (most recent call last)",
      "\u001b[1;32m<ipython-input-26-289d2f5fe83e>\u001b[0m in \u001b[0;36m<module>\u001b[1;34m()\u001b[0m\n\u001b[0;32m      9\u001b[0m \u001b[1;33m\u001b[0m\u001b[0m\n\u001b[0;32m     10\u001b[0m         \u001b[0mcalc\u001b[0m\u001b[1;33m.\u001b[0m\u001b[0mset_original_expression\u001b[0m\u001b[1;33m(\u001b[0m\u001b[0mexp\u001b[0m\u001b[1;33m)\u001b[0m\u001b[1;33m\u001b[0m\u001b[0m\n\u001b[1;32m---> 11\u001b[1;33m         \u001b[0mprint\u001b[0m\u001b[1;33m(\u001b[0m\u001b[0mcalc\u001b[0m\u001b[1;33m.\u001b[0m\u001b[0mget_postfix_expression\u001b[0m\u001b[1;33m(\u001b[0m\u001b[1;33m)\u001b[0m\u001b[1;33m)\u001b[0m\u001b[1;33m\u001b[0m\u001b[0m\n\u001b[0m\u001b[0;32m     12\u001b[0m         '''\n\u001b[0;32m     13\u001b[0m         print(\"{exp} = {result}\".format(\n",
      "\u001b[1;32m<ipython-input-25-25cbe863b574>\u001b[0m in \u001b[0;36mget_postfix_expression\u001b[1;34m(self)\u001b[0m\n\u001b[0;32m     55\u001b[0m             \u001b[1;32mreturn\u001b[0m \u001b[1;32mNone\u001b[0m\u001b[1;33m\u001b[0m\u001b[0m\n\u001b[0;32m     56\u001b[0m         \u001b[1;32mif\u001b[0m \u001b[1;32mnot\u001b[0m \u001b[0mself\u001b[0m\u001b[1;33m.\u001b[0m\u001b[0mpostfix_exp\u001b[0m\u001b[1;33m:\u001b[0m\u001b[1;33m\u001b[0m\u001b[0m\n\u001b[1;32m---> 57\u001b[1;33m             \u001b[0mself\u001b[0m\u001b[1;33m.\u001b[0m\u001b[0mconvert_to_postfix\u001b[0m\u001b[1;33m(\u001b[0m\u001b[1;33m)\u001b[0m\u001b[1;33m\u001b[0m\u001b[0m\n\u001b[0m\u001b[0;32m     58\u001b[0m         \u001b[1;32mreturn\u001b[0m \u001b[0mself\u001b[0m\u001b[1;33m.\u001b[0m\u001b[0mpostfix_exp\u001b[0m\u001b[1;33m\u001b[0m\u001b[0m\n\u001b[0;32m     59\u001b[0m \u001b[1;33m\u001b[0m\u001b[0m\n",
      "\u001b[1;32m<ipython-input-25-25cbe863b574>\u001b[0m in \u001b[0;36mconvert_to_postfix\u001b[1;34m(self)\u001b[0m\n\u001b[0;32m     35\u001b[0m \u001b[1;33m\u001b[0m\u001b[0m\n\u001b[0;32m     36\u001b[0m         \u001b[1;32mwhile\u001b[0m \u001b[1;32mTrue\u001b[0m\u001b[1;33m:\u001b[0m\u001b[1;33m\u001b[0m\u001b[0m\n\u001b[1;32m---> 37\u001b[1;33m             \u001b[1;32mif\u001b[0m \u001b[0me\u001b[0m \u001b[1;33m!=\u001b[0m \u001b[1;34m'('\u001b[0m \u001b[1;32mand\u001b[0m \u001b[0me\u001b[0m \u001b[1;33m!=\u001b[0m \u001b[1;34m'+'\u001b[0m \u001b[1;32mand\u001b[0m \u001b[0me\u001b[0m \u001b[1;33m!=\u001b[0m \u001b[1;34m'-'\u001b[0m \u001b[1;32mand\u001b[0m \u001b[0me\u001b[0m \u001b[1;33m!=\u001b[0m \u001b[1;34m'*'\u001b[0m \u001b[1;32mand\u001b[0m \u001b[0me\u001b[0m \u001b[1;33m!=\u001b[0m \u001b[1;34m'/'\u001b[0m\u001b[1;33m:\u001b[0m\u001b[1;33m\u001b[0m\u001b[0m\n\u001b[0m\u001b[0;32m     38\u001b[0m                 \u001b[0mexp_list\u001b[0m\u001b[1;33m.\u001b[0m\u001b[0mappend\u001b[0m\u001b[1;33m(\u001b[0m\u001b[0me\u001b[0m\u001b[1;33m)\u001b[0m\u001b[1;33m\u001b[0m\u001b[0m\n\u001b[0;32m     39\u001b[0m             \u001b[1;32melse\u001b[0m\u001b[1;33m:\u001b[0m\u001b[1;33m\u001b[0m\u001b[0m\n",
      "\u001b[1;31mNameError\u001b[0m: name 'e' is not defined"
     ]
    }
   ],
   "source": [
    "# Test Code for the Calculator\n",
    "\n",
    "if __name__ == \"__main__\":\n",
    "    calc = Calculator()\n",
    "    while 1:\n",
    "        exp = input(\"수식을 입력하세요(종료 : 0) : \")\n",
    "        if exp == '0':\n",
    "            break\n",
    "        \n",
    "        calc.set_original_expression(exp)\n",
    "        print(calc.get_postfix_expression())\n",
    "        '''\n",
    "        print(\"{exp} = {result}\".format(\n",
    "            exp = calc.get_org_exp(), result = calc.get_result()))\n",
    "        '''"
   ]
  },
  {
   "cell_type": "code",
   "execution_count": null,
   "metadata": {
    "collapsed": true
   },
   "outputs": [],
   "source": []
  }
 ],
 "metadata": {
  "kernelspec": {
   "display_name": "Python 3",
   "language": "python",
   "name": "python3"
  },
  "language_info": {
   "codemirror_mode": {
    "name": "ipython",
    "version": 3
   },
   "file_extension": ".py",
   "mimetype": "text/x-python",
   "name": "python",
   "nbconvert_exporter": "python",
   "pygments_lexer": "ipython3",
   "version": "3.6.1"
  }
 },
 "nbformat": 4,
 "nbformat_minor": 2
}
