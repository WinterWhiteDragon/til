{
 "cells": [
  {
   "cell_type": "code",
   "execution_count": 1,
   "metadata": {
    "collapsed": true
   },
   "outputs": [],
   "source": [
    "from openpyxl import *\n",
    "# \"*\" means import all"
   ]
  },
  {
   "cell_type": "code",
   "execution_count": 2,
   "metadata": {
    "collapsed": true
   },
   "outputs": [],
   "source": [
    "wb = load_workbook('exam.xlsx')\n",
    "# 특정 excel 파일을 import하기"
   ]
  },
  {
   "cell_type": "code",
   "execution_count": 3,
   "metadata": {},
   "outputs": [
    {
     "data": {
      "text/plain": [
       "['Sheet1']"
      ]
     },
     "execution_count": 3,
     "metadata": {},
     "output_type": "execute_result"
    }
   ],
   "source": [
    "wb.sheetnames\n",
    "# import한 특정 excel 파일에 있는 worksheet 이름들 출력"
   ]
  },
  {
   "cell_type": "code",
   "execution_count": 4,
   "metadata": {
    "collapsed": true
   },
   "outputs": [],
   "source": [
    "wa = wb.active\n",
    "# \".active\"는 excel 파일에서 active한 wowrksheet을 출력\n",
    "    # default value == 0, 따로 변경하지 않는 이상 가장왼쪽 worksheet가 active으로 나온다"
   ]
  },
  {
   "cell_type": "code",
   "execution_count": 5,
   "metadata": {},
   "outputs": [
    {
     "data": {
      "text/plain": [
       "<Worksheet \"Sheet1\">"
      ]
     },
     "execution_count": 5,
     "metadata": {},
     "output_type": "execute_result"
    }
   ],
   "source": [
    "wa\n",
    "# wa란 하나의 object(객체)"
   ]
  },
  {
   "cell_type": "code",
   "execution_count": 6,
   "metadata": {},
   "outputs": [
    {
     "data": {
      "text/plain": [
       "['BREAK_COLUMN',\n",
       " 'BREAK_NONE',\n",
       " 'BREAK_ROW',\n",
       " 'HeaderFooter',\n",
       " 'ORIENTATION_LANDSCAPE',\n",
       " 'ORIENTATION_PORTRAIT',\n",
       " 'PAPERSIZE_A3',\n",
       " 'PAPERSIZE_A4',\n",
       " 'PAPERSIZE_A4_SMALL',\n",
       " 'PAPERSIZE_A5',\n",
       " 'PAPERSIZE_EXECUTIVE',\n",
       " 'PAPERSIZE_LEDGER',\n",
       " 'PAPERSIZE_LEGAL',\n",
       " 'PAPERSIZE_LETTER',\n",
       " 'PAPERSIZE_LETTER_SMALL',\n",
       " 'PAPERSIZE_STATEMENT',\n",
       " 'PAPERSIZE_TABLOID',\n",
       " 'SHEETSTATE_HIDDEN',\n",
       " 'SHEETSTATE_VERYHIDDEN',\n",
       " 'SHEETSTATE_VISIBLE',\n",
       " '_WorkbookChild__parent',\n",
       " '_WorkbookChild__title',\n",
       " '__class__',\n",
       " '__delattr__',\n",
       " '__dict__',\n",
       " '__dir__',\n",
       " '__doc__',\n",
       " '__eq__',\n",
       " '__format__',\n",
       " '__ge__',\n",
       " '__getattribute__',\n",
       " '__getitem__',\n",
       " '__gt__',\n",
       " '__hash__',\n",
       " '__init__',\n",
       " '__init_subclass__',\n",
       " '__iter__',\n",
       " '__le__',\n",
       " '__lt__',\n",
       " '__module__',\n",
       " '__ne__',\n",
       " '__new__',\n",
       " '__reduce__',\n",
       " '__reduce_ex__',\n",
       " '__repr__',\n",
       " '__setattr__',\n",
       " '__setitem__',\n",
       " '__sizeof__',\n",
       " '__str__',\n",
       " '__subclasshook__',\n",
       " '__weakref__',\n",
       " '_add_cell',\n",
       " '_add_column',\n",
       " '_add_row',\n",
       " '_cells',\n",
       " '_cells_by_col',\n",
       " '_cells_by_row',\n",
       " '_charts',\n",
       " '_comments',\n",
       " '_current_row',\n",
       " '_default_title',\n",
       " '_drawing',\n",
       " '_get_cell',\n",
       " '_hyperlinks',\n",
       " '_id',\n",
       " '_images',\n",
       " '_invalid_row',\n",
       " '_merged_cells',\n",
       " '_path',\n",
       " '_print_area',\n",
       " '_print_cols',\n",
       " '_print_rows',\n",
       " '_rel_type',\n",
       " '_rels',\n",
       " '_setup',\n",
       " '_tables',\n",
       " '_write',\n",
       " 'active_cell',\n",
       " 'add_chart',\n",
       " 'add_data_validation',\n",
       " 'add_image',\n",
       " 'add_print_title',\n",
       " 'add_table',\n",
       " 'append',\n",
       " 'auto_filter',\n",
       " 'calculate_dimension',\n",
       " 'cell',\n",
       " 'column_dimensions',\n",
       " 'columns',\n",
       " 'conditional_formatting',\n",
       " 'data_validations',\n",
       " 'dimensions',\n",
       " 'encoding',\n",
       " 'evenFooter',\n",
       " 'evenHeader',\n",
       " 'firstFooter',\n",
       " 'firstHeader',\n",
       " 'formula_attributes',\n",
       " 'freeze_panes',\n",
       " 'get_cell_collection',\n",
       " 'get_named_range',\n",
       " 'get_squared_range',\n",
       " 'iter_cols',\n",
       " 'iter_rows',\n",
       " 'legacy_drawing',\n",
       " 'max_column',\n",
       " 'max_row',\n",
       " 'merge_cells',\n",
       " 'merged_cell_ranges',\n",
       " 'merged_cells',\n",
       " 'mime_type',\n",
       " 'min_column',\n",
       " 'min_row',\n",
       " 'oddFooter',\n",
       " 'oddHeader',\n",
       " 'orientation',\n",
       " 'page_breaks',\n",
       " 'page_margins',\n",
       " 'page_setup',\n",
       " 'paper_size',\n",
       " 'parent',\n",
       " 'path',\n",
       " 'point_pos',\n",
       " 'print_area',\n",
       " 'print_options',\n",
       " 'print_title_cols',\n",
       " 'print_title_rows',\n",
       " 'print_titles',\n",
       " 'protection',\n",
       " 'row_dimensions',\n",
       " 'rows',\n",
       " 'selected_cell',\n",
       " 'set_printer_settings',\n",
       " 'sheet_format',\n",
       " 'sheet_properties',\n",
       " 'sheet_state',\n",
       " 'sheet_view',\n",
       " 'show_gridlines',\n",
       " 'show_summary_below',\n",
       " 'show_summary_right',\n",
       " 'sort_state',\n",
       " 'title',\n",
       " 'unmerge_cells',\n",
       " 'values',\n",
       " 'vba_code',\n",
       " 'views']"
      ]
     },
     "execution_count": 6,
     "metadata": {},
     "output_type": "execute_result"
    }
   ],
   "source": [
    "dir(wa)"
   ]
  },
  {
   "cell_type": "code",
   "execution_count": 7,
   "metadata": {
    "collapsed": true
   },
   "outputs": [],
   "source": [
    "# Data Parsing\n",
    "# 파일에서 데이터를 읽어오는 행위가 parsing\n",
    "# 목표: 최종적으로 wa로 list를 만들고, list 안에는 1인당 dictionary를 만들어 name, math, literature, science를 key로, 그 값들을 value로\n",
    "    # key는 name, math, literature, science를 한 번에 지정, value만 매번 입력하게끔"
   ]
  },
  {
   "cell_type": "code",
   "execution_count": 8,
   "metadata": {},
   "outputs": [
    {
     "data": {
      "text/plain": [
       "<generator object Worksheet._cells_by_row at 0x00000199B1357EB8>"
      ]
     },
     "execution_count": 8,
     "metadata": {},
     "output_type": "execute_result"
    }
   ],
   "source": [
    "# \".rows\"는 excel 파일의 내용을 한 줄 한 줄씩 반환해준다... 한 줄 안에 여러가지 자료형이 있으니까 cell로 묶어서 반환한다\n",
    "g = wa.rows\n",
    "g\n",
    "# g는 generator"
   ]
  },
  {
   "cell_type": "code",
   "execution_count": 9,
   "metadata": {
    "collapsed": true
   },
   "outputs": [],
   "source": [
    "# 첫번째 줄 내용을 cell로 묶어서 반환한다\n",
    "k = next(g)\n",
    "# next()는 iterator에서 다음 값을 뽑는다\n",
    "    # 한번만 돌렸기에 첫 번째 줄만 출력한다"
   ]
  },
  {
   "cell_type": "code",
   "execution_count": 10,
   "metadata": {},
   "outputs": [
    {
     "data": {
      "text/plain": [
       "(<Cell 'Sheet1'.A1>,\n",
       " <Cell 'Sheet1'.B1>,\n",
       " <Cell 'Sheet1'.C1>,\n",
       " <Cell 'Sheet1'.D1>)"
      ]
     },
     "execution_count": 10,
     "metadata": {},
     "output_type": "execute_result"
    }
   ],
   "source": [
    "k"
   ]
  },
  {
   "cell_type": "code",
   "execution_count": 11,
   "metadata": {
    "collapsed": true
   },
   "outputs": [],
   "source": [
    "keys = []"
   ]
  },
  {
   "cell_type": "code",
   "execution_count": 12,
   "metadata": {
    "collapsed": true
   },
   "outputs": [],
   "source": [
    "for key in k:\n",
    "    keys.append(key.value)\n",
    "    # \".value\"는 각 cell의 value를 반환한다.\n",
    "        # ex) Sheet 1's A1의 value는 'name'이다"
   ]
  },
  {
   "cell_type": "code",
   "execution_count": 13,
   "metadata": {},
   "outputs": [
    {
     "data": {
      "text/plain": [
       "['name', 'math', 'literature', 'science']"
      ]
     },
     "execution_count": 13,
     "metadata": {},
     "output_type": "execute_result"
    }
   ],
   "source": [
    "keys"
   ]
  },
  {
   "cell_type": "code",
   "execution_count": 14,
   "metadata": {
    "collapsed": true
   },
   "outputs": [],
   "source": [
    "student_data = []\n",
    "for rows in g:\n",
    "    dic = {k : v.value for k, v in zip(keys, rows)}\n",
    "    student_data.append(dic)\n",
    "    # zip(x, y)는 순서대로 첫번째 x와 첫번째 y를 tuple로 묶고, 두번째 x와 두번째 y를 tuple로 묶고 so on and so forth.\n",
    "    # rows가 g에서 가져오는 것인데 name, math, literature, science의 첫번째 줄은 이미 한 번 g를 실행했기에 넘어가고\n",
    "        # 두번째부터 rows에 차례로 입력된다"
   ]
  },
  {
   "cell_type": "code",
   "execution_count": 15,
   "metadata": {},
   "outputs": [
    {
     "data": {
      "text/plain": [
       "[{'literature': 65, 'math': 95, 'name': 'greg', 'science': 75},\n",
       " {'literature': 30, 'math': 25, 'name': 'john', 'science': 55},\n",
       " {'literature': 45, 'math': 50, 'name': 'yang', 'science': 40},\n",
       " {'literature': 65, 'math': 15, 'name': 'timothy', 'science': 90},\n",
       " {'literature': 100, 'math': 100, 'name': 'melisa', 'science': 100},\n",
       " {'literature': 15, 'math': 10, 'name': 'thor', 'science': 20},\n",
       " {'literature': 50, 'math': 25, 'name': 'elen', 'science': 100},\n",
       " {'literature': 75, 'math': 80, 'name': 'mark', 'science': 80},\n",
       " {'literature': 100, 'math': 95, 'name': 'steve', 'science': 95},\n",
       " {'literature': 20, 'math': 20, 'name': 'anna', 'science': 20}]"
      ]
     },
     "execution_count": 15,
     "metadata": {},
     "output_type": "execute_result"
    }
   ],
   "source": [
    "student_data"
   ]
  },
  {
   "cell_type": "code",
   "execution_count": 16,
   "metadata": {},
   "outputs": [
    {
     "name": "stdout",
     "output_type": "stream",
     "text": [
      " name : greg           math : 95             literature : 65       science : 75         \n",
      " name : john           math : 25             literature : 30       science : 55         \n",
      " name : yang           math : 50             literature : 45       science : 40         \n",
      " name : timothy        math : 15             literature : 65       science : 90         \n",
      " name : melisa         math : 100            literature : 100      science : 100        \n",
      " name : thor           math : 10             literature : 15       science : 20         \n",
      " name : elen           math : 25             literature : 50       science : 100        \n",
      " name : mark           math : 80             literature : 75       science : 80         \n",
      " name : steve          math : 95             literature : 100      science : 95         \n",
      " name : anna           math : 20             literature : 20       science : 20         \n"
     ]
    }
   ],
   "source": [
    "# student_data를 더 보이 쉬운 형태로 만들다\n",
    "for student in student_data:\n",
    "    for k, v in student.items():\n",
    "        print(' {} : {}'.format(k, v).ljust(20), end = \"  \")\n",
    "        # ljust(20)은 각 item 당 폭 20자리를 잡고 내용을 왼쪽에 정렬하라는 뜻의 함수\n",
    "    print()\n",
    "    # print()를 또 쓰는 이유는 default인 \\n을 적용하여 띄어쓰기하게 만들기 위해서인듯?\n",
    "        # print()를 빼고 실행하면 한 줄에 이어서 출력된다\n",
    "    # 순서가 랜덤했던 student_data가 순서대로 출력되는 이유는, 우연히 순서가 맞춰진 것이다. 다음에 다시한다면 순서가 바뀌어 나올 수 있다."
   ]
  },
  {
   "cell_type": "code",
   "execution_count": 17,
   "metadata": {},
   "outputs": [
    {
     "data": {
      "text/plain": [
       "['__add__',\n",
       " '__class__',\n",
       " '__contains__',\n",
       " '__delattr__',\n",
       " '__dir__',\n",
       " '__doc__',\n",
       " '__eq__',\n",
       " '__format__',\n",
       " '__ge__',\n",
       " '__getattribute__',\n",
       " '__getitem__',\n",
       " '__getnewargs__',\n",
       " '__gt__',\n",
       " '__hash__',\n",
       " '__init__',\n",
       " '__init_subclass__',\n",
       " '__iter__',\n",
       " '__le__',\n",
       " '__len__',\n",
       " '__lt__',\n",
       " '__mod__',\n",
       " '__mul__',\n",
       " '__ne__',\n",
       " '__new__',\n",
       " '__reduce__',\n",
       " '__reduce_ex__',\n",
       " '__repr__',\n",
       " '__rmod__',\n",
       " '__rmul__',\n",
       " '__setattr__',\n",
       " '__sizeof__',\n",
       " '__str__',\n",
       " '__subclasshook__',\n",
       " 'capitalize',\n",
       " 'casefold',\n",
       " 'center',\n",
       " 'count',\n",
       " 'encode',\n",
       " 'endswith',\n",
       " 'expandtabs',\n",
       " 'find',\n",
       " 'format',\n",
       " 'format_map',\n",
       " 'index',\n",
       " 'isalnum',\n",
       " 'isalpha',\n",
       " 'isdecimal',\n",
       " 'isdigit',\n",
       " 'isidentifier',\n",
       " 'islower',\n",
       " 'isnumeric',\n",
       " 'isprintable',\n",
       " 'isspace',\n",
       " 'istitle',\n",
       " 'isupper',\n",
       " 'join',\n",
       " 'ljust',\n",
       " 'lower',\n",
       " 'lstrip',\n",
       " 'maketrans',\n",
       " 'partition',\n",
       " 'replace',\n",
       " 'rfind',\n",
       " 'rindex',\n",
       " 'rjust',\n",
       " 'rpartition',\n",
       " 'rsplit',\n",
       " 'rstrip',\n",
       " 'split',\n",
       " 'splitlines',\n",
       " 'startswith',\n",
       " 'strip',\n",
       " 'swapcase',\n",
       " 'title',\n",
       " 'translate',\n",
       " 'upper',\n",
       " 'zfill']"
      ]
     },
     "execution_count": 17,
     "metadata": {},
     "output_type": "execute_result"
    }
   ],
   "source": [
    "dir(str)\n",
    "# 왼쪽 정렬 \"ljust\" 외 갖가지 기능을 dir(str)에서 찾을 수 있다.\n",
    "    # ex) \"center\"는 가운데 정렬한다"
   ]
  },
  {
   "cell_type": "code",
   "execution_count": 18,
   "metadata": {
    "collapsed": true
   },
   "outputs": [],
   "source": [
    "# Normal Distribution (표준 정규 분포)"
   ]
  },
  {
   "cell_type": "code",
   "execution_count": 19,
   "metadata": {
    "collapsed": true
   },
   "outputs": [],
   "source": [
    "# Procedural Programming\n",
    "    # 오래전, 비구조적 프로그래밍 사용... indent 한번 없이 모든 명령문을 실행 (함수 없다)\n",
    "            # 현재는 어쎔블리어에서만 사용\n",
    "    # On IDLE, because it's easier for what I'm doing here"
   ]
  },
  {
   "cell_type": "code",
   "execution_count": 1,
   "metadata": {
    "collapsed": true
   },
   "outputs": [],
   "source": [
    "# Object-Oriented Programming\n",
    "\n",
    "\n",
    "# Class는 연관있는 변수와 연관있는 함수를 한 곳에 모아놓은 것이다.\n",
    "        # 연관있는 변수란 내부정보를 의미한다 => closure처럼\n",
    "\n",
    "# Member is something you can declare inside a class, such as constructor, destructor, method, etc.\n",
    "    # So a method is a type of member\n",
    "    # 연관있는 변수 == member (python) == property (C/C++)\n",
    "\n",
    "# Method is essentially a function that is inside a class\n",
    "    # 연관있는 함수 == method (python) == behavior (C/C++)\n",
    "    # Method != Function\n",
    "        # function과 다르게, method는 함수 정보(class 정보)와 객체 정보(self 정보)를 동시에 가지고 있다\n",
    "        # method에 이런 내부정보가 있는 이유는, method는 다른 object에 예속되어있기 때문이다 (class도 object의 종류다)"
   ]
  },
  {
   "cell_type": "code",
   "execution_count": null,
   "metadata": {
    "collapsed": true
   },
   "outputs": [],
   "source": [
    "# Object\n",
    "\n",
    "# In Python, everything is an object\n",
    "# Object is a piece of data that includes data, variables, and functions\n",
    "# Object is equivalent to Instance.\n",
    "    # ex) \"42 is an int object\" is equivalent to \"42 is an instance of the type int\"    \n",
    "# With classes, an object is the output of an executed class, an instance is each object from a specific input"
   ]
  },
  {
   "cell_type": "code",
   "execution_count": 20,
   "metadata": {
    "collapsed": true
   },
   "outputs": [],
   "source": [
    "# Class by the name of \"account\"\n",
    "        \n",
    "# Class names generally use capital letters for the first letter\n",
    "# \"def\" is used for functions, \"class\" is used for classes\n",
    "\n",
    "class Account:\n",
    "# *** class는 붕어빵을 찍어내는 틀, class member & class method는 전역변수를 대체 가능 ***\n",
    "    # class member & class method는 class 이름 혹은 instance 이름을 통해서 접근\n",
    "        # ex) Account.interest_rate == my_acnt.interest_rate\n",
    "\n",
    "# python에서는 모든 것이 객체니까 class도 변수를 가질 수 있다.\n",
    "    # class member는 class의 변수이며 모든 객체가 공유한다. 반면, instance member는 해당 객체에게만 해당하는 변수이다.\n",
    "    # ex) class members\n",
    "    interest_rate = 7.6\n",
    "    name = 'Good Life'\n",
    "    kind = 'demanding deposit'\n",
    "\n",
    "    # class method는 객체가 생성되기 전에도 호출 가능. 입력값을 받지 않으며 입력값에 따라 변하지 않는다\n",
    "    @classmethod\n",
    "    def get_account_info(cls):\n",
    "        # \"cls\"는 class를 의미\n",
    "        return (cls.interest_rate, cls.name, cls.kind)\n",
    "    \n",
    "    # constructor(생성자): intializes (creates and resets) members\n",
    "    def __init__(self, name, money):\n",
    "        # *** \"self\" ***\n",
    "            # \"self\" self-references the instance being used (the instance created by executing the class)\n",
    "            # \"self\" indicates it is an instance variable and not a local variable\n",
    "        # instance member: 특정 instance(==object), 여기서는 __init__ method(==object의 한 종류)와 연관있는 member\n",
    "        self.user = name\n",
    "        self.balance = money\n",
    "        # user & balance는 Account와 연관있는 변수다\n",
    "    \n",
    "    # destructor(소멸자): 주 목적은 메모리의 해제, but python은 reference count로 자동으로 하기에 사용할 일이 별로 없다\n",
    "    def __del__(self):\n",
    "        print(\"Account object deleted!\")\n",
    "    \n",
    "    # instance method: 특정 instance, input을 넣었을 때 실행되는 instance와 연관있는 함수들\n",
    "        # 입력값을 받으며 입력값에 따라 출력값이 바뀐다\n",
    "    def deposit(self, money):\n",
    "        if money <= 0:\n",
    "            return None\n",
    "        else:\n",
    "            self.balance += money\n",
    "            return self.balance\n",
    "        \n",
    "    def withdraw(self, money):\n",
    "        '''\n",
    "        obj.withdraw(money) -> bool\n",
    "            # 앞에 \"obj.\"를 붙여서 object function으로 만들었기에 \"self\"가 불필요하다\n",
    "        '''\n",
    "        if money <= self.balance:\n",
    "            self.balance -= money\n",
    "            return True, money\n",
    "        else:\n",
    "            return False\n",
    "\n",
    "    def __str__(self):\n",
    "        return ('{} : {}'.format(self.user, self.balance))"
   ]
  },
  {
   "cell_type": "code",
   "execution_count": 26,
   "metadata": {},
   "outputs": [
    {
     "name": "stdout",
     "output_type": "stream",
     "text": [
      "Account object deleted!\n"
     ]
    }
   ],
   "source": [
    "# class는 찍어내는 특이며 object는 실제로 존재하는 객체\n",
    "my_acnt = Account('John', 5000)\n",
    "your_acnt = Account('Anna', 1000)"
   ]
  },
  {
   "cell_type": "code",
   "execution_count": 27,
   "metadata": {},
   "outputs": [
    {
     "name": "stdout",
     "output_type": "stream",
     "text": [
      "John 5000\n"
     ]
    }
   ],
   "source": [
    "print(my_acnt.user, my_acnt.balance)\n",
    "# Doable, but 이렇게 member에 바로 접근하는 것은 하면 안된다"
   ]
  },
  {
   "cell_type": "code",
   "execution_count": 28,
   "metadata": {},
   "outputs": [
    {
     "name": "stdout",
     "output_type": "stream",
     "text": [
      "John : 5000\n"
     ]
    }
   ],
   "source": [
    "# __str__(self)을 정의했기에 이렇게 나온다.\n",
    "print(my_acnt)"
   ]
  },
  {
   "cell_type": "code",
   "execution_count": 29,
   "metadata": {},
   "outputs": [
    {
     "name": "stdout",
     "output_type": "stream",
     "text": [
      "John : 7000\n"
     ]
    }
   ],
   "source": [
    "# 1. object로 method 호출\n",
    "my_acnt.deposit(2000)\n",
    "# self가 my_acnt의 값을 다시 가리키기에 자동으로 name & money가 입력된다\n",
    "print(my_acnt)"
   ]
  },
  {
   "cell_type": "code",
   "execution_count": 30,
   "metadata": {},
   "outputs": [
    {
     "name": "stdout",
     "output_type": "stream",
     "text": [
      "Account object deleted!\n"
     ]
    }
   ],
   "source": [
    "del my_acnt\n",
    "# destructor는 object를 삭제할 때 호출된다"
   ]
  },
  {
   "cell_type": "code",
   "execution_count": 31,
   "metadata": {
    "collapsed": true
   },
   "outputs": [],
   "source": [
    "# Message Passing == Interaction with objects\n",
    "\n",
    "class Account:\n",
    "    def __init__(self, name, money):\n",
    "        self.user = name\n",
    "        self.balance = money\n",
    "\n",
    "    def __del__(self):\n",
    "        pass\n",
    "    \n",
    "\n",
    "    def deposit(self, money):\n",
    "        if money <= 0:\n",
    "            return None\n",
    "        else:\n",
    "            self.balance += money\n",
    "            return self.balance\n",
    "        \n",
    "    def withdraw(self, money):\n",
    "        if money <= self.balance:\n",
    "            self.balance -= money\n",
    "            return True, money\n",
    "        else:\n",
    "            return False\n",
    "\n",
    "    # Message Passing\n",
    "        # In OOP, objects do things themselves.\n",
    "        # A message is telling an object to do something.\n",
    "        # In message passing, object A is given a message to do something. While doing that, object A calls object B\n",
    "            # and passes a message, telling object B to do something. If necessary, object A provides external\n",
    "            # information (like arguments) to object B, while if necessary, object B returns information to object A.\n",
    "\n",
    "    # Message passing이 사용되는 예시\n",
    "    def transfer(self, other, money):\n",
    "        res = self.withdraw(money)\n",
    "        if res:\n",
    "            other.deposit(money)\n",
    "            # 객체 간 상호작용을 할 때는 함수호출을 사용한다.\n",
    "                # 즉, 다른 객체의 함수를 호출해서 내부정보를 바꾼다\n",
    "            return True\n",
    "        else:\n",
    "            return False\n",
    "        \n",
    "    def __str__(self):\n",
    "        return ('{} : {}'.format(self.user, self.balance))"
   ]
  },
  {
   "cell_type": "code",
   "execution_count": 32,
   "metadata": {},
   "outputs": [
    {
     "name": "stdout",
     "output_type": "stream",
     "text": [
      "Account object deleted!\n",
      "John : 5000\n",
      "Anna : 1000\n"
     ]
    }
   ],
   "source": [
    "my_acnt = Account('John', 5000)\n",
    "your_acnt = Account('Anna', 1000)\n",
    "print(my_acnt)\n",
    "print(your_acnt)"
   ]
  },
  {
   "cell_type": "code",
   "execution_count": 33,
   "metadata": {},
   "outputs": [
    {
     "data": {
      "text/plain": [
       "True"
      ]
     },
     "execution_count": 33,
     "metadata": {},
     "output_type": "execute_result"
    }
   ],
   "source": [
    "my_acnt.transfer(your_acnt, 3000)"
   ]
  },
  {
   "cell_type": "code",
   "execution_count": 34,
   "metadata": {},
   "outputs": [
    {
     "data": {
      "text/plain": [
       "4000"
      ]
     },
     "execution_count": 34,
     "metadata": {},
     "output_type": "execute_result"
    }
   ],
   "source": [
    "# 객체의 method를 호출할 때\n",
    "    # <객체>.<함수명>()가 일반적\n",
    "\n",
    "# ex)\n",
    "my_acnt.deposit(2000)"
   ]
  },
  {
   "cell_type": "code",
   "execution_count": 35,
   "metadata": {},
   "outputs": [
    {
     "ename": "TypeError",
     "evalue": "deposit() missing 1 required positional argument: 'money'",
     "output_type": "error",
     "traceback": [
      "\u001b[1;31m---------------------------------------------------------------------------\u001b[0m",
      "\u001b[1;31mTypeError\u001b[0m                                 Traceback (most recent call last)",
      "\u001b[1;32m<ipython-input-35-a44cc5350bb2>\u001b[0m in \u001b[0;36m<module>\u001b[1;34m()\u001b[0m\n\u001b[0;32m      1\u001b[0m \u001b[1;31m# 클래스를 통해 호출\u001b[0m\u001b[1;33m\u001b[0m\u001b[1;33m\u001b[0m\u001b[0m\n\u001b[0;32m      2\u001b[0m     \u001b[1;31m# 사용하지 않는다\u001b[0m\u001b[1;33m\u001b[0m\u001b[1;33m\u001b[0m\u001b[0m\n\u001b[1;32m----> 3\u001b[1;33m \u001b[0mAccount\u001b[0m\u001b[1;33m.\u001b[0m\u001b[0mdeposit\u001b[0m\u001b[1;33m(\u001b[0m\u001b[1;36m2000\u001b[0m\u001b[1;33m)\u001b[0m\u001b[1;33m\u001b[0m\u001b[0m\n\u001b[0m\u001b[0;32m      4\u001b[0m     \u001b[1;31m# 무엇이 self인지 모른다. 반면 method에는 self를 내부정보로 가지고 있기 때문에 자동으로 입력한다.\u001b[0m\u001b[1;33m\u001b[0m\u001b[1;33m\u001b[0m\u001b[0m\n",
      "\u001b[1;31mTypeError\u001b[0m: deposit() missing 1 required positional argument: 'money'"
     ]
    }
   ],
   "source": [
    "# 클래스를 통해 호출\n",
    "    # 사용하지 않는다\n",
    "Account.deposit(2000)\n",
    "    # 무엇이 self인지 모른다. 반면 method에는 self를 내부정보로 가지고 있기 때문에 자동으로 입력한다."
   ]
  },
  {
   "cell_type": "code",
   "execution_count": 36,
   "metadata": {},
   "outputs": [
    {
     "data": {
      "text/plain": [
       "6000"
      ]
     },
     "execution_count": 36,
     "metadata": {},
     "output_type": "execute_result"
    }
   ],
   "source": [
    "Account.deposit(my_acnt, 2000)"
   ]
  },
  {
   "cell_type": "code",
   "execution_count": 37,
   "metadata": {},
   "outputs": [
    {
     "data": {
      "text/plain": [
       "function"
      ]
     },
     "execution_count": 37,
     "metadata": {},
     "output_type": "execute_result"
    }
   ],
   "source": [
    "type(Account.deposit)"
   ]
  },
  {
   "cell_type": "code",
   "execution_count": 38,
   "metadata": {},
   "outputs": [
    {
     "data": {
      "text/plain": [
       "method"
      ]
     },
     "execution_count": 38,
     "metadata": {},
     "output_type": "execute_result"
    }
   ],
   "source": [
    "type(my_acnt.deposit)"
   ]
  },
  {
   "cell_type": "code",
   "execution_count": 39,
   "metadata": {},
   "outputs": [
    {
     "data": {
      "text/plain": [
       "['__call__',\n",
       " '__class__',\n",
       " '__delattr__',\n",
       " '__dir__',\n",
       " '__doc__',\n",
       " '__eq__',\n",
       " '__format__',\n",
       " '__func__',\n",
       " '__ge__',\n",
       " '__get__',\n",
       " '__getattribute__',\n",
       " '__gt__',\n",
       " '__hash__',\n",
       " '__init__',\n",
       " '__init_subclass__',\n",
       " '__le__',\n",
       " '__lt__',\n",
       " '__ne__',\n",
       " '__new__',\n",
       " '__reduce__',\n",
       " '__reduce_ex__',\n",
       " '__repr__',\n",
       " '__self__',\n",
       " '__setattr__',\n",
       " '__sizeof__',\n",
       " '__str__',\n",
       " '__subclasshook__']"
      ]
     },
     "execution_count": 39,
     "metadata": {},
     "output_type": "execute_result"
    }
   ],
   "source": [
    "dir(my_acnt.deposit)\n",
    "# method에는 \"__self__\" & \"__func__\"이 들어있다."
   ]
  },
  {
   "cell_type": "code",
   "execution_count": 40,
   "metadata": {},
   "outputs": [
    {
     "data": {
      "text/plain": [
       "True"
      ]
     },
     "execution_count": 40,
     "metadata": {},
     "output_type": "execute_result"
    }
   ],
   "source": [
    "my_acnt.deposit.__func__ is Account.deposit"
   ]
  },
  {
   "cell_type": "code",
   "execution_count": 41,
   "metadata": {},
   "outputs": [
    {
     "data": {
      "text/plain": [
       "True"
      ]
     },
     "execution_count": 41,
     "metadata": {},
     "output_type": "execute_result"
    }
   ],
   "source": [
    "my_acnt.deposit.__self__ is my_acnt\n",
    "# self는 class를 실행하여 찍어낸 객체이다."
   ]
  },
  {
   "cell_type": "code",
   "execution_count": 43,
   "metadata": {},
   "outputs": [
    {
     "data": {
      "text/plain": [
       "__main__.Account"
      ]
     },
     "execution_count": 43,
     "metadata": {},
     "output_type": "execute_result"
    }
   ],
   "source": [
    "Account"
   ]
  },
  {
   "cell_type": "code",
   "execution_count": 21,
   "metadata": {},
   "outputs": [
    {
     "data": {
      "text/plain": [
       "7.6"
      ]
     },
     "execution_count": 21,
     "metadata": {},
     "output_type": "execute_result"
    }
   ],
   "source": [
    "# Kernel을 끄고 아직 account class에서 객체(instance)가 하나도 안 생긴 상태\n",
    "Account.interest_rate"
   ]
  },
  {
   "cell_type": "code",
   "execution_count": 22,
   "metadata": {},
   "outputs": [
    {
     "data": {
      "text/plain": [
       "(7.6, 'Good Life', 'demanding deposit')"
      ]
     },
     "execution_count": 22,
     "metadata": {},
     "output_type": "execute_result"
    }
   ],
   "source": [
    "Account.get_account_info()"
   ]
  },
  {
   "cell_type": "code",
   "execution_count": 23,
   "metadata": {
    "collapsed": true
   },
   "outputs": [],
   "source": [
    "my_acnt = Account('John', 5000)"
   ]
  },
  {
   "cell_type": "code",
   "execution_count": 24,
   "metadata": {},
   "outputs": [
    {
     "data": {
      "text/plain": [
       "7.6"
      ]
     },
     "execution_count": 24,
     "metadata": {},
     "output_type": "execute_result"
    }
   ],
   "source": [
    "my_acnt.interest_rate"
   ]
  },
  {
   "cell_type": "code",
   "execution_count": 25,
   "metadata": {},
   "outputs": [
    {
     "data": {
      "text/plain": [
       "(7.6, 'Good Life', 'demanding deposit')"
      ]
     },
     "execution_count": 25,
     "metadata": {},
     "output_type": "execute_result"
    }
   ],
   "source": [
    "my_acnt.get_account_info()"
   ]
  },
  {
   "cell_type": "code",
   "execution_count": 44,
   "metadata": {
    "collapsed": true
   },
   "outputs": [],
   "source": [
    "# Class 실습\n",
    "\n",
    "class Person:\n",
    "    # class member\n",
    "    planet = 'Earth'\n",
    "    \n",
    "    def _init__(self, name, age):\n",
    "    # 새로운 member는 __init__에서만 정의할 것. 원래 그것이 __init__의 목적이니까\n",
    "    # name & age는 instance member다\n",
    "        self.name = name\n",
    "        self.age = age\n",
    "        self.nationality = None\n",
    "        # 지금 당장 사용하지 않을 member라도 __init__에 None이라하고 정의할 것\n",
    "    \n",
    "    def __del__(self):\n",
    "        pass\n",
    "    \n",
    "    # 여기서부터는 instance method. 객체가 가지는 behavior(기능)을 정의한다\n",
    "    def eat(self, food):\n",
    "        print(\"{} eats {}\".format(self, name, food))\n",
    "    \n",
    "    def sleep(self, hours):\n",
    "        pass\n",
    "\n",
    "# And so on and so forth......"
   ]
  },
  {
   "cell_type": "code",
   "execution_count": 58,
   "metadata": {
    "collapsed": true
   },
   "outputs": [],
   "source": [
    "# Class 연습문제\n",
    "\n",
    "# Computer에 관한 class 설계\n",
    "    # member: self.send_data, self.receive_data, self.cpu, self.ram\n",
    "    # method:\n",
    "        # data_receiver, data_sender: message passing에 사용\n",
    "    # Message passing을 할 것 (다른 computer에게 내 정보를 전송)\n",
    "    # 다 작성하고 나서는 객체를 만들어서 시험해 볼 것.\n",
    "\n",
    "class Computer:\n",
    "    def __init__(self, cpu, ram):\n",
    "        self.send_data = None\n",
    "        self.receive_data = None\n",
    "        self.cpu = cpu\n",
    "        self.ram = ram\n",
    "    \n",
    "    def __del__(self):\n",
    "        pass    \n",
    "    \n",
    "    def get_data_to_send(self):\n",
    "        b = input(\"What? \")\n",
    "        self.send_data = b\n",
    "    \n",
    "    def get_send_data(self):\n",
    "        return self.send_data\n",
    "    \n",
    "    def message_sender(self, other):\n",
    "        if not self.send_data:\n",
    "            return False\n",
    "        else:\n",
    "            res = other.message_receiver(self)\n",
    "            self.send_data = None\n",
    "            return res\n",
    "    \n",
    "    def message_receiver(self, other):\n",
    "        if self.receive_data:\n",
    "            return False\n",
    "        else:\n",
    "            self.receive_data = other.get_send_data()\n",
    "            if self.receive_data:\n",
    "                return True\n",
    "            else:\n",
    "                return False\n",
    "    \n",
    "    def get_receive_data(self):\n",
    "        return self.receive_data\n",
    "    \n",
    "    def __str__(self):\n",
    "        if not self.receive_data:\n",
    "            return \"No data\"\n",
    "        else:\n",
    "            return self.recieve_data\n",
    "        \n",
    "\n",
    "# CONSULT WEEK3/DAY1 @ CSS 3RD @ GITHUB.COM/YTHWORK"
   ]
  },
  {
   "cell_type": "code",
   "execution_count": 59,
   "metadata": {
    "collapsed": true
   },
   "outputs": [],
   "source": [
    "c1 = Computer(\"intel\", 16)\n",
    "c2 = Computer(\"AMD\", 4)"
   ]
  },
  {
   "cell_type": "code",
   "execution_count": 60,
   "metadata": {},
   "outputs": [
    {
     "name": "stdout",
     "output_type": "stream",
     "text": [
      "What? lokl\n"
     ]
    }
   ],
   "source": [
    "c1.get_data_to_send()"
   ]
  },
  {
   "cell_type": "code",
   "execution_count": 62,
   "metadata": {},
   "outputs": [
    {
     "name": "stdout",
     "output_type": "stream",
     "text": [
      "lokl\n"
     ]
    }
   ],
   "source": [
    "print(c1.get_send_data())"
   ]
  },
  {
   "cell_type": "code",
   "execution_count": 63,
   "metadata": {},
   "outputs": [
    {
     "data": {
      "text/plain": [
       "True"
      ]
     },
     "execution_count": 63,
     "metadata": {},
     "output_type": "execute_result"
    }
   ],
   "source": [
    "c1.message_sender(c2)"
   ]
  },
  {
   "cell_type": "code",
   "execution_count": 64,
   "metadata": {},
   "outputs": [
    {
     "ename": "AttributeError",
     "evalue": "'Computer' object has no attribute 'recieve_data'",
     "output_type": "error",
     "traceback": [
      "\u001b[1;31m---------------------------------------------------------------------------\u001b[0m",
      "\u001b[1;31mAttributeError\u001b[0m                            Traceback (most recent call last)",
      "\u001b[1;32m<ipython-input-64-0d2230c51e3a>\u001b[0m in \u001b[0;36m<module>\u001b[1;34m()\u001b[0m\n\u001b[1;32m----> 1\u001b[1;33m \u001b[0mprint\u001b[0m\u001b[1;33m(\u001b[0m\u001b[0mc2\u001b[0m\u001b[1;33m)\u001b[0m\u001b[1;33m\u001b[0m\u001b[0m\n\u001b[0m",
      "\u001b[1;32m<ipython-input-58-8ea299dfa9c8>\u001b[0m in \u001b[0;36m__str__\u001b[1;34m(self)\u001b[0m\n\u001b[0;32m     50\u001b[0m             \u001b[1;32mreturn\u001b[0m \u001b[1;34m\"No data\"\u001b[0m\u001b[1;33m\u001b[0m\u001b[0m\n\u001b[0;32m     51\u001b[0m         \u001b[1;32melse\u001b[0m\u001b[1;33m:\u001b[0m\u001b[1;33m\u001b[0m\u001b[0m\n\u001b[1;32m---> 52\u001b[1;33m             \u001b[1;32mreturn\u001b[0m \u001b[0mself\u001b[0m\u001b[1;33m.\u001b[0m\u001b[0mrecieve_data\u001b[0m\u001b[1;33m\u001b[0m\u001b[0m\n\u001b[0m\u001b[0;32m     53\u001b[0m \u001b[1;33m\u001b[0m\u001b[0m\n\u001b[0;32m     54\u001b[0m \u001b[1;33m\u001b[0m\u001b[0m\n",
      "\u001b[1;31mAttributeError\u001b[0m: 'Computer' object has no attribute 'recieve_data'"
     ]
    }
   ],
   "source": [
    "print(c2)"
   ]
  },
  {
   "cell_type": "code",
   "execution_count": 34,
   "metadata": {
    "collapsed": true
   },
   "outputs": [],
   "source": [
    "# Class 연습문제 at-home\n",
    "\n",
    "class elf:\n",
    "    home = 'Forest Realm'\n",
    "    age = 'Unknown'\n",
    "    lifespan = 'Possibly unlimited? (Depending on who wrote the story ;p)'\n",
    "    \n",
    "    @classmethod\n",
    "    def where_does_elf_live(cls):\n",
    "        ans = {\"Home: {}\".format(cls.home)}\n",
    "        print(ans)\n",
    "    \n",
    "    @classmethod\n",
    "    def how_long_does_elf_live(cls):\n",
    "        ans = {\"Age: {}, Lifespan: {}\".format(cls.age, cls.lifespan)}\n",
    "        print(ans)\n",
    "    \n",
    "    def __init__(self, man, woman):\n",
    "        self.gender = gender\n",
    "        self.hobby = hobby\n",
    "        self.send_post = None\n",
    "        self.receive_post = None\n",
    "    \n",
    "    def __del__(self):\n",
    "        pass\n",
    "    \n",
    "    def what_to_post(self):\n",
    "        what = input(\"What will you post? \")\n",
    "        self.send_post = what\n",
    "        return what\n",
    "    \n",
    "    def sending_post(self, other):\n",
    "        if not self.send_post:\n",
    "            return False\n",
    "        else:\n",
    "            \n",
    "        \n",
    "    def transfer(self, other, money):\n",
    "        res = self.withdraw(money)\n",
    "        if res:\n",
    "            other.deposit(money)\n",
    "            # 객체 간 상호작용을 할 때는 함수호출을 사용한다.\n",
    "                # 즉, 다른 객체의 함수를 호출해서 내부정보를 바꾼다\n",
    "            return True\n",
    "        else:\n",
    "            return False"
   ]
  },
  {
   "cell_type": "code",
   "execution_count": 35,
   "metadata": {},
   "outputs": [
    {
     "name": "stdout",
     "output_type": "stream",
     "text": [
      "{'Home: Forest Realm'}\n"
     ]
    }
   ],
   "source": [
    "elf.where_does_elf_live()"
   ]
  },
  {
   "cell_type": "code",
   "execution_count": 36,
   "metadata": {},
   "outputs": [
    {
     "name": "stdout",
     "output_type": "stream",
     "text": [
      "{'Age: Unknown, Lifespan: Possibly unlimited? (Depending on who wrote the story ;p)'}\n"
     ]
    }
   ],
   "source": [
    "elf.how_long_does_elf_live()"
   ]
  },
  {
   "cell_type": "code",
   "execution_count": null,
   "metadata": {
    "collapsed": true
   },
   "outputs": [],
   "source": []
  }
 ],
 "metadata": {
  "kernelspec": {
   "display_name": "Python 3",
   "language": "python",
   "name": "python3"
  },
  "language_info": {
   "codemirror_mode": {
    "name": "ipython",
    "version": 3
   },
   "file_extension": ".py",
   "mimetype": "text/x-python",
   "name": "python",
   "nbconvert_exporter": "python",
   "pygments_lexer": "ipython3",
   "version": "3.6.1"
  }
 },
 "nbformat": 4,
 "nbformat_minor": 2
}
