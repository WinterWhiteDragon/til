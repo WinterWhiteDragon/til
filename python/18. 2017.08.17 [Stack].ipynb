{
 "cells": [
  {
   "cell_type": "code",
   "execution_count": 1,
   "metadata": {
    "collapsed": true
   },
   "outputs": [],
   "source": [
    "# Stack"
   ]
  },
  {
   "cell_type": "code",
   "execution_count": 2,
   "metadata": {
    "collapsed": true
   },
   "outputs": [],
   "source": [
    "# Stack을 구현하다\n",
    "class Stack(list):\n",
    "    # Python의 기본 클래스인 list를 상속받는다\n",
    "    \n",
    "    # push\n",
    "    push = list.append\n",
    "    # 상속받은 list를 사용하기에 method로 정의 불필요.\n",
    "    \n",
    "    # pop은 구현하지 않는다. list에 pop()이 이미 있기 때문에 불필요.\n",
    "    \n",
    "    def peek(self):\n",
    "        return self[-1]\n",
    "    \n",
    "    def empty(self):\n",
    "        if not self:\n",
    "            return True\n",
    "        return False   "
   ]
  },
  {
   "cell_type": "code",
   "execution_count": 3,
   "metadata": {},
   "outputs": [
    {
     "name": "stdout",
     "output_type": "stream",
     "text": [
      "10 8 6 4 2 "
     ]
    }
   ],
   "source": [
    "# Test Code for Stack\n",
    "if __name__ == \"__main__\":\n",
    "    s = Stack()\n",
    "    s.push(2)\n",
    "    s.push(4)\n",
    "    s.push(6)\n",
    "    s.push(8)\n",
    "    s.push(10)\n",
    "    \n",
    "    while not s.empty():\n",
    "        print(s.pop(), end = ' ')"
   ]
  },
  {
   "cell_type": "code",
   "execution_count": null,
   "metadata": {
    "collapsed": true
   },
   "outputs": [],
   "source": []
  }
 ],
 "metadata": {
  "kernelspec": {
   "display_name": "Python 3",
   "language": "python",
   "name": "python3"
  },
  "language_info": {
   "codemirror_mode": {
    "name": "ipython",
    "version": 3
   },
   "file_extension": ".py",
   "mimetype": "text/x-python",
   "name": "python",
   "nbconvert_exporter": "python",
   "pygments_lexer": "ipython3",
   "version": "3.6.1"
  }
 },
 "nbformat": 4,
 "nbformat_minor": 2
}
