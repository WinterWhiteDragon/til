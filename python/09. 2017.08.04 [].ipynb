{
 "cells": [
  {
   "cell_type": "code",
   "execution_count": 2,
   "metadata": {
    "collapsed": true
   },
   "outputs": [],
   "source": [
    "a = 1024\n",
    "b = 1024"
   ]
  },
  {
   "cell_type": "code",
   "execution_count": 3,
   "metadata": {},
   "outputs": [
    {
     "data": {
      "text/plain": [
       "True"
      ]
     },
     "execution_count": 3,
     "metadata": {},
     "output_type": "execute_result"
    }
   ],
   "source": [
    "# 1. a == b인가?\n",
    "a == b\n",
    "# \"a == b\"는 a가 reference하는 1024 값이 b가 reference하는 1024 값과 같은가를 묻는다"
   ]
  },
  {
   "cell_type": "code",
   "execution_count": 4,
   "metadata": {},
   "outputs": [
    {
     "data": {
      "text/plain": [
       "False"
      ]
     },
     "execution_count": 4,
     "metadata": {},
     "output_type": "execute_result"
    }
   ],
   "source": [
    "a is b\n",
    "# \"a is b\"는 a가 reference하는 값의 주소가 b가 reference하는 값의 주소와 같은가?\n",
    "    # 즉, a와 b는 동일한 저장공간을 reference하는가?"
   ]
  },
  {
   "cell_type": "code",
   "execution_count": 6,
   "metadata": {},
   "outputs": [
    {
     "name": "stdout",
     "output_type": "stream",
     "text": [
      "0x1dcdb489ed0\n",
      "0x1dcdb489f50\n"
     ]
    }
   ],
   "source": [
    "print(hex(id(a)))\n",
    "print(hex(id(b)))\n",
    "# a와 b가 reference하는 저장공간의 값은 동일하다 == 1024\n",
    "    # 하지만 서로 다른 2개 저장공간에 같은 값을 동일한 것이다 == 주소값이 다르다"
   ]
  },
  {
   "cell_type": "code",
   "execution_count": 7,
   "metadata": {
    "collapsed": true
   },
   "outputs": [],
   "source": [
    "a = 1\n",
    "b = 1"
   ]
  },
  {
   "cell_type": "code",
   "execution_count": 8,
   "metadata": {},
   "outputs": [
    {
     "data": {
      "text/plain": [
       "True"
      ]
     },
     "execution_count": 8,
     "metadata": {},
     "output_type": "execute_result"
    }
   ],
   "source": [
    "a == b"
   ]
  },
  {
   "cell_type": "code",
   "execution_count": 9,
   "metadata": {},
   "outputs": [
    {
     "data": {
      "text/plain": [
       "True"
      ]
     },
     "execution_count": 9,
     "metadata": {},
     "output_type": "execute_result"
    }
   ],
   "source": [
    "a is b"
   ]
  },
  {
   "cell_type": "code",
   "execution_count": 18,
   "metadata": {
    "collapsed": true
   },
   "outputs": [],
   "source": [
    "a = 'abcde'\n",
    "b = 'abcde'"
   ]
  },
  {
   "cell_type": "code",
   "execution_count": 20,
   "metadata": {},
   "outputs": [
    {
     "data": {
      "text/plain": [
       "True"
      ]
     },
     "execution_count": 20,
     "metadata": {},
     "output_type": "execute_result"
    }
   ],
   "source": [
    "a == b"
   ]
  },
  {
   "cell_type": "code",
   "execution_count": 21,
   "metadata": {},
   "outputs": [
    {
     "data": {
      "text/plain": [
       "True"
      ]
     },
     "execution_count": 21,
     "metadata": {},
     "output_type": "execute_result"
    }
   ],
   "source": [
    "a is b\n",
    "# 논리적으로는 string도 숫자와 똑같이 서로 다른 저장공간을 사용하고 있어야한다\n",
    "    # 하지만 동일한 string도 서로다른 저장공간을 만든다면 너무 비효율적이다\n",
    "    # 그래서 최적화 차원에서 string은 예외적으로 동일한 저장공간을 reference한다"
   ]
  },
  {
   "cell_type": "code",
   "execution_count": 10,
   "metadata": {},
   "outputs": [
    {
     "name": "stdout",
     "output_type": "stream",
     "text": [
      "0x55cfb440\n",
      "0x55cfb440\n"
     ]
    }
   ],
   "source": [
    "# 2. a == b인가?\n",
    "    # 어제 말했듯이, \"1\" 같이 흔히 사용하는 숫자나 문자는 미리 만들어놓는다\n",
    "print(hex(id(a)))\n",
    "print(hex(id(b)))"
   ]
  },
  {
   "cell_type": "code",
   "execution_count": 11,
   "metadata": {},
   "outputs": [
    {
     "name": "stdout",
     "output_type": "stream",
     "text": [
      "x is a :  True\n",
      "x is a :  False\n"
     ]
    }
   ],
   "source": [
    "def func(x, v):\n",
    "    print('x is a : ', x is a)\n",
    "    # \"10\" 같은 흔히 사용하는 숫자는 미리 저장공간을 만들어놓고, 이 함수를 실행하기위해 새로 만들지 않았다\n",
    "    x = v # \"=\"이 assign한다는 표시다\n",
    "                # 여기서는 x에다가 v의 값을 assign하고 있다\n",
    "    print('x is a : ', x is a)\n",
    "    # \"x=v\"를 실행하면서 x에게 새로운 값을 assign하기에 x!=a가 된다\n",
    "    \n",
    "a = 10\n",
    "func(a, 20)"
   ]
  },
  {
   "cell_type": "code",
   "execution_count": 14,
   "metadata": {},
   "outputs": [
    {
     "name": "stdout",
     "output_type": "stream",
     "text": [
      "data is li?   True\n",
      "data is li?   True\n",
      "[1004, 2, 3, 4]\n",
      "None\n",
      "[1004, 2, 3, 4]\n"
     ]
    }
   ],
   "source": [
    "# Mutable하고 li 자체를 변경하는 것이 아니라 1개 요소를 바꾸려는 경우\n",
    "def func(data, idx, value):\n",
    "    print('data is li?  ', data is li) # 1st print\n",
    "    data[idx] = value\n",
    "    print('data is li?  ', data is li) # 2nd print\n",
    "    print(data) # 3rd print\n",
    "\n",
    "li = [1, 2, 3, 4,]\n",
    "print(func(li, 0, 1004)) # 4th print: 함수를 실행했으나 함수가 return하는 것이 없기 때문에 \"None\"이라고 출력된다\n",
    "print(li) # 5th print"
   ]
  },
  {
   "cell_type": "code",
   "execution_count": 17,
   "metadata": {},
   "outputs": [
    {
     "name": "stdout",
     "output_type": "stream",
     "text": [
      "data is li?   True\n",
      "data is li?   False\n",
      "[1004, 666]\n",
      "None\n",
      "[1, 2, 3, 4]\n"
     ]
    }
   ],
   "source": [
    "# Mutable하지만 리스트를 통째로 바꾸려는 경우\n",
    "def func(data, value):\n",
    "    print('data is li?  ', data is li) # 1st print: True가 나와야한다\n",
    "    data = value\n",
    "    print('data is li?  ', data is li) # 2nd print: False가 나와야한다\n",
    "    print(data) # 3rd print\n",
    "\n",
    "li = [1, 2, 3, 4,]\n",
    "print(func(li, [1004, 666])) # 4th print: 함수를 실행했으나 함수가 return하는 것이 없기 때문에 \"None\"이라고 출력된다\n",
    "print(li) # 5th print"
   ]
  },
  {
   "cell_type": "code",
   "execution_count": 23,
   "metadata": {},
   "outputs": [
    {
     "data": {
      "text/plain": [
       "b'\\x1f'"
      ]
     },
     "execution_count": 23,
     "metadata": {},
     "output_type": "execute_result"
    }
   ],
   "source": [
    "# Represent the number 31 in 1 byte (8 bits)\n",
    "(31).to_bytes(1, byteorder = \"little\", signed = True)\n",
    "# The \"1\" at the head of the parantheses means only 1 byte should be used to store the number 31\n",
    "# Signed vs. Unsigned\n",
    "    # Signed means the very first (left-most) bit will be used to show whether the integer is positive or negative\n",
    "    # 0 means a positive integer, 1 means a negative integer\n",
    "# Byteorder\n",
    "    # The value of byteorder can be \"little\" or \"big\", and indicates whether Big Endian or Little Endian is used\n",
    "# The output below is the number 31 represented in hexadecimal format (it's 0b00011111 in binary)"
   ]
  },
  {
   "cell_type": "code",
   "execution_count": 27,
   "metadata": {},
   "outputs": [
    {
     "data": {
      "text/plain": [
       "16909060"
      ]
     },
     "execution_count": 27,
     "metadata": {},
     "output_type": "execute_result"
    }
   ],
   "source": [
    "# Exercising with changing positive integers from hexa to decimal to binary forms\n",
    "a = 0x01020304\n",
    "a\n",
    "# Hexadecimal number 01020304 is 16909060 in decimal"
   ]
  },
  {
   "cell_type": "code",
   "execution_count": 28,
   "metadata": {},
   "outputs": [
    {
     "data": {
      "text/plain": [
       "b'\\x04\\x03\\x02\\x01'"
      ]
     },
     "execution_count": 28,
     "metadata": {},
     "output_type": "execute_result"
    }
   ],
   "source": [
    "a.to_bytes(4, byteorder = 'little', signed = True)"
   ]
  },
  {
   "cell_type": "code",
   "execution_count": 29,
   "metadata": {
    "collapsed": true
   },
   "outputs": [],
   "source": [
    "# Floating Point Number\n",
    "    # Characteristics\n",
    "        # 1. Can express a wide range of things\n",
    "        # 2. Lacks accuracy\n",
    "        # 3. Do not compare with \"==\" in IF statements"
   ]
  },
  {
   "cell_type": "code",
   "execution_count": 32,
   "metadata": {},
   "outputs": [
    {
     "name": "stdout",
     "output_type": "stream",
     "text": [
      "s is not 1\n",
      "1.0000000000000007\n"
     ]
    }
   ],
   "source": [
    "# Floating Point Number's 3rd Characteristic\n",
    "    # Do not compare with \"==\" in IF or WHILE statements\n",
    "a = 0.01\n",
    "s = 0.0\n",
    "\n",
    "for i in range(100):\n",
    "    s += a\n",
    "\n",
    "if s == 1.0:\n",
    "    print(\"s is 1\")\n",
    "else:\n",
    "    print(\"s is not 1\")\n",
    "\n",
    "print(s)"
   ]
  },
  {
   "cell_type": "code",
   "execution_count": 33,
   "metadata": {},
   "outputs": [
    {
     "name": "stdout",
     "output_type": "stream",
     "text": [
      "s is 1.5625\n",
      "1.5625\n"
     ]
    }
   ],
   "source": [
    "# Exception) A script where it is possible to compare with \"==\" in IF statements\n",
    "    # WHY???\n",
    "        # (Frankly, you don't need to understand why if it's too difficult)\n",
    "a = 0.015625\n",
    "s = 0.0\n",
    "\n",
    "for i in range(100):\n",
    "    s += a\n",
    "\n",
    "if s == 1.5625:\n",
    "    print(\"s is 1.5625\")\n",
    "else:\n",
    "    print(\"s is not 1.5625\")\n",
    "\n",
    "print(s)"
   ]
  },
  {
   "cell_type": "code",
   "execution_count": 34,
   "metadata": {},
   "outputs": [
    {
     "data": {
      "text/plain": [
       "sys.float_info(max=1.7976931348623157e+308, max_exp=1024, max_10_exp=308, min=2.2250738585072014e-308, min_exp=-1021, min_10_exp=-307, dig=15, mant_dig=53, epsilon=2.220446049250313e-16, radix=2, rounds=1)"
      ]
     },
     "execution_count": 34,
     "metadata": {},
     "output_type": "execute_result"
    }
   ],
   "source": [
    "# Check the exponent bits, radix, etc. in (+/-) 1.m * 2**(e-b)\n",
    "import sys\n",
    "sys.float_info\n",
    "# dig=15 represents the accuracy (Remember, a characteristic of floating point numbers is that they lack accuracy)"
   ]
  },
  {
   "cell_type": "code",
   "execution_count": 40,
   "metadata": {},
   "outputs": [
    {
     "data": {
      "text/plain": [
       "'가'"
      ]
     },
     "execution_count": 40,
     "metadata": {},
     "output_type": "execute_result"
    }
   ],
   "source": [
    "# Check the UNICODE (AC00 is \"가\")\n",
    "'\\uAC00'"
   ]
  },
  {
   "cell_type": "code",
   "execution_count": 43,
   "metadata": {},
   "outputs": [
    {
     "data": {
      "text/plain": [
       "'A'"
      ]
     },
     "execution_count": 43,
     "metadata": {},
     "output_type": "execute_result"
    }
   ],
   "source": [
    "# (0041 is \"A\")\n",
    "\"\\u0041\""
   ]
  },
  {
   "cell_type": "code",
   "execution_count": 44,
   "metadata": {},
   "outputs": [
    {
     "data": {
      "text/plain": [
       "b'A'"
      ]
     },
     "execution_count": 44,
     "metadata": {},
     "output_type": "execute_result"
    }
   ],
   "source": [
    "'A'.encode('utf-8')\n",
    "# \"b\" means 1 byte"
   ]
  },
  {
   "cell_type": "code",
   "execution_count": 45,
   "metadata": {},
   "outputs": [
    {
     "data": {
      "text/plain": [
       "b'\\xea\\xb0\\x80'"
      ]
     },
     "execution_count": 45,
     "metadata": {},
     "output_type": "execute_result"
    }
   ],
   "source": [
    "'가'.encode('utf-8')\n",
    "# \"ea\", \"b0\", \"80\" each represent 1 byte"
   ]
  },
  {
   "cell_type": "code",
   "execution_count": 46,
   "metadata": {},
   "outputs": [
    {
     "data": {
      "text/plain": [
       "b'\\xff\\xfe\\x00\\xac'"
      ]
     },
     "execution_count": 46,
     "metadata": {},
     "output_type": "execute_result"
    }
   ],
   "source": [
    "'가'.encode('utf-16')\n",
    "# Using little endian, from right to left, \"ac\" & \"00\""
   ]
  },
  {
   "cell_type": "code",
   "execution_count": 47,
   "metadata": {},
   "outputs": [
    {
     "data": {
      "text/plain": [
       "b'\\xff\\xfe\\x00\\x00\\x00\\xac\\x00\\x00'"
      ]
     },
     "execution_count": 47,
     "metadata": {},
     "output_type": "execute_result"
    }
   ],
   "source": [
    "'가'.encode('utf-32')"
   ]
  },
  {
   "cell_type": "code",
   "execution_count": 48,
   "metadata": {},
   "outputs": [
    {
     "data": {
      "text/plain": [
       "b'\\xb0\\xa1'"
      ]
     },
     "execution_count": 48,
     "metadata": {},
     "output_type": "execute_result"
    }
   ],
   "source": [
    "'가'.encode('cp949')"
   ]
  },
  {
   "cell_type": "code",
   "execution_count": 49,
   "metadata": {},
   "outputs": [
    {
     "name": "stdout",
     "output_type": "stream",
     "text": [
      "97\n",
      "98\n",
      "99\n",
      "100\n",
      "101\n"
     ]
    }
   ],
   "source": [
    "# Python has UTF-8 as the default setting,\n",
    "    # so when you use encode() it encodes with UTF-8\n",
    "c = 'abcde'.encode()\n",
    "for ch in c:\n",
    "    print(ch)"
   ]
  },
  {
   "cell_type": "code",
   "execution_count": 50,
   "metadata": {},
   "outputs": [
    {
     "data": {
      "text/plain": [
       "b'\\xea\\xb0\\x80'"
      ]
     },
     "execution_count": 50,
     "metadata": {},
     "output_type": "execute_result"
    }
   ],
   "source": [
    "# Changing UNICODE to UTF-8\n",
    "# If your UNICODE is in this range, 0800 ~ FFFF,\n",
    "    # put it in 1110XXXX 10XXXXXX 10XXXXXX to come up with its save location\n",
    "## \"가\" is AC00, which in hexa is 1100 1100 0000 0000\n",
    "    ## When put into the above, the result is 11101100 10110000 10000000, which in hexa is EA B0 80\n",
    "\"가\".encode()"
   ]
  },
  {
   "cell_type": "code",
   "execution_count": 53,
   "metadata": {},
   "outputs": [
    {
     "data": {
      "text/plain": [
       "'python'"
      ]
     },
     "execution_count": 53,
     "metadata": {},
     "output_type": "execute_result"
    }
   ],
   "source": [
    "# UTF-8 decoding, the reverse of encoding\n",
    "coded_string = \"python\".encode()\n",
    "\n",
    "string = coded_string.decode()\n",
    "string"
   ]
  },
  {
   "cell_type": "code",
   "execution_count": null,
   "metadata": {
    "collapsed": true
   },
   "outputs": [],
   "source": []
  }
 ],
 "metadata": {
  "kernelspec": {
   "display_name": "Python 3",
   "language": "python",
   "name": "python3"
  },
  "language_info": {
   "codemirror_mode": {
    "name": "ipython",
    "version": 3
   },
   "file_extension": ".py",
   "mimetype": "text/x-python",
   "name": "python",
   "nbconvert_exporter": "python",
   "pygments_lexer": "ipython3",
   "version": "3.6.1"
  }
 },
 "nbformat": 4,
 "nbformat_minor": 2
}
