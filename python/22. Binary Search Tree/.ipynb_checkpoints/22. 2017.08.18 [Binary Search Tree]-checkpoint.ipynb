{
 "cells": [
  {
   "cell_type": "code",
   "execution_count": 1,
   "metadata": {
    "collapsed": true
   },
   "outputs": [],
   "source": [
    "from BinaryTree import *"
   ]
  },
  {
   "cell_type": "code",
   "execution_count": 2,
   "metadata": {
    "collapsed": true
   },
   "outputs": [],
   "source": [
    "# My attempt to create the insert method of the class BST\n",
    "\n",
    "class BST(BinaryTree):\n",
    "    def insert(self, data):\n",
    "        # data를 가진 새 node 생성\n",
    "        new_node = self.make_node()\n",
    "        self.set_node_data(new_node, data)\n",
    "        \n",
    "        cur = self.get_root()\n",
    "        # 예외처리: 빈 BST\n",
    "        if not cur:\n",
    "            return self.set_root()\n",
    "        \n",
    "        # 새 데이터가 cur보다 작고 큰 경우에 따라 적절한 위치에 new_node을 삽입\n",
    "        while True:\n",
    "            if new_node < cur:\n",
    "                if not self.get_left_sub_tree(cur):\n",
    "                    self.make_left_sub_tree(cur, new_node)\n",
    "                else:\n",
    "                    if new_node < self.get_left_sub_tree(cur):\n",
    "                        self.make_left_sub_tree(self.get_left_sub_tree(cur), new_node)\n",
    "                    else:\n",
    "                        self.make_right_sub_tree(self.get_left_sub_tree(cur), new_node)\n",
    "            else:\n",
    "                if not self.get_right_sub_tree(cur):\n",
    "                    self.make_right_sub_tree(cur, new_node)\n",
    "                else:\n",
    "                    if new_node < self.get_right_sub_tree(cur):\n",
    "                        self.make_right_sub_tree(self.get_right_sub_tree(cur), new_node)\n",
    "                    else:\n",
    "                        self.make_leftt_sub_tree(self.get_right_sub_tree(cur), new_node)\n",
    "                        \n",
    "        # insert는 return하는게 없다\n",
    "        return"
   ]
  },
  {
   "cell_type": "code",
   "execution_count": 3,
   "metadata": {
    "collapsed": true
   },
   "outputs": [],
   "source": [
    "# My attempt to create the search method of the class BST\n",
    "\n",
    "class BST(BinaryTree):\n",
    "    def insert(self, data):\n",
    "        # data를 가진 새 node 생성\n",
    "        new_node = self.make_node()\n",
    "        self.set_node_data(new_node, data)\n",
    "        \n",
    "        cur = self.get_root()\n",
    "        # 예외처리: 빈 BST\n",
    "        if not cur:\n",
    "            self.set_root(new_node)\n",
    "            return\n",
    "        \n",
    "        # 새 데이터가 cur보다 작고 큰 경우에 따라 적절한 위치에 new_node을 삽입\n",
    "        while True:\n",
    "            if data < self.get_node_data(cur):\n",
    "                if self.get_left_sub_tree(cur):\n",
    "                    cur = self.get_left_sub_tree(cur)\n",
    "                else:\n",
    "                    self.make_left_sub_tree(cur, new_node)\n",
    "                    break\n",
    "            else:\n",
    "                if self.get_right_sub_tree(cur):\n",
    "                    cur = self.get_right_sub_tree(cur)\n",
    "                else:\n",
    "                    self.make_right_sub_tree(cur, new_node)\n",
    "                    break\n",
    "                        \n",
    "        # insert는 return하는게 없다\n",
    "    \n",
    "    def search(self, target):\n",
    "        cur = self.get_root()\n",
    "        \n",
    "        while cur:\n",
    "            # if not cur:\n",
    "                # return None\n",
    "                    # 이것은 무의미한 코드이다... 어차피 아래에서 cur = None이 되면 while이 자동으로 종료된다.\n",
    "                        # 즉, 이 코드는 실행되지 않는다.\n",
    "\n",
    "            if target == self.get_node_data(cur):\n",
    "                return cur\n",
    "            elif target < self.get_node_data(cur):\n",
    "                cur = self.get_left_sub_tree(cur)\n",
    "            else:\n",
    "                cur = self.get_right_sub_tree(cur)\n",
    "                \n",
    "        return cur\n",
    "            # 다른 개발자가 볼 때, search 메서드는 cur를 return한다라는 것을 보여주기 위한 용도.\n",
    "                # 또한, cur = None이 되어 while이 종료될 경우, None 값을 반환하기 위한 용도.\n",
    "\n",
    "    def remove(self, target):\n",
    "        pass\n",
    "    \n",
    "    # 편의함수 01 -> remove() 내에서 호출\n",
    "    def remove_leaf(self, parent, del_node):\n",
    "        pass\n",
    "    \n",
    "    # 편의함수 02 -> remove() 내에서 호출\n",
    "    def remove_one_child(self, parent, del_node):\n",
    "        pass\n",
    "    \n",
    "    # 편의함수 03 -> remove() 내에서 호출\n",
    "    def remove_two_children(self, parent, del_node):\n",
    "        pass\n",
    "    "
   ]
  },
  {
   "cell_type": "code",
   "execution_count": 4,
   "metadata": {},
   "outputs": [
    {
     "name": "stdout",
     "output_type": "stream",
     "text": [
      "6  3  2  4  5  8  10  9  11  \n",
      "searched data : 8\n",
      "6  3  2  4  5  8  10  9  11  "
     ]
    }
   ],
   "source": [
    "if __name__ == \"__main__\":\n",
    "    bst = BST()\n",
    "    \n",
    "    #insert\n",
    "    bst.insert(6)\n",
    "    bst.insert(3)\n",
    "    bst.insert(2)\n",
    "    bst.insert(4)\n",
    "    bst.insert(5)\n",
    "    bst.insert(8)\n",
    "    bst.insert(10)\n",
    "    bst.insert(9)\n",
    "    bst.insert(11)\n",
    "\n",
    "    f = lambda x: print(x, end = '  ')\n",
    "    #전위 순회\n",
    "    bst.preorder_traverse(bst.get_root(), f)\n",
    "    print(\"\")\n",
    "    \n",
    "    #search\n",
    "    print(\"searched data : {}\".format(bst.search(8).data))\n",
    "\n",
    "    #remove - 1 : 리프 노드일 때\n",
    "    bst.remove(9)\n",
    "\n",
    "    #remove - 2 : 자식 노드 하나일 때\n",
    "    #bst.remove(8)\n",
    "\n",
    "    #remove - 3: 자식 노드 두 개일 때\n",
    "    #bst.remove(6)\n",
    "    \n",
    "    bst.preorder_traverse(bst.get_root(), f)"
   ]
  },
  {
   "cell_type": "code",
   "execution_count": 5,
   "metadata": {},
   "outputs": [
    {
     "name": "stdout",
     "output_type": "stream",
     "text": [
      "<BinaryTree.TreeNode object at 0x00000247B3AE9048>\n",
      "8\n"
     ]
    }
   ],
   "source": [
    "# Add search test\n",
    "\n",
    "node = bst.search(8)\n",
    "print(node)\n",
    "print(node.data)"
   ]
  },
  {
   "cell_type": "code",
   "execution_count": 6,
   "metadata": {},
   "outputs": [
    {
     "name": "stdout",
     "output_type": "stream",
     "text": [
      "None\n"
     ]
    },
    {
     "ename": "AttributeError",
     "evalue": "'NoneType' object has no attribute 'data'",
     "output_type": "error",
     "traceback": [
      "\u001b[1;31m---------------------------------------------------------------------------\u001b[0m",
      "\u001b[1;31mAttributeError\u001b[0m                            Traceback (most recent call last)",
      "\u001b[1;32m<ipython-input-6-1825093d282b>\u001b[0m in \u001b[0;36m<module>\u001b[1;34m()\u001b[0m\n\u001b[0;32m      2\u001b[0m \u001b[0mnode\u001b[0m \u001b[1;33m=\u001b[0m \u001b[0mbst\u001b[0m\u001b[1;33m.\u001b[0m\u001b[0msearch\u001b[0m\u001b[1;33m(\u001b[0m\u001b[1;36m1\u001b[0m\u001b[1;33m)\u001b[0m\u001b[1;33m\u001b[0m\u001b[0m\n\u001b[0;32m      3\u001b[0m \u001b[0mprint\u001b[0m\u001b[1;33m(\u001b[0m\u001b[0mnode\u001b[0m\u001b[1;33m)\u001b[0m\u001b[1;33m\u001b[0m\u001b[0m\n\u001b[1;32m----> 4\u001b[1;33m \u001b[0mprint\u001b[0m\u001b[1;33m(\u001b[0m\u001b[0mnode\u001b[0m\u001b[1;33m.\u001b[0m\u001b[0mdata\u001b[0m\u001b[1;33m)\u001b[0m\u001b[1;33m\u001b[0m\u001b[0m\n\u001b[0m",
      "\u001b[1;31mAttributeError\u001b[0m: 'NoneType' object has no attribute 'data'"
     ]
    }
   ],
   "source": [
    "# 만약 BST에 없는 값을 search할 경우\n",
    "node = bst.search(1)\n",
    "\n",
    "# node는 None이기에, 아무것도 없기에 \"None\"을 출력한다\n",
    "print(node)\n",
    "\n",
    "# 하지만 아무것도 없는 node에는 data가 없기에, 에러가 난다\n",
    "print(node.data)"
   ]
  },
  {
   "cell_type": "code",
   "execution_count": null,
   "metadata": {
    "collapsed": true
   },
   "outputs": [],
   "source": []
  }
 ],
 "metadata": {
  "kernelspec": {
   "display_name": "Python 3",
   "language": "python",
   "name": "python3"
  },
  "language_info": {
   "codemirror_mode": {
    "name": "ipython",
    "version": 3
   },
   "file_extension": ".py",
   "mimetype": "text/x-python",
   "name": "python",
   "nbconvert_exporter": "python",
   "pygments_lexer": "ipython3",
   "version": "3.6.1"
  }
 },
 "nbformat": 4,
 "nbformat_minor": 2
}
