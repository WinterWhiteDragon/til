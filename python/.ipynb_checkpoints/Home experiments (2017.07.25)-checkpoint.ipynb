{
 "cells": [
  {
   "cell_type": "code",
   "execution_count": 3,
   "metadata": {},
   "outputs": [
    {
     "name": "stdout",
     "output_type": "stream",
     "text": [
      "Hs-sas-srs-srs-sys-s s-sPs-sos-sts-sts-ses-sr\n"
     ]
    }
   ],
   "source": [
    "asd = \"s-s\"\n",
    "asd_mod1 = asd.join(\"Harry Potter\")\n",
    "print(asd_mod1)"
   ]
  },
  {
   "cell_type": "code",
   "execution_count": 4,
   "metadata": {},
   "outputs": [
    {
     "data": {
      "text/plain": [
       "'mrow dfghjklqwertyuiop'"
      ]
     },
     "execution_count": 4,
     "metadata": {},
     "output_type": "execute_result"
    }
   ],
   "source": [
    "string_replace_exercise = \"asdfghjklqwertyuiop\"\n",
    "string_replace_exercise.replace(\"as\", \"mrow \")"
   ]
  },
  {
   "cell_type": "code",
   "execution_count": 11,
   "metadata": {},
   "outputs": [
    {
     "name": "stdout",
     "output_type": "stream",
     "text": [
      "['Dragon', 'Gryphon']\n",
      "['Phoenix', 'Unicorn', 'Werewolf']\n"
     ]
    }
   ],
   "source": [
    "lang = []\n",
    "lang.append(\"Dragon\")\n",
    "lang.append(\"Phoenix\")\n",
    "lang.append(\"Unicorn\")\n",
    "lang.append(\"Werewolf\")\n",
    "lang.append(\"Gryphon\")\n",
    "\n",
    "cage = [lang.pop(0), lang.pop(3)]\n",
    "\n",
    "print(cage)\n",
    "print(lang)"
   ]
  },
  {
   "cell_type": "code",
   "execution_count": 12,
   "metadata": {},
   "outputs": [
    {
     "name": "stdout",
     "output_type": "stream",
     "text": [
      "2 4\n",
      "4 2\n"
     ]
    }
   ],
   "source": [
    "x = 2\n",
    "y = 4\n",
    "print(x, y)\n",
    "\n",
    "(x, y) = (y, x)\n",
    "print(x, y)"
   ]
  },
  {
   "cell_type": "code",
   "execution_count": 2,
   "metadata": {},
   "outputs": [
    {
     "name": "stdout",
     "output_type": "stream",
     "text": [
      "Welcome to the Grand Old Party House of New Orleans, sir or madam... Hey, you're a kid! What's your name youngster?Ray\n",
      "Very well, Ray, welcome anyways, and please choose an integer of your choosing.\n",
      "Has to be an integer, we don't deal other trash here at this fine, venerable institution of the South!\n",
      "You choose something else and you'll feel my boot on your behind as I kindly evict you from the premises.50\n",
      "Ahhhhhhh~ nope. Try again.50\n",
      "Wrong~! But I'll give you another go. That guess was too high!\n",
      "Ahhhhhhh~ nope. Try again.30\n",
      "Wrong~! But I'll give you another go. That guess was too low!\n",
      "Ahhhhhhh~ nope. Try again.40\n",
      "Wrong~! But I'll give you another go. That guess was too high!\n",
      "Ahhhhhhh~ nope. Try again.37\n",
      "Wrong~! But I'll give you another go. That guess was too high!\n",
      "Ahhhhhhh~ nope. Try again.35\n",
      "Wrong~! But I'll give you another go. That guess was too high!\n",
      "Ahhhhhhh~ nope. Try again.33\n",
      "Finally, you've got it right, kiddo. Great job and go get a drink. Tell the bartender it's on the house!\n"
     ]
    }
   ],
   "source": [
    "from random import randint\n",
    "\n",
    "\n",
    "answer = randint(1, 100+1)\n",
    "username = input(\"Welcome to the Grand Old Party House of New Orleans, sir or madam... Hey, you're a kid! What's your name youngster?\")\n",
    "guess = eval(input(\"\"\"Very well, %s, welcome anyways, and please choose an integer of your choosing.\n",
    "Has to be an integer, we don't deal other trash here at this fine, venerable institution of the South!\n",
    "You choose something else and you'll feel my boot on your behind as I kindly evict you from the premises.\"\"\" % (username)))\n",
    "\n",
    "if answer == guess:\n",
    "    print(\"My God! You're a genius. How'd you guess that?!\")\n",
    "else:\n",
    "    while answer != guess:\n",
    "        guess = eval(input(\"Ahhhhhhh~ nope. Try again.\"))\n",
    "        if answer == guess:\n",
    "            print(\"Finally, you've got it right, kiddo. Great job and go get a drink. Tell the bartender it's on the house!\")\n",
    "        elif answer < guess:\n",
    "            print(\"Wrong~! But I'll give you another go. That guess was too high!\")\n",
    "        else:\n",
    "            print(\"Wrong~! But I'll give you another go. That guess was too low!\")"
   ]
  },
  {
   "cell_type": "code",
   "execution_count": null,
   "metadata": {
    "collapsed": true
   },
   "outputs": [],
   "source": []
  }
 ],
 "metadata": {
  "kernelspec": {
   "display_name": "Python 3",
   "language": "python",
   "name": "python3"
  },
  "language_info": {
   "codemirror_mode": {
    "name": "ipython",
    "version": 3
   },
   "file_extension": ".py",
   "mimetype": "text/x-python",
   "name": "python",
   "nbconvert_exporter": "python",
   "pygments_lexer": "ipython3",
   "version": "3.6.1"
  }
 },
 "nbformat": 4,
 "nbformat_minor": 2
}
