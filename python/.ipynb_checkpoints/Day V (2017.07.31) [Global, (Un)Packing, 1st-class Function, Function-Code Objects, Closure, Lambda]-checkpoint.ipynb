{
 "cells": [
  {
   "cell_type": "code",
   "execution_count": 1,
   "metadata": {
    "collapsed": true
   },
   "outputs": [],
   "source": [
    "# global: 파일을 작성하면서 한 줄 한 줄 내려가는데, 작성가능한 파일 전체 영역을 global이라고 한다.\n",
    "# global variable 전역변수: 한 함수 안에 선언된 (indent된) 변수가 아닌 파일 전체에 해당하는 변수, 어디서든 () 접근 가능한 변수\n",
    "# local variable 지역변수: 한 함수 안에 선언(indent)되고 해당 함수 안에서만 적용되는 함수\n",
    "# 영역: global과 local로 구분된다는 뜻은 고요 영역이 있다는 뜻이다"
   ]
  },
  {
   "cell_type": "code",
   "execution_count": 2,
   "metadata": {
    "collapsed": true
   },
   "outputs": [],
   "source": [
    "# x: global variable\n",
    "x = 10\n",
    "#a, b: 매개변수, 인자 a.k.a. argument, parameter\n",
    "#a, b, c, d: local variable\n",
    "def func(a, b):\n",
    "    c = 10\n",
    "    d = 20"
   ]
  },
  {
   "cell_type": "code",
   "execution_count": 4,
   "metadata": {},
   "outputs": [
    {
     "name": "stdout",
     "output_type": "stream",
     "text": [
      "20\n",
      "10\n"
     ]
    }
   ],
   "source": [
    "x=10\n",
    "def func():\n",
    "    x = 20\n",
    "    print(x)\n",
    "\n",
    "func()\n",
    "print(x)\n",
    "# func 내에서는 x=10이라는 전역변수가 지역변수 x=20으로 덮여쓰여진다"
   ]
  },
  {
   "cell_type": "code",
   "execution_count": 5,
   "metadata": {},
   "outputs": [
    {
     "name": "stdout",
     "output_type": "stream",
     "text": [
      "20\n",
      "20\n"
     ]
    }
   ],
   "source": [
    "x=10\n",
    "def func():\n",
    "    global x\n",
    "    # global x를 넣음으로써 global x를 사용할 것인데, 바로 다음 실행문은 global x의 값을 덮어써버린다\n",
    "    x = 20\n",
    "    print(x)\n",
    "\n",
    "func()\n",
    "print(x)"
   ]
  },
  {
   "cell_type": "code",
   "execution_count": 34,
   "metadata": {},
   "outputs": [
    {
     "name": "stdout",
     "output_type": "stream",
     "text": [
      "0 100 20 30 40\n"
     ]
    }
   ],
   "source": [
    "x = 1 # x is a global variable\n",
    "# indent가 다르다는 것은 outer와 inner는 서로 다른 영역이라는 뜻\n",
    "def outer():\n",
    "    global x\n",
    "    x = 100\n",
    "    # a is a local variable of the outer function, yet also a free variable for the inner function\n",
    "    a = 10\n",
    "    # b is a local variable of the outer function\n",
    "    b = 20\n",
    "    def inner():\n",
    "        global x # outer function and inner function both use global x to change the value of global variable x,\n",
    "                        # however, the inner is sequentially executed after the outer, so overwrites value assigned by outer to global x\n",
    "        x = 0\n",
    "        nonlocal a\n",
    "        a = 100\n",
    "        # nonlocal을 사용하여 outer에서 a = 10으로 정의한 값을 다시 a = 100으로 재설정할 수 있다\n",
    "        # c & d are local variables of the inner function\n",
    "        c = 30\n",
    "        d = 40\n",
    "        print(x, a, b, c, d)\n",
    "    return inner()\n",
    "    # 마지막 줄에 inner()를 넣으면, outer()를 실행할 때 가장 마지막으로 inner()가 실행된다\n",
    "\n",
    "outer()"
   ]
  },
  {
   "cell_type": "code",
   "execution_count": 39,
   "metadata": {},
   "outputs": [
    {
     "data": {
      "text/plain": [
       "(1, 2, 3, 4, 5)"
      ]
     },
     "execution_count": 39,
     "metadata": {},
     "output_type": "execute_result"
    }
   ],
   "source": [
    "# packing\n",
    "a = 1, 2, 3, 4, 5\n",
    "# 하나의 변수에 여러 변수를 넣는 것을 packing이라고 한다. 이 변수들은 tuple로 묶인다.\n",
    "a"
   ]
  },
  {
   "cell_type": "code",
   "execution_count": 40,
   "metadata": {
    "collapsed": true
   },
   "outputs": [],
   "source": [
    "a = 10\n",
    "# C/Java에서 a는 저장공간의 이름이고 10은 \"a\"라는 공간의 값\n",
    "# Python에서 a는 \"이름\"이라는 저장공간, 10은 \"값 객체\"라는 저장공간을 지칭\n",
    "a = 20\n",
    "# C/Java에서는 a에다가 20이라는 새로운 값을 덮어쓸 뿐이다\n",
    "# Python에서는 10 값 객체를 삭제하고 20이라는 새로운 값 객체를 만들고, 새 값 객체에다가 a를 연결한다"
   ]
  },
  {
   "cell_type": "code",
   "execution_count": 48,
   "metadata": {},
   "outputs": [
    {
     "name": "stdout",
     "output_type": "stream",
     "text": [
      "1\n",
      "[2, 3, 4, 5]\n"
     ]
    }
   ],
   "source": [
    "# unpacking\n",
    "a = 1, 2, 3, 4, 5\n",
    "b, *c = a\n",
    "# a의 변수를 b & c에다가 나눠서 담으려는 것,\n",
    "    # 첫번째 변수를 b에 담고 나머지는 모두 c에 담군다\n",
    "print(b)\n",
    "print(c)\n",
    "# string, tuple, constant number는 immutable (값이 바뀌지 않음)\n",
    "# dictionary, list는 mutable"
   ]
  },
  {
   "cell_type": "code",
   "execution_count": 49,
   "metadata": {
    "collapsed": true
   },
   "outputs": [],
   "source": [
    "li = [1, 2, 3, 4, 5]\n",
    "def func(args):\n",
    "    print(args)"
   ]
  },
  {
   "cell_type": "code",
   "execution_count": 52,
   "metadata": {},
   "outputs": [
    {
     "name": "stdout",
     "output_type": "stream",
     "text": [
      "([1, 2, 3, 4, 5],)\n"
     ]
    }
   ],
   "source": [
    "func(li)\n",
    "# li를 unpacking하지 않고 하나의 변수로 만든다"
   ]
  },
  {
   "cell_type": "code",
   "execution_count": 53,
   "metadata": {},
   "outputs": [
    {
     "name": "stdout",
     "output_type": "stream",
     "text": [
      "(1, 2, 3, 4, 5)\n"
     ]
    }
   ],
   "source": [
    "func(*li)\n",
    "# *li는 unpacking한다"
   ]
  },
  {
   "cell_type": "code",
   "execution_count": 15,
   "metadata": {},
   "outputs": [
    {
     "name": "stdout",
     "output_type": "stream",
     "text": [
      "a\n",
      "b c\n"
     ]
    }
   ],
   "source": [
    "dic = {'a': 1, 'b': 2, \"c\": 3}\n",
    "a, *b = dic\n",
    "print(a)\n",
    "print(*b)\n",
    "# key만 unpacking하여 변수에 할당된다"
   ]
  },
  {
   "cell_type": "code",
   "execution_count": 58,
   "metadata": {},
   "outputs": [
    {
     "name": "stdout",
     "output_type": "stream",
     "text": [
      "('a', 1)\n",
      "[('b', 2), ('c', 3)]\n"
     ]
    }
   ],
   "source": [
    "a, *b = dic.items()\n",
    "print(a)\n",
    "print(b)\n",
    "# .items를 사용하면 key와 value 짝이 출력된다"
   ]
  },
  {
   "cell_type": "code",
   "execution_count": 23,
   "metadata": {},
   "outputs": [
    {
     "name": "stdout",
     "output_type": "stream",
     "text": [
      "5\n",
      "(1, 2, 3, 4)\n"
     ]
    },
    {
     "ename": "TypeError",
     "evalue": "'b' is an invalid keyword argument for this function",
     "output_type": "error",
     "traceback": [
      "\u001b[1;31m---------------------------------------------------------------------------\u001b[0m",
      "\u001b[1;31mTypeError\u001b[0m                                 Traceback (most recent call last)",
      "\u001b[1;32m<ipython-input-23-54bc3187b774>\u001b[0m in \u001b[0;36m<module>\u001b[1;34m()\u001b[0m\n\u001b[0;32m      5\u001b[0m     \u001b[0mprint\u001b[0m\u001b[1;33m(\u001b[0m\u001b[1;33m**\u001b[0m\u001b[0mkwargs\u001b[0m\u001b[1;33m)\u001b[0m \u001b[1;31m# args라고 써야지 dictionary로 변형한 상태로 출력한다. **args로 쓰면 dictionary를 다시 해체해서 출력한다.\u001b[0m\u001b[1;33m\u001b[0m\u001b[0m\n\u001b[0;32m      6\u001b[0m \u001b[1;33m\u001b[0m\u001b[0m\n\u001b[1;32m----> 7\u001b[1;33m \u001b[0mfunc\u001b[0m\u001b[1;33m(\u001b[0m\u001b[1;36m5\u001b[0m\u001b[1;33m,\u001b[0m \u001b[1;36m1\u001b[0m\u001b[1;33m,\u001b[0m\u001b[1;36m2\u001b[0m\u001b[1;33m,\u001b[0m\u001b[1;36m3\u001b[0m\u001b[1;33m,\u001b[0m\u001b[1;36m4\u001b[0m\u001b[1;33m,\u001b[0m \u001b[0mb\u001b[0m \u001b[1;33m=\u001b[0m \u001b[1;36m100\u001b[0m\u001b[1;33m,\u001b[0m \u001b[0mc\u001b[0m \u001b[1;33m=\u001b[0m \u001b[1;36m200\u001b[0m\u001b[1;33m,\u001b[0m \u001b[0md\u001b[0m \u001b[1;33m=\u001b[0m \u001b[1;36m200\u001b[0m\u001b[1;33m)\u001b[0m\u001b[1;33m\u001b[0m\u001b[0m\n\u001b[0m\u001b[0;32m      8\u001b[0m \u001b[1;31m# a는 무조건 입력값을 하나 밖에 받지 못한다. 그래서 첫번째를 받고 나면 나머지 입력값은 *args가 받아간다\u001b[0m\u001b[1;33m\u001b[0m\u001b[1;33m\u001b[0m\u001b[0m\n\u001b[0;32m      9\u001b[0m \u001b[1;31m# *args 입력값이 없으면 none을 출력한다.\u001b[0m\u001b[1;33m\u001b[0m\u001b[1;33m\u001b[0m\u001b[0m\n",
      "\u001b[1;32m<ipython-input-23-54bc3187b774>\u001b[0m in \u001b[0;36mfunc\u001b[1;34m(a, *args, **kwargs)\u001b[0m\n\u001b[0;32m      3\u001b[0m     \u001b[0mprint\u001b[0m\u001b[1;33m(\u001b[0m\u001b[0ma\u001b[0m\u001b[1;33m)\u001b[0m\u001b[1;33m\u001b[0m\u001b[0m\n\u001b[0;32m      4\u001b[0m     \u001b[0mprint\u001b[0m\u001b[1;33m(\u001b[0m\u001b[0margs\u001b[0m\u001b[1;33m)\u001b[0m \u001b[1;31m# args라고 써야지 list로 변형한 상태로 출력한다. *args로 쓰면 list를 다시 해체해서 출력한다.\u001b[0m\u001b[1;33m\u001b[0m\u001b[0m\n\u001b[1;32m----> 5\u001b[1;33m     \u001b[0mprint\u001b[0m\u001b[1;33m(\u001b[0m\u001b[1;33m**\u001b[0m\u001b[0mkwargs\u001b[0m\u001b[1;33m)\u001b[0m \u001b[1;31m# args라고 써야지 dictionary로 변형한 상태로 출력한다. **args로 쓰면 dictionary를 다시 해체해서 출력한다.\u001b[0m\u001b[1;33m\u001b[0m\u001b[0m\n\u001b[0m\u001b[0;32m      6\u001b[0m \u001b[1;33m\u001b[0m\u001b[0m\n\u001b[0;32m      7\u001b[0m \u001b[0mfunc\u001b[0m\u001b[1;33m(\u001b[0m\u001b[1;36m5\u001b[0m\u001b[1;33m,\u001b[0m \u001b[1;36m1\u001b[0m\u001b[1;33m,\u001b[0m\u001b[1;36m2\u001b[0m\u001b[1;33m,\u001b[0m\u001b[1;36m3\u001b[0m\u001b[1;33m,\u001b[0m\u001b[1;36m4\u001b[0m\u001b[1;33m,\u001b[0m \u001b[0mb\u001b[0m \u001b[1;33m=\u001b[0m \u001b[1;36m100\u001b[0m\u001b[1;33m,\u001b[0m \u001b[0mc\u001b[0m \u001b[1;33m=\u001b[0m \u001b[1;36m200\u001b[0m\u001b[1;33m,\u001b[0m \u001b[0md\u001b[0m \u001b[1;33m=\u001b[0m \u001b[1;36m200\u001b[0m\u001b[1;33m)\u001b[0m\u001b[1;33m\u001b[0m\u001b[0m\n",
      "\u001b[1;31mTypeError\u001b[0m: 'b' is an invalid keyword argument for this function"
     ]
    }
   ],
   "source": [
    "# Unpacking 핵심\n",
    "\n",
    "def func(a, *args, **kwargs):\n",
    "    # a는 positional argument, *args & **kwargs는 keyword argument\n",
    "    print(a)\n",
    "    print(args) # args라고 써야지 list로 변형한 상태로 출력한다. *args로 쓰면 list를 다시 해체해서 출력한다.\n",
    "    print(**kwargs) # args라고 써야지 dictionary로 변형한 상태로 출력한다. **args로 쓰면 dictionary를 다시 해체해서 출력한다.\n",
    "\n",
    "func(5, 1,2,3,4, b = 100, c = 200, d = 200)\n",
    "# a는 무조건 입력값을 하나 밖에 받지 못한다. 그래서 첫번째를 받고 나면 나머지 입력값은 *args가 받아간다\n",
    "# *args 입력값이 없으면 none을 출력한다.\n",
    "# 순서는 절대로 바꾸면 안된다."
   ]
  },
  {
   "cell_type": "code",
   "execution_count": 76,
   "metadata": {},
   "outputs": [
    {
     "name": "stdout",
     "output_type": "stream",
     "text": [
      "5\n",
      "()\n",
      "{}\n"
     ]
    }
   ],
   "source": [
    "func(5)\n",
    "# func()은 positional argument는 반드시 채워야하기 때문에 에러가 난다."
   ]
  },
  {
   "cell_type": "code",
   "execution_count": 71,
   "metadata": {},
   "outputs": [
    {
     "data": {
      "text/plain": [
       "9"
      ]
     },
     "execution_count": 71,
     "metadata": {},
     "output_type": "execute_result"
    }
   ],
   "source": [
    "def func(a, b):\n",
    "    return a + b\n",
    "\n",
    "a = 0\n",
    "a = func(4, 5)\n",
    "a"
   ]
  },
  {
   "cell_type": "code",
   "execution_count": 73,
   "metadata": {},
   "outputs": [
    {
     "name": "stdout",
     "output_type": "stream",
     "text": [
      "None\n"
     ]
    }
   ],
   "source": [
    "def func(a, b):\n",
    "    return\n",
    "    # return 뒤에 아무것도 없으면 none을 return한다. 혹은 return이 없어도 none을 return한다.\n",
    "\n",
    "a = 50\n",
    "a = func(4, 5)\n",
    "print(a)\n",
    "\n",
    "# python에서 function은 expression (a.k.a. 식)이다. expression은 무조건 무언가를 return해야 한다...\n",
    "    ## return 할 내용이 없거나 return 실행문이 없으면 none이라도 return한다.\n",
    "    ## example of expression: 4 + 5\n",
    "    ### 값이 나오고 return하니까 식\n",
    "# statement (a.k.a. 대입문)\n",
    "    ## example of statement: a = 4 + 5\n",
    "    ## statement는 return을 하지 않는다.\n",
    "    ### 값이 나오지 않고 return하지 않고 a가 값을 받아가기 때문에 문\n",
    "        ### 간단히 말해, python에서는, expression & statement의 차이는 return을 하는지 안하는지다."
   ]
  },
  {
   "cell_type": "code",
   "execution_count": 79,
   "metadata": {},
   "outputs": [
    {
     "name": "stdout",
     "output_type": "stream",
     "text": [
      "1\n",
      "(2,)\n",
      "{}\n",
      "None\n"
     ]
    }
   ],
   "source": [
    "# python은 모든 것이 객체(object)\n",
    "    # 다른 언어와 다르게, python은 함수도 객체이기에 삭제 가능\n",
    "print(func(1, 2))"
   ]
  },
  {
   "cell_type": "code",
   "execution_count": 80,
   "metadata": {
    "collapsed": true
   },
   "outputs": [],
   "source": [
    "del func"
   ]
  },
  {
   "cell_type": "code",
   "execution_count": 81,
   "metadata": {},
   "outputs": [
    {
     "ename": "NameError",
     "evalue": "name 'func' is not defined",
     "output_type": "error",
     "traceback": [
      "\u001b[1;31m---------------------------------------------------------------------------\u001b[0m",
      "\u001b[1;31mNameError\u001b[0m                                 Traceback (most recent call last)",
      "\u001b[1;32m<ipython-input-81-3821b4b6fd5b>\u001b[0m in \u001b[0;36m<module>\u001b[1;34m()\u001b[0m\n\u001b[1;32m----> 1\u001b[1;33m \u001b[0mfunc\u001b[0m\u001b[1;33m(\u001b[0m\u001b[1;36m1\u001b[0m\u001b[1;33m,\u001b[0m \u001b[1;36m2\u001b[0m\u001b[1;33m)\u001b[0m\u001b[1;33m\u001b[0m\u001b[0m\n\u001b[0m",
      "\u001b[1;31mNameError\u001b[0m: name 'func' is not defined"
     ]
    }
   ],
   "source": [
    "func(1, 2)"
   ]
  },
  {
   "cell_type": "code",
   "execution_count": 82,
   "metadata": {},
   "outputs": [
    {
     "data": {
      "text/plain": [
       "11"
      ]
     },
     "execution_count": 82,
     "metadata": {},
     "output_type": "execute_result"
    }
   ],
   "source": [
    "# first-class function\n",
    "    ## 1. 함수를 인자로 전달할 수 있나? 2. 함수를 변환할 수 있나? 3. 함수를 변수에 저장할 수 있나?\n",
    "        ### 동시에 3개 다 해당하면 first class function이다\n",
    "\n",
    "def f(a, b):\n",
    "    return a + b\n",
    "\n",
    "def g(func, a, b):\n",
    "    return func(a, b)\n",
    "\n",
    "g(f, 5, 6)\n",
    "# 1. 함수의 인자로 다른 함수를 입력할 수 있으면 함수를 인자로 전달할 수 있는 것이다"
   ]
  },
  {
   "cell_type": "code",
   "execution_count": 90,
   "metadata": {},
   "outputs": [
    {
     "data": {
      "text/plain": [
       "-4"
      ]
     },
     "execution_count": 90,
     "metadata": {},
     "output_type": "execute_result"
    }
   ],
   "source": [
    "# 'add'라는 인자를 넣으면 두 값을 더하는 함수, 'sub' 인자를 넣으면 a-b를 실행하는 함수를 return하게 만들고 싶다.\n",
    "def calc(kind = 'add'):\n",
    "    # 초기값(default value)을 설정했다\n",
    "    def add(a, b):\n",
    "        return a + b\n",
    "    def sub(a, b):\n",
    "        return a - b\n",
    "    \n",
    "    if kind == 'add':\n",
    "        return add\n",
    "        # add()라고 하면 에러가 난다... add만 하면 add라는 함수자체를 return하게 되지만, add()는 add함수를 실행하게 만든다\n",
    "    elif kind == 'sub':\n",
    "        return sub\n",
    "\n",
    "f = calc(\"sub\")\n",
    "f(1, 5)\n",
    "# 2. 함수가 실행하면 또다른 함수를 출력값으로 return한다"
   ]
  },
  {
   "cell_type": "code",
   "execution_count": 83,
   "metadata": {},
   "outputs": [
    {
     "data": {
      "text/plain": [
       "7"
      ]
     },
     "execution_count": 83,
     "metadata": {},
     "output_type": "execute_result"
    }
   ],
   "source": [
    "def adder(a, b):\n",
    "    return a + b\n",
    "\n",
    "var = adder\n",
    "\n",
    "var(5,2)\n",
    "# 3. 함수를 변수의 값으로 저장할 수 있으면 함수를 변수에 저장할 수는 것이다."
   ]
  },
  {
   "cell_type": "code",
   "execution_count": 91,
   "metadata": {
    "collapsed": true
   },
   "outputs": [],
   "source": [
    "def func(a, b):\n",
    "    return a + b\n",
    "# 이것은 입력값을 가지고 어떤 행동을 하는지에 대한 instruction일 뿐이다.\n",
    "    # instruction은 기계어이다.\n",
    "func(1, 2)\n",
    "# 이렇게 입력하면 calling을 한다고 부른다. \"a\" = \"1\", \"b\" = \"2\"는 서로 다른 4개의 저장공간에 저장된다. 그리고 또다른 제5의 저장공간에 저장된 instruction을 calling하여 입력하고 실행하여 출력값을 내보낸다\n",
    "    ## \"a\", \"1\", \"b\", \"2\"이 저장된 저장공간을 Stack Frame이라고 부른다\n",
    "        ### 결론, 함수와 입력값은 서로 다른 저장공간에 저장이 된다."
   ]
  },
  {
   "cell_type": "code",
   "execution_count": 92,
   "metadata": {
    "collapsed": true
   },
   "outputs": [],
   "source": [
    "# python에서는 함수마저 객체이다. 그것이 function object다.\n",
    "    # vs. 코드객체 code object\n",
    "def func(a, b):\n",
    "    return a + b"
   ]
  },
  {
   "cell_type": "code",
   "execution_count": 93,
   "metadata": {},
   "outputs": [
    {
     "data": {
      "text/plain": [
       "<function __main__.func>"
      ]
     },
     "execution_count": 93,
     "metadata": {},
     "output_type": "execute_result"
    }
   ],
   "source": [
    "func\n",
    "# 맨 앞에 \"function\"이라고 뜨는 것이 function object라는 뜻\n",
    "    ## function object는 globals와 code object를 내장하고 있다"
   ]
  },
  {
   "cell_type": "code",
   "execution_count": 94,
   "metadata": {},
   "outputs": [
    {
     "data": {
      "text/plain": [
       "['__annotations__',\n",
       " '__call__',\n",
       " '__class__',\n",
       " '__closure__',\n",
       " '__code__',\n",
       " '__defaults__',\n",
       " '__delattr__',\n",
       " '__dict__',\n",
       " '__dir__',\n",
       " '__doc__',\n",
       " '__eq__',\n",
       " '__format__',\n",
       " '__ge__',\n",
       " '__get__',\n",
       " '__getattribute__',\n",
       " '__globals__',\n",
       " '__gt__',\n",
       " '__hash__',\n",
       " '__init__',\n",
       " '__init_subclass__',\n",
       " '__kwdefaults__',\n",
       " '__le__',\n",
       " '__lt__',\n",
       " '__module__',\n",
       " '__name__',\n",
       " '__ne__',\n",
       " '__new__',\n",
       " '__qualname__',\n",
       " '__reduce__',\n",
       " '__reduce_ex__',\n",
       " '__repr__',\n",
       " '__setattr__',\n",
       " '__sizeof__',\n",
       " '__str__',\n",
       " '__subclasshook__']"
      ]
     },
     "execution_count": 94,
     "metadata": {},
     "output_type": "execute_result"
    }
   ],
   "source": [
    "dir(func)\n",
    "# 객체가 가지고 있는 모든 함수, 메소드 등을 불러낸다\n",
    "    # 중요한 것은 __code__, __closure__, __globals__"
   ]
  },
  {
   "cell_type": "code",
   "execution_count": 95,
   "metadata": {},
   "outputs": [
    {
     "data": {
      "text/plain": [
       "{'In': ['',\n",
       "  '# global: 파일을 작성하면서 한 줄 한 줄 내려가는데, 작성가능한 파일 전체 영역을 global이라고 한다.\\n# global variable 전역변수: 한 함수 안에 선언된 (indent된) 변수가 아닌 파일 전체에 해당하는 변수\\n# local variable 지역변수: 한 함수 안에 선언(indent)되고 해당 함수 안에서만 적용되는 함수\\n# 영역: global과 local로 구분된다는 뜻은 고요 영역이 있다는 뜻이다',\n",
       "  '# x: global variable\\nx = 10\\n#a, b: 매개변수, 인자 a.k.a. argument, parameter\\n#a, b, c, d: local variable\\ndef func(a, b):\\n    c = 10\\n    d = 20',\n",
       "  'x=10\\ndef func(a, b):\\n    x = 20\\n    print(x)\\n\\nfunc()\\nprint(x)',\n",
       "  'x=10\\ndef func():\\n    x = 20\\n    print(x)\\n\\nfunc()\\nprint(x)',\n",
       "  'x=10\\ndef func():\\n    global x\\n    x = 20\\n    print(x)\\n\\nfunc()\\nprint(x)\\n# func 내에서는 x=10이라는 전역변수가 지역변수 x=20으로 덥혀쓰여진다',\n",
       "  'x = 1\\ndef outer():\\n    a = 10\\n    b = 20\\n    def inner():\\n        c = 30\\n        d = 40\\n        print(x, a, b, c, d)\\n        \\nouter()',\n",
       "  'x = 1\\ndef outer():\\n    a = 10\\n    b = 20\\n    def inner():\\n        c = 30\\n        d = 40\\n        print(x, a, b, c, d)\\n        \\nouter()',\n",
       "  'x = 1\\ndef outer():\\n    a = 10\\n    b = 20\\n    def inner():\\n        c = 30\\n        d = 40\\n        print(x, a, b, c, d)\\n    inner()\\n        \\nouter()',\n",
       "  'x = 1\\n# indent가 다르다는 것은 outer와 inner는 서로 다른 영역이라는 뜻\\ndef outer():\\n    a = 10\\n    b = 20\\n    def inner():\\n        nonlocal a\\n        a = 100\\n        # nonlocal을 사용하여\\n        c = 30\\n        d = 40\\n        print(x, a, b, c, d)\\n    inner()\\n    # 마지막 줄에 inner()를 넣으면, outer()를 실행할 때 가장 마지막으로 inner()가 실행된다\\n\\nouter()',\n",
       "  'x = 1 # x is a global variable\\n# indent가 다르다는 것은 outer와 inner는 서로 다른 영역이라는 뜻\\ndef outer():\\n    # a is a local variable of the outer function, yet also a free variable for the inner function\\n    a = 10\\n    b = 20\\n    def inner():\\n        global x\\n        x = 10\\n        nonlocal a\\n        a = 100\\n        # nonlocal을 사용하여 outer에서 a = 10으로 정의한 값을 다시 a = 100으로 재설정할 수 있다\\n        # c & d are local variables of the inner function\\n        c = 30\\n        d = 40\\n        print(x, a, b, c, d)\\n    inner()\\n    # 마지막 줄에 inner()를 넣으면, outer()를 실행할 때 가장 마지막으로 inner()가 실행된다\\n\\nouter()',\n",
       "  'x = 1 # x is a global variable\\n# indent가 다르다는 것은 outer와 inner는 서로 다른 영역이라는 뜻\\ndef outer():\\n    # a is a local variable of the outer function, yet also a free variable for the inner function\\n    global x\\n    x = 2\\n    a = 10\\n    b = 20\\n    def inner():\\n        nonlocal x\\n        x = 10\\n        nonlocal a\\n        a = 100\\n        # nonlocal을 사용하여 outer에서 a = 10으로 정의한 값을 다시 a = 100으로 재설정할 수 있다\\n        # c & d are local variables of the inner function\\n        c = 30\\n        d = 40\\n        print(x, a, b, c, d)\\n    inner()\\n    # 마지막 줄에 inner()를 넣으면, outer()를 실행할 때 가장 마지막으로 inner()가 실행된다\\n\\nouter()',\n",
       "  'x = 1 # x is a global variable\\n# indent가 다르다는 것은 outer와 inner는 서로 다른 영역이라는 뜻\\ndef outer():\\n    # a is a local variable of the outer function, yet also a free variable for the inner function\\n    global x\\n    x = 2\\n    a = 10\\n    b = 20\\n    def inner():\\n        global x\\n        x = 10\\n        nonlocal a\\n        a = 100\\n        # nonlocal을 사용하여 outer에서 a = 10으로 정의한 값을 다시 a = 100으로 재설정할 수 있다\\n        # c & d are local variables of the inner function\\n        c = 30\\n        d = 40\\n        print(x, a, b, c, d)\\n    inner()\\n    # 마지막 줄에 inner()를 넣으면, outer()를 실행할 때 가장 마지막으로 inner()가 실행된다\\n\\nouter()',\n",
       "  'x = 1 # x is a global variable\\n# indent가 다르다는 것은 outer와 inner는 서로 다른 영역이라는 뜻\\ndef outer():\\n    # a is a local variable of the outer function, yet also a free variable for the inner function\\n    global x\\n    x = 2\\n    a = 10\\n    b = 20\\n    def inner():\\n        x = 10\\n        nonlocal a\\n        a = 100\\n        # nonlocal을 사용하여 outer에서 a = 10으로 정의한 값을 다시 a = 100으로 재설정할 수 있다\\n        # c & d are local variables of the inner function\\n        c = 30\\n        d = 40\\n        print(x, a, b, c, d)\\n    inner()\\n    # 마지막 줄에 inner()를 넣으면, outer()를 실행할 때 가장 마지막으로 inner()가 실행된다\\n\\nouter()',\n",
       "  'x = 1 # x is a global variable\\n# indent가 다르다는 것은 outer와 inner는 서로 다른 영역이라는 뜻\\ndef outer():\\n    # a is a local variable of the outer function, yet also a free variable for the inner function\\n    global x\\n    x = 2\\n    a = 10\\n    b = 20\\n    def inner():\\n        x = 10\\n        nonlocal a\\n        a = 100\\n        # nonlocal을 사용하여 outer에서 a = 10으로 정의한 값을 다시 a = 100으로 재설정할 수 있다\\n        # c & d are local variables of the inner function\\n        c = 30\\n        d = 40\\n        print(x, a, b, c, d)\\n    inner()\\n    # 마지막 줄에 inner()를 넣으면, outer()를 실행할 때 가장 마지막으로 inner()가 실행된다\\n\\nouter()',\n",
       "  'x = 1 # x is a global variable\\n# indent가 다르다는 것은 outer와 inner는 서로 다른 영역이라는 뜻\\ndef outer():\\n    # a is a local variable of the outer function, yet also a free variable for the inner function\\n    x = 2\\n    a = 10\\n    b = 20\\n    def inner():\\n        x = 10\\n        nonlocal a\\n        a = 100\\n        # nonlocal을 사용하여 outer에서 a = 10으로 정의한 값을 다시 a = 100으로 재설정할 수 있다\\n        # c & d are local variables of the inner function\\n        c = 30\\n        d = 40\\n        print(x, a, b, c, d)\\n    inner()\\n    # 마지막 줄에 inner()를 넣으면, outer()를 실행할 때 가장 마지막으로 inner()가 실행된다\\n\\nouter()',\n",
       "  'x = 1 # x is a global variable\\n# indent가 다르다는 것은 outer와 inner는 서로 다른 영역이라는 뜻\\ndef outer():\\n    # a is a local variable of the outer function, yet also a free variable for the inner function\\n    global x\\n    x = 1\\n    a = 10\\n    b = 20\\n    def inner():\\n        x = 10\\n        nonlocal a\\n        a = 100\\n        # nonlocal을 사용하여 outer에서 a = 10으로 정의한 값을 다시 a = 100으로 재설정할 수 있다\\n        # c & d are local variables of the inner function\\n        c = 30\\n        d = 40\\n        print(x, a, b, c, d)\\n    inner()\\n    # 마지막 줄에 inner()를 넣으면, outer()를 실행할 때 가장 마지막으로 inner()가 실행된다\\n\\nouter()',\n",
       "  'x = 1 # x is a global variable\\n# indent가 다르다는 것은 outer와 inner는 서로 다른 영역이라는 뜻\\ndef outer():\\n    # a is a local variable of the outer function, yet also a free variable for the inner function\\n    a = 10\\n    b = 20\\n    def inner():\\n        global xx = 1\\n        nonlocal a\\n        a = 100\\n        # nonlocal을 사용하여 outer에서 a = 10으로 정의한 값을 다시 a = 100으로 재설정할 수 있다\\n        # c & d are local variables of the inner function\\n        c = 30\\n        d = 40\\n        print(x, a, b, c, d)\\n    inner()\\n    # 마지막 줄에 inner()를 넣으면, outer()를 실행할 때 가장 마지막으로 inner()가 실행된다\\n\\nouter()',\n",
       "  'x = 1 # x is a global variable\\n# indent가 다르다는 것은 outer와 inner는 서로 다른 영역이라는 뜻\\ndef outer():\\n    # a is a local variable of the outer function, yet also a free variable for the inner function\\n    a = 10\\n    b = 20\\n    def inner():\\n        global x\\n        x = 1\\n        nonlocal a\\n        a = 100\\n        # nonlocal을 사용하여 outer에서 a = 10으로 정의한 값을 다시 a = 100으로 재설정할 수 있다\\n        # c & d are local variables of the inner function\\n        c = 30\\n        d = 40\\n        print(x, a, b, c, d)\\n    inner()\\n    # 마지막 줄에 inner()를 넣으면, outer()를 실행할 때 가장 마지막으로 inner()가 실행된다\\n\\nouter()',\n",
       "  'x = 1 # x is a global variable\\n# indent가 다르다는 것은 outer와 inner는 서로 다른 영역이라는 뜻\\ndef outer():\\n    global x\\n    x = 10\\n    # a is a local variable of the outer function, yet also a free variable for the inner function\\n    a = 10\\n    # b is a local variable of the outer function\\n    b = 20\\n    def inner():\\n        nonlocal a\\n        a = 100\\n        # nonlocal을 사용하여 outer에서 a = 10으로 정의한 값을 다시 a = 100으로 재설정할 수 있다\\n        # c & d are local variables of the inner function\\n        c = 30\\n        d = 40\\n        print(x, a, b, c, d)\\n    inner()\\n    # 마지막 줄에 inner()를 넣으면, outer()를 실행할 때 가장 마지막으로 inner()가 실행된다\\n\\nouter()',\n",
       "  'x = 1 # x is a global variable\\n# indent가 다르다는 것은 outer와 inner는 서로 다른 영역이라는 뜻\\ndef outer():\\n    global x\\n    x = 10\\n    # a is a local variable of the outer function, yet also a free variable for the inner function\\n    a = 10\\n    # b is a local variable of the outer function\\n    b = 20\\n    def inner():\\n        global x\\n        x = 200\\n        nonlocal a\\n        a = 100\\n        # nonlocal을 사용하여 outer에서 a = 10으로 정의한 값을 다시 a = 100으로 재설정할 수 있다\\n        # c & d are local variables of the inner function\\n        c = 30\\n        d = 40\\n        print(x, a, b, c, d)\\n    inner()\\n    # 마지막 줄에 inner()를 넣으면, outer()를 실행할 때 가장 마지막으로 inner()가 실행된다\\n\\nouter()',\n",
       "  'x = 1 # x is a global variable\\n# indent가 다르다는 것은 outer와 inner는 서로 다른 영역이라는 뜻\\ndef outer():\\n    global x\\n    x = 1\\n    # a is a local variable of the outer function, yet also a free variable for the inner function\\n    a = 10\\n    # b is a local variable of the outer function\\n    b = 20\\n    def inner():\\n        global x\\n        x = 1\\n        nonlocal a\\n        a = 100\\n        # nonlocal을 사용하여 outer에서 a = 10으로 정의한 값을 다시 a = 100으로 재설정할 수 있다\\n        # c & d are local variables of the inner function\\n        c = 30\\n        d = 40\\n        print(x, a, b, c, d)\\n    inner()\\n    # 마지막 줄에 inner()를 넣으면, outer()를 실행할 때 가장 마지막으로 inner()가 실행된다\\n\\nouter()',\n",
       "  'x = 1 # x is a global variable\\n# indent가 다르다는 것은 outer와 inner는 서로 다른 영역이라는 뜻\\ndef outer():\\n    global x\\n    x = 1\\n    # a is a local variable of the outer function, yet also a free variable for the inner function\\n    a = 10\\n    # b is a local variable of the outer function\\n    b = 20\\n    def inner():\\n        global x\\n        x = 20\\n        nonlocal a\\n        a = 100\\n        # nonlocal을 사용하여 outer에서 a = 10으로 정의한 값을 다시 a = 100으로 재설정할 수 있다\\n        # c & d are local variables of the inner function\\n        c = 30\\n        d = 40\\n        print(x, a, b, c, d)\\n    inner()\\n    # 마지막 줄에 inner()를 넣으면, outer()를 실행할 때 가장 마지막으로 inner()가 실행된다\\n\\nouter()',\n",
       "  'x = 1 # x is a global variable\\n# indent가 다르다는 것은 outer와 inner는 서로 다른 영역이라는 뜻\\ndef outer():\\n    global x\\n    x = 100\\n    # a is a local variable of the outer function, yet also a free variable for the inner function\\n    a = 10\\n    # b is a local variable of the outer function\\n    b = 20\\n    def inner():\\n        global x\\n        x = 20\\n        nonlocal a\\n        a = 100\\n        # nonlocal을 사용하여 outer에서 a = 10으로 정의한 값을 다시 a = 100으로 재설정할 수 있다\\n        # c & d are local variables of the inner function\\n        c = 30\\n        d = 40\\n        print(x, a, b, c, d)\\n    inner()\\n    # 마지막 줄에 inner()를 넣으면, outer()를 실행할 때 가장 마지막으로 inner()가 실행된다\\n\\nouter()',\n",
       "  'x = 1 # x is a global variable\\n# indent가 다르다는 것은 outer와 inner는 서로 다른 영역이라는 뜻\\ndef outer():\\n    global x\\n    x = 100\\n    # a is a local variable of the outer function, yet also a free variable for the inner function\\n    a = 10\\n    # b is a local variable of the outer function\\n    b = 20\\n    def inner():\\n        global x\\n        x = \\n        nonlocal a\\n        a = 100\\n        # nonlocal을 사용하여 outer에서 a = 10으로 정의한 값을 다시 a = 100으로 재설정할 수 있다\\n        # c & d are local variables of the inner function\\n        c = 30\\n        d = 40\\n        print(x, a, b, c, d)\\n    inner()\\n    # 마지막 줄에 inner()를 넣으면, outer()를 실행할 때 가장 마지막으로 inner()가 실행된다\\n\\nouter()',\n",
       "  'x = 1 # x is a global variable\\n# indent가 다르다는 것은 outer와 inner는 서로 다른 영역이라는 뜻\\ndef outer():\\n    global x\\n    x = 100\\n    # a is a local variable of the outer function, yet also a free variable for the inner function\\n    a = 10\\n    # b is a local variable of the outer function\\n    b = 20\\n    def inner():\\n        global x\\n        x = 0\\n        nonlocal a\\n        a = 100\\n        # nonlocal을 사용하여 outer에서 a = 10으로 정의한 값을 다시 a = 100으로 재설정할 수 있다\\n        # c & d are local variables of the inner function\\n        c = 30\\n        d = 40\\n        print(x, a, b, c, d)\\n    inner()\\n    # 마지막 줄에 inner()를 넣으면, outer()를 실행할 때 가장 마지막으로 inner()가 실행된다\\n\\nouter()',\n",
       "  'x = 1 # x is a global variable\\n# indent가 다르다는 것은 outer와 inner는 서로 다른 영역이라는 뜻\\ndef outer():\\n    global x\\n    x = 100\\n    # a is a local variable of the outer function, yet also a free variable for the inner function\\n    a = 10\\n    # b is a local variable of the outer function\\n    b = 20\\n    def inner():\\n#         global x\\n#         x = 0\\n        nonlocal a\\n        a = 100\\n        # nonlocal을 사용하여 outer에서 a = 10으로 정의한 값을 다시 a = 100으로 재설정할 수 있다\\n        # c & d are local variables of the inner function\\n        c = 30\\n        d = 40\\n        print(x, a, b, c, d)\\n    inner()\\n    # 마지막 줄에 inner()를 넣으면, outer()를 실행할 때 가장 마지막으로 inner()가 실행된다\\n\\nouter()',\n",
       "  'x = 1 # x is a global variable\\n# indent가 다르다는 것은 outer와 inner는 서로 다른 영역이라는 뜻\\ndef outer():\\n    global x\\n    x = 100\\n    # a is a local variable of the outer function, yet also a free variable for the inner function\\n    a = 10\\n    # b is a local variable of the outer function\\n    b = 20\\n    def inner():\\n        global x\\n        x = 0\\n        nonlocal a\\n        a = 100\\n        # nonlocal을 사용하여 outer에서 a = 10으로 정의한 값을 다시 a = 100으로 재설정할 수 있다\\n        # c & d are local variables of the inner function\\n        c = 30\\n        d = 40\\n        print(x, a, b, c, d)\\n    inner()\\n    # 마지막 줄에 inner()를 넣으면, outer()를 실행할 때 가장 마지막으로 inner()가 실행된다\\n\\nouter()',\n",
       "  'x = 1 # x is a global variable\\n# indent가 다르다는 것은 outer와 inner는 서로 다른 영역이라는 뜻\\ndef outer():\\n    global x\\n    x = 100\\n    # a is a local variable of the outer function, yet also a free variable for the inner function\\n    a = 10\\n    # b is a local variable of the outer function\\n    b = 20\\n    def inner():\\n        global x\\n        x = 0\\n        nonlocal a\\n        a = 100\\n        # nonlocal을 사용하여 outer에서 a = 10으로 정의한 값을 다시 a = 100으로 재설정할 수 있다\\n        # c & d are local variables of the inner function\\n        c = 30\\n        d = 40\\n        print(x, a, b, c, d)\\n    inner()\\n    # 마지막 줄에 inner()를 넣으면, outer()를 실행할 때 가장 마지막으로 inner()가 실행된다\\n\\nouter()',\n",
       "  'code = outer.__code__',\n",
       "  'code',\n",
       "  'x = 1 # x is a global variable\\n# indent가 다르다는 것은 outer와 inner는 서로 다른 영역이라는 뜻\\ndef outer():\\n    global x\\n    x = 100\\n    # a is a local variable of the outer function, yet also a free variable for the inner function\\n    a = 10\\n    # b is a local variable of the outer function\\n    b = 20\\n    def inner():\\n        global x # outer function and inner function both use global x to change the value of global variable x,\\n                        # however, the inner is executed after the outer, so overwrites the value assigned to global x in the outer\\n        x = 0\\n        nonlocal a\\n        a = 100\\n        # nonlocal을 사용하여 outer에서 a = 10으로 정의한 값을 다시 a = 100으로 재설정할 수 있다\\n        # c & d are local variables of the inner function\\n        c = 30\\n        d = 40\\n        print(x, a, b, c, d)\\n    inner()\\n    # 마지막 줄에 inner()를 넣으면, outer()를 실행할 때 가장 마지막으로 inner()가 실행된다\\n\\nouter()',\n",
       "  'f = outer()',\n",
       "  'code = f.__code__',\n",
       "  'x = 1 # x is a global variable\\n# indent가 다르다는 것은 outer와 inner는 서로 다른 영역이라는 뜻\\ndef outer():\\n    global x\\n    x = 100\\n    # a is a local variable of the outer function, yet also a free variable for the inner function\\n    a = 10\\n    # b is a local variable of the outer function\\n    b = 20\\n    def inner():\\n        global x # outer function and inner function both use global x to change the value of global variable x,\\n                        # however, the inner is executed after the outer, so overwrites the value assigned to global x in the outer\\n        x = 0\\n        nonlocal a\\n        a = 100\\n        # nonlocal을 사용하여 outer에서 a = 10으로 정의한 값을 다시 a = 100으로 재설정할 수 있다\\n        # c & d are local variables of the inner function\\n        c = 30\\n        d = 40\\n        print(x, a, b, c, d)\\n    return inner()\\n    # 마지막 줄에 inner()를 넣으면, outer()를 실행할 때 가장 마지막으로 inner()가 실행된다\\n\\nouter()',\n",
       "  'f = outer()',\n",
       "  'code = f.__code__',\n",
       "  'code = f.__code__',\n",
       "  'code.co_freevars',\n",
       "  '# packing\\na = 1, 2, 3, 4, 5\\n# 하나의 변수에 여러 변수를 넣는 것을 packing이라고 한다. 이 변수들은 tuple로 묶인다.\\na',\n",
       "  'a = 10\\n# C/Java에서 a는 저장공간의 이름이고 10은 \"a\"라는 공간의 값\\n# Python에서 a는 \"이름\"이라는 저장공간, 10은 \"값 객체\"라는 저장공간을 지칭\\na = 20\\n# C/Java에서는 a에다가 20이라는 새로운 값을 덮어쓸 뿐이다\\n# Python에서는 10 값 객체를 삭제하고 20이라는 새로운 값 객체를 만들고, 새 값 객체에다가 a를 연결한다',\n",
       "  '# unpacking\\nb, *c = a\\n# a의 변수를 b & c에다가 나눠서 담으려는 것\\nb\\nc',\n",
       "  '# unpacking\\nb, *c = a\\n# a의 변수를 b & c에다가 나눠서 담으려는 것\\nb',\n",
       "  '# unpacking\\nb *c = a\\n# a의 변수를 b & c에다가 나눠서 담으려는 것\\nb',\n",
       "  '# unpacking\\nb, *c = a\\n# a의 변수를 b & c에다가 나눠서 담으려는 것\\nb',\n",
       "  '# unpacking\\nb. *c = a\\n# a의 변수를 b & c에다가 나눠서 담으려는 것\\nb',\n",
       "  '# unpacking\\nb, *c = a\\n# a의 변수를 b & c에다가 나눠서 담으려는 것\\nb',\n",
       "  '# unpacking\\na = 1, 2, 3, 4, 5\\nb, *c = a\\n# a의 변수를 b & c에다가 나눠서 담으려는 것\\nb',\n",
       "  '# unpacking\\na = 1, 2, 3, 4, 5\\nb, *c = a\\n# a의 변수를 b & c에다가 나눠서 담으려는 것\\nprint(b)\\nprint(c)',\n",
       "  'li = [1, 2, 3, 4, 5]\\ndef func(*args):\\n    print(args)',\n",
       "  'func(li)',\n",
       "  'func(*li)',\n",
       "  'func(li)\\n# li를 unpacking하지 않고 하나의 변수로 만든다',\n",
       "  'func(*li)\\n# li를 unpacking한다',\n",
       "  'dic = {\\'a\\': 1, \\'b\\': 2, \"c\": 3}\\na, *b = dic',\n",
       "  'dic = {\\'a\\': 1, \\'b\\': 2, \"c\": 3}\\na, *b = dic\\nprint(a)\\nprint(*b)',\n",
       "  'a, *b = dic.itens()\\na\\nb',\n",
       "  'a, *b = dic.itens()\\nprint(a)\\nprint(b)',\n",
       "  'a, *b = dic.items()\\nprint(a)\\nprint(b)',\n",
       "  'def func(a, *args, **args:\\n         pass',\n",
       "  'def func(a, *args, **kwargs:\\n         pass',\n",
       "  'def func(a, *args, **kwargs:\\n    pass',\n",
       "  'func()',\n",
       "  'def func(a, *args, **kwargs:\\n    pass\\n\\nfunc()',\n",
       "  'def func(a, *args, **kwargs):\\n    pass\\n\\nfunc()',\n",
       "  'def func(a, *args, **kwargs):\\n    pass',\n",
       "  'def func(a, *args, **kwargs):\\n    pass\\nfunc()\\nfunc(5)',\n",
       "  'def func(a, *args, **kwargs):\\n    pass\\nfunc()\\nfunc(5)',\n",
       "  'func(5)',\n",
       "  'def func(a, *args, **kwargs):\\n    pass\\nfunc()',\n",
       "  'def func(a, b):\\n    return a + b\\n\\na = 0\\na = func(4, 5)',\n",
       "  'def func(a, b):\\n    return a + b\\n\\na = 0\\na = func(4, 5)\\na',\n",
       "  'def func(a, b):\\n    return\\n\\na = 50\\na = func(4, 5)\\na',\n",
       "  'def func(a, b):\\n    return\\n\\na = 50\\na = func(4, 5)\\nprint(a)',\n",
       "  'def func(a, *args, **kwargs):\\n    print(a)\\n    print(args)\\n    print(kwargs)\\n\\nfunc(5, 1,2,3,4,5, b = 100, c = 200, d = 200)',\n",
       "  'def func(a, *args, **kwargs):\\n    print(a)\\n    print(args)\\n    print(kwargs)\\n\\nfunc(5, b = 100, c = 200, d = 200)',\n",
       "  'func(5)',\n",
       "  'def func(a, *args, **kwargs):\\n    # a는 positional argument, *args & **kwargs는 keyword argument\\n    print(a)\\n    print(*args)\\n    print(**kwargs)\\n\\nfunc(5, b = 100, c = 200, d = 200)\\n# a는 무조건 입력값을 하나 밖에 받지 못한다. 그래서 첫번째를 받고 나면 나머지 입력값은 *args가 받아간다\\n# *args 입력값이 없으면 none을 출력한다.\\n# 순서는 절대로 바꾸면 안된다.',\n",
       "  'def func(a, *args, **kwargs):\\n    # a는 positional argument, *args & **kwargs는 keyword argument\\n    print(a)\\n    print(args)\\n    print(kwargs)\\n\\nfunc(5, b = 100, c = 200, d = 200)\\n# a는 무조건 입력값을 하나 밖에 받지 못한다. 그래서 첫번째를 받고 나면 나머지 입력값은 *args가 받아간다\\n# *args 입력값이 없으면 none을 출력한다.\\n# 순서는 절대로 바꾸면 안된다.',\n",
       "  '# python은 모든 것이 객체(object)\\n    # 다른 언어와 다르게, python은 함수도 객체이기에 삭제 가능\\nprint(func(1, 2))',\n",
       "  'del func',\n",
       "  'func(1, 2)',\n",
       "  '# first-class function\\n    ## 함수를 인자로 전달할 수 있나? 함수를 변환할 수 있나? 함수를 변수에 저장할 수 있나? 다 할 수 있으면 first class function이다\\n\\ndef f(a, b):\\n    return a + b\\n\\ndef g(func, a, b):\\n    return func(a, b)\\n\\ng(f, 5, 6)',\n",
       "  'def adder(a, b):\\n    return a + b\\n\\nvar = adder\\n\\nvar(5,2)',\n",
       "  \"def calc(kind = 'add'):\\n    # 초기값(default value)을 설정했다\\n    \",\n",
       "  \"def calc(kind = 'add'):\\n    # 초기값(default value)을 설정했다\\n    pass\",\n",
       "  \"def calc(kind = 'add'):\\n    # 초기값(default value)을 설정했다\\n    return\",\n",
       "  \"# 'add'라는 인자를 넣으면 두 값을 더하는 함수, 'sub' 인자를 넣으면 a-b를 실행하는 함수를 return하게 만들고 싶다.\\ndef calc(kind = 'add'):\\n    # 초기값(default value)을 설정했다\\n    def add(a, b):\\n        return a + b\\n    def sub(a, b):\\n        return a - b\\n    \\n    if kind == 'add':\\n        return add\\n    elif kind == 'sub':\\n        return sub\\n\\nf = calc(add)\",\n",
       "  '# \\'add\\'라는 인자를 넣으면 두 값을 더하는 함수, \\'sub\\' 인자를 넣으면 a-b를 실행하는 함수를 return하게 만들고 싶다.\\ndef calc(kind = \\'add\\'):\\n    # 초기값(default value)을 설정했다\\n    def add(a, b):\\n        return a + b\\n    def sub(a, b):\\n        return a - b\\n    \\n    if kind == \\'add\\':\\n        return add\\n    elif kind == \\'sub\\':\\n        return sub\\n\\nf = calc(\"add\")',\n",
       "  '# \\'add\\'라는 인자를 넣으면 두 값을 더하는 함수, \\'sub\\' 인자를 넣으면 a-b를 실행하는 함수를 return하게 만들고 싶다.\\ndef calc(kind = \\'add\\'):\\n    # 초기값(default value)을 설정했다\\n    def add(a, b):\\n        return a + b\\n    def sub(a, b):\\n        return a - b\\n    \\n    if kind == \\'add\\':\\n        return add\\n    elif kind == \\'sub\\':\\n        return sub\\n\\nf = calc(\"add\")\\nprint(f(1, 5))',\n",
       "  '# \\'add\\'라는 인자를 넣으면 두 값을 더하는 함수, \\'sub\\' 인자를 넣으면 a-b를 실행하는 함수를 return하게 만들고 싶다.\\ndef calc(kind = \\'add\\'):\\n    # 초기값(default value)을 설정했다\\n    def add(a, b):\\n        return a + b\\n    def sub(a, b):\\n        return a - b\\n    \\n    if kind == \\'add\\':\\n        return add\\n    elif kind == \\'sub\\':\\n        return sub\\n\\nf = calc(\"sub\")\\nf(1, 5)',\n",
       "  'def func(a, b):\\n    return a + b',\n",
       "  '# python에서는 함수마저 객체이다. 그것이 function object다.\\n    # vs. 코드객체 code object\\ndef func(a, b):\\n    return a + b',\n",
       "  'func',\n",
       "  'dir(func)\\n# 객체가 가지고 있는 모든 함수, 메소드 등을 불러낸다',\n",
       "  'func.__globals__'],\n",
       " 'Out': {30: <code object outer at 0x0000024E0B6CCC90, file \"<ipython-input-28-6749ec4f9e0a>\", line 3>,\n",
       "  38: (),\n",
       "  39: (1, 2, 3, 4, 5),\n",
       "  47: 1,\n",
       "  71: 9,\n",
       "  82: 11,\n",
       "  83: 7,\n",
       "  90: -4,\n",
       "  93: <function __main__.func>,\n",
       "  94: ['__annotations__',\n",
       "   '__call__',\n",
       "   '__class__',\n",
       "   '__closure__',\n",
       "   '__code__',\n",
       "   '__defaults__',\n",
       "   '__delattr__',\n",
       "   '__dict__',\n",
       "   '__dir__',\n",
       "   '__doc__',\n",
       "   '__eq__',\n",
       "   '__format__',\n",
       "   '__ge__',\n",
       "   '__get__',\n",
       "   '__getattribute__',\n",
       "   '__globals__',\n",
       "   '__gt__',\n",
       "   '__hash__',\n",
       "   '__init__',\n",
       "   '__init_subclass__',\n",
       "   '__kwdefaults__',\n",
       "   '__le__',\n",
       "   '__lt__',\n",
       "   '__module__',\n",
       "   '__name__',\n",
       "   '__ne__',\n",
       "   '__new__',\n",
       "   '__qualname__',\n",
       "   '__reduce__',\n",
       "   '__reduce_ex__',\n",
       "   '__repr__',\n",
       "   '__setattr__',\n",
       "   '__sizeof__',\n",
       "   '__str__',\n",
       "   '__subclasshook__']},\n",
       " '_': ['__annotations__',\n",
       "  '__call__',\n",
       "  '__class__',\n",
       "  '__closure__',\n",
       "  '__code__',\n",
       "  '__defaults__',\n",
       "  '__delattr__',\n",
       "  '__dict__',\n",
       "  '__dir__',\n",
       "  '__doc__',\n",
       "  '__eq__',\n",
       "  '__format__',\n",
       "  '__ge__',\n",
       "  '__get__',\n",
       "  '__getattribute__',\n",
       "  '__globals__',\n",
       "  '__gt__',\n",
       "  '__hash__',\n",
       "  '__init__',\n",
       "  '__init_subclass__',\n",
       "  '__kwdefaults__',\n",
       "  '__le__',\n",
       "  '__lt__',\n",
       "  '__module__',\n",
       "  '__name__',\n",
       "  '__ne__',\n",
       "  '__new__',\n",
       "  '__qualname__',\n",
       "  '__reduce__',\n",
       "  '__reduce_ex__',\n",
       "  '__repr__',\n",
       "  '__setattr__',\n",
       "  '__sizeof__',\n",
       "  '__str__',\n",
       "  '__subclasshook__'],\n",
       " '_30': <code object outer at 0x0000024E0B6CCC90, file \"<ipython-input-28-6749ec4f9e0a>\", line 3>,\n",
       " '_38': (),\n",
       " '_39': (1, 2, 3, 4, 5),\n",
       " '_47': 1,\n",
       " '_71': 9,\n",
       " '_82': 11,\n",
       " '_83': 7,\n",
       " '_90': -4,\n",
       " '_93': <function __main__.func>,\n",
       " '_94': ['__annotations__',\n",
       "  '__call__',\n",
       "  '__class__',\n",
       "  '__closure__',\n",
       "  '__code__',\n",
       "  '__defaults__',\n",
       "  '__delattr__',\n",
       "  '__dict__',\n",
       "  '__dir__',\n",
       "  '__doc__',\n",
       "  '__eq__',\n",
       "  '__format__',\n",
       "  '__ge__',\n",
       "  '__get__',\n",
       "  '__getattribute__',\n",
       "  '__globals__',\n",
       "  '__gt__',\n",
       "  '__hash__',\n",
       "  '__init__',\n",
       "  '__init_subclass__',\n",
       "  '__kwdefaults__',\n",
       "  '__le__',\n",
       "  '__lt__',\n",
       "  '__module__',\n",
       "  '__name__',\n",
       "  '__ne__',\n",
       "  '__new__',\n",
       "  '__qualname__',\n",
       "  '__reduce__',\n",
       "  '__reduce_ex__',\n",
       "  '__repr__',\n",
       "  '__setattr__',\n",
       "  '__sizeof__',\n",
       "  '__str__',\n",
       "  '__subclasshook__'],\n",
       " '__': <function __main__.func>,\n",
       " '___': -4,\n",
       " '__builtin__': <module 'builtins' (built-in)>,\n",
       " '__builtins__': <module 'builtins' (built-in)>,\n",
       " '__doc__': 'Automatically created module for IPython interactive environment',\n",
       " '__loader__': None,\n",
       " '__name__': '__main__',\n",
       " '__package__': None,\n",
       " '__spec__': None,\n",
       " '_dh': ['C:\\\\Users\\\\tdbes\\\\Documents\\\\FASTCAMPUS Comp.Sci. School\\\\css\\\\til\\\\python'],\n",
       " '_i': 'dir(func)\\n# 객체가 가지고 있는 모든 함수, 메소드 등을 불러낸다',\n",
       " '_i1': '# global: 파일을 작성하면서 한 줄 한 줄 내려가는데, 작성가능한 파일 전체 영역을 global이라고 한다.\\n# global variable 전역변수: 한 함수 안에 선언된 (indent된) 변수가 아닌 파일 전체에 해당하는 변수\\n# local variable 지역변수: 한 함수 안에 선언(indent)되고 해당 함수 안에서만 적용되는 함수\\n# 영역: global과 local로 구분된다는 뜻은 고요 영역이 있다는 뜻이다',\n",
       " '_i10': 'x = 1 # x is a global variable\\n# indent가 다르다는 것은 outer와 inner는 서로 다른 영역이라는 뜻\\ndef outer():\\n    # a is a local variable of the outer function, yet also a free variable for the inner function\\n    a = 10\\n    b = 20\\n    def inner():\\n        global x\\n        x = 10\\n        nonlocal a\\n        a = 100\\n        # nonlocal을 사용하여 outer에서 a = 10으로 정의한 값을 다시 a = 100으로 재설정할 수 있다\\n        # c & d are local variables of the inner function\\n        c = 30\\n        d = 40\\n        print(x, a, b, c, d)\\n    inner()\\n    # 마지막 줄에 inner()를 넣으면, outer()를 실행할 때 가장 마지막으로 inner()가 실행된다\\n\\nouter()',\n",
       " '_i11': 'x = 1 # x is a global variable\\n# indent가 다르다는 것은 outer와 inner는 서로 다른 영역이라는 뜻\\ndef outer():\\n    # a is a local variable of the outer function, yet also a free variable for the inner function\\n    global x\\n    x = 2\\n    a = 10\\n    b = 20\\n    def inner():\\n        nonlocal x\\n        x = 10\\n        nonlocal a\\n        a = 100\\n        # nonlocal을 사용하여 outer에서 a = 10으로 정의한 값을 다시 a = 100으로 재설정할 수 있다\\n        # c & d are local variables of the inner function\\n        c = 30\\n        d = 40\\n        print(x, a, b, c, d)\\n    inner()\\n    # 마지막 줄에 inner()를 넣으면, outer()를 실행할 때 가장 마지막으로 inner()가 실행된다\\n\\nouter()',\n",
       " '_i12': 'x = 1 # x is a global variable\\n# indent가 다르다는 것은 outer와 inner는 서로 다른 영역이라는 뜻\\ndef outer():\\n    # a is a local variable of the outer function, yet also a free variable for the inner function\\n    global x\\n    x = 2\\n    a = 10\\n    b = 20\\n    def inner():\\n        global x\\n        x = 10\\n        nonlocal a\\n        a = 100\\n        # nonlocal을 사용하여 outer에서 a = 10으로 정의한 값을 다시 a = 100으로 재설정할 수 있다\\n        # c & d are local variables of the inner function\\n        c = 30\\n        d = 40\\n        print(x, a, b, c, d)\\n    inner()\\n    # 마지막 줄에 inner()를 넣으면, outer()를 실행할 때 가장 마지막으로 inner()가 실행된다\\n\\nouter()',\n",
       " '_i13': 'x = 1 # x is a global variable\\n# indent가 다르다는 것은 outer와 inner는 서로 다른 영역이라는 뜻\\ndef outer():\\n    # a is a local variable of the outer function, yet also a free variable for the inner function\\n    global x\\n    x = 2\\n    a = 10\\n    b = 20\\n    def inner():\\n        x = 10\\n        nonlocal a\\n        a = 100\\n        # nonlocal을 사용하여 outer에서 a = 10으로 정의한 값을 다시 a = 100으로 재설정할 수 있다\\n        # c & d are local variables of the inner function\\n        c = 30\\n        d = 40\\n        print(x, a, b, c, d)\\n    inner()\\n    # 마지막 줄에 inner()를 넣으면, outer()를 실행할 때 가장 마지막으로 inner()가 실행된다\\n\\nouter()',\n",
       " '_i14': 'x = 1 # x is a global variable\\n# indent가 다르다는 것은 outer와 inner는 서로 다른 영역이라는 뜻\\ndef outer():\\n    # a is a local variable of the outer function, yet also a free variable for the inner function\\n    global x\\n    x = 2\\n    a = 10\\n    b = 20\\n    def inner():\\n        x = 10\\n        nonlocal a\\n        a = 100\\n        # nonlocal을 사용하여 outer에서 a = 10으로 정의한 값을 다시 a = 100으로 재설정할 수 있다\\n        # c & d are local variables of the inner function\\n        c = 30\\n        d = 40\\n        print(x, a, b, c, d)\\n    inner()\\n    # 마지막 줄에 inner()를 넣으면, outer()를 실행할 때 가장 마지막으로 inner()가 실행된다\\n\\nouter()',\n",
       " '_i15': 'x = 1 # x is a global variable\\n# indent가 다르다는 것은 outer와 inner는 서로 다른 영역이라는 뜻\\ndef outer():\\n    # a is a local variable of the outer function, yet also a free variable for the inner function\\n    x = 2\\n    a = 10\\n    b = 20\\n    def inner():\\n        x = 10\\n        nonlocal a\\n        a = 100\\n        # nonlocal을 사용하여 outer에서 a = 10으로 정의한 값을 다시 a = 100으로 재설정할 수 있다\\n        # c & d are local variables of the inner function\\n        c = 30\\n        d = 40\\n        print(x, a, b, c, d)\\n    inner()\\n    # 마지막 줄에 inner()를 넣으면, outer()를 실행할 때 가장 마지막으로 inner()가 실행된다\\n\\nouter()',\n",
       " '_i16': 'x = 1 # x is a global variable\\n# indent가 다르다는 것은 outer와 inner는 서로 다른 영역이라는 뜻\\ndef outer():\\n    # a is a local variable of the outer function, yet also a free variable for the inner function\\n    global x\\n    x = 1\\n    a = 10\\n    b = 20\\n    def inner():\\n        x = 10\\n        nonlocal a\\n        a = 100\\n        # nonlocal을 사용하여 outer에서 a = 10으로 정의한 값을 다시 a = 100으로 재설정할 수 있다\\n        # c & d are local variables of the inner function\\n        c = 30\\n        d = 40\\n        print(x, a, b, c, d)\\n    inner()\\n    # 마지막 줄에 inner()를 넣으면, outer()를 실행할 때 가장 마지막으로 inner()가 실행된다\\n\\nouter()',\n",
       " '_i17': 'x = 1 # x is a global variable\\n# indent가 다르다는 것은 outer와 inner는 서로 다른 영역이라는 뜻\\ndef outer():\\n    # a is a local variable of the outer function, yet also a free variable for the inner function\\n    a = 10\\n    b = 20\\n    def inner():\\n        global xx = 1\\n        nonlocal a\\n        a = 100\\n        # nonlocal을 사용하여 outer에서 a = 10으로 정의한 값을 다시 a = 100으로 재설정할 수 있다\\n        # c & d are local variables of the inner function\\n        c = 30\\n        d = 40\\n        print(x, a, b, c, d)\\n    inner()\\n    # 마지막 줄에 inner()를 넣으면, outer()를 실행할 때 가장 마지막으로 inner()가 실행된다\\n\\nouter()',\n",
       " '_i18': 'x = 1 # x is a global variable\\n# indent가 다르다는 것은 outer와 inner는 서로 다른 영역이라는 뜻\\ndef outer():\\n    # a is a local variable of the outer function, yet also a free variable for the inner function\\n    a = 10\\n    b = 20\\n    def inner():\\n        global x\\n        x = 1\\n        nonlocal a\\n        a = 100\\n        # nonlocal을 사용하여 outer에서 a = 10으로 정의한 값을 다시 a = 100으로 재설정할 수 있다\\n        # c & d are local variables of the inner function\\n        c = 30\\n        d = 40\\n        print(x, a, b, c, d)\\n    inner()\\n    # 마지막 줄에 inner()를 넣으면, outer()를 실행할 때 가장 마지막으로 inner()가 실행된다\\n\\nouter()',\n",
       " '_i19': 'x = 1 # x is a global variable\\n# indent가 다르다는 것은 outer와 inner는 서로 다른 영역이라는 뜻\\ndef outer():\\n    global x\\n    x = 10\\n    # a is a local variable of the outer function, yet also a free variable for the inner function\\n    a = 10\\n    # b is a local variable of the outer function\\n    b = 20\\n    def inner():\\n        nonlocal a\\n        a = 100\\n        # nonlocal을 사용하여 outer에서 a = 10으로 정의한 값을 다시 a = 100으로 재설정할 수 있다\\n        # c & d are local variables of the inner function\\n        c = 30\\n        d = 40\\n        print(x, a, b, c, d)\\n    inner()\\n    # 마지막 줄에 inner()를 넣으면, outer()를 실행할 때 가장 마지막으로 inner()가 실행된다\\n\\nouter()',\n",
       " '_i2': '# x: global variable\\nx = 10\\n#a, b: 매개변수, 인자 a.k.a. argument, parameter\\n#a, b, c, d: local variable\\ndef func(a, b):\\n    c = 10\\n    d = 20',\n",
       " '_i20': 'x = 1 # x is a global variable\\n# indent가 다르다는 것은 outer와 inner는 서로 다른 영역이라는 뜻\\ndef outer():\\n    global x\\n    x = 10\\n    # a is a local variable of the outer function, yet also a free variable for the inner function\\n    a = 10\\n    # b is a local variable of the outer function\\n    b = 20\\n    def inner():\\n        global x\\n        x = 200\\n        nonlocal a\\n        a = 100\\n        # nonlocal을 사용하여 outer에서 a = 10으로 정의한 값을 다시 a = 100으로 재설정할 수 있다\\n        # c & d are local variables of the inner function\\n        c = 30\\n        d = 40\\n        print(x, a, b, c, d)\\n    inner()\\n    # 마지막 줄에 inner()를 넣으면, outer()를 실행할 때 가장 마지막으로 inner()가 실행된다\\n\\nouter()',\n",
       " '_i21': 'x = 1 # x is a global variable\\n# indent가 다르다는 것은 outer와 inner는 서로 다른 영역이라는 뜻\\ndef outer():\\n    global x\\n    x = 1\\n    # a is a local variable of the outer function, yet also a free variable for the inner function\\n    a = 10\\n    # b is a local variable of the outer function\\n    b = 20\\n    def inner():\\n        global x\\n        x = 1\\n        nonlocal a\\n        a = 100\\n        # nonlocal을 사용하여 outer에서 a = 10으로 정의한 값을 다시 a = 100으로 재설정할 수 있다\\n        # c & d are local variables of the inner function\\n        c = 30\\n        d = 40\\n        print(x, a, b, c, d)\\n    inner()\\n    # 마지막 줄에 inner()를 넣으면, outer()를 실행할 때 가장 마지막으로 inner()가 실행된다\\n\\nouter()',\n",
       " '_i22': 'x = 1 # x is a global variable\\n# indent가 다르다는 것은 outer와 inner는 서로 다른 영역이라는 뜻\\ndef outer():\\n    global x\\n    x = 1\\n    # a is a local variable of the outer function, yet also a free variable for the inner function\\n    a = 10\\n    # b is a local variable of the outer function\\n    b = 20\\n    def inner():\\n        global x\\n        x = 20\\n        nonlocal a\\n        a = 100\\n        # nonlocal을 사용하여 outer에서 a = 10으로 정의한 값을 다시 a = 100으로 재설정할 수 있다\\n        # c & d are local variables of the inner function\\n        c = 30\\n        d = 40\\n        print(x, a, b, c, d)\\n    inner()\\n    # 마지막 줄에 inner()를 넣으면, outer()를 실행할 때 가장 마지막으로 inner()가 실행된다\\n\\nouter()',\n",
       " '_i23': 'x = 1 # x is a global variable\\n# indent가 다르다는 것은 outer와 inner는 서로 다른 영역이라는 뜻\\ndef outer():\\n    global x\\n    x = 100\\n    # a is a local variable of the outer function, yet also a free variable for the inner function\\n    a = 10\\n    # b is a local variable of the outer function\\n    b = 20\\n    def inner():\\n        global x\\n        x = 20\\n        nonlocal a\\n        a = 100\\n        # nonlocal을 사용하여 outer에서 a = 10으로 정의한 값을 다시 a = 100으로 재설정할 수 있다\\n        # c & d are local variables of the inner function\\n        c = 30\\n        d = 40\\n        print(x, a, b, c, d)\\n    inner()\\n    # 마지막 줄에 inner()를 넣으면, outer()를 실행할 때 가장 마지막으로 inner()가 실행된다\\n\\nouter()',\n",
       " '_i24': 'x = 1 # x is a global variable\\n# indent가 다르다는 것은 outer와 inner는 서로 다른 영역이라는 뜻\\ndef outer():\\n    global x\\n    x = 100\\n    # a is a local variable of the outer function, yet also a free variable for the inner function\\n    a = 10\\n    # b is a local variable of the outer function\\n    b = 20\\n    def inner():\\n        global x\\n        x = \\n        nonlocal a\\n        a = 100\\n        # nonlocal을 사용하여 outer에서 a = 10으로 정의한 값을 다시 a = 100으로 재설정할 수 있다\\n        # c & d are local variables of the inner function\\n        c = 30\\n        d = 40\\n        print(x, a, b, c, d)\\n    inner()\\n    # 마지막 줄에 inner()를 넣으면, outer()를 실행할 때 가장 마지막으로 inner()가 실행된다\\n\\nouter()',\n",
       " '_i25': 'x = 1 # x is a global variable\\n# indent가 다르다는 것은 outer와 inner는 서로 다른 영역이라는 뜻\\ndef outer():\\n    global x\\n    x = 100\\n    # a is a local variable of the outer function, yet also a free variable for the inner function\\n    a = 10\\n    # b is a local variable of the outer function\\n    b = 20\\n    def inner():\\n        global x\\n        x = 0\\n        nonlocal a\\n        a = 100\\n        # nonlocal을 사용하여 outer에서 a = 10으로 정의한 값을 다시 a = 100으로 재설정할 수 있다\\n        # c & d are local variables of the inner function\\n        c = 30\\n        d = 40\\n        print(x, a, b, c, d)\\n    inner()\\n    # 마지막 줄에 inner()를 넣으면, outer()를 실행할 때 가장 마지막으로 inner()가 실행된다\\n\\nouter()',\n",
       " '_i26': 'x = 1 # x is a global variable\\n# indent가 다르다는 것은 outer와 inner는 서로 다른 영역이라는 뜻\\ndef outer():\\n    global x\\n    x = 100\\n    # a is a local variable of the outer function, yet also a free variable for the inner function\\n    a = 10\\n    # b is a local variable of the outer function\\n    b = 20\\n    def inner():\\n#         global x\\n#         x = 0\\n        nonlocal a\\n        a = 100\\n        # nonlocal을 사용하여 outer에서 a = 10으로 정의한 값을 다시 a = 100으로 재설정할 수 있다\\n        # c & d are local variables of the inner function\\n        c = 30\\n        d = 40\\n        print(x, a, b, c, d)\\n    inner()\\n    # 마지막 줄에 inner()를 넣으면, outer()를 실행할 때 가장 마지막으로 inner()가 실행된다\\n\\nouter()',\n",
       " '_i27': 'x = 1 # x is a global variable\\n# indent가 다르다는 것은 outer와 inner는 서로 다른 영역이라는 뜻\\ndef outer():\\n    global x\\n    x = 100\\n    # a is a local variable of the outer function, yet also a free variable for the inner function\\n    a = 10\\n    # b is a local variable of the outer function\\n    b = 20\\n    def inner():\\n        global x\\n        x = 0\\n        nonlocal a\\n        a = 100\\n        # nonlocal을 사용하여 outer에서 a = 10으로 정의한 값을 다시 a = 100으로 재설정할 수 있다\\n        # c & d are local variables of the inner function\\n        c = 30\\n        d = 40\\n        print(x, a, b, c, d)\\n    inner()\\n    # 마지막 줄에 inner()를 넣으면, outer()를 실행할 때 가장 마지막으로 inner()가 실행된다\\n\\nouter()',\n",
       " '_i28': 'x = 1 # x is a global variable\\n# indent가 다르다는 것은 outer와 inner는 서로 다른 영역이라는 뜻\\ndef outer():\\n    global x\\n    x = 100\\n    # a is a local variable of the outer function, yet also a free variable for the inner function\\n    a = 10\\n    # b is a local variable of the outer function\\n    b = 20\\n    def inner():\\n        global x\\n        x = 0\\n        nonlocal a\\n        a = 100\\n        # nonlocal을 사용하여 outer에서 a = 10으로 정의한 값을 다시 a = 100으로 재설정할 수 있다\\n        # c & d are local variables of the inner function\\n        c = 30\\n        d = 40\\n        print(x, a, b, c, d)\\n    inner()\\n    # 마지막 줄에 inner()를 넣으면, outer()를 실행할 때 가장 마지막으로 inner()가 실행된다\\n\\nouter()',\n",
       " '_i29': 'code = outer.__code__',\n",
       " '_i3': 'x=10\\ndef func(a, b):\\n    x = 20\\n    print(x)\\n\\nfunc()\\nprint(x)',\n",
       " '_i30': 'code',\n",
       " '_i31': 'x = 1 # x is a global variable\\n# indent가 다르다는 것은 outer와 inner는 서로 다른 영역이라는 뜻\\ndef outer():\\n    global x\\n    x = 100\\n    # a is a local variable of the outer function, yet also a free variable for the inner function\\n    a = 10\\n    # b is a local variable of the outer function\\n    b = 20\\n    def inner():\\n        global x # outer function and inner function both use global x to change the value of global variable x,\\n                        # however, the inner is executed after the outer, so overwrites the value assigned to global x in the outer\\n        x = 0\\n        nonlocal a\\n        a = 100\\n        # nonlocal을 사용하여 outer에서 a = 10으로 정의한 값을 다시 a = 100으로 재설정할 수 있다\\n        # c & d are local variables of the inner function\\n        c = 30\\n        d = 40\\n        print(x, a, b, c, d)\\n    inner()\\n    # 마지막 줄에 inner()를 넣으면, outer()를 실행할 때 가장 마지막으로 inner()가 실행된다\\n\\nouter()',\n",
       " '_i32': 'f = outer()',\n",
       " '_i33': 'code = f.__code__',\n",
       " '_i34': 'x = 1 # x is a global variable\\n# indent가 다르다는 것은 outer와 inner는 서로 다른 영역이라는 뜻\\ndef outer():\\n    global x\\n    x = 100\\n    # a is a local variable of the outer function, yet also a free variable for the inner function\\n    a = 10\\n    # b is a local variable of the outer function\\n    b = 20\\n    def inner():\\n        global x # outer function and inner function both use global x to change the value of global variable x,\\n                        # however, the inner is executed after the outer, so overwrites the value assigned to global x in the outer\\n        x = 0\\n        nonlocal a\\n        a = 100\\n        # nonlocal을 사용하여 outer에서 a = 10으로 정의한 값을 다시 a = 100으로 재설정할 수 있다\\n        # c & d are local variables of the inner function\\n        c = 30\\n        d = 40\\n        print(x, a, b, c, d)\\n    return inner()\\n    # 마지막 줄에 inner()를 넣으면, outer()를 실행할 때 가장 마지막으로 inner()가 실행된다\\n\\nouter()',\n",
       " '_i35': 'f = outer()',\n",
       " '_i36': 'code = f.__code__',\n",
       " '_i37': 'code = f.__code__',\n",
       " '_i38': 'code.co_freevars',\n",
       " '_i39': '# packing\\na = 1, 2, 3, 4, 5\\n# 하나의 변수에 여러 변수를 넣는 것을 packing이라고 한다. 이 변수들은 tuple로 묶인다.\\na',\n",
       " '_i4': 'x=10\\ndef func():\\n    x = 20\\n    print(x)\\n\\nfunc()\\nprint(x)',\n",
       " '_i40': 'a = 10\\n# C/Java에서 a는 저장공간의 이름이고 10은 \"a\"라는 공간의 값\\n# Python에서 a는 \"이름\"이라는 저장공간, 10은 \"값 객체\"라는 저장공간을 지칭\\na = 20\\n# C/Java에서는 a에다가 20이라는 새로운 값을 덮어쓸 뿐이다\\n# Python에서는 10 값 객체를 삭제하고 20이라는 새로운 값 객체를 만들고, 새 값 객체에다가 a를 연결한다',\n",
       " '_i41': '# unpacking\\nb, *c = a\\n# a의 변수를 b & c에다가 나눠서 담으려는 것\\nb\\nc',\n",
       " '_i42': '# unpacking\\nb, *c = a\\n# a의 변수를 b & c에다가 나눠서 담으려는 것\\nb',\n",
       " '_i43': '# unpacking\\nb *c = a\\n# a의 변수를 b & c에다가 나눠서 담으려는 것\\nb',\n",
       " '_i44': '# unpacking\\nb, *c = a\\n# a의 변수를 b & c에다가 나눠서 담으려는 것\\nb',\n",
       " '_i45': '# unpacking\\nb. *c = a\\n# a의 변수를 b & c에다가 나눠서 담으려는 것\\nb',\n",
       " '_i46': '# unpacking\\nb, *c = a\\n# a의 변수를 b & c에다가 나눠서 담으려는 것\\nb',\n",
       " '_i47': '# unpacking\\na = 1, 2, 3, 4, 5\\nb, *c = a\\n# a의 변수를 b & c에다가 나눠서 담으려는 것\\nb',\n",
       " '_i48': '# unpacking\\na = 1, 2, 3, 4, 5\\nb, *c = a\\n# a의 변수를 b & c에다가 나눠서 담으려는 것\\nprint(b)\\nprint(c)',\n",
       " '_i49': 'li = [1, 2, 3, 4, 5]\\ndef func(*args):\\n    print(args)',\n",
       " '_i5': 'x=10\\ndef func():\\n    global x\\n    x = 20\\n    print(x)\\n\\nfunc()\\nprint(x)\\n# func 내에서는 x=10이라는 전역변수가 지역변수 x=20으로 덥혀쓰여진다',\n",
       " '_i50': 'func(li)',\n",
       " '_i51': 'func(*li)',\n",
       " '_i52': 'func(li)\\n# li를 unpacking하지 않고 하나의 변수로 만든다',\n",
       " '_i53': 'func(*li)\\n# li를 unpacking한다',\n",
       " '_i54': 'dic = {\\'a\\': 1, \\'b\\': 2, \"c\": 3}\\na, *b = dic',\n",
       " '_i55': 'dic = {\\'a\\': 1, \\'b\\': 2, \"c\": 3}\\na, *b = dic\\nprint(a)\\nprint(*b)',\n",
       " '_i56': 'a, *b = dic.itens()\\na\\nb',\n",
       " '_i57': 'a, *b = dic.itens()\\nprint(a)\\nprint(b)',\n",
       " '_i58': 'a, *b = dic.items()\\nprint(a)\\nprint(b)',\n",
       " '_i59': 'def func(a, *args, **args:\\n         pass',\n",
       " '_i6': 'x = 1\\ndef outer():\\n    a = 10\\n    b = 20\\n    def inner():\\n        c = 30\\n        d = 40\\n        print(x, a, b, c, d)\\n        \\nouter()',\n",
       " '_i60': 'def func(a, *args, **kwargs:\\n         pass',\n",
       " '_i61': 'def func(a, *args, **kwargs:\\n    pass',\n",
       " '_i62': 'func()',\n",
       " '_i63': 'def func(a, *args, **kwargs:\\n    pass\\n\\nfunc()',\n",
       " '_i64': 'def func(a, *args, **kwargs):\\n    pass\\n\\nfunc()',\n",
       " '_i65': 'def func(a, *args, **kwargs):\\n    pass',\n",
       " '_i66': 'def func(a, *args, **kwargs):\\n    pass\\nfunc()\\nfunc(5)',\n",
       " '_i67': 'def func(a, *args, **kwargs):\\n    pass\\nfunc()\\nfunc(5)',\n",
       " '_i68': 'func(5)',\n",
       " '_i69': 'def func(a, *args, **kwargs):\\n    pass\\nfunc()',\n",
       " '_i7': 'x = 1\\ndef outer():\\n    a = 10\\n    b = 20\\n    def inner():\\n        c = 30\\n        d = 40\\n        print(x, a, b, c, d)\\n        \\nouter()',\n",
       " '_i70': 'def func(a, b):\\n    return a + b\\n\\na = 0\\na = func(4, 5)',\n",
       " '_i71': 'def func(a, b):\\n    return a + b\\n\\na = 0\\na = func(4, 5)\\na',\n",
       " '_i72': 'def func(a, b):\\n    return\\n\\na = 50\\na = func(4, 5)\\na',\n",
       " '_i73': 'def func(a, b):\\n    return\\n\\na = 50\\na = func(4, 5)\\nprint(a)',\n",
       " '_i74': 'def func(a, *args, **kwargs):\\n    print(a)\\n    print(args)\\n    print(kwargs)\\n\\nfunc(5, 1,2,3,4,5, b = 100, c = 200, d = 200)',\n",
       " '_i75': 'def func(a, *args, **kwargs):\\n    print(a)\\n    print(args)\\n    print(kwargs)\\n\\nfunc(5, b = 100, c = 200, d = 200)',\n",
       " '_i76': 'func(5)',\n",
       " '_i77': 'def func(a, *args, **kwargs):\\n    # a는 positional argument, *args & **kwargs는 keyword argument\\n    print(a)\\n    print(*args)\\n    print(**kwargs)\\n\\nfunc(5, b = 100, c = 200, d = 200)\\n# a는 무조건 입력값을 하나 밖에 받지 못한다. 그래서 첫번째를 받고 나면 나머지 입력값은 *args가 받아간다\\n# *args 입력값이 없으면 none을 출력한다.\\n# 순서는 절대로 바꾸면 안된다.',\n",
       " '_i78': 'def func(a, *args, **kwargs):\\n    # a는 positional argument, *args & **kwargs는 keyword argument\\n    print(a)\\n    print(args)\\n    print(kwargs)\\n\\nfunc(5, b = 100, c = 200, d = 200)\\n# a는 무조건 입력값을 하나 밖에 받지 못한다. 그래서 첫번째를 받고 나면 나머지 입력값은 *args가 받아간다\\n# *args 입력값이 없으면 none을 출력한다.\\n# 순서는 절대로 바꾸면 안된다.',\n",
       " '_i79': '# python은 모든 것이 객체(object)\\n    # 다른 언어와 다르게, python은 함수도 객체이기에 삭제 가능\\nprint(func(1, 2))',\n",
       " '_i8': 'x = 1\\ndef outer():\\n    a = 10\\n    b = 20\\n    def inner():\\n        c = 30\\n        d = 40\\n        print(x, a, b, c, d)\\n    inner()\\n        \\nouter()',\n",
       " '_i80': 'del func',\n",
       " '_i81': 'func(1, 2)',\n",
       " '_i82': '# first-class function\\n    ## 함수를 인자로 전달할 수 있나? 함수를 변환할 수 있나? 함수를 변수에 저장할 수 있나? 다 할 수 있으면 first class function이다\\n\\ndef f(a, b):\\n    return a + b\\n\\ndef g(func, a, b):\\n    return func(a, b)\\n\\ng(f, 5, 6)',\n",
       " '_i83': 'def adder(a, b):\\n    return a + b\\n\\nvar = adder\\n\\nvar(5,2)',\n",
       " '_i84': \"def calc(kind = 'add'):\\n    # 초기값(default value)을 설정했다\\n    \",\n",
       " '_i85': \"def calc(kind = 'add'):\\n    # 초기값(default value)을 설정했다\\n    pass\",\n",
       " '_i86': \"def calc(kind = 'add'):\\n    # 초기값(default value)을 설정했다\\n    return\",\n",
       " '_i87': \"# 'add'라는 인자를 넣으면 두 값을 더하는 함수, 'sub' 인자를 넣으면 a-b를 실행하는 함수를 return하게 만들고 싶다.\\ndef calc(kind = 'add'):\\n    # 초기값(default value)을 설정했다\\n    def add(a, b):\\n        return a + b\\n    def sub(a, b):\\n        return a - b\\n    \\n    if kind == 'add':\\n        return add\\n    elif kind == 'sub':\\n        return sub\\n\\nf = calc(add)\",\n",
       " '_i88': '# \\'add\\'라는 인자를 넣으면 두 값을 더하는 함수, \\'sub\\' 인자를 넣으면 a-b를 실행하는 함수를 return하게 만들고 싶다.\\ndef calc(kind = \\'add\\'):\\n    # 초기값(default value)을 설정했다\\n    def add(a, b):\\n        return a + b\\n    def sub(a, b):\\n        return a - b\\n    \\n    if kind == \\'add\\':\\n        return add\\n    elif kind == \\'sub\\':\\n        return sub\\n\\nf = calc(\"add\")',\n",
       " '_i89': '# \\'add\\'라는 인자를 넣으면 두 값을 더하는 함수, \\'sub\\' 인자를 넣으면 a-b를 실행하는 함수를 return하게 만들고 싶다.\\ndef calc(kind = \\'add\\'):\\n    # 초기값(default value)을 설정했다\\n    def add(a, b):\\n        return a + b\\n    def sub(a, b):\\n        return a - b\\n    \\n    if kind == \\'add\\':\\n        return add\\n    elif kind == \\'sub\\':\\n        return sub\\n\\nf = calc(\"add\")\\nprint(f(1, 5))',\n",
       " '_i9': 'x = 1\\n# indent가 다르다는 것은 outer와 inner는 서로 다른 영역이라는 뜻\\ndef outer():\\n    a = 10\\n    b = 20\\n    def inner():\\n        nonlocal a\\n        a = 100\\n        # nonlocal을 사용하여\\n        c = 30\\n        d = 40\\n        print(x, a, b, c, d)\\n    inner()\\n    # 마지막 줄에 inner()를 넣으면, outer()를 실행할 때 가장 마지막으로 inner()가 실행된다\\n\\nouter()',\n",
       " '_i90': '# \\'add\\'라는 인자를 넣으면 두 값을 더하는 함수, \\'sub\\' 인자를 넣으면 a-b를 실행하는 함수를 return하게 만들고 싶다.\\ndef calc(kind = \\'add\\'):\\n    # 초기값(default value)을 설정했다\\n    def add(a, b):\\n        return a + b\\n    def sub(a, b):\\n        return a - b\\n    \\n    if kind == \\'add\\':\\n        return add\\n    elif kind == \\'sub\\':\\n        return sub\\n\\nf = calc(\"sub\")\\nf(1, 5)',\n",
       " '_i91': 'def func(a, b):\\n    return a + b',\n",
       " '_i92': '# python에서는 함수마저 객체이다. 그것이 function object다.\\n    # vs. 코드객체 code object\\ndef func(a, b):\\n    return a + b',\n",
       " '_i93': 'func',\n",
       " '_i94': 'dir(func)\\n# 객체가 가지고 있는 모든 함수, 메소드 등을 불러낸다',\n",
       " '_i95': 'func.__globals__',\n",
       " '_ih': ['',\n",
       "  '# global: 파일을 작성하면서 한 줄 한 줄 내려가는데, 작성가능한 파일 전체 영역을 global이라고 한다.\\n# global variable 전역변수: 한 함수 안에 선언된 (indent된) 변수가 아닌 파일 전체에 해당하는 변수\\n# local variable 지역변수: 한 함수 안에 선언(indent)되고 해당 함수 안에서만 적용되는 함수\\n# 영역: global과 local로 구분된다는 뜻은 고요 영역이 있다는 뜻이다',\n",
       "  '# x: global variable\\nx = 10\\n#a, b: 매개변수, 인자 a.k.a. argument, parameter\\n#a, b, c, d: local variable\\ndef func(a, b):\\n    c = 10\\n    d = 20',\n",
       "  'x=10\\ndef func(a, b):\\n    x = 20\\n    print(x)\\n\\nfunc()\\nprint(x)',\n",
       "  'x=10\\ndef func():\\n    x = 20\\n    print(x)\\n\\nfunc()\\nprint(x)',\n",
       "  'x=10\\ndef func():\\n    global x\\n    x = 20\\n    print(x)\\n\\nfunc()\\nprint(x)\\n# func 내에서는 x=10이라는 전역변수가 지역변수 x=20으로 덥혀쓰여진다',\n",
       "  'x = 1\\ndef outer():\\n    a = 10\\n    b = 20\\n    def inner():\\n        c = 30\\n        d = 40\\n        print(x, a, b, c, d)\\n        \\nouter()',\n",
       "  'x = 1\\ndef outer():\\n    a = 10\\n    b = 20\\n    def inner():\\n        c = 30\\n        d = 40\\n        print(x, a, b, c, d)\\n        \\nouter()',\n",
       "  'x = 1\\ndef outer():\\n    a = 10\\n    b = 20\\n    def inner():\\n        c = 30\\n        d = 40\\n        print(x, a, b, c, d)\\n    inner()\\n        \\nouter()',\n",
       "  'x = 1\\n# indent가 다르다는 것은 outer와 inner는 서로 다른 영역이라는 뜻\\ndef outer():\\n    a = 10\\n    b = 20\\n    def inner():\\n        nonlocal a\\n        a = 100\\n        # nonlocal을 사용하여\\n        c = 30\\n        d = 40\\n        print(x, a, b, c, d)\\n    inner()\\n    # 마지막 줄에 inner()를 넣으면, outer()를 실행할 때 가장 마지막으로 inner()가 실행된다\\n\\nouter()',\n",
       "  'x = 1 # x is a global variable\\n# indent가 다르다는 것은 outer와 inner는 서로 다른 영역이라는 뜻\\ndef outer():\\n    # a is a local variable of the outer function, yet also a free variable for the inner function\\n    a = 10\\n    b = 20\\n    def inner():\\n        global x\\n        x = 10\\n        nonlocal a\\n        a = 100\\n        # nonlocal을 사용하여 outer에서 a = 10으로 정의한 값을 다시 a = 100으로 재설정할 수 있다\\n        # c & d are local variables of the inner function\\n        c = 30\\n        d = 40\\n        print(x, a, b, c, d)\\n    inner()\\n    # 마지막 줄에 inner()를 넣으면, outer()를 실행할 때 가장 마지막으로 inner()가 실행된다\\n\\nouter()',\n",
       "  'x = 1 # x is a global variable\\n# indent가 다르다는 것은 outer와 inner는 서로 다른 영역이라는 뜻\\ndef outer():\\n    # a is a local variable of the outer function, yet also a free variable for the inner function\\n    global x\\n    x = 2\\n    a = 10\\n    b = 20\\n    def inner():\\n        nonlocal x\\n        x = 10\\n        nonlocal a\\n        a = 100\\n        # nonlocal을 사용하여 outer에서 a = 10으로 정의한 값을 다시 a = 100으로 재설정할 수 있다\\n        # c & d are local variables of the inner function\\n        c = 30\\n        d = 40\\n        print(x, a, b, c, d)\\n    inner()\\n    # 마지막 줄에 inner()를 넣으면, outer()를 실행할 때 가장 마지막으로 inner()가 실행된다\\n\\nouter()',\n",
       "  'x = 1 # x is a global variable\\n# indent가 다르다는 것은 outer와 inner는 서로 다른 영역이라는 뜻\\ndef outer():\\n    # a is a local variable of the outer function, yet also a free variable for the inner function\\n    global x\\n    x = 2\\n    a = 10\\n    b = 20\\n    def inner():\\n        global x\\n        x = 10\\n        nonlocal a\\n        a = 100\\n        # nonlocal을 사용하여 outer에서 a = 10으로 정의한 값을 다시 a = 100으로 재설정할 수 있다\\n        # c & d are local variables of the inner function\\n        c = 30\\n        d = 40\\n        print(x, a, b, c, d)\\n    inner()\\n    # 마지막 줄에 inner()를 넣으면, outer()를 실행할 때 가장 마지막으로 inner()가 실행된다\\n\\nouter()',\n",
       "  'x = 1 # x is a global variable\\n# indent가 다르다는 것은 outer와 inner는 서로 다른 영역이라는 뜻\\ndef outer():\\n    # a is a local variable of the outer function, yet also a free variable for the inner function\\n    global x\\n    x = 2\\n    a = 10\\n    b = 20\\n    def inner():\\n        x = 10\\n        nonlocal a\\n        a = 100\\n        # nonlocal을 사용하여 outer에서 a = 10으로 정의한 값을 다시 a = 100으로 재설정할 수 있다\\n        # c & d are local variables of the inner function\\n        c = 30\\n        d = 40\\n        print(x, a, b, c, d)\\n    inner()\\n    # 마지막 줄에 inner()를 넣으면, outer()를 실행할 때 가장 마지막으로 inner()가 실행된다\\n\\nouter()',\n",
       "  'x = 1 # x is a global variable\\n# indent가 다르다는 것은 outer와 inner는 서로 다른 영역이라는 뜻\\ndef outer():\\n    # a is a local variable of the outer function, yet also a free variable for the inner function\\n    global x\\n    x = 2\\n    a = 10\\n    b = 20\\n    def inner():\\n        x = 10\\n        nonlocal a\\n        a = 100\\n        # nonlocal을 사용하여 outer에서 a = 10으로 정의한 값을 다시 a = 100으로 재설정할 수 있다\\n        # c & d are local variables of the inner function\\n        c = 30\\n        d = 40\\n        print(x, a, b, c, d)\\n    inner()\\n    # 마지막 줄에 inner()를 넣으면, outer()를 실행할 때 가장 마지막으로 inner()가 실행된다\\n\\nouter()',\n",
       "  'x = 1 # x is a global variable\\n# indent가 다르다는 것은 outer와 inner는 서로 다른 영역이라는 뜻\\ndef outer():\\n    # a is a local variable of the outer function, yet also a free variable for the inner function\\n    x = 2\\n    a = 10\\n    b = 20\\n    def inner():\\n        x = 10\\n        nonlocal a\\n        a = 100\\n        # nonlocal을 사용하여 outer에서 a = 10으로 정의한 값을 다시 a = 100으로 재설정할 수 있다\\n        # c & d are local variables of the inner function\\n        c = 30\\n        d = 40\\n        print(x, a, b, c, d)\\n    inner()\\n    # 마지막 줄에 inner()를 넣으면, outer()를 실행할 때 가장 마지막으로 inner()가 실행된다\\n\\nouter()',\n",
       "  'x = 1 # x is a global variable\\n# indent가 다르다는 것은 outer와 inner는 서로 다른 영역이라는 뜻\\ndef outer():\\n    # a is a local variable of the outer function, yet also a free variable for the inner function\\n    global x\\n    x = 1\\n    a = 10\\n    b = 20\\n    def inner():\\n        x = 10\\n        nonlocal a\\n        a = 100\\n        # nonlocal을 사용하여 outer에서 a = 10으로 정의한 값을 다시 a = 100으로 재설정할 수 있다\\n        # c & d are local variables of the inner function\\n        c = 30\\n        d = 40\\n        print(x, a, b, c, d)\\n    inner()\\n    # 마지막 줄에 inner()를 넣으면, outer()를 실행할 때 가장 마지막으로 inner()가 실행된다\\n\\nouter()',\n",
       "  'x = 1 # x is a global variable\\n# indent가 다르다는 것은 outer와 inner는 서로 다른 영역이라는 뜻\\ndef outer():\\n    # a is a local variable of the outer function, yet also a free variable for the inner function\\n    a = 10\\n    b = 20\\n    def inner():\\n        global xx = 1\\n        nonlocal a\\n        a = 100\\n        # nonlocal을 사용하여 outer에서 a = 10으로 정의한 값을 다시 a = 100으로 재설정할 수 있다\\n        # c & d are local variables of the inner function\\n        c = 30\\n        d = 40\\n        print(x, a, b, c, d)\\n    inner()\\n    # 마지막 줄에 inner()를 넣으면, outer()를 실행할 때 가장 마지막으로 inner()가 실행된다\\n\\nouter()',\n",
       "  'x = 1 # x is a global variable\\n# indent가 다르다는 것은 outer와 inner는 서로 다른 영역이라는 뜻\\ndef outer():\\n    # a is a local variable of the outer function, yet also a free variable for the inner function\\n    a = 10\\n    b = 20\\n    def inner():\\n        global x\\n        x = 1\\n        nonlocal a\\n        a = 100\\n        # nonlocal을 사용하여 outer에서 a = 10으로 정의한 값을 다시 a = 100으로 재설정할 수 있다\\n        # c & d are local variables of the inner function\\n        c = 30\\n        d = 40\\n        print(x, a, b, c, d)\\n    inner()\\n    # 마지막 줄에 inner()를 넣으면, outer()를 실행할 때 가장 마지막으로 inner()가 실행된다\\n\\nouter()',\n",
       "  'x = 1 # x is a global variable\\n# indent가 다르다는 것은 outer와 inner는 서로 다른 영역이라는 뜻\\ndef outer():\\n    global x\\n    x = 10\\n    # a is a local variable of the outer function, yet also a free variable for the inner function\\n    a = 10\\n    # b is a local variable of the outer function\\n    b = 20\\n    def inner():\\n        nonlocal a\\n        a = 100\\n        # nonlocal을 사용하여 outer에서 a = 10으로 정의한 값을 다시 a = 100으로 재설정할 수 있다\\n        # c & d are local variables of the inner function\\n        c = 30\\n        d = 40\\n        print(x, a, b, c, d)\\n    inner()\\n    # 마지막 줄에 inner()를 넣으면, outer()를 실행할 때 가장 마지막으로 inner()가 실행된다\\n\\nouter()',\n",
       "  'x = 1 # x is a global variable\\n# indent가 다르다는 것은 outer와 inner는 서로 다른 영역이라는 뜻\\ndef outer():\\n    global x\\n    x = 10\\n    # a is a local variable of the outer function, yet also a free variable for the inner function\\n    a = 10\\n    # b is a local variable of the outer function\\n    b = 20\\n    def inner():\\n        global x\\n        x = 200\\n        nonlocal a\\n        a = 100\\n        # nonlocal을 사용하여 outer에서 a = 10으로 정의한 값을 다시 a = 100으로 재설정할 수 있다\\n        # c & d are local variables of the inner function\\n        c = 30\\n        d = 40\\n        print(x, a, b, c, d)\\n    inner()\\n    # 마지막 줄에 inner()를 넣으면, outer()를 실행할 때 가장 마지막으로 inner()가 실행된다\\n\\nouter()',\n",
       "  'x = 1 # x is a global variable\\n# indent가 다르다는 것은 outer와 inner는 서로 다른 영역이라는 뜻\\ndef outer():\\n    global x\\n    x = 1\\n    # a is a local variable of the outer function, yet also a free variable for the inner function\\n    a = 10\\n    # b is a local variable of the outer function\\n    b = 20\\n    def inner():\\n        global x\\n        x = 1\\n        nonlocal a\\n        a = 100\\n        # nonlocal을 사용하여 outer에서 a = 10으로 정의한 값을 다시 a = 100으로 재설정할 수 있다\\n        # c & d are local variables of the inner function\\n        c = 30\\n        d = 40\\n        print(x, a, b, c, d)\\n    inner()\\n    # 마지막 줄에 inner()를 넣으면, outer()를 실행할 때 가장 마지막으로 inner()가 실행된다\\n\\nouter()',\n",
       "  'x = 1 # x is a global variable\\n# indent가 다르다는 것은 outer와 inner는 서로 다른 영역이라는 뜻\\ndef outer():\\n    global x\\n    x = 1\\n    # a is a local variable of the outer function, yet also a free variable for the inner function\\n    a = 10\\n    # b is a local variable of the outer function\\n    b = 20\\n    def inner():\\n        global x\\n        x = 20\\n        nonlocal a\\n        a = 100\\n        # nonlocal을 사용하여 outer에서 a = 10으로 정의한 값을 다시 a = 100으로 재설정할 수 있다\\n        # c & d are local variables of the inner function\\n        c = 30\\n        d = 40\\n        print(x, a, b, c, d)\\n    inner()\\n    # 마지막 줄에 inner()를 넣으면, outer()를 실행할 때 가장 마지막으로 inner()가 실행된다\\n\\nouter()',\n",
       "  'x = 1 # x is a global variable\\n# indent가 다르다는 것은 outer와 inner는 서로 다른 영역이라는 뜻\\ndef outer():\\n    global x\\n    x = 100\\n    # a is a local variable of the outer function, yet also a free variable for the inner function\\n    a = 10\\n    # b is a local variable of the outer function\\n    b = 20\\n    def inner():\\n        global x\\n        x = 20\\n        nonlocal a\\n        a = 100\\n        # nonlocal을 사용하여 outer에서 a = 10으로 정의한 값을 다시 a = 100으로 재설정할 수 있다\\n        # c & d are local variables of the inner function\\n        c = 30\\n        d = 40\\n        print(x, a, b, c, d)\\n    inner()\\n    # 마지막 줄에 inner()를 넣으면, outer()를 실행할 때 가장 마지막으로 inner()가 실행된다\\n\\nouter()',\n",
       "  'x = 1 # x is a global variable\\n# indent가 다르다는 것은 outer와 inner는 서로 다른 영역이라는 뜻\\ndef outer():\\n    global x\\n    x = 100\\n    # a is a local variable of the outer function, yet also a free variable for the inner function\\n    a = 10\\n    # b is a local variable of the outer function\\n    b = 20\\n    def inner():\\n        global x\\n        x = \\n        nonlocal a\\n        a = 100\\n        # nonlocal을 사용하여 outer에서 a = 10으로 정의한 값을 다시 a = 100으로 재설정할 수 있다\\n        # c & d are local variables of the inner function\\n        c = 30\\n        d = 40\\n        print(x, a, b, c, d)\\n    inner()\\n    # 마지막 줄에 inner()를 넣으면, outer()를 실행할 때 가장 마지막으로 inner()가 실행된다\\n\\nouter()',\n",
       "  'x = 1 # x is a global variable\\n# indent가 다르다는 것은 outer와 inner는 서로 다른 영역이라는 뜻\\ndef outer():\\n    global x\\n    x = 100\\n    # a is a local variable of the outer function, yet also a free variable for the inner function\\n    a = 10\\n    # b is a local variable of the outer function\\n    b = 20\\n    def inner():\\n        global x\\n        x = 0\\n        nonlocal a\\n        a = 100\\n        # nonlocal을 사용하여 outer에서 a = 10으로 정의한 값을 다시 a = 100으로 재설정할 수 있다\\n        # c & d are local variables of the inner function\\n        c = 30\\n        d = 40\\n        print(x, a, b, c, d)\\n    inner()\\n    # 마지막 줄에 inner()를 넣으면, outer()를 실행할 때 가장 마지막으로 inner()가 실행된다\\n\\nouter()',\n",
       "  'x = 1 # x is a global variable\\n# indent가 다르다는 것은 outer와 inner는 서로 다른 영역이라는 뜻\\ndef outer():\\n    global x\\n    x = 100\\n    # a is a local variable of the outer function, yet also a free variable for the inner function\\n    a = 10\\n    # b is a local variable of the outer function\\n    b = 20\\n    def inner():\\n#         global x\\n#         x = 0\\n        nonlocal a\\n        a = 100\\n        # nonlocal을 사용하여 outer에서 a = 10으로 정의한 값을 다시 a = 100으로 재설정할 수 있다\\n        # c & d are local variables of the inner function\\n        c = 30\\n        d = 40\\n        print(x, a, b, c, d)\\n    inner()\\n    # 마지막 줄에 inner()를 넣으면, outer()를 실행할 때 가장 마지막으로 inner()가 실행된다\\n\\nouter()',\n",
       "  'x = 1 # x is a global variable\\n# indent가 다르다는 것은 outer와 inner는 서로 다른 영역이라는 뜻\\ndef outer():\\n    global x\\n    x = 100\\n    # a is a local variable of the outer function, yet also a free variable for the inner function\\n    a = 10\\n    # b is a local variable of the outer function\\n    b = 20\\n    def inner():\\n        global x\\n        x = 0\\n        nonlocal a\\n        a = 100\\n        # nonlocal을 사용하여 outer에서 a = 10으로 정의한 값을 다시 a = 100으로 재설정할 수 있다\\n        # c & d are local variables of the inner function\\n        c = 30\\n        d = 40\\n        print(x, a, b, c, d)\\n    inner()\\n    # 마지막 줄에 inner()를 넣으면, outer()를 실행할 때 가장 마지막으로 inner()가 실행된다\\n\\nouter()',\n",
       "  'x = 1 # x is a global variable\\n# indent가 다르다는 것은 outer와 inner는 서로 다른 영역이라는 뜻\\ndef outer():\\n    global x\\n    x = 100\\n    # a is a local variable of the outer function, yet also a free variable for the inner function\\n    a = 10\\n    # b is a local variable of the outer function\\n    b = 20\\n    def inner():\\n        global x\\n        x = 0\\n        nonlocal a\\n        a = 100\\n        # nonlocal을 사용하여 outer에서 a = 10으로 정의한 값을 다시 a = 100으로 재설정할 수 있다\\n        # c & d are local variables of the inner function\\n        c = 30\\n        d = 40\\n        print(x, a, b, c, d)\\n    inner()\\n    # 마지막 줄에 inner()를 넣으면, outer()를 실행할 때 가장 마지막으로 inner()가 실행된다\\n\\nouter()',\n",
       "  'code = outer.__code__',\n",
       "  'code',\n",
       "  'x = 1 # x is a global variable\\n# indent가 다르다는 것은 outer와 inner는 서로 다른 영역이라는 뜻\\ndef outer():\\n    global x\\n    x = 100\\n    # a is a local variable of the outer function, yet also a free variable for the inner function\\n    a = 10\\n    # b is a local variable of the outer function\\n    b = 20\\n    def inner():\\n        global x # outer function and inner function both use global x to change the value of global variable x,\\n                        # however, the inner is executed after the outer, so overwrites the value assigned to global x in the outer\\n        x = 0\\n        nonlocal a\\n        a = 100\\n        # nonlocal을 사용하여 outer에서 a = 10으로 정의한 값을 다시 a = 100으로 재설정할 수 있다\\n        # c & d are local variables of the inner function\\n        c = 30\\n        d = 40\\n        print(x, a, b, c, d)\\n    inner()\\n    # 마지막 줄에 inner()를 넣으면, outer()를 실행할 때 가장 마지막으로 inner()가 실행된다\\n\\nouter()',\n",
       "  'f = outer()',\n",
       "  'code = f.__code__',\n",
       "  'x = 1 # x is a global variable\\n# indent가 다르다는 것은 outer와 inner는 서로 다른 영역이라는 뜻\\ndef outer():\\n    global x\\n    x = 100\\n    # a is a local variable of the outer function, yet also a free variable for the inner function\\n    a = 10\\n    # b is a local variable of the outer function\\n    b = 20\\n    def inner():\\n        global x # outer function and inner function both use global x to change the value of global variable x,\\n                        # however, the inner is executed after the outer, so overwrites the value assigned to global x in the outer\\n        x = 0\\n        nonlocal a\\n        a = 100\\n        # nonlocal을 사용하여 outer에서 a = 10으로 정의한 값을 다시 a = 100으로 재설정할 수 있다\\n        # c & d are local variables of the inner function\\n        c = 30\\n        d = 40\\n        print(x, a, b, c, d)\\n    return inner()\\n    # 마지막 줄에 inner()를 넣으면, outer()를 실행할 때 가장 마지막으로 inner()가 실행된다\\n\\nouter()',\n",
       "  'f = outer()',\n",
       "  'code = f.__code__',\n",
       "  'code = f.__code__',\n",
       "  'code.co_freevars',\n",
       "  '# packing\\na = 1, 2, 3, 4, 5\\n# 하나의 변수에 여러 변수를 넣는 것을 packing이라고 한다. 이 변수들은 tuple로 묶인다.\\na',\n",
       "  'a = 10\\n# C/Java에서 a는 저장공간의 이름이고 10은 \"a\"라는 공간의 값\\n# Python에서 a는 \"이름\"이라는 저장공간, 10은 \"값 객체\"라는 저장공간을 지칭\\na = 20\\n# C/Java에서는 a에다가 20이라는 새로운 값을 덮어쓸 뿐이다\\n# Python에서는 10 값 객체를 삭제하고 20이라는 새로운 값 객체를 만들고, 새 값 객체에다가 a를 연결한다',\n",
       "  '# unpacking\\nb, *c = a\\n# a의 변수를 b & c에다가 나눠서 담으려는 것\\nb\\nc',\n",
       "  '# unpacking\\nb, *c = a\\n# a의 변수를 b & c에다가 나눠서 담으려는 것\\nb',\n",
       "  '# unpacking\\nb *c = a\\n# a의 변수를 b & c에다가 나눠서 담으려는 것\\nb',\n",
       "  '# unpacking\\nb, *c = a\\n# a의 변수를 b & c에다가 나눠서 담으려는 것\\nb',\n",
       "  '# unpacking\\nb. *c = a\\n# a의 변수를 b & c에다가 나눠서 담으려는 것\\nb',\n",
       "  '# unpacking\\nb, *c = a\\n# a의 변수를 b & c에다가 나눠서 담으려는 것\\nb',\n",
       "  '# unpacking\\na = 1, 2, 3, 4, 5\\nb, *c = a\\n# a의 변수를 b & c에다가 나눠서 담으려는 것\\nb',\n",
       "  '# unpacking\\na = 1, 2, 3, 4, 5\\nb, *c = a\\n# a의 변수를 b & c에다가 나눠서 담으려는 것\\nprint(b)\\nprint(c)',\n",
       "  'li = [1, 2, 3, 4, 5]\\ndef func(*args):\\n    print(args)',\n",
       "  'func(li)',\n",
       "  'func(*li)',\n",
       "  'func(li)\\n# li를 unpacking하지 않고 하나의 변수로 만든다',\n",
       "  'func(*li)\\n# li를 unpacking한다',\n",
       "  'dic = {\\'a\\': 1, \\'b\\': 2, \"c\": 3}\\na, *b = dic',\n",
       "  'dic = {\\'a\\': 1, \\'b\\': 2, \"c\": 3}\\na, *b = dic\\nprint(a)\\nprint(*b)',\n",
       "  'a, *b = dic.itens()\\na\\nb',\n",
       "  'a, *b = dic.itens()\\nprint(a)\\nprint(b)',\n",
       "  'a, *b = dic.items()\\nprint(a)\\nprint(b)',\n",
       "  'def func(a, *args, **args:\\n         pass',\n",
       "  'def func(a, *args, **kwargs:\\n         pass',\n",
       "  'def func(a, *args, **kwargs:\\n    pass',\n",
       "  'func()',\n",
       "  'def func(a, *args, **kwargs:\\n    pass\\n\\nfunc()',\n",
       "  'def func(a, *args, **kwargs):\\n    pass\\n\\nfunc()',\n",
       "  'def func(a, *args, **kwargs):\\n    pass',\n",
       "  'def func(a, *args, **kwargs):\\n    pass\\nfunc()\\nfunc(5)',\n",
       "  'def func(a, *args, **kwargs):\\n    pass\\nfunc()\\nfunc(5)',\n",
       "  'func(5)',\n",
       "  'def func(a, *args, **kwargs):\\n    pass\\nfunc()',\n",
       "  'def func(a, b):\\n    return a + b\\n\\na = 0\\na = func(4, 5)',\n",
       "  'def func(a, b):\\n    return a + b\\n\\na = 0\\na = func(4, 5)\\na',\n",
       "  'def func(a, b):\\n    return\\n\\na = 50\\na = func(4, 5)\\na',\n",
       "  'def func(a, b):\\n    return\\n\\na = 50\\na = func(4, 5)\\nprint(a)',\n",
       "  'def func(a, *args, **kwargs):\\n    print(a)\\n    print(args)\\n    print(kwargs)\\n\\nfunc(5, 1,2,3,4,5, b = 100, c = 200, d = 200)',\n",
       "  'def func(a, *args, **kwargs):\\n    print(a)\\n    print(args)\\n    print(kwargs)\\n\\nfunc(5, b = 100, c = 200, d = 200)',\n",
       "  'func(5)',\n",
       "  'def func(a, *args, **kwargs):\\n    # a는 positional argument, *args & **kwargs는 keyword argument\\n    print(a)\\n    print(*args)\\n    print(**kwargs)\\n\\nfunc(5, b = 100, c = 200, d = 200)\\n# a는 무조건 입력값을 하나 밖에 받지 못한다. 그래서 첫번째를 받고 나면 나머지 입력값은 *args가 받아간다\\n# *args 입력값이 없으면 none을 출력한다.\\n# 순서는 절대로 바꾸면 안된다.',\n",
       "  'def func(a, *args, **kwargs):\\n    # a는 positional argument, *args & **kwargs는 keyword argument\\n    print(a)\\n    print(args)\\n    print(kwargs)\\n\\nfunc(5, b = 100, c = 200, d = 200)\\n# a는 무조건 입력값을 하나 밖에 받지 못한다. 그래서 첫번째를 받고 나면 나머지 입력값은 *args가 받아간다\\n# *args 입력값이 없으면 none을 출력한다.\\n# 순서는 절대로 바꾸면 안된다.',\n",
       "  '# python은 모든 것이 객체(object)\\n    # 다른 언어와 다르게, python은 함수도 객체이기에 삭제 가능\\nprint(func(1, 2))',\n",
       "  'del func',\n",
       "  'func(1, 2)',\n",
       "  '# first-class function\\n    ## 함수를 인자로 전달할 수 있나? 함수를 변환할 수 있나? 함수를 변수에 저장할 수 있나? 다 할 수 있으면 first class function이다\\n\\ndef f(a, b):\\n    return a + b\\n\\ndef g(func, a, b):\\n    return func(a, b)\\n\\ng(f, 5, 6)',\n",
       "  'def adder(a, b):\\n    return a + b\\n\\nvar = adder\\n\\nvar(5,2)',\n",
       "  \"def calc(kind = 'add'):\\n    # 초기값(default value)을 설정했다\\n    \",\n",
       "  \"def calc(kind = 'add'):\\n    # 초기값(default value)을 설정했다\\n    pass\",\n",
       "  \"def calc(kind = 'add'):\\n    # 초기값(default value)을 설정했다\\n    return\",\n",
       "  \"# 'add'라는 인자를 넣으면 두 값을 더하는 함수, 'sub' 인자를 넣으면 a-b를 실행하는 함수를 return하게 만들고 싶다.\\ndef calc(kind = 'add'):\\n    # 초기값(default value)을 설정했다\\n    def add(a, b):\\n        return a + b\\n    def sub(a, b):\\n        return a - b\\n    \\n    if kind == 'add':\\n        return add\\n    elif kind == 'sub':\\n        return sub\\n\\nf = calc(add)\",\n",
       "  '# \\'add\\'라는 인자를 넣으면 두 값을 더하는 함수, \\'sub\\' 인자를 넣으면 a-b를 실행하는 함수를 return하게 만들고 싶다.\\ndef calc(kind = \\'add\\'):\\n    # 초기값(default value)을 설정했다\\n    def add(a, b):\\n        return a + b\\n    def sub(a, b):\\n        return a - b\\n    \\n    if kind == \\'add\\':\\n        return add\\n    elif kind == \\'sub\\':\\n        return sub\\n\\nf = calc(\"add\")',\n",
       "  '# \\'add\\'라는 인자를 넣으면 두 값을 더하는 함수, \\'sub\\' 인자를 넣으면 a-b를 실행하는 함수를 return하게 만들고 싶다.\\ndef calc(kind = \\'add\\'):\\n    # 초기값(default value)을 설정했다\\n    def add(a, b):\\n        return a + b\\n    def sub(a, b):\\n        return a - b\\n    \\n    if kind == \\'add\\':\\n        return add\\n    elif kind == \\'sub\\':\\n        return sub\\n\\nf = calc(\"add\")\\nprint(f(1, 5))',\n",
       "  '# \\'add\\'라는 인자를 넣으면 두 값을 더하는 함수, \\'sub\\' 인자를 넣으면 a-b를 실행하는 함수를 return하게 만들고 싶다.\\ndef calc(kind = \\'add\\'):\\n    # 초기값(default value)을 설정했다\\n    def add(a, b):\\n        return a + b\\n    def sub(a, b):\\n        return a - b\\n    \\n    if kind == \\'add\\':\\n        return add\\n    elif kind == \\'sub\\':\\n        return sub\\n\\nf = calc(\"sub\")\\nf(1, 5)',\n",
       "  'def func(a, b):\\n    return a + b',\n",
       "  '# python에서는 함수마저 객체이다. 그것이 function object다.\\n    # vs. 코드객체 code object\\ndef func(a, b):\\n    return a + b',\n",
       "  'func',\n",
       "  'dir(func)\\n# 객체가 가지고 있는 모든 함수, 메소드 등을 불러낸다',\n",
       "  'func.__globals__'],\n",
       " '_ii': 'func',\n",
       " '_iii': '# python에서는 함수마저 객체이다. 그것이 function object다.\\n    # vs. 코드객체 code object\\ndef func(a, b):\\n    return a + b',\n",
       " '_oh': {30: <code object outer at 0x0000024E0B6CCC90, file \"<ipython-input-28-6749ec4f9e0a>\", line 3>,\n",
       "  38: (),\n",
       "  39: (1, 2, 3, 4, 5),\n",
       "  47: 1,\n",
       "  71: 9,\n",
       "  82: 11,\n",
       "  83: 7,\n",
       "  90: -4,\n",
       "  93: <function __main__.func>,\n",
       "  94: ['__annotations__',\n",
       "   '__call__',\n",
       "   '__class__',\n",
       "   '__closure__',\n",
       "   '__code__',\n",
       "   '__defaults__',\n",
       "   '__delattr__',\n",
       "   '__dict__',\n",
       "   '__dir__',\n",
       "   '__doc__',\n",
       "   '__eq__',\n",
       "   '__format__',\n",
       "   '__ge__',\n",
       "   '__get__',\n",
       "   '__getattribute__',\n",
       "   '__globals__',\n",
       "   '__gt__',\n",
       "   '__hash__',\n",
       "   '__init__',\n",
       "   '__init_subclass__',\n",
       "   '__kwdefaults__',\n",
       "   '__le__',\n",
       "   '__lt__',\n",
       "   '__module__',\n",
       "   '__name__',\n",
       "   '__ne__',\n",
       "   '__new__',\n",
       "   '__qualname__',\n",
       "   '__reduce__',\n",
       "   '__reduce_ex__',\n",
       "   '__repr__',\n",
       "   '__setattr__',\n",
       "   '__sizeof__',\n",
       "   '__str__',\n",
       "   '__subclasshook__']},\n",
       " 'a': None,\n",
       " 'adder': <function __main__.adder>,\n",
       " 'b': [('b', 2), ('c', 3)],\n",
       " 'c': [2, 3, 4, 5],\n",
       " 'calc': <function __main__.calc>,\n",
       " 'code': <code object outer at 0x0000024E0B6CCC90, file \"<ipython-input-28-6749ec4f9e0a>\", line 3>,\n",
       " 'dic': {'a': 1, 'b': 2, 'c': 3},\n",
       " 'exit': <IPython.core.autocall.ZMQExitAutocall at 0x24e0b5b6160>,\n",
       " 'f': <function __main__.calc.<locals>.sub>,\n",
       " 'func': <function __main__.func>,\n",
       " 'g': <function __main__.g>,\n",
       " 'get_ipython': <bound method InteractiveShell.get_ipython of <ipykernel.zmqshell.ZMQInteractiveShell object at 0x0000024E0B561C88>>,\n",
       " 'li': [1, 2, 3, 4, 5],\n",
       " 'outer': <function __main__.outer>,\n",
       " 'quit': <IPython.core.autocall.ZMQExitAutocall at 0x24e0b5b6160>,\n",
       " 'var': <function __main__.adder>,\n",
       " 'x': 0}"
      ]
     },
     "execution_count": 95,
     "metadata": {},
     "output_type": "execute_result"
    }
   ],
   "source": [
    "func.__globals__"
   ]
  },
  {
   "cell_type": "code",
   "execution_count": 96,
   "metadata": {
    "collapsed": true
   },
   "outputs": [],
   "source": [
    "a = 10\n",
    "b = 20\n",
    "c = 30"
   ]
  },
  {
   "cell_type": "code",
   "execution_count": 97,
   "metadata": {
    "collapsed": true
   },
   "outputs": [],
   "source": [
    "def f(a, b):\n",
    "    return a + b"
   ]
  },
  {
   "cell_type": "code",
   "execution_count": 102,
   "metadata": {},
   "outputs": [
    {
     "data": {
      "text/plain": [
       "10"
      ]
     },
     "execution_count": 102,
     "metadata": {},
     "output_type": "execute_result"
    }
   ],
   "source": [
    "f.__globals__['a']\n",
    "# f함수에서 globals 안에 a = 10의 값을 저장하고 있다.\n",
    "    ## 여기서는 dictionary의 key로 value를 불러냈다. globals는 하나의 dictionary이며 모든 함수가 가지고 있다."
   ]
  },
  {
   "cell_type": "code",
   "execution_count": 106,
   "metadata": {},
   "outputs": [
    {
     "name": "stdout",
     "output_type": "stream",
     "text": [
      "10\n"
     ]
    }
   ],
   "source": [
    "def func():\n",
    "    print(a)\n",
    "    \n",
    "func()\n",
    "# 함수를 실행하니까 print(a)를 하려고 하는데, a가 무엇인지 정의하지 않았기에 local variable이 아닐것이라고 짐작하고\n",
    "    #함수의 __globals__에 접근하는데, 거기에 a 값이 있고 그것을 출력한다"
   ]
  },
  {
   "cell_type": "code",
   "execution_count": 107,
   "metadata": {
    "collapsed": true
   },
   "outputs": [],
   "source": [
    "code = func.__code__"
   ]
  },
  {
   "cell_type": "code",
   "execution_count": 108,
   "metadata": {},
   "outputs": [
    {
     "data": {
      "text/plain": [
       "<code object func at 0x0000024E0B73DF60, file \"<ipython-input-106-9cc1c5fe1d96>\", line 1>"
      ]
     },
     "execution_count": 108,
     "metadata": {},
     "output_type": "execute_result"
    }
   ],
   "source": [
    "code"
   ]
  },
  {
   "cell_type": "code",
   "execution_count": 109,
   "metadata": {},
   "outputs": [
    {
     "data": {
      "text/plain": [
       "b't\\x00t\\x01\\x83\\x01\\x01\\x00d\\x00S\\x00'"
      ]
     },
     "execution_count": 109,
     "metadata": {},
     "output_type": "execute_result"
    }
   ],
   "source": [
    "code.co_code\n",
    "# 함수 func에는 __code__라는 code object를 가지고 있고, 그것에는 기계어로 된 code가 담겨져있다"
   ]
  },
  {
   "cell_type": "code",
   "execution_count": 110,
   "metadata": {
    "collapsed": true
   },
   "outputs": [],
   "source": [
    "# function object/code object 정리?????\n",
    "    # ***What is function object & code object?!?!***\n",
    "def func(a, b):\n",
    "    return a + b\n",
    "# 함수를 정의했다\n",
    "## 함수에는 함수보다 상위의 정보를 담고 있는 \"__globals__\" dictionary가 있고,\n",
    "    ## code object는 함수의 instruction을 기계어로 바꿔 놓은 것이다?????"
   ]
  },
  {
   "cell_type": "code",
   "execution_count": 111,
   "metadata": {
    "collapsed": true
   },
   "outputs": [],
   "source": [
    "# Closure\n",
    "    # Many different definitions\n",
    "    # 1. 함수 내 함수를 반환 받아 사용하고 2. free variable이 사용된다 (first class function만 closure가 사용 가능)\n",
    "\n",
    "# 계좌를 만드는 함수\n",
    "def account(m, name):\n",
    "    def add(money):\n",
    "        nonlocal m\n",
    "        m += money\n",
    "        return(m, name)\n",
    "    return add"
   ]
  },
  {
   "cell_type": "code",
   "execution_count": 112,
   "metadata": {
    "collapsed": true
   },
   "outputs": [],
   "source": [
    "my_account = account(1000, \"Greg\")\n",
    "# account(1000, \"Greg\")는 add함수를 return 받아서 add함수를 my_account의 값으로 저장한다.\n",
    "    # 그래서 my_account를 괄호와 입력값 없이 실행하면 \"<function __main__.account.<locals>.add>\"라는 함수 정보가 나온다.\n",
    "        # 반면 my_account(300)을 실행하면 add함수에 300을 넣어서 add함수 만을 실행하여 return 받는 것을 출력한다\n",
    "your_account = account(200, \"Jane\")"
   ]
  },
  {
   "cell_type": "code",
   "execution_count": 113,
   "metadata": {},
   "outputs": [
    {
     "data": {
      "text/plain": [
       "<function __main__.account.<locals>.add>"
      ]
     },
     "execution_count": 113,
     "metadata": {},
     "output_type": "execute_result"
    }
   ],
   "source": [
    "my_account"
   ]
  },
  {
   "cell_type": "code",
   "execution_count": 114,
   "metadata": {},
   "outputs": [
    {
     "data": {
      "text/plain": [
       "False"
      ]
     },
     "execution_count": 114,
     "metadata": {},
     "output_type": "execute_result"
    }
   ],
   "source": [
    "my_account == your_account\n",
    "# 둘 다 add를 return받지만 같지가 않다"
   ]
  },
  {
   "cell_type": "code",
   "execution_count": 115,
   "metadata": {},
   "outputs": [
    {
     "data": {
      "text/plain": [
       "True"
      ]
     },
     "execution_count": 115,
     "metadata": {},
     "output_type": "execute_result"
    }
   ],
   "source": [
    "my_account.__code__ == your_account.__code__\n",
    "# 둘 다 함수를 기계어로 변환한 instruction, 즉 code object가 같다"
   ]
  },
  {
   "cell_type": "code",
   "execution_count": 116,
   "metadata": {},
   "outputs": [
    {
     "data": {
      "text/plain": [
       "(1300, 'Greg')"
      ]
     },
     "execution_count": 116,
     "metadata": {},
     "output_type": "execute_result"
    }
   ],
   "source": [
    "my_account(300)\n",
    "# code object는 같지만 내부정보가 your_account와는 다르다... 차이나는 내부정보가 __closure__에 저장된다"
   ]
  },
  {
   "cell_type": "code",
   "execution_count": 117,
   "metadata": {},
   "outputs": [
    {
     "data": {
      "text/plain": [
       "(-100, 'Jane')"
      ]
     },
     "execution_count": 117,
     "metadata": {},
     "output_type": "execute_result"
    }
   ],
   "source": [
    "your_account(-300)"
   ]
  },
  {
   "cell_type": "code",
   "execution_count": 118,
   "metadata": {},
   "outputs": [
    {
     "data": {
      "text/plain": [
       "1300"
      ]
     },
     "execution_count": 118,
     "metadata": {},
     "output_type": "execute_result"
    }
   ],
   "source": [
    "my_account.__closure__[0].cell_contents"
   ]
  },
  {
   "cell_type": "code",
   "execution_count": 119,
   "metadata": {},
   "outputs": [
    {
     "data": {
      "text/plain": [
       "'Greg'"
      ]
     },
     "execution_count": 119,
     "metadata": {},
     "output_type": "execute_result"
    }
   ],
   "source": [
    "my_account.__closure__[1].cell_contents"
   ]
  },
  {
   "cell_type": "code",
   "execution_count": 120,
   "metadata": {},
   "outputs": [
    {
     "name": "stdout",
     "output_type": "stream",
     "text": [
      "-100\n",
      "Jane\n"
     ]
    }
   ],
   "source": [
    "print(your_account.__closure__[0].cell_contents)\n",
    "print(your_account.__closure__[1].cell_contents)"
   ]
  },
  {
   "cell_type": "code",
   "execution_count": 121,
   "metadata": {},
   "outputs": [
    {
     "data": {
      "text/plain": [
       "('m', 'name')"
      ]
     },
     "execution_count": 121,
     "metadata": {},
     "output_type": "execute_result"
    }
   ],
   "source": [
    "code = my_account.__code__\n",
    "code.co_freevars\n",
    "# my_account라는 변수에 함수를 저장했고, 그래서 함수 취급을 한다. my_account 함수 하위에 __code__라는 함수 등이 있다.\n",
    "    # \"__\"가 앞뒤에 있으면 python에서 예약해놓은 내장함수 or 내장변수를 의미한다.\n",
    "    ## __closure__는 tuple이고 정보가 저장되어있고, __code__에는 초기값이 저장되어있고, 등등"
   ]
  },
  {
   "cell_type": "code",
   "execution_count": 122,
   "metadata": {},
   "outputs": [
    {
     "data": {
      "text/plain": [
       "('m', 'name')"
      ]
     },
     "execution_count": 122,
     "metadata": {},
     "output_type": "execute_result"
    }
   ],
   "source": [
    "your_account.__code__.co_freevars"
   ]
  },
  {
   "cell_type": "code",
   "execution_count": 123,
   "metadata": {},
   "outputs": [
    {
     "data": {
      "text/plain": [
       "(<cell at 0x0000024E0B762108: int object at 0x0000024E0B76E1B0>,\n",
       " <cell at 0x0000024E0B7621F8: str object at 0x0000024E0B72FED8>)"
      ]
     },
     "execution_count": 123,
     "metadata": {},
     "output_type": "execute_result"
    }
   ],
   "source": [
    "my_account.__closure__"
   ]
  },
  {
   "cell_type": "code",
   "execution_count": 126,
   "metadata": {},
   "outputs": [
    {
     "data": {
      "text/plain": [
       "['__class__',\n",
       " '__delattr__',\n",
       " '__dir__',\n",
       " '__doc__',\n",
       " '__eq__',\n",
       " '__format__',\n",
       " '__ge__',\n",
       " '__getattribute__',\n",
       " '__gt__',\n",
       " '__hash__',\n",
       " '__init__',\n",
       " '__init_subclass__',\n",
       " '__le__',\n",
       " '__lt__',\n",
       " '__ne__',\n",
       " '__new__',\n",
       " '__reduce__',\n",
       " '__reduce_ex__',\n",
       " '__repr__',\n",
       " '__setattr__',\n",
       " '__sizeof__',\n",
       " '__str__',\n",
       " '__subclasshook__',\n",
       " 'cell_contents']"
      ]
     },
     "execution_count": 126,
     "metadata": {},
     "output_type": "execute_result"
    }
   ],
   "source": [
    "dir(my_account.__closure__[0])\n",
    "# tuple이니까 indexing으로 접근한다\n",
    "    ## dir()을 이용하여 내부정보 제목들을 명단화해서 불러낸다"
   ]
  },
  {
   "cell_type": "code",
   "execution_count": 127,
   "metadata": {},
   "outputs": [
    {
     "data": {
      "text/plain": [
       "1300"
      ]
     },
     "execution_count": 127,
     "metadata": {},
     "output_type": "execute_result"
    }
   ],
   "source": [
    "my_account.__closure__[0].cell_contents"
   ]
  },
  {
   "cell_type": "code",
   "execution_count": 128,
   "metadata": {
    "collapsed": true
   },
   "outputs": [],
   "source": [
    "# lambda, map, filter, reduce (functional programming의 예)\n",
    "\n",
    "## lambda의 특징\n",
    "    # 1. 익명 1회성 함수 (변수를 받지 않는 이상 다음 줄로 넘어가면 사라진다)\n",
    "    # 2. 자주 사용하지 않을 때 편리 (함수를 정의하면 메모리를 잡아먹기 때문이다)\n",
    "    # 3. 무조건 return을 해야하기 때문에, 문이 아닌 식을 만들어야 한다 (어차피 return할 것이기에 \"return\"을 적지 않는다)"
   ]
  },
  {
   "cell_type": "code",
   "execution_count": 129,
   "metadata": {
    "collapsed": true
   },
   "outputs": [],
   "source": [
    "def adder(a, b):\n",
    "    return a + b"
   ]
  },
  {
   "cell_type": "code",
   "execution_count": 130,
   "metadata": {},
   "outputs": [
    {
     "data": {
      "text/plain": [
       "<function __main__.<lambda>>"
      ]
     },
     "execution_count": 130,
     "metadata": {},
     "output_type": "execute_result"
    }
   ],
   "source": [
    "lambda a, b: a + b"
   ]
  },
  {
   "cell_type": "code",
   "execution_count": 131,
   "metadata": {
    "collapsed": true
   },
   "outputs": [],
   "source": [
    "f = lambda a, b: a + b\n",
    "# f라는 변수를 받으면 lambda는 사라지지 않는다"
   ]
  },
  {
   "cell_type": "code",
   "execution_count": 132,
   "metadata": {},
   "outputs": [
    {
     "data": {
      "text/plain": [
       "6"
      ]
     },
     "execution_count": 132,
     "metadata": {},
     "output_type": "execute_result"
    }
   ],
   "source": [
    "f(1, 5)"
   ]
  },
  {
   "cell_type": "code",
   "execution_count": 133,
   "metadata": {},
   "outputs": [
    {
     "ename": "SyntaxError",
     "evalue": "can't assign to lambda (<ipython-input-133-5ace618576a7>, line 1)",
     "output_type": "error",
     "traceback": [
      "\u001b[1;36m  File \u001b[1;32m\"<ipython-input-133-5ace618576a7>\"\u001b[1;36m, line \u001b[1;32m1\u001b[0m\n\u001b[1;33m    lambda a, b: c = a + b\u001b[0m\n\u001b[1;37m                          ^\u001b[0m\n\u001b[1;31mSyntaxError\u001b[0m\u001b[1;31m:\u001b[0m can't assign to lambda\n"
     ]
    }
   ],
   "source": [
    "lambda a, b: c = a + b\n",
    "# 문이기 때문에 안된다"
   ]
  },
  {
   "cell_type": "code",
   "execution_count": 134,
   "metadata": {},
   "outputs": [
    {
     "data": {
      "text/plain": [
       "<function __main__.<lambda>>"
      ]
     },
     "execution_count": 134,
     "metadata": {},
     "output_type": "execute_result"
    }
   ],
   "source": [
    "f\n",
    "# lambda가 사라지지 않고 변수를 제대로 받았다는 뜻"
   ]
  },
  {
   "cell_type": "code",
   "execution_count": 135,
   "metadata": {
    "collapsed": true
   },
   "outputs": [],
   "source": [
    "li = [1, 2, 3, 4, 5]\n",
    "f = lambda idx: li[idx]\n",
    "# idx는 인덱스 축약한 것"
   ]
  },
  {
   "cell_type": "code",
   "execution_count": 136,
   "metadata": {},
   "outputs": [
    {
     "data": {
      "text/plain": [
       "5"
      ]
     },
     "execution_count": 136,
     "metadata": {},
     "output_type": "execute_result"
    }
   ],
   "source": [
    "f(4)"
   ]
  },
  {
   "cell_type": "code",
   "execution_count": 138,
   "metadata": {
    "collapsed": true
   },
   "outputs": [],
   "source": [
    "li = [i for i in range(1, 101)]"
   ]
  },
  {
   "cell_type": "code",
   "execution_count": 139,
   "metadata": {},
   "outputs": [
    {
     "name": "stdout",
     "output_type": "stream",
     "text": [
      "Help on built-in function sort:\n",
      "\n",
      "sort(...) method of builtins.list instance\n",
      "    L.sort(key=None, reverse=False) -> None -- stable sort *IN PLACE*\n",
      "\n"
     ]
    }
   ],
   "source": [
    "help(li.sort)\n",
    "# 알고보니까 sort에다가 특정 인자를 넣으면 활용할 수 있다"
   ]
  },
  {
   "cell_type": "code",
   "execution_count": 140,
   "metadata": {
    "collapsed": true
   },
   "outputs": [],
   "source": [
    "def pred(a):\n",
    "    return a % 2 == 0"
   ]
  },
  {
   "cell_type": "code",
   "execution_count": 143,
   "metadata": {},
   "outputs": [
    {
     "name": "stdout",
     "output_type": "stream",
     "text": [
      "[1, 3, 5, 7, 9, 11, 13, 15, 17, 19, 21, 23, 25, 27, 29, 31, 33, 35, 37, 39, 41, 43, 45, 47, 49, 51, 53, 55, 57, 59, 61, 63, 65, 67, 69, 71, 73, 75, 77, 79, 81, 83, 85, 87, 89, 91, 93, 95, 97, 99, 2, 4, 6, 8, 10, 12, 14, 16, 18, 20, 22, 24, 26, 28, 30, 32, 34, 36, 38, 40, 42, 44, 46, 48, 50, 52, 54, 56, 58, 60, 62, 64, 66, 68, 70, 72, 74, 76, 78, 80, 82, 84, 86, 88, 90, 92, 94, 96, 98, 100]\n"
     ]
    }
   ],
   "source": [
    "li.sort(key = pred)\n",
    "print(li)"
   ]
  },
  {
   "cell_type": "code",
   "execution_count": 144,
   "metadata": {
    "collapsed": true
   },
   "outputs": [],
   "source": [
    "del pred"
   ]
  },
  {
   "cell_type": "code",
   "execution_count": 146,
   "metadata": {},
   "outputs": [
    {
     "name": "stdout",
     "output_type": "stream",
     "text": [
      "[1, 2, 3, 4, 5, 6, 7, 8, 9, 10, 11, 12, 13, 14, 15, 16, 17, 18, 19, 20, 21, 22, 23, 24, 25, 26, 27, 28, 29, 30, 31, 32, 33, 34, 35, 36, 37, 38, 39, 40, 41, 42, 43, 44, 45, 46, 47, 48, 49, 50, 51, 52, 53, 54, 55, 56, 57, 58, 59, 60, 61, 62, 63, 64, 65, 66, 67, 68, 69, 70, 71, 72, 73, 74, 75, 76, 77, 78, 79, 80, 81, 82, 83, 84, 85, 86, 87, 88, 89, 90, 91, 92, 93, 94, 95, 96, 97, 98, 99, 100]\n"
     ]
    }
   ],
   "source": [
    "li.sort()\n",
    "print(li)"
   ]
  },
  {
   "cell_type": "code",
   "execution_count": 147,
   "metadata": {},
   "outputs": [
    {
     "name": "stdout",
     "output_type": "stream",
     "text": [
      "[1, 3, 5, 7, 9, 11, 13, 15, 17, 19, 21, 23, 25, 27, 29, 31, 33, 35, 37, 39, 41, 43, 45, 47, 49, 51, 53, 55, 57, 59, 61, 63, 65, 67, 69, 71, 73, 75, 77, 79, 81, 83, 85, 87, 89, 91, 93, 95, 97, 99, 2, 4, 6, 8, 10, 12, 14, 16, 18, 20, 22, 24, 26, 28, 30, 32, 34, 36, 38, 40, 42, 44, 46, 48, 50, 52, 54, 56, 58, 60, 62, 64, 66, 68, 70, 72, 74, 76, 78, 80, 82, 84, 86, 88, 90, 92, 94, 96, 98, 100]\n"
     ]
    }
   ],
   "source": [
    "li.sort(key = lambda a: a % 2 == 0)\n",
    "print(li)\n",
    "# False를 먼저 표시하고 True를 나중에 놓는다, 홀수는 false고 짝수는 true다"
   ]
  },
  {
   "cell_type": "code",
   "execution_count": 153,
   "metadata": {},
   "outputs": [
    {
     "name": "stdout",
     "output_type": "stream",
     "text": [
      "[2, 4, 6, 8, 10, 12, 14, 16, 18, 20, 22, 24, 26, 28, 30, 32, 34, 36, 38, 40, 42, 44, 46, 48, 50, 52, 54, 56, 58, 60, 62, 64, 66, 68, 70, 72, 74, 76, 78, 80, 82, 84, 86, 88, 90, 92, 94, 96, 98, 100, 1, 3, 5, 7, 9, 11, 13, 15, 17, 19, 21, 23, 25, 27, 29, 31, 33, 35, 37, 39, 41, 43, 45, 47, 49, 51, 53, 55, 57, 59, 61, 63, 65, 67, 69, 71, 73, 75, 77, 79, 81, 83, 85, 87, 89, 91, 93, 95, 97, 99]\n",
      "[1, 3, 5, 7, 9, 11, 13, 15, 17, 19, 21, 23, 25, 27, 29, 31, 33, 35, 37, 39, 41, 43, 45, 47, 49, 51, 53, 55, 57, 59, 61, 63, 65, 67, 69, 71, 73, 75, 77, 79, 81, 83, 85, 87, 89, 91, 93, 95, 97, 99, 2, 4, 6, 8, 10, 12, 14, 16, 18, 20, 22, 24, 26, 28, 30, 32, 34, 36, 38, 40, 42, 44, 46, 48, 50, 52, 54, 56, 58, 60, 62, 64, 66, 68, 70, 72, 74, 76, 78, 80, 82, 84, 86, 88, 90, 92, 94, 96, 98, 100]\n",
      "[100, 99, 98, 97, 96, 95, 94, 93, 92, 91, 90, 89, 88, 87, 86, 85, 84, 83, 82, 81, 80, 79, 78, 77, 76, 75, 74, 73, 72, 71, 70, 69, 68, 67, 66, 65, 64, 63, 62, 61, 60, 59, 58, 57, 56, 55, 54, 53, 52, 51, 50, 49, 48, 47, 46, 45, 44, 43, 42, 41, 40, 39, 38, 37, 36, 35, 34, 33, 32, 31, 30, 29, 28, 27, 26, 25, 24, 23, 22, 21, 20, 19, 18, 17, 16, 15, 14, 13, 12, 11, 10, 9, 8, 7, 6, 5, 4, 3, 2, 1]\n"
     ]
    }
   ],
   "source": [
    "li.sort(key = lambda a: a % 2 != 0, reverse = False)\n",
    "print(li)\n",
    "\n",
    "li.sort(key = lambda a: a % 2 != 0, reverse = True)\n",
    "print(li)\n",
    "\n",
    "li.sort(reverse = True)\n",
    "print(li)"
   ]
  },
  {
   "cell_type": "code",
   "execution_count": 155,
   "metadata": {},
   "outputs": [
    {
     "name": "stdout",
     "output_type": "stream",
     "text": [
      "[3, 3, 5, 5, 7]\n",
      "[3, 7, 5, 3, 5]\n"
     ]
    }
   ],
   "source": [
    "li = [3, 7, 5, 3, 5]\n",
    "li2 = sorted(li)\n",
    "print(li2)\n",
    "print(li)"
   ]
  },
  {
   "cell_type": "code",
   "execution_count": 2,
   "metadata": {
    "collapsed": true
   },
   "outputs": [],
   "source": [
    "# function을 정의하면 그것이 하나의 function object이 된다\n",
    "# code object는 함수의 내부 함수 중 하나인 __code__ (find by using dir())을 가리키며, code object에는 function의 저장공간 등등의 정보가 2진법으로 저장되있다.\n",
    "# closure는 실체를 가진 함수나 변수 같은 것이 아니라, \"함수처럼 쓸 수 있고 내부정보를 가지고 있는 상태의 함수\"라는 개념이다.\n",
    "    # __closure__가 closure인 것이 아니라, closure 상태의 내부정보를 __closure__에 저장해 놓은 것"
   ]
  }
 ],
 "metadata": {
  "kernelspec": {
   "display_name": "Python 3",
   "language": "python",
   "name": "python3"
  },
  "language_info": {
   "codemirror_mode": {
    "name": "ipython",
    "version": 3
   },
   "file_extension": ".py",
   "mimetype": "text/x-python",
   "name": "python",
   "nbconvert_exporter": "python",
   "pygments_lexer": "ipython3",
   "version": "3.6.1"
  }
 },
 "nbformat": 4,
 "nbformat_minor": 2
}
