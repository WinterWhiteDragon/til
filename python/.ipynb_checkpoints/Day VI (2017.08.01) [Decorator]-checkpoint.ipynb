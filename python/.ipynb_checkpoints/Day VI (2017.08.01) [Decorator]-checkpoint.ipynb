{
 "cells": [
  {
   "cell_type": "code",
   "execution_count": 1,
   "metadata": {
    "collapsed": true
   },
   "outputs": [],
   "source": [
    "# Decorator\n",
    "    # Used when you want to take a function someone else has already defined, and apply it to your own script\n",
    "    # A decorator is a closure"
   ]
  },
  {
   "cell_type": "code",
   "execution_count": 7,
   "metadata": {},
   "outputs": [
    {
     "name": "stdout",
     "output_type": "stream",
     "text": [
      "Things\n",
      "Things\n"
     ]
    },
    {
     "data": {
      "text/plain": [
       "8"
      ]
     },
     "execution_count": 7,
     "metadata": {},
     "output_type": "execute_result"
    }
   ],
   "source": [
    "def outer(func):\n",
    "    def inner(*args, **kwargs):\n",
    "        print(\"Things\")\n",
    "            # \"Things\" is standing in for various function's utilities\n",
    "        return func(*args, **kwargs)\n",
    "    return inner\n",
    "\n",
    "# Adding \"@outer\" at the first line makes this the same as \"adder = outer(adder)\"\n",
    "@outer\n",
    "def adder(a, b):\n",
    "    return a + b\n",
    "\n",
    "adder = outer(adder)\n",
    "    # This adds \"Things\" from outer() to adder()\n",
    "\n",
    "c = adder(5, 3)\n",
    "c"
   ]
  },
  {
   "cell_type": "code",
   "execution_count": 8,
   "metadata": {},
   "outputs": [
    {
     "name": "stdout",
     "output_type": "stream",
     "text": [
      "call number : 1\n",
      "3\n",
      "call number : 2\n",
      "5\n",
      "call number : 3\n",
      "7\n",
      "call number : 4\n",
      "9\n",
      "call number : 5\n",
      "11\n",
      "call number : 6\n",
      "13\n",
      "call number : 7\n",
      "15\n",
      "call number : 8\n",
      "17\n",
      "call number : 9\n",
      "19\n",
      "call number : 10\n",
      "21\n",
      "call number : 11\n",
      "23\n"
     ]
    }
   ],
   "source": [
    "# 추가하고 싶은 기능: 함수를 call (호출) 횟수\n",
    "def call_count(func):\n",
    "    count = 0\n",
    "    def inner_count(*args, **kwargs):\n",
    "        nonlocal count\n",
    "        count += 1\n",
    "        print(\"call number : {}\".format(count))\n",
    "        return func(*args, **kwargs)\n",
    "    return inner_count\n",
    "\n",
    "@call_count\n",
    "def adder(a, b):\n",
    "    return a + b\n",
    "\n",
    "for i in range(11):\n",
    "    a = i + 1\n",
    "    b = i + 2\n",
    "    print(adder(a, b))"
   ]
  },
  {
   "cell_type": "code",
   "execution_count": 22,
   "metadata": {},
   "outputs": [
    {
     "name": "stdout",
     "output_type": "stream",
     "text": [
      "call number : 1\n",
      "elapsed time: 3.01071 sec\n"
     ]
    },
    {
     "data": {
      "text/plain": [
       "9"
      ]
     },
     "execution_count": 22,
     "metadata": {},
     "output_type": "execute_result"
    }
   ],
   "source": [
    "import time\n",
    "\n",
    "\n",
    "def call_count(func):\n",
    "    count = 0\n",
    "    def inner_count(*args, **kwargs):\n",
    "        nonlocal count\n",
    "        count += 1\n",
    "        print(\"call number : {}\".format(count))\n",
    "        return func(*args, **kwargs)\n",
    "    return inner_count\n",
    "\n",
    "def timer(func):\n",
    "    def inner_timer(*args, **kwargs):\n",
    "        start = time.time()\n",
    "        ret = func(*args, **kwargs)\n",
    "        # ret is short for return... we will return what follows ret, but not now, we have other things to execute first\n",
    "        # the reason the func is here, between start and elapsed, is because we want to know how much time it takes to execute func\n",
    "            # ex)\n",
    "                # a = time.time()\n",
    "                # something happens\n",
    "                # elapsed = time.time() - \n",
    "        elapsed = time.time() - start\n",
    "        print('elapsed time: {} sec'.format(round(elapsed, 5)))\n",
    "        return ret\n",
    "    return inner_timer\n",
    "\n",
    "# multiple decorators can be applied at the same time\n",
    "@call_count\n",
    "@timer\n",
    "def adder(a, b):\n",
    "    time.sleep(3)\n",
    "        # time.sleep(n): stop executing for the function for n seconds\n",
    "    return a + b\n",
    "\n",
    "adder(4, 5)"
   ]
  },
  {
   "cell_type": "code",
   "execution_count": 19,
   "metadata": {},
   "outputs": [
    {
     "name": "stdout",
     "output_type": "stream",
     "text": [
      "2.00435209274292\n",
      "2.004\n",
      "1501576134.5551217\n",
      "1501576135.5758772\n",
      "1501576136.5792978\n"
     ]
    }
   ],
   "source": [
    "import time\n",
    "\n",
    "# time.time(): returns the current time since the Epoch, which is 1970년 1월 1일 0시 0분 0초, as a floating point number.\n",
    "start = time.time()\n",
    "time.sleep(2)\n",
    "elapsed = time.time() - start\n",
    "\n",
    "print(elapsed)\n",
    "\n",
    "# round function rounds the number\n",
    "    # ex) round(x, 2)... rounds the number x to the 2nd decimal point\n",
    "print(round(elapsed, 3))\n",
    "\n",
    "print(time.time())\n",
    "time.sleep(1)\n",
    "print(time.time())\n",
    "time.sleep(1)\n",
    "print(time.time())"
   ]
  },
  {
   "cell_type": "code",
   "execution_count": 24,
   "metadata": {},
   "outputs": [
    {
     "name": "stdout",
     "output_type": "stream",
     "text": [
      "inner_timer\n",
      "call number : 1\n",
      "puppy\n",
      "elapsed time: 3.00324 sec\n"
     ]
    },
    {
     "data": {
      "text/plain": [
       "9"
      ]
     },
     "execution_count": 24,
     "metadata": {},
     "output_type": "execute_result"
    }
   ],
   "source": [
    "import time\n",
    "\n",
    "\n",
    "def call_count(func):\n",
    "    count = 0\n",
    "    def inner_count(*args, **kwargs):\n",
    "        print(func.__name__)\n",
    "        nonlocal count\n",
    "        count += 1\n",
    "        print(\"call number : {}\".format(count))\n",
    "        return func(*args, **kwargs)\n",
    "    return inner_count\n",
    "\n",
    "def timer(func):\n",
    "    def inner_timer(*args, **kwargs):\n",
    "        print(func.__name__)\n",
    "        start = time.time()\n",
    "        ret = func(*args, **kwargs)\n",
    "        elapsed = time.time() - start\n",
    "        print('elapsed time: {} sec'.format(round(elapsed, 5)))\n",
    "        return ret\n",
    "    return inner_timer\n",
    "\n",
    "@call_count\n",
    "@timer\n",
    "def puppy (a, b):\n",
    "    time.sleep(3)\n",
    "    return a + b\n",
    "\n",
    "puppy(5, 4)\n",
    "# the function puppy was used as func for timer, and the function inner_timer was used as func for call_count"
   ]
  },
  {
   "cell_type": "code",
   "execution_count": 26,
   "metadata": {},
   "outputs": [
    {
     "name": "stdout",
     "output_type": "stream",
     "text": [
      "puppy\n",
      "call number : 1\n",
      "puppy\n",
      "elapsed time: 3.00001 sec\n"
     ]
    },
    {
     "data": {
      "text/plain": [
       "9"
      ]
     },
     "execution_count": 26,
     "metadata": {},
     "output_type": "execute_result"
    }
   ],
   "source": [
    "# How to fix the above problem?\n",
    "\n",
    "    # import the function wraps from the library functools\n",
    "            ## add \"@wraps(func)\" right under the first line defining the outer function\n",
    "\n",
    "from functools import wraps\n",
    "\n",
    "import time\n",
    "\n",
    "\n",
    "def call_count(func):\n",
    "    count = 0\n",
    "    @wraps(func)\n",
    "    def inner_count(*args, **kwargs):\n",
    "        print(func.__name__)\n",
    "        nonlocal count\n",
    "        count += 1\n",
    "        print(\"call number : {}\".format(count))\n",
    "        return func(*args, **kwargs)\n",
    "    return inner_count\n",
    "\n",
    "def timer(func):\n",
    "    @wraps(func)\n",
    "    def inner_timer(*args, **kwargs):\n",
    "        # 여기서 *args, **kwargs는 가변인자라고 정의하는 것이다.\n",
    "        print(func.__name__)\n",
    "        start = time.time()\n",
    "        ret = func(*args, **kwargs)\n",
    "        # 여기서 *args, **kwargs는 unpacking하는 것이다... \n",
    "            # 이 특정 예시에서 입력값 5와 4는 *args에 들어가고 **kwargs는 빈 dictionary다\n",
    "                # 여기서는 positional argument가 없기 때문에, *args와 **kwargs 둘 다 비었어도 실행이된다\n",
    "        elapsed = time.time() - start\n",
    "        print('elapsed time: {} sec'.format(round(elapsed, 5)))\n",
    "        return ret\n",
    "    return inner_timer\n",
    "\n",
    "@call_count\n",
    "@timer\n",
    "def puppy (a, b):\n",
    "    time.sleep(3)\n",
    "    return a + b\n",
    "\n",
    "puppy(5, 4)\n",
    "# the function puppy is inside the func timer, and the combined function timer-puppy is inside the function call_count\n",
    "# the actual execution occurs in sequence, call_count first, then timer, then puppy...\n",
    "        # puppy's actual \"a + b\" calculation occurs in the puppy function, at the very end"
   ]
  },
  {
   "cell_type": "code",
   "execution_count": null,
   "metadata": {
    "collapsed": true
   },
   "outputs": [],
   "source": []
  }
 ],
 "metadata": {
  "kernelspec": {
   "display_name": "Python 3",
   "language": "python",
   "name": "python3"
  },
  "language_info": {
   "codemirror_mode": {
    "name": "ipython",
    "version": 3
   },
   "file_extension": ".py",
   "mimetype": "text/x-python",
   "name": "python",
   "nbconvert_exporter": "python",
   "pygments_lexer": "ipython3",
   "version": "3.6.1"
  }
 },
 "nbformat": 4,
 "nbformat_minor": 2
}
