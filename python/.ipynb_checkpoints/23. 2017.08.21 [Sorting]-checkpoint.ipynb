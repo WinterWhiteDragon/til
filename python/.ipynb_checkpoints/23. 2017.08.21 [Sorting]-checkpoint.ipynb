{
 "cells": [
  {
   "cell_type": "code",
   "execution_count": 1,
   "metadata": {},
   "outputs": [],
   "source": [
    "# BUBBLE SORT"
   ]
  },
  {
   "cell_type": "code",
   "execution_count": 2,
   "metadata": {
    "collapsed": true
   },
   "outputs": [],
   "source": [
    "# data를 list로 만든다\n",
    "# return은 None을 반환한다\n",
    "def bubble_sort(data):\n",
    "    G = len(data) - 1\n",
    "    for H in range(len(data) - 1):\n",
    "        for E in range(G):\n",
    "            if data[E] > data[E+1]:\n",
    "                temp_data = data[E]\n",
    "                data[E] = data[E+1]\n",
    "                data[E+1] = temp_data\n",
    "        G = G - 1\n",
    "        \n",
    "# It works, and the principles are the same. That's good enough"
   ]
  },
  {
   "cell_type": "code",
   "execution_count": 3,
   "metadata": {},
   "outputs": [
    {
     "name": "stdout",
     "output_type": "stream",
     "text": [
      "[1, 2, 2, 3, 3, 4, 5, 6, 7, 8, 8, 10]\n"
     ]
    }
   ],
   "source": [
    "if __name__ == \"__main__\":\n",
    "    li = [2, 3, 5, 2, 3, 8, 6, 7, 10, 8, 1, 4]\n",
    "    bubble_sort(li)\n",
    "    print(li)"
   ]
  },
  {
   "cell_type": "code",
   "execution_count": 4,
   "metadata": {},
   "outputs": [
    {
     "data": {
      "text/plain": [
       "12"
      ]
     },
     "execution_count": 4,
     "metadata": {},
     "output_type": "execute_result"
    }
   ],
   "source": [
    "len(li)"
   ]
  },
  {
   "cell_type": "code",
   "execution_count": 5,
   "metadata": {
    "collapsed": true
   },
   "outputs": [],
   "source": [
    "# 강사의 모범답안\n",
    "def bubble_sort(data):\n",
    "    n = len(data)\n",
    "    for i in range(n-1):\n",
    "        for j in range(n-i-1):\n",
    "            if data[j] > data[j+1]:\n",
    "                data[j], data[j+1] = data[j+1], data[j]"
   ]
  },
  {
   "cell_type": "code",
   "execution_count": null,
   "metadata": {
    "collapsed": true
   },
   "outputs": [],
   "source": [
    "# QUICK SORT"
   ]
  },
  {
   "cell_type": "code",
   "execution_count": null,
   "metadata": {
    "collapsed": true
   },
   "outputs": [],
   "source": []
  }
 ],
 "metadata": {
  "kernelspec": {
   "display_name": "Python 3",
   "language": "python",
   "name": "python3"
  },
  "language_info": {
   "codemirror_mode": {
    "name": "ipython",
    "version": 3
   },
   "file_extension": ".py",
   "mimetype": "text/x-python",
   "name": "python",
   "nbconvert_exporter": "python",
   "pygments_lexer": "ipython3",
   "version": "3.6.1"
  }
 },
 "nbformat": 4,
 "nbformat_minor": 2
}
