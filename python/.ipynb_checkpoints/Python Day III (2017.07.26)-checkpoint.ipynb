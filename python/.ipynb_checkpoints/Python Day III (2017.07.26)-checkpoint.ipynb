{
 "cells": [
  {
   "cell_type": "code",
   "execution_count": 2,
   "metadata": {},
   "outputs": [
    {
     "name": "stdout",
     "output_type": "stream",
     "text": [
      "Stay:  339\n",
      "Switch:  661\n"
     ]
    }
   ],
   "source": [
    "# IF YOU RUN THE PROGRAM WITH SHIFT+ENTER BUT THE PROGRAM GETS STUCK RUNNING (AN * SHOWS UP IN THE BRACKETS TO THE LEFT)\n",
    "        ## TRY TO INTERRUPT THE KERNEL WITH THE PAUSE BUTTON ABOVE\n",
    "                ### IF INTERRUPT FAILS, GO TO KERNEL AND CHOOSE \"RESTART & CLEAR OUTPUT\"\n",
    "\n",
    "\n",
    "# *** MONTY HALL PROBLEM ***\n",
    "\n",
    "import random\n",
    "# random library를 import하여 사용하겠다는 뜻\n",
    "\n",
    "stay = 0\n",
    "switch = 0\n",
    "# stay & switch 변수를 사용하기 전 초기화\n",
    "\n",
    "for it in range(1000):\n",
    "# range(3,100)는 3~99까지 차례로 반복하라는 뜻\n",
    "# range(1000)는 0~1000까지 차례로 반복하라는 뜻\n",
    "    doors = [1, 0, 0]\n",
    "    random.shuffle(doors)\n",
    "    \n",
    "    choice = random.randrange(3)\n",
    "    # randrange(3)은 0~2까지 index 번호가 랜덤하게 뽑아서 choice 변수의 값으로 저장하라는 뜻\n",
    "    \n",
    "    user = doors[choice]\n",
    "    # 여기서 []는 indexing하라는 뜻... choice 값을 doors의 indexing key으로 보고, 그 key에 해당하는 index를 뽑아 user변수에 저장하라는 뜻.\n",
    "    \n",
    "    if user == 1:\n",
    "    # \"if doors(random.randrange(3)) == 1:\"라고 한 줄로 압축해서 표현해도 된다... 성능상 차이는 없다\n",
    "        stay += 1\n",
    "        # (stay += 1) == (stay = stay + 1)\n",
    "    else:\n",
    "        switch += 1\n",
    "        \n",
    "print(\"Stay: %4d\" % stay)\n",
    "print(\"Switch: %4d\" % switch)\n",
    "    # print(\"I have a %s, I have an %s.\" % (\"pen\",\"apple\")) vs. print(\"Stay: %4d\" % stay)\n",
    "        ## %를 이용하여 입력하는 것이 2개 이상이기에 ()를 사용, 1개만 입력하면 괄호 없이 사용\n",
    "\n",
    "\n",
    "# The point of this exercise was not to see if I could create this script,\n",
    "                                ## but to exercise mathematical thinking, logical thinking, etc."
   ]
  },
  {
   "cell_type": "code",
   "execution_count": 32,
   "metadata": {},
   "outputs": [
    {
     "name": "stdout",
     "output_type": "stream",
     "text": [
      "Give me two numbers separated by a blank: 14 5\n",
      "<class 'list'>\n",
      "<class 'str'>\n",
      "  14       5 struck.\n",
      "   7      10 keep.\n",
      "   3      20 keep.\n",
      "   1      40 keep.\n",
      "The result is  70\n"
     ]
    }
   ],
   "source": [
    "numbers = str(input(\"Give me two numbers separated by a blank: \")).split()\n",
    "    # input()를 사용하면 자동으로 str화 시키기 때문에 굳이 str() 사용할 필요가 없다.\n",
    "    # str()를 사용하고 첨부터 int()를 사용하면 안되는 이유는, \"5 5\"처럼 숫자 2개를 동시에 입력하면 이것이 int화하지 못하기 때문이다.\n",
    "print(type(numbers))\n",
    "print(type(numbers[0]))\n",
    "    # 이런 상황에서 헷갈리면 print(type())로 자료형을 확인하면된다\n",
    "\n",
    "result = 0\n",
    "num1 = int(numbers[0])\n",
    "        # int()는 string을 integer로 변환하는 기능으로 사용되기에,\n",
    "            ## float를 입력한다면 float의 모습을 한 string이기 때문에 int()가 이해를 못하고 오류난다\n",
    "num2 = int(numbers[1])\n",
    "\n",
    "while num1 >= 1:\n",
    "    if num1 % 2 == 0:\n",
    "        print(\"%4d %7d struck.\" % (num1, num2))\n",
    "        # %4d는 4칸을 고정하고 오른쪽으로 정렬하고,\n",
    "            ## %7d는 앞서 사용한 4칸을 제외하고 거기서 오른쪽으로 또 7칸을 고정하고 오른쪽으로 정렬하라는 뜻.\n",
    "    else:\n",
    "        print(\"%4d %7d keep.\" % (num1, num2))\n",
    "        result += num2\n",
    "    \n",
    "    num1 = num1 // 2\n",
    "    # \"//\"라고 하지 않고 \"/\"라고 하면 짝수가 나와도 keep해버림.\n",
    "    num2 = num2 * 2\n",
    "\n",
    "print(\"The result is \", result)"
   ]
  },
  {
   "cell_type": "code",
   "execution_count": 14,
   "metadata": {},
   "outputs": [
    {
     "name": "stdout",
     "output_type": "stream",
     "text": [
      "6 6.333333333333333\n",
      "<class 'int'> <class 'float'>\n"
     ]
    }
   ],
   "source": [
    "n1 = 19//3 # 정수, 소수점을 입력하더라도 소수점을 폐기하고 정수만 남긴다\n",
    "n2 = 19/3 # 소수점\n",
    "\n",
    "print(n1, n2)\n",
    "print(type(n1), type(n2))"
   ]
  },
  {
   "cell_type": "code",
   "execution_count": 21,
   "metadata": {},
   "outputs": [
    {
     "name": "stdout",
     "output_type": "stream",
     "text": [
      "('F', 'a', 's', 't', 'C', 'a', 'm', 'p', 'u', 's')\n"
     ]
    }
   ],
   "source": [
    "turn_list_into_tuple = tuple(\",\".join('FastCampus').split(\",\"))\n",
    "print(turn_list_into_tuple)"
   ]
  },
  {
   "cell_type": "code",
   "execution_count": 30,
   "metadata": {},
   "outputs": [
    {
     "name": "stdout",
     "output_type": "stream",
     "text": [
      "0\n",
      "1\n",
      "2\n",
      "3\n",
      "4\n",
      "0\n",
      "1\n",
      "2\n",
      "3\n",
      "4\n"
     ]
    }
   ],
   "source": [
    "# range(0,100)와 range(100)는 같은 것, 숫자 앞에 \"0, \"가 있지만 보이지 않는 것.\n",
    "for n1 in range(5):\n",
    "    print(n1)\n",
    "\n",
    "for n2 in range(0, 5):\n",
    "    print(n2)"
   ]
  },
  {
   "cell_type": "code",
   "execution_count": 51,
   "metadata": {},
   "outputs": [
    {
     "name": "stdout",
     "output_type": "stream",
     "text": [
      "100\n",
      "dict_keys(['Math', 'Physics', 'Psychology', 'Korean'])\n",
      "dict_values([100, 100, 50, 100])\n",
      "dict_items([('Math', 100), ('Physics', 100), ('Psychology', 50), ('Korean', 100)])\n"
     ]
    }
   ],
   "source": [
    "# Dictionaries\n",
    "\n",
    "dict1 = {}\n",
    "    # \"{}\"로 새로운 빈 dictionary를 생성\n",
    "\n",
    "dict1 = {'English':100, 'Math':100, 'Physics':100, 'Psychology':50}\n",
    "    # key & value를 같이 한 요소라고 하고, 요소와 요소는 \",\"로 구분\n",
    "        ## 요소 안에서 key & value는 \":\"로 구분\n",
    "\n",
    "# 이렇게 여러줄에 걸쳐서 나타낼 수도 있다\n",
    "# dict1 = {\n",
    "# 'English':100,\n",
    "# 'Math':100,\n",
    "# 'Physics':100,\n",
    "# 'Psychology':50\n",
    "# }\n",
    "\n",
    "dict1['Korean'] = 100\n",
    "    # \"['']를 이용하여 dictionary에 key & value를 추가\n",
    "    # Dictionary에 추가할 때 어디로 추가되는지는 랜덤이며 무의미하다\n",
    "        \n",
    "del dict1['English']\n",
    "    # del로는 한번에 한 개 key 밖에 지우지 못한다. 그리고 key가 없어지면 value도 없어진다.\n",
    "    # 한번에 2개 이상의 key를 지우려면 다른 방법이 필요하다.\n",
    "\n",
    "print(dict1['Math'])\n",
    "print(dict1.keys())\n",
    "print(dict1.values())\n",
    "print(dict1.items())\n",
    "    # \"<dictionary>.items\"가 tuple로 출력되는 이유는, key & value 쌍이 고정돼있기 때문이다.\n"
   ]
  },
  {
   "cell_type": "code",
   "execution_count": 58,
   "metadata": {},
   "outputs": [
    {
     "name": "stdout",
     "output_type": "stream",
     "text": [
      "{'pineappple', 'apple', 'pen'}\n",
      "True\n",
      "False\n"
     ]
    }
   ],
   "source": [
    "# Set\n",
    "    # 집합은 요소가 unique해야 한다… 중복되는 것이 있으면 안된다\n",
    "        # A = ‘fastcampus’\n",
    "        # B = ‘python’\n",
    "        # A U B = f, a, s, t, c, m, p, u, y, h, o, n\n",
    "        # A ∩ B = p, t\n",
    "        # A — B = f, a, s, c, m, u\n",
    "        # A Δ B = f, a, s, c, m, u, y, h, o, n\n",
    "            #  A Δ B = A U B - A ∩ B\n",
    "    # 이런 계산을 간단하게 할 수 있게 지원해주는 것이 set\n",
    "\n",
    "ppap = {'pen', 'apple', 'pineappple', 'pen', 'apple'}\n",
    "    # Dictionary와 비슷하게 \"{}\"로 생성하지만, key가 없으면 Set이 된다\n",
    "print(ppap)\n",
    "    # Set은 출력할 때 자동으로 중복되는 요소를 빼고 출력한다... print를 사용하지 않아도 중복되는 요소를 빼고 보여준다\n",
    "\n",
    "print('apple' in ppap)\n",
    "print('applepen' in ppap)\n"
   ]
  },
  {
   "cell_type": "code",
   "execution_count": 60,
   "metadata": {},
   "outputs": [
    {
     "data": {
      "text/plain": [
       "{'a', 'e', 'i', 'l', 'n', 'p'}"
      ]
     },
     "execution_count": 60,
     "metadata": {},
     "output_type": "execute_result"
    }
   ],
   "source": [
    "pineapple = set('pineapple')\n",
    "pineapple\n",
    "    # 입력한 값을 문자별로 분해해서 Set으로 만들고, 중복되는 것은 빼고 나머지는 alphabet순으로 정렬한다"
   ]
  },
  {
   "cell_type": "code",
   "execution_count": 63,
   "metadata": {},
   "outputs": [
    {
     "name": "stdout",
     "output_type": "stream",
     "text": [
      "{'t', 'a', 's', 'u', 'p', 'f', 'c', 'm'} {'t', 'h', 'o', 'y', 'p', 'n'}\n",
      "{'t', 'h', 'u', 'y', 'n', 'a', 's', 'o', 'p', 'f', 'c', 'm'}\n",
      "{'t', 'p'}\n",
      "{'a', 's', 'u', 'f', 'c', 'm'}\n",
      "{'a', 'h', 'o', 's', 'u', 'y', 'f', 'c', 'm', 'n'}\n"
     ]
    }
   ],
   "source": [
    "A = set('fastcampus')\n",
    "B = set('python')\n",
    "print(A, B)\n",
    "\n",
    "print(A | B)\n",
    "    # \"|\"는 pipeline이라고 부른다\n",
    "print(A & B)\n",
    "print(A - B)\n",
    "print(A ^ B)\n",
    "    # \"^\"는 caret 혹은 껵쇠라고 부른다"
   ]
  },
  {
   "cell_type": "code",
   "execution_count": null,
   "metadata": {
    "collapsed": true
   },
   "outputs": [],
   "source": [
    "#*** Incomplete\n",
    "\n",
    "# Numguess Mark 2\n",
    "\n",
    "    # \"Refactoring\"이란 스크립트을 더 개선하는 것을 의미\n",
    "\n",
    "import random\n",
    "\n",
    "\n",
    "answer = random.randint(1,100+1)\n",
    "username = input(\"Hi there, what's your name? \")\n",
    "\n",
    "while True:\n",
    "    guess = eval(input(\"Welcome to this game, %s, guess the number please, an integer and nothing else!!! So? Your guess? \" % (username)))    \n",
    "\n",
    "    if answer == guess:\n",
    "        print(\"Congratulations, \" + username + \", you were right! The answer is \" + str(answer) + \". You are a genius!\")\n",
    "    else:\n",
    "        print(\"EEEEEEEEEEENG! Try again!!\" % (username))"
   ]
  },
  {
   "cell_type": "code",
   "execution_count": null,
   "metadata": {
    "collapsed": true
   },
   "outputs": [],
   "source": [
    "#*** Incomplete\n",
    "\n",
    "# Numguess Mark 2\n",
    "    ## 프로그램을 개발할 때, 먼저 무한반복하게 만들고, 그 다음에 감소하게 만든다 (\"trial = 5\"를 추가하듯이)\n",
    "import random\n",
    "\n",
    "\n",
    "answer = random.randint(1,100+1)\n",
    "username = input(\"Hi there, what's your name? \")\n",
    "trial = 5\n",
    "while trial:\n",
    "    guess = eval(input(\"Welcome to this game, %s, guess the number please, an integer and nothing else!!! So? Your guess? \" % (username)))    \n",
    "\n",
    "    if answer == guess:\n",
    "        print(\"Congratulations, \" + username + \", you were right! The answer is \" + str(answer) + \". You are a genius!\")\n",
    "    elif guess > answer:\n",
    "        trial -= 1\n",
    "            # (trial -= 1) == (trial = trial - 1)\n",
    "        print(\"Too high!! Try again!! You have %d tries left!\" % (username))\n",
    "\n",
    "if trial == 0 "
   ]
  },
  {
   "cell_type": "code",
   "execution_count": 13,
   "metadata": {},
   "outputs": [
    {
     "name": "stdout",
     "output_type": "stream",
     "text": [
      "1\n",
      "2\n",
      "3\n",
      "4\n",
      "5\n",
      "6\n",
      "7\n",
      "8\n",
      "9\n",
      "4\n"
     ]
    }
   ],
   "source": [
    "import random\n",
    "\n",
    "for n1 in range(1, 10):\n",
    "    print(n1)\n",
    "\n",
    "n2 = random.randint(1, 10)\n",
    "print(n2)"
   ]
  },
  {
   "cell_type": "code",
   "execution_count": 4,
   "metadata": {},
   "outputs": [
    {
     "name": "stdout",
     "output_type": "stream",
     "text": [
      "[2, 4, 6, 8, 10]\n",
      "[2, 4, 6, 8, 10]\n"
     ]
    }
   ],
   "source": [
    "# List Comprehension\n",
    "\n",
    "    ## Set Comprehension, Dictionary Comprehension도 원리와 수식은 List Comprehension과 똑같다...\n",
    "            ## 문자열이 더해지지는 못해도 곱할 수는 있다 (ex) \"helloworld\" x 100 = \"helloworld ......\")\n",
    "\n",
    "# Old-fashioned way of doubling the value of list A and storing the new value in list B\n",
    "old_list = [1, 2, 3, 4, 5,]\n",
    "    # 마지막에 \",\"를 넣은 이유는 dictionary로 만들어 여러줄에 걸치도록 분리하면 필요하기 때문...\n",
    "        ## 어차피 \",\" 뒤에 아무것도 없기에 자동으로 끝남\n",
    "\n",
    "doubled_list = []\n",
    "for puppy in old_list:\n",
    "    doubled_list.append(puppy * 2)\n",
    "print(doubled_list)\n",
    "\n",
    "# List comprehension method of coming up with the same result\n",
    "_2nd_doubled_list = [puppy * 2 for puppy in old_list]\n",
    "print(_2nd_doubled_list)"
   ]
  },
  {
   "cell_type": "code",
   "execution_count": 15,
   "metadata": {},
   "outputs": [
    {
     "name": "stdout",
     "output_type": "stream",
     "text": [
      "[4, 8]\n",
      "[4, 8]\n"
     ]
    }
   ],
   "source": [
    "doubled_list_2 = []\n",
    "for dragon in old_list:\n",
    "    if dragon % 2 == 0:\n",
    "        doubled_list_2.append(dragon * 2)\n",
    "print(doubled_list_2)\n",
    "\n",
    "_2nd_doubled_list_2 = [dragon * 2 for dragon in old_list if dragon % 2 ==0]\n",
    "print(_2nd_doubled_list_2)"
   ]
  },
  {
   "cell_type": "code",
   "execution_count": 16,
   "metadata": {},
   "outputs": [
    {
     "name": "stdout",
     "output_type": "stream",
     "text": [
      "[2, 4, 6, 8, 10]\n",
      "[2, 4, 6, 8, 10]\n",
      "[4, 8]\n",
      "[4, 8]\n"
     ]
    }
   ],
   "source": [
    "print(doubled_list)\n",
    "print(_2nd_doubled_list)\n",
    "print(doubled_list_2)\n",
    "print(_2nd_doubled_list_2)"
   ]
  },
  {
   "cell_type": "code",
   "execution_count": 37,
   "metadata": {},
   "outputs": [
    {
     "ename": "SyntaxError",
     "evalue": "invalid syntax (<ipython-input-37-e1a7888f4b15>, line 12)",
     "output_type": "error",
     "traceback": [
      "\u001b[1;36m  File \u001b[1;32m\"<ipython-input-37-e1a7888f4b15>\"\u001b[1;36m, line \u001b[1;32m12\u001b[0m\n\u001b[1;33m    FizzBuzz_Mod_2 = [\"FizzBuzz\" for namer in range(1, 100+1) if namer % 15 == 0,\u001b[0m\n\u001b[1;37m                                                                                ^\u001b[0m\n\u001b[1;31mSyntaxError\u001b[0m\u001b[1;31m:\u001b[0m invalid syntax\n"
     ]
    }
   ],
   "source": [
    "# for namer in range(1, 100+1):\n",
    "# if namer % 15 == 0:\n",
    "#         print(\"fizzbuzz\")\n",
    "#     elif namer % 3 == 0:\n",
    "#         print(\"fizz\")\n",
    "#     elif namer % 5 == 0:\n",
    "#         print(\"buzz\")\n",
    "#     else:\n",
    "#         print(str(namer))\n",
    "\n",
    "\n",
    "FizzBuzz_Mod_2 = [\"FizzBuzz\" for namer in range(1, 100+1) if namer % 15 == 0,\n",
    "                 \"Fizz\" for namer in range(1, 100+1) if namer % 3 == 0,\n",
    "                 \"Buzz\" for namer in range(1, 100+1) if namer % 5 == 0,\n",
    "                 str(namer)]\n",
    "FizzBuzz_Mod_2"
   ]
  },
  {
   "cell_type": "code",
   "execution_count": 57,
   "metadata": {},
   "outputs": [
    {
     "name": "stdout",
     "output_type": "stream",
     "text": [
      "[1, 2, 'Fizz', 4, 'Buzz', 'Fizz', 7, 8, 'Fizz', 'Buzz', 11, 'Fizz', 13, 14, 'FizzBuzz', 16, 17, 'Fizz', 19, 'Buzz', 'Fizz', 22, 23, 'Fizz', 'Buzz', 26, 'Fizz', 28, 29, 'FizzBuzz', 31, 32, 'Fizz', 34, 'Buzz', 'Fizz', 37, 38, 'Fizz', 'Buzz', 41, 'Fizz', 43, 44, 'FizzBuzz', 46, 47, 'Fizz', 49, 'Buzz', 'Fizz', 52, 53, 'Fizz', 'Buzz', 56, 'Fizz', 58, 59, 'FizzBuzz', 61, 62, 'Fizz', 64, 'Buzz', 'Fizz', 67, 68, 'Fizz', 'Buzz', 71, 'Fizz', 73, 74, 'FizzBuzz', 76, 77, 'Fizz', 79, 'Buzz', 'Fizz', 82, 83, 'Fizz', 'Buzz', 86, 'Fizz', 88, 89, 'FizzBuzz', 91, 92, 'Fizz', 94, 'Buzz', 'Fizz', 97, 98, 'Fizz', 'Buzz']\n"
     ]
    }
   ],
   "source": [
    "# THIS IS THE FIZZBUZZ I MADE YESTERDAY, THE VERY PRIMITIVE VERSION\n",
    "# for namer in range(1, 100+1):\n",
    "# if namer % 15 == 0:\n",
    "#         print(\"fizzbuzz\")\n",
    "#     elif namer % 3 == 0:\n",
    "#         print(\"fizz\")\n",
    "#     elif namer % 5 == 0:\n",
    "#         print(\"buzz\")\n",
    "#     else:\n",
    "#         print(str(namer))\n",
    "\n",
    "# THIS WORKS, IT'S A SIMPLER VERSION OF THE ABOVE FROM WHICH THE DATA FOR FIZZBUZZ_MOD_3 COMES\n",
    "# for namer in range(1, 100+1):\n",
    "#     if namer % 3 == 0 or namer % 5 == 0:\n",
    "#         print(\"fizz\" * (namer % 3 == 0) + \"buzz\" * (namer % 5 ==0))\n",
    "#     else:\n",
    "#         print(namer)\n",
    "    \n",
    "# THIS WORKS TOO, AN EVEN SIMPLER VERSION OF THE ABOVE EQUATION\n",
    "# for namer in range(1, 100+1):\n",
    "#         print((\"fizz\" * (namer % 3 == 0) + \"buzz\" * (namer % 5 ==0)) or namer)\n",
    "\n",
    "FizzBuzz_Mod_3 = [\"Fizz\" * (namer % 3 == 0) + \"Buzz\" * (namer % 5 == 0) or namer for namer in range(1, 100+1)]\n",
    "    # OR: False or True는 True가 된다\n",
    "        ## \"Fizz\" * (True)라면 True가 되기 때문에 출력이된다\n",
    "            ### [{\"Fizz\" * (False)} + {\"Buzz\" * (False)}] or {True == i} 라면 False or True가 되기 때문에 True가 된다\n",
    "            ### 앞에 Fizz나 Buzz가 True가 되면 거기서 끝나기에 \"or i\"가 실행되지 않는다\n",
    "print(FizzBuzz_Mod_3)"
   ]
  },
  {
   "cell_type": "code",
   "execution_count": null,
   "metadata": {
    "collapsed": true
   },
   "outputs": [],
   "source": []
  }
 ],
 "metadata": {
  "kernelspec": {
   "display_name": "Python 3",
   "language": "python",
   "name": "python3"
  },
  "language_info": {
   "codemirror_mode": {
    "name": "ipython",
    "version": 3
   },
   "file_extension": ".py",
   "mimetype": "text/x-python",
   "name": "python",
   "nbconvert_exporter": "python",
   "pygments_lexer": "ipython3",
   "version": "3.6.1"
  }
 },
 "nbformat": 4,
 "nbformat_minor": 2
}
