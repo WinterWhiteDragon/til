{
 "cells": [
  {
   "cell_type": "code",
   "execution_count": 1,
   "metadata": {
    "collapsed": true
   },
   "outputs": [],
   "source": [
    "class TreeNode:\n",
    "    def __init__(self):\n",
    "        self._data = None\n",
    "        self.left = None\n",
    "            # node's left child node\n",
    "        self.right = None\n",
    "            # node's right child node\n",
    "    \n",
    "    def __del__(self):\n",
    "        print('TreeNode of {} is deleted!'.format(self._data))\n",
    "    \n",
    "    # 제대로 encapsulation하려면 _data 외에도 left, right을 아래와 같이 처리해야 한다\n",
    "        # 여기서는 property를 사용할 수 있다는 것을 보어주기 위해\n",
    "    @property\n",
    "    def data(self):\n",
    "        return self._data\n",
    "    \n",
    "    @data.setter\n",
    "    def data(self, data):\n",
    "        self._data = data"
   ]
  },
  {
   "cell_type": "code",
   "execution_count": 2,
   "metadata": {
    "collapsed": true
   },
   "outputs": [],
   "source": [
    "# Binary Tree -> 기능만 모아둔 클래스\n",
    "class BinaryTree:\n",
    "    def __init__(self):\n",
    "        self.root = None\n",
    "    \n",
    "    def get_root(self):\n",
    "        return self.root\n",
    "    \n",
    "    def set_root(self, r):\n",
    "        # \"r\"은 새 루트로 지정할 노드\n",
    "        self.root = r\n",
    "        \n",
    "    def make_node(self):\n",
    "        # TreeNode 클래스를 만들었는데 굳이 BinaryTree 안에서 TreeNode를 호출할 필요가 있나?\n",
    "            # OOP의 특징으로, tree에 관련된 모든 업무를 BinaryTree에 위임하기에 아래와 같이 한다.\n",
    "        return TreeNode()\n",
    "    \n",
    "    def get_node_data(self, cur):\n",
    "        return cur.data\n",
    "    \n",
    "    def set_node_data(self, cur, data):\n",
    "        # get이 있으면 set이 있어야 한다\n",
    "        cur.data = data\n",
    "        \n",
    "    def get_left_sub_tree(self, cur):\n",
    "        # current가 가리키는 node 기준으로, 왼쪽 자식노드를 반환한다\n",
    "        return cur.left\n",
    "    \n",
    "    def get_right_sub_tree(self, cur):\n",
    "        return cur.right\n",
    "    \n",
    "    def make_left_sub_tree(self, cur, left):\n",
    "        cur.left = left\n",
    "    \n",
    "    def make_right_sub_tree(self, cur, right):\n",
    "        cur.right = right\n",
    "        \n",
    "    # 전위 순회 함수\n",
    "        # recursive하기에 탈출조건이 필요\n",
    "    def preorder_traverse(self, cur, func):\n",
    "        # 탈출 조건\n",
    "        if not cur:\n",
    "            # \"if not cur\" == \"if cur == None\"\n",
    "            return\n",
    "        # func는 data 처리 기능\n",
    "            # func가 실행되면 거기서 current node에 데이터 입력된다\n",
    "        func(cur.data)\n",
    "        self.preorder_traverse(cur.left, func)\n",
    "        self.preorder_traverse(cur.right, func)\n",
    "    \n",
    "    def inorder_traverse(self, cur, func):\n",
    "        if not cur:\n",
    "            return\n",
    "        self.inorder_traverse(cur.left, func)\n",
    "        func(cur.data)\n",
    "        self.inorder_traverse(cur.right, func)\n",
    "    \n",
    "    def postorder_traverse(self, cur, func):\n",
    "        if not cur:\n",
    "            return\n",
    "        self.postorder_traverse(cur.left, func)\n",
    "        self.postorder_traverse(cur.right, func)\n",
    "        func(cur.data)"
   ]
  },
  {
   "cell_type": "code",
   "execution_count": 8,
   "metadata": {},
   "outputs": [
    {
     "name": "stdout",
     "output_type": "stream",
     "text": [
      "TreeNode of 1 is deleted!\n",
      "TreeNode of 2 is deleted!\n",
      "TreeNode of 4 is deleted!\n",
      "TreeNode of 5 is deleted!\n",
      "1  2  4  5  3  6  7  "
     ]
    }
   ],
   "source": [
    "# 이것은 원리를 보기 위한 연습용\n",
    "    # 그래서 모든 과정을 일일이 풀어쓴다\n",
    "\n",
    "if __name__ == \"__main__\":\n",
    "    bt = BinaryTree()\n",
    "    n1 = bt.make_node()\n",
    "        # 물론, TreeNode()를 호출할 수도 있다. 하지만 이것은 OOP의 규칙에 어긋나기에 하지 않는다.\n",
    "    bt.set_node_data(n1, 1)\n",
    "    n2 = bt.make_node()\n",
    "    bt.set_node_data(n2, 2)\n",
    "    n3 = bt.make_node()\n",
    "    bt.set_node_data(n3, 3)\n",
    "    n4 = bt.make_node()\n",
    "    bt.set_node_data(n4, 4)\n",
    "    n5 = bt.make_node()\n",
    "    bt.set_node_data(n5, 5)\n",
    "    n6 = bt.make_node()\n",
    "    bt.set_node_data(n6, 6)\n",
    "    n7 = bt.make_node()\n",
    "    bt.set_node_data(n7, 7)\n",
    "    \n",
    "    bt.set_root(n1)\n",
    "    bt.make_left_sub_tree(n1, n2)\n",
    "    bt.make_right_sub_tree(n1, n3)\n",
    "    bt.make_left_sub_tree(n2, n4)\n",
    "    bt.make_right_sub_tree(n2, n5)\n",
    "    bt.make_left_sub_tree(n3, n6)\n",
    "    bt.make_right_sub_tree(n3, n7)\n",
    "    \n",
    "    f = lambda x: print(x, end = \"  \")\n",
    "    bt.preorder_traverse(bt.get_root(), f)\n",
    "    \n",
    "# 아래에 \"TreeNode of {} is deleted!\"가 나오는 이유는\n",
    "    # 이 코드를 다시한번 실행하면서 기존에 있던 1, 2, 4, 5를 삭제하고 다시 만들기 때문이다."
   ]
  },
  {
   "cell_type": "code",
   "execution_count": 4,
   "metadata": {},
   "outputs": [
    {
     "name": "stdout",
     "output_type": "stream",
     "text": [
      "4  2  5  1  6  3  7  "
     ]
    }
   ],
   "source": [
    "bt.inorder_traverse(bt.get_root(), f)"
   ]
  },
  {
   "cell_type": "code",
   "execution_count": 5,
   "metadata": {},
   "outputs": [
    {
     "name": "stdout",
     "output_type": "stream",
     "text": [
      "4  5  2  6  7  3  1  "
     ]
    }
   ],
   "source": [
    "bt.postorder_traverse(bt.get_root(), f)"
   ]
  },
  {
   "cell_type": "code",
   "execution_count": 6,
   "metadata": {},
   "outputs": [
    {
     "name": "stdout",
     "output_type": "stream",
     "text": [
      "4  2  5  1  8  6  3  7  "
     ]
    }
   ],
   "source": [
    "# Exercise: 노드 삽입 문제\n",
    "    # inorder traverse 사용\n",
    "    # 예상 결과값 : 4 2 5 1 8 6 3 7\n",
    "\n",
    "n8 = bt.make_node()\n",
    "bt.set_node_data(n8, 8)\n",
    "    \n",
    "bt.make_right_sub_tree(n1, n8)\n",
    "bt.make_right_sub_tree(n8, n3)\n",
    "\n",
    "bt.inorder_traverse(bt.get_root(), f)"
   ]
  },
  {
   "cell_type": "code",
   "execution_count": 9,
   "metadata": {},
   "outputs": [
    {
     "name": "stdout",
     "output_type": "stream",
     "text": [
      "TreeNode of 3 is deleted!\n",
      "4  2  5  1  6  7  "
     ]
    }
   ],
   "source": [
    "# Exercise: 노드 삭제 후 edge 재연결 문제\n",
    "    # del 함수를 이용하여 reference count를 0으로 만들어 지운다\n",
    "\n",
    "bt.make_right_sub_tree(n1, n6)\n",
    "# bt.make_right_sub_tree(n3, None)\n",
    "# bt.make_left_sub_tree(n3, None)\n",
    "    # 이것들은 필요 없는 코드다...\n",
    "    # n1, n6, n7만 연결해도 n3는 떨어져 나간다\n",
    "bt.make_right_sub_tree(n6, n7)\n",
    "\n",
    "# 최종확인 코드\n",
    "\n",
    "del n3\n",
    "\n",
    "bt.inorder_traverse(bt.get_root(), f)"
   ]
  },
  {
   "cell_type": "code",
   "execution_count": null,
   "metadata": {
    "collapsed": true
   },
   "outputs": [],
   "source": []
  }
 ],
 "metadata": {
  "kernelspec": {
   "display_name": "Python 3",
   "language": "python",
   "name": "python3"
  },
  "language_info": {
   "codemirror_mode": {
    "name": "ipython",
    "version": 3
   },
   "file_extension": ".py",
   "mimetype": "text/x-python",
   "name": "python",
   "nbconvert_exporter": "python",
   "pygments_lexer": "ipython3",
   "version": "3.6.1"
  }
 },
 "nbformat": 4,
 "nbformat_minor": 2
}
