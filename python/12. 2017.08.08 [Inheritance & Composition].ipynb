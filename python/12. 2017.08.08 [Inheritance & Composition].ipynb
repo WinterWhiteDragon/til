{
 "cells": [
  {
   "cell_type": "code",
   "execution_count": 1,
   "metadata": {
    "collapsed": true
   },
   "outputs": [],
   "source": [
    "# Inheritance\n",
    "\n",
    "# Inheritance vs. Composition\n",
    "    # class 간 관계가 무엇인지에 따라 inheritance를 쓰거나 composition을 쓴다\n",
    "\n",
    "    # is-a 관계일 때 inheritance를 쓴다\n",
    "    # has-a 관계일 때 composition(합성) or aggregation(통합)을 사용한다\n",
    "        # almost the same, but slightly different\n",
    "        # composition: 객체가 같이 생성되고 같이 없어진다\n",
    "                # ex) Car와 Engine은 같이 만들어지고 같이 폐기된다\n",
    "        # aggregation: 객체가 같이 생성되지만 같이 없어지지 않는다\n",
    "                # Gun/Policeman 예시, Policeman이 없어져도 Gun은 남는다"
   ]
  },
  {
   "cell_type": "code",
   "execution_count": 2,
   "metadata": {
    "collapsed": true
   },
   "outputs": [],
   "source": [
    "# is-a\n",
    "    # A is a B => A is a type of B\n",
    "    # EXAMPLE))\n",
    "        # a laptop is a computer\n",
    "        # a laptop은 a computer의 한 종류이다."
   ]
  },
  {
   "cell_type": "code",
   "execution_count": 10,
   "metadata": {
    "collapsed": true
   },
   "outputs": [],
   "source": [
    "class Computer:\n",
    "    def __init__(self, cpu, ram):\n",
    "        # 2x instance member\n",
    "        self.CPU = cpu\n",
    "        self.RAM = ram\n",
    "    \n",
    "    def browse(self):\n",
    "        print('browse')\n",
    "    def work(self):\n",
    "        print('work')\n",
    "\n",
    "# To use inheritance, you merely write the name of the class you wish to inherit\n",
    "    # When inheriting, the child recieves all the members and all the methods of the parent\n",
    "    # This has the advantage of increased \"reuseability (코드 재사용성)\"\n",
    "class Laptop(Computer):\n",
    "    # Computer is the parent or base class, Laptop is the child or derived class\n",
    "    # Laptop receives all of Computer's members and methods without having to define them again\n",
    "        # Instead, Laptop can just define additional members and methods that Computer doesn't have\n",
    "    def __init__(self, cpu, ram, battery):\n",
    "        super().__init__(cpu, ram)\n",
    "        # super() refers to the superclass for Laptop, which is Computer which it inherited\n",
    "        self.battery = battery\n",
    "\n",
    "    def move(self, where):\n",
    "        print('move to {}'.format(where))"
   ]
  },
  {
   "cell_type": "code",
   "execution_count": 11,
   "metadata": {
    "collapsed": true
   },
   "outputs": [],
   "source": [
    "l1 = Laptop('Intel', 16, 'powerful')\n",
    "# It works!!!!!"
   ]
  },
  {
   "cell_type": "code",
   "execution_count": 12,
   "metadata": {},
   "outputs": [
    {
     "data": {
      "text/plain": [
       "'Intel'"
      ]
     },
     "execution_count": 12,
     "metadata": {},
     "output_type": "execute_result"
    }
   ],
   "source": [
    "l1.CPU"
   ]
  },
  {
   "cell_type": "code",
   "execution_count": 13,
   "metadata": {},
   "outputs": [
    {
     "data": {
      "text/plain": [
       "16"
      ]
     },
     "execution_count": 13,
     "metadata": {},
     "output_type": "execute_result"
    }
   ],
   "source": [
    "l1.RAM"
   ]
  },
  {
   "cell_type": "code",
   "execution_count": 14,
   "metadata": {},
   "outputs": [
    {
     "data": {
      "text/plain": [
       "'powerful'"
      ]
     },
     "execution_count": 14,
     "metadata": {},
     "output_type": "execute_result"
    }
   ],
   "source": [
    "l1.battery"
   ]
  },
  {
   "cell_type": "code",
   "execution_count": 15,
   "metadata": {},
   "outputs": [
    {
     "name": "stdout",
     "output_type": "stream",
     "text": [
      "browse\n"
     ]
    }
   ],
   "source": [
    "l1.browse()"
   ]
  },
  {
   "cell_type": "code",
   "execution_count": 18,
   "metadata": {},
   "outputs": [
    {
     "name": "stdout",
     "output_type": "stream",
     "text": [
      "move to home\n"
     ]
    }
   ],
   "source": [
    "l1.move('home')"
   ]
  },
  {
   "cell_type": "code",
   "execution_count": 19,
   "metadata": {
    "collapsed": true
   },
   "outputs": [],
   "source": [
    "# has-a\n",
    "    # A has a B => A possesses B or A includes B\n",
    "    #EXAMPLE))\n",
    "        # 'A policeman has-a gun'"
   ]
  },
  {
   "cell_type": "code",
   "execution_count": 33,
   "metadata": {
    "collapsed": true
   },
   "outputs": [],
   "source": [
    "class Gun:\n",
    "    def __init__(self, gun_kind):\n",
    "        self.gun_kind = gun_kind\n",
    "    \n",
    "    def shoot(self):\n",
    "        print('bang bang')\n",
    "# Policeman is not a Gun, and not all Policeman have a Gun\n",
    "class Policeman:\n",
    "    def __init__(self, gun_kind = ''):\n",
    "        if not gun_kind:\n",
    "            self.gun = None\n",
    "        else:\n",
    "            # 멤버가 Gun 클래스의 인스턴스(객체)를 가지게 만든다\n",
    "            # composition or aggregation\n",
    "            self.gun = Gun(gun_kind)\n",
    "    def get_gun(self, gun_kind):\n",
    "        self.gun = Gun(gun_kind)\n",
    "    def engage(self):\n",
    "        if not self.gun:\n",
    "            return\n",
    "        self.gun.shoot()"
   ]
  },
  {
   "cell_type": "code",
   "execution_count": 34,
   "metadata": {
    "collapsed": true
   },
   "outputs": [],
   "source": [
    "p1 = Policeman('리볼버')"
   ]
  },
  {
   "cell_type": "code",
   "execution_count": 35,
   "metadata": {},
   "outputs": [
    {
     "name": "stdout",
     "output_type": "stream",
     "text": [
      "bang bang\n"
     ]
    }
   ],
   "source": [
    "p1.engage()"
   ]
  },
  {
   "cell_type": "code",
   "execution_count": 36,
   "metadata": {
    "collapsed": true
   },
   "outputs": [],
   "source": [
    "p2 = Policeman()"
   ]
  },
  {
   "cell_type": "code",
   "execution_count": 37,
   "metadata": {
    "collapsed": true
   },
   "outputs": [],
   "source": [
    "p2.engage()"
   ]
  },
  {
   "cell_type": "code",
   "execution_count": 38,
   "metadata": {
    "collapsed": true
   },
   "outputs": [],
   "source": [
    "gun = Gun('기관총')"
   ]
  },
  {
   "cell_type": "code",
   "execution_count": 39,
   "metadata": {
    "collapsed": true
   },
   "outputs": [],
   "source": [
    "p2.get_gun(gun)"
   ]
  },
  {
   "cell_type": "code",
   "execution_count": 40,
   "metadata": {},
   "outputs": [
    {
     "name": "stdout",
     "output_type": "stream",
     "text": [
      "bang bang\n"
     ]
    }
   ],
   "source": [
    "p2.engage()"
   ]
  },
  {
   "cell_type": "code",
   "execution_count": 41,
   "metadata": {
    "collapsed": true
   },
   "outputs": [],
   "source": [
    "# Polymorphism (다형성)\n",
    "    # 같은 코드를 실행하는데 다른 결과가 나온다\n",
    "        # 같은 이름의 메서드를 호출하는데, 결과는 \"객체에 따라\" 다르다"
   ]
  },
  {
   "cell_type": "code",
   "execution_count": 54,
   "metadata": {
    "collapsed": true
   },
   "outputs": [],
   "source": [
    "# abstract class (추상 클래스)\n",
    "    # 최소한 하나 이상의 abstract method 포함\n",
    "        # (a.k.a. pure virtual function 순수가상함수 in other languages)\n",
    "        # abstract method: 함수의 몸체가 없다, 즉 정의되어 있지 않다\n",
    "            # 그래서 인스턴스를 만들 수 없다 (cannot instantiate)\n",
    "            # 그래서 반드시 자식/파생 클래스에서 재정의(method overriding)를 해야한다\n",
    "                # method overloading: 같은 클래스 안에 같은 이름의 함수가 2개 이상 있다\n",
    "                # method overriding: 상속 받은 클래스를 덮어쓴다\n",
    "        \n",
    "from abc import *\n",
    "    # abc = abstract base class, abstract class용 라이브러리\n",
    "\n",
    "class Animal(metaclass = ABCMeta):\n",
    "    @abstractmethod\n",
    "    def say(self):\n",
    "        pass\n",
    "    \n",
    "class Dog(Animal):\n",
    "    # inheritance 받는다\n",
    "    def say(self):\n",
    "        print('멍멍')\n",
    "\n",
    "class Cat(Animal):\n",
    "    def say(self):\n",
    "        print('야옹')\n",
    "\n",
    "class Duck(Animal):\n",
    "    def say(self):\n",
    "        print('꽦꽦')"
   ]
  },
  {
   "cell_type": "code",
   "execution_count": 55,
   "metadata": {},
   "outputs": [
    {
     "ename": "TypeError",
     "evalue": "Can't instantiate abstract class Animal with abstract methods say",
     "output_type": "error",
     "traceback": [
      "\u001b[1;31m---------------------------------------------------------------------------\u001b[0m",
      "\u001b[1;31mTypeError\u001b[0m                                 Traceback (most recent call last)",
      "\u001b[1;32m<ipython-input-55-94137cb51db3>\u001b[0m in \u001b[0;36m<module>\u001b[1;34m()\u001b[0m\n\u001b[1;32m----> 1\u001b[1;33m \u001b[0ma\u001b[0m \u001b[1;33m=\u001b[0m \u001b[0mAnimal\u001b[0m\u001b[1;33m(\u001b[0m\u001b[1;33m)\u001b[0m\u001b[1;33m\u001b[0m\u001b[0m\n\u001b[0m",
      "\u001b[1;31mTypeError\u001b[0m: Can't instantiate abstract class Animal with abstract methods say"
     ]
    }
   ],
   "source": [
    "a = Animal()"
   ]
  },
  {
   "cell_type": "code",
   "execution_count": 56,
   "metadata": {},
   "outputs": [
    {
     "name": "stdout",
     "output_type": "stream",
     "text": [
      "멍멍\n"
     ]
    }
   ],
   "source": [
    "d = Dog()\n",
    "d.say()"
   ]
  },
  {
   "cell_type": "code",
   "execution_count": 57,
   "metadata": {},
   "outputs": [
    {
     "name": "stdout",
     "output_type": "stream",
     "text": [
      "야옹\n"
     ]
    }
   ],
   "source": [
    "c = Cat()\n",
    "c.say()"
   ]
  },
  {
   "cell_type": "code",
   "execution_count": 58,
   "metadata": {},
   "outputs": [
    {
     "name": "stdout",
     "output_type": "stream",
     "text": [
      "꽦꽦\n"
     ]
    }
   ],
   "source": [
    "du = Duck()\n",
    "du.say()"
   ]
  },
  {
   "cell_type": "code",
   "execution_count": 59,
   "metadata": {
    "collapsed": true
   },
   "outputs": [],
   "source": [
    "animals = []\n",
    "animals.append(Dog())\n",
    "animals.append(Cat())\n",
    "animals.append(Duck())"
   ]
  },
  {
   "cell_type": "code",
   "execution_count": 60,
   "metadata": {},
   "outputs": [
    {
     "name": "stdout",
     "output_type": "stream",
     "text": [
      "멍멍\n",
      "야옹\n",
      "꽦꽦\n"
     ]
    }
   ],
   "source": [
    "for animal in animals:\n",
    "    animal.say()"
   ]
  },
  {
   "cell_type": "code",
   "execution_count": 80,
   "metadata": {
    "collapsed": true
   },
   "outputs": [],
   "source": [
    "# Polymorphism 예시\n",
    "\n",
    "from abc import *\n",
    "    # member, method 같은 공통적인 부분은 상위 클래스 한 곳에 담는다\n",
    "\n",
    "class Character(metaclass = ABCMeta):\n",
    "    def __init__(self, name, hp, power):\n",
    "        self.name = name\n",
    "        self.HP = hp\n",
    "        self.power = power\n",
    "    \n",
    "    @abstractmethod\n",
    "    def attack(self, other, attack_kind):\n",
    "        pass\n",
    "    \n",
    "    @abstractmethod\n",
    "    def get_damage(self, power, attack_kind):\n",
    "        pass\n",
    "\n",
    "    def __str__(self):\n",
    "        return '{} : {}'.format(self.name, self.HP)\n"
   ]
  },
  {
   "cell_type": "code",
   "execution_count": 106,
   "metadata": {
    "collapsed": true
   },
   "outputs": [],
   "source": [
    "class Player(Character):\n",
    "    def __init__(self, name = 'player', hp = 100, power = 20, *attack_kinds):\n",
    "        super().__init__(name, hp, power)\n",
    "        self.skills = []\n",
    "        for attack_kind in attack_kinds:\n",
    "            self.skills.append(attack_kind)\n",
    "\n",
    "    # Message Passing 예시))\n",
    "    def attack(self, other, attack_kind):\n",
    "        if attack_kind in self.skills:\n",
    "            other.get_damage(self.power, attack_kind)\n",
    "        else:\n",
    "            return\n",
    "        \n",
    "    def get_damage(self, power, attack_kind):\n",
    "    # This is an example of an interface: \"def get_damage(self, power, attack_kind):\"\n",
    "        pass\n",
    "        '''\n",
    "        만약에 스킬에 공격 당하는 kind가 있으면 power의 반\n",
    "        없으면 power만큼\n",
    "        '''\n",
    "        if attack_kind in self.skills:\n",
    "            self.HP -= (power//2)\n",
    "        else:\n",
    "            self.HP -= power\n",
    "            \n",
    "class Monster(Character):\n",
    "    # member, method 같은 공통적인 부분은 상위 클래스 한 곳에 담는다\n",
    "    def __init__(self, name, hp, power):\n",
    "        super().__init__(name, hp, power)\n",
    "        self.attack_kind = None\n",
    "    \n",
    "    def attack(self, other, attack_kind):\n",
    "        if self.attack_kind == attack_kind:\n",
    "            other.get_damage(self.power, attack_kind)\n",
    "    \n",
    "    def get_damage(self, power, attack_kind):\n",
    "        if self.attack_kind == attack_kind:\n",
    "            self.HP += power\n",
    "        else:\n",
    "            self.HP -= power\n",
    "\n",
    "class IceMonster(Monster):\n",
    "    # attack & get_damage는 \n",
    "    def __init__(self, name = 'ICE Monster', hp = 100, power = 20):\n",
    "        super().__init__(name, hp, power)\n",
    "        self.attack_kind = \"ICE\"\n",
    "\n",
    "class FireMonster(Monster):\n",
    "    def __init__(self, name = 'FIRE Monster', hp = 100, power = 30):\n",
    "        super().__init__(name, hp, power)\n",
    "        self.attack_kind = \"FIRE\"\n"
   ]
  },
  {
   "cell_type": "code",
   "execution_count": 107,
   "metadata": {
    "collapsed": true
   },
   "outputs": [],
   "source": [
    "player = Player('Great', 120, 30, 'ICE', \"fire\")"
   ]
  },
  {
   "cell_type": "code",
   "execution_count": 108,
   "metadata": {
    "collapsed": true
   },
   "outputs": [],
   "source": [
    "monsters = []\n",
    "monsters.append(IceMonster())\n",
    "monsters.append(FireMonster())"
   ]
  },
  {
   "cell_type": "code",
   "execution_count": 109,
   "metadata": {},
   "outputs": [
    {
     "name": "stdout",
     "output_type": "stream",
     "text": [
      "ICE Monster : 100\n",
      "FIRE Monster : 100\n"
     ]
    }
   ],
   "source": [
    "for monster in monsters:\n",
    "    print(monster)"
   ]
  },
  {
   "cell_type": "code",
   "execution_count": 110,
   "metadata": {
    "collapsed": true
   },
   "outputs": [],
   "source": [
    "for monster in monsters:\n",
    "    player.attack(monster, 'ICE')"
   ]
  },
  {
   "cell_type": "code",
   "execution_count": null,
   "metadata": {
    "collapsed": true
   },
   "outputs": [],
   "source": []
  }
 ],
 "metadata": {
  "kernelspec": {
   "display_name": "Python 3",
   "language": "python",
   "name": "python3"
  },
  "language_info": {
   "codemirror_mode": {
    "name": "ipython",
    "version": 3
   },
   "file_extension": ".py",
   "mimetype": "text/x-python",
   "name": "python",
   "nbconvert_exporter": "python",
   "pygments_lexer": "ipython3",
   "version": "3.6.1"
  }
 },
 "nbformat": 4,
 "nbformat_minor": 2
}
