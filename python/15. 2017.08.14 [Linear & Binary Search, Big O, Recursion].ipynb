{
 "cells": [
  {
   "cell_type": "code",
   "execution_count": 1,
   "metadata": {
    "collapsed": true
   },
   "outputs": [],
   "source": [
    "# THE COMPILER : LEXER & PARSER"
   ]
  },
  {
   "cell_type": "code",
   "execution_count": 2,
   "metadata": {},
   "outputs": [
    {
     "data": {
      "text/plain": [
       "{0: 'ENDMARKER',\n",
       " 1: 'NAME',\n",
       " 2: 'NUMBER',\n",
       " 3: 'STRING',\n",
       " 4: 'NEWLINE',\n",
       " 5: 'INDENT',\n",
       " 6: 'DEDENT',\n",
       " 7: 'LPAR',\n",
       " 8: 'RPAR',\n",
       " 9: 'LSQB',\n",
       " 10: 'RSQB',\n",
       " 11: 'COLON',\n",
       " 12: 'COMMA',\n",
       " 13: 'SEMI',\n",
       " 14: 'PLUS',\n",
       " 15: 'MINUS',\n",
       " 16: 'STAR',\n",
       " 17: 'SLASH',\n",
       " 18: 'VBAR',\n",
       " 19: 'AMPER',\n",
       " 20: 'LESS',\n",
       " 21: 'GREATER',\n",
       " 22: 'EQUAL',\n",
       " 23: 'DOT',\n",
       " 24: 'PERCENT',\n",
       " 25: 'LBRACE',\n",
       " 26: 'RBRACE',\n",
       " 27: 'EQEQUAL',\n",
       " 28: 'NOTEQUAL',\n",
       " 29: 'LESSEQUAL',\n",
       " 30: 'GREATEREQUAL',\n",
       " 31: 'TILDE',\n",
       " 32: 'CIRCUMFLEX',\n",
       " 33: 'LEFTSHIFT',\n",
       " 34: 'RIGHTSHIFT',\n",
       " 35: 'DOUBLESTAR',\n",
       " 36: 'PLUSEQUAL',\n",
       " 37: 'MINEQUAL',\n",
       " 38: 'STAREQUAL',\n",
       " 39: 'SLASHEQUAL',\n",
       " 40: 'PERCENTEQUAL',\n",
       " 41: 'AMPEREQUAL',\n",
       " 42: 'VBAREQUAL',\n",
       " 43: 'CIRCUMFLEXEQUAL',\n",
       " 44: 'LEFTSHIFTEQUAL',\n",
       " 45: 'RIGHTSHIFTEQUAL',\n",
       " 46: 'DOUBLESTAREQUAL',\n",
       " 47: 'DOUBLESLASH',\n",
       " 48: 'DOUBLESLASHEQUAL',\n",
       " 49: 'AT',\n",
       " 50: 'ATEQUAL',\n",
       " 51: 'RARROW',\n",
       " 52: 'ELLIPSIS',\n",
       " 53: 'OP',\n",
       " 54: 'AWAIT',\n",
       " 55: 'ASYNC',\n",
       " 56: 'ERRORTOKEN',\n",
       " 57: 'COMMENT',\n",
       " 58: 'NL',\n",
       " 59: 'BACKQUOTE',\n",
       " 60: 'COMMENT',\n",
       " 256: 'NT_OFFSET'}"
      ]
     },
     "execution_count": 2,
     "metadata": {},
     "output_type": "execute_result"
    }
   ],
   "source": [
    "# What kind of tokens does Python have?\n",
    "import token\n",
    "\n",
    "token.tok_name"
   ]
  },
  {
   "cell_type": "code",
   "execution_count": 3,
   "metadata": {},
   "outputs": [
    {
     "data": {
      "text/plain": [
       "'def func(x, y):\\n\\treturn x + y\\n\\na = 10\\nb = 20\\n\\nc = func(a, b)\\nprint(c)'"
      ]
     },
     "execution_count": 3,
     "metadata": {},
     "output_type": "execute_result"
    }
   ],
   "source": [
    "# How are tokens used?\n",
    "s = open('test.py').read()\n",
    "s\n",
    "# test.py에 내가 작성한 것은 하나의 문자열일 뿐이다."
   ]
  },
  {
   "cell_type": "code",
   "execution_count": 4,
   "metadata": {
    "collapsed": true
   },
   "outputs": [],
   "source": [
    "from tokenize import tokenize\n",
    "from io import BytesIO"
   ]
  },
  {
   "cell_type": "code",
   "execution_count": 5,
   "metadata": {},
   "outputs": [
    {
     "data": {
      "text/plain": [
       "<generator object _tokenize at 0x00000198F96206D0>"
      ]
     },
     "execution_count": 5,
     "metadata": {},
     "output_type": "execute_result"
    }
   ],
   "source": [
    "g = tokenize(BytesIO(s.encode('utf-8')).readline)\n",
    "g"
   ]
  },
  {
   "cell_type": "code",
   "execution_count": 6,
   "metadata": {},
   "outputs": [
    {
     "name": "stdout",
     "output_type": "stream",
     "text": [
      "TokenInfo(type=59 (BACKQUOTE), string='utf-8', start=(0, 0), end=(0, 0), line='')\n",
      "TokenInfo(type=1 (NAME), string='def', start=(1, 0), end=(1, 3), line='def func(x, y):\\n')\n",
      "TokenInfo(type=1 (NAME), string='func', start=(1, 4), end=(1, 8), line='def func(x, y):\\n')\n",
      "TokenInfo(type=53 (OP), string='(', start=(1, 8), end=(1, 9), line='def func(x, y):\\n')\n",
      "TokenInfo(type=1 (NAME), string='x', start=(1, 9), end=(1, 10), line='def func(x, y):\\n')\n",
      "TokenInfo(type=53 (OP), string=',', start=(1, 10), end=(1, 11), line='def func(x, y):\\n')\n",
      "TokenInfo(type=1 (NAME), string='y', start=(1, 12), end=(1, 13), line='def func(x, y):\\n')\n",
      "TokenInfo(type=53 (OP), string=')', start=(1, 13), end=(1, 14), line='def func(x, y):\\n')\n",
      "TokenInfo(type=53 (OP), string=':', start=(1, 14), end=(1, 15), line='def func(x, y):\\n')\n",
      "TokenInfo(type=4 (NEWLINE), string='\\n', start=(1, 15), end=(1, 16), line='def func(x, y):\\n')\n",
      "TokenInfo(type=5 (INDENT), string='\\t', start=(2, 0), end=(2, 1), line='\\treturn x + y\\n')\n",
      "TokenInfo(type=1 (NAME), string='return', start=(2, 1), end=(2, 7), line='\\treturn x + y\\n')\n",
      "TokenInfo(type=1 (NAME), string='x', start=(2, 8), end=(2, 9), line='\\treturn x + y\\n')\n",
      "TokenInfo(type=53 (OP), string='+', start=(2, 10), end=(2, 11), line='\\treturn x + y\\n')\n",
      "TokenInfo(type=1 (NAME), string='y', start=(2, 12), end=(2, 13), line='\\treturn x + y\\n')\n",
      "TokenInfo(type=4 (NEWLINE), string='\\n', start=(2, 13), end=(2, 14), line='\\treturn x + y\\n')\n",
      "TokenInfo(type=58 (NL), string='\\n', start=(3, 0), end=(3, 1), line='\\n')\n",
      "TokenInfo(type=6 (DEDENT), string='', start=(4, 0), end=(4, 0), line='a = 10\\n')\n",
      "TokenInfo(type=1 (NAME), string='a', start=(4, 0), end=(4, 1), line='a = 10\\n')\n",
      "TokenInfo(type=53 (OP), string='=', start=(4, 2), end=(4, 3), line='a = 10\\n')\n",
      "TokenInfo(type=2 (NUMBER), string='10', start=(4, 4), end=(4, 6), line='a = 10\\n')\n",
      "TokenInfo(type=4 (NEWLINE), string='\\n', start=(4, 6), end=(4, 7), line='a = 10\\n')\n",
      "TokenInfo(type=1 (NAME), string='b', start=(5, 0), end=(5, 1), line='b = 20\\n')\n",
      "TokenInfo(type=53 (OP), string='=', start=(5, 2), end=(5, 3), line='b = 20\\n')\n",
      "TokenInfo(type=2 (NUMBER), string='20', start=(5, 4), end=(5, 6), line='b = 20\\n')\n",
      "TokenInfo(type=4 (NEWLINE), string='\\n', start=(5, 6), end=(5, 7), line='b = 20\\n')\n",
      "TokenInfo(type=58 (NL), string='\\n', start=(6, 0), end=(6, 1), line='\\n')\n",
      "TokenInfo(type=1 (NAME), string='c', start=(7, 0), end=(7, 1), line='c = func(a, b)\\n')\n",
      "TokenInfo(type=53 (OP), string='=', start=(7, 2), end=(7, 3), line='c = func(a, b)\\n')\n",
      "TokenInfo(type=1 (NAME), string='func', start=(7, 4), end=(7, 8), line='c = func(a, b)\\n')\n",
      "TokenInfo(type=53 (OP), string='(', start=(7, 8), end=(7, 9), line='c = func(a, b)\\n')\n",
      "TokenInfo(type=1 (NAME), string='a', start=(7, 9), end=(7, 10), line='c = func(a, b)\\n')\n",
      "TokenInfo(type=53 (OP), string=',', start=(7, 10), end=(7, 11), line='c = func(a, b)\\n')\n",
      "TokenInfo(type=1 (NAME), string='b', start=(7, 12), end=(7, 13), line='c = func(a, b)\\n')\n",
      "TokenInfo(type=53 (OP), string=')', start=(7, 13), end=(7, 14), line='c = func(a, b)\\n')\n",
      "TokenInfo(type=4 (NEWLINE), string='\\n', start=(7, 14), end=(7, 15), line='c = func(a, b)\\n')\n",
      "TokenInfo(type=1 (NAME), string='print', start=(8, 0), end=(8, 5), line='print(c)')\n",
      "TokenInfo(type=53 (OP), string='(', start=(8, 5), end=(8, 6), line='print(c)')\n",
      "TokenInfo(type=1 (NAME), string='c', start=(8, 6), end=(8, 7), line='print(c)')\n",
      "TokenInfo(type=53 (OP), string=')', start=(8, 7), end=(8, 8), line='print(c)')\n",
      "TokenInfo(type=0 (ENDMARKER), string='', start=(9, 0), end=(9, 0), line='')\n"
     ]
    }
   ],
   "source": [
    "# See lexer turn test.py into tokens\n",
    "for token in g:\n",
    "    print(token)"
   ]
  },
  {
   "cell_type": "code",
   "execution_count": 7,
   "metadata": {
    "collapsed": true
   },
   "outputs": [],
   "source": [
    "# See how parser turns the tokens into the AST\n",
    "import ast"
   ]
  },
  {
   "cell_type": "code",
   "execution_count": 8,
   "metadata": {},
   "outputs": [
    {
     "data": {
      "text/plain": [
       "<_ast.Module at 0x198f9648f98>"
      ]
     },
     "execution_count": 8,
     "metadata": {},
     "output_type": "execute_result"
    }
   ],
   "source": [
    "node = ast.parse(s)\n",
    "node"
   ]
  },
  {
   "cell_type": "code",
   "execution_count": 9,
   "metadata": {},
   "outputs": [
    {
     "name": "stdout",
     "output_type": "stream",
     "text": [
      "<_ast.Module object at 0x00000198F9648F98>\n",
      "<_ast.FunctionDef object at 0x00000198F9648EF0>\n",
      "<_ast.Assign object at 0x00000198F9648DD8>\n",
      "<_ast.Assign object at 0x00000198F9648D30>\n",
      "<_ast.Assign object at 0x00000198F96489E8>\n",
      "<_ast.Expr object at 0x00000198F9648860>\n",
      "<_ast.arguments object at 0x00000198F9648F60>\n",
      "<_ast.Return object at 0x00000198F9648DA0>\n",
      "<_ast.Name object at 0x00000198F9648CF8>\n",
      "<_ast.Num object at 0x00000198F9648CC0>\n",
      "<_ast.Name object at 0x00000198F9648C18>\n",
      "<_ast.Num object at 0x00000198F9648A90>\n",
      "<_ast.Name object at 0x00000198F9648AC8>\n",
      "<_ast.Call object at 0x00000198F9648B70>\n",
      "<_ast.Call object at 0x00000198F9648A58>\n",
      "<_ast.arg object at 0x00000198F96487F0>\n",
      "<_ast.arg object at 0x00000198F9648EB8>\n",
      "<_ast.BinOp object at 0x00000198F9648E80>\n",
      "<_ast.Store object at 0x00000198F76DFEF0>\n",
      "<_ast.Store object at 0x00000198F76DFEF0>\n",
      "<_ast.Store object at 0x00000198F76DFEF0>\n",
      "<_ast.Name object at 0x00000198F9648A20>\n",
      "<_ast.Name object at 0x00000198F9648978>\n",
      "<_ast.Name object at 0x00000198F9648630>\n",
      "<_ast.Name object at 0x00000198F96486A0>\n",
      "<_ast.Name object at 0x00000198F9648438>\n",
      "<_ast.Name object at 0x00000198F9648E48>\n",
      "<_ast.Add object at 0x00000198F76E3CF8>\n",
      "<_ast.Name object at 0x00000198F9648D68>\n",
      "<_ast.Load object at 0x00000198F76DFDD8>\n",
      "<_ast.Load object at 0x00000198F76DFDD8>\n",
      "<_ast.Load object at 0x00000198F76DFDD8>\n",
      "<_ast.Load object at 0x00000198F76DFDD8>\n",
      "<_ast.Load object at 0x00000198F76DFDD8>\n",
      "<_ast.Load object at 0x00000198F76DFDD8>\n",
      "<_ast.Load object at 0x00000198F76DFDD8>\n"
     ]
    }
   ],
   "source": [
    "g = ast.walk(node)\n",
    "# walk 함수는 각 node를 root부터 한 단계식 내려가며 (code를 위에서부터 아래로 내려가며) 해당 단계의 node를 왼쪽에서 오른쪽으로 이동하며 보여주고, 다음 단계로 내려간다.\n",
    "\n",
    "for node in g:\n",
    "    print(node)\n",
    "\n",
    "    # Module이 root, AST의 근원\n",
    "    # FunctionDef는 2단계의 첫번째, 함수를 정의하는 \"def func\""
   ]
  },
  {
   "cell_type": "code",
   "execution_count": 10,
   "metadata": {
    "collapsed": true
   },
   "outputs": [],
   "source": [
    "# How is the symbol table made from the AST?\n",
    "    # The symbol table is a table with information about all the variables and functions in a source code\n",
    "        # The global symbol table holds information about variables and functions in the global area.\n",
    "        # The function symbol table holds similar information in a function's area\n",
    "    # The symbol table's existence explains how the stack frame is able to create in advance slots for the variables in a function,\n",
    "        # even though values for those variables have not been inputted"
   ]
  },
  {
   "cell_type": "code",
   "execution_count": 11,
   "metadata": {
    "collapsed": true
   },
   "outputs": [],
   "source": [
    "import symtable"
   ]
  },
  {
   "cell_type": "code",
   "execution_count": 12,
   "metadata": {},
   "outputs": [
    {
     "data": {
      "text/plain": [
       "<SymbolTable for top in test.py>"
      ]
     },
     "execution_count": 12,
     "metadata": {},
     "output_type": "execute_result"
    }
   ],
   "source": [
    "s = open('test.py').read()\n",
    "sym = symtable.symtable(s, 'test.py', 'exec')\n",
    "    # 'exec' means expressions & statements can be used,\n",
    "        # 'eval' can be used instead but can only be used with expressions\n",
    "sym\n",
    "# top은 global영역의 symbol table을 의미한다"
   ]
  },
  {
   "cell_type": "code",
   "execution_count": 13,
   "metadata": {},
   "outputs": [
    {
     "data": {
      "text/plain": [
       "'top'"
      ]
     },
     "execution_count": 13,
     "metadata": {},
     "output_type": "execute_result"
    }
   ],
   "source": [
    "# Checking the function symbol table\n",
    "sym.get_name()\n",
    "# If 'top' is the output, this means the \"sym\", current symbol table, is the global symbol table"
   ]
  },
  {
   "cell_type": "code",
   "execution_count": 14,
   "metadata": {},
   "outputs": [
    {
     "data": {
      "text/plain": [
       "[<symbol 'func'>, <symbol 'a'>, <symbol 'b'>, <symbol 'c'>, <symbol 'print'>]"
      ]
     },
     "execution_count": 14,
     "metadata": {},
     "output_type": "execute_result"
    }
   ],
   "source": [
    "sym.get_symbols()\n",
    "# Allows the user to check what symbols are in \"sym\", the global symbol table\n",
    "    # The symbols 'a' & 'b' refer to global variables a & b"
   ]
  },
  {
   "cell_type": "code",
   "execution_count": 15,
   "metadata": {},
   "outputs": [
    {
     "data": {
      "text/plain": [
       "True"
      ]
     },
     "execution_count": 15,
     "metadata": {},
     "output_type": "execute_result"
    }
   ],
   "source": [
    "sym.has_children()\n",
    "# Checks whether any of the symbols in \"sym\" has its own subordinated symbols (a.k.a. children)"
   ]
  },
  {
   "cell_type": "code",
   "execution_count": 16,
   "metadata": {},
   "outputs": [
    {
     "data": {
      "text/plain": [
       "[<Function SymbolTable for func in test.py>]"
      ]
     },
     "execution_count": 16,
     "metadata": {},
     "output_type": "execute_result"
    }
   ],
   "source": [
    "sym.get_children()\n",
    "# Checks which symbol(s) in \"sym\" has its own symbols"
   ]
  },
  {
   "cell_type": "code",
   "execution_count": 17,
   "metadata": {},
   "outputs": [
    {
     "name": "stdout",
     "output_type": "stream",
     "text": [
      "func\n",
      "[<symbol 'x'>, <symbol 'y'>]\n"
     ]
    }
   ],
   "source": [
    "func_sym = sym.get_children()[0]\n",
    "print(func_sym.get_name())\n",
    "    # Check the name of the symbol(s) in \"sym\" that has its own symbols\n",
    "print(func_sym.get_symbols())\n",
    "    # Check what symbols this symbol with children has\n",
    "    \n",
    "    # BTW print is a function and thus would have children"
   ]
  },
  {
   "cell_type": "code",
   "execution_count": 18,
   "metadata": {
    "collapsed": true
   },
   "outputs": [],
   "source": [
    "# How is the bytecode made from the AST?"
   ]
  },
  {
   "cell_type": "code",
   "execution_count": 19,
   "metadata": {
    "collapsed": true
   },
   "outputs": [],
   "source": [
    "import dis"
   ]
  },
  {
   "cell_type": "code",
   "execution_count": 20,
   "metadata": {},
   "outputs": [
    {
     "name": "stdout",
     "output_type": "stream",
     "text": [
      "  1           0 LOAD_CONST               0 (<code object func at 0x00000198F9622AE0, file \"<dis>\", line 1>)\n",
      "              2 LOAD_CONST               1 ('func')\n",
      "              4 MAKE_FUNCTION            0\n",
      "              6 STORE_NAME               0 (func)\n",
      "\n",
      "  4           8 LOAD_CONST               2 (10)\n",
      "             10 STORE_NAME               1 (a)\n",
      "\n",
      "  5          12 LOAD_CONST               3 (20)\n",
      "             14 STORE_NAME               2 (b)\n",
      "\n",
      "  7          16 LOAD_NAME                0 (func)\n",
      "             18 LOAD_NAME                1 (a)\n",
      "             20 LOAD_NAME                2 (b)\n",
      "             22 CALL_FUNCTION            2\n",
      "             24 STORE_NAME               3 (c)\n",
      "\n",
      "  8          26 LOAD_NAME                4 (print)\n",
      "             28 LOAD_NAME                3 (c)\n",
      "             30 CALL_FUNCTION            1\n",
      "             32 POP_TOP\n",
      "             34 LOAD_CONST               4 (None)\n",
      "             36 RETURN_VALUE\n"
     ]
    }
   ],
   "source": [
    "# THIS IS BYTECODE\n",
    "\n",
    "dis.dis(s)\n",
    "\n",
    "# LOAD_CONST, MAKE_FUNCTION, STORE_NAME 등등은 instruction의 명령어와 동일하다... 다만 기계어가 아닌 형태일뿐\n",
    "    \n",
    "    #     4           8 LOAD_CONST               2 (10)\n",
    "        # \"4\"은 해당 명령어의 값이 실제파일에서 몇 번째 줄에 위치하는지 알려준다\n",
    "        # \"8\"는 실제파일을 compile해서 나온 bytecode에서, 해당 명령어가 앞에서 몇 번째인지 offset을 알려준다\n",
    "        # LOAD_CONST는 \"co_consts[consti]를 stack으로 내보내라\"라는 의미의 명령어이다\n",
    "        # () 앞에 있는 \"2\"는 code.co_consts에서 () 값의 index번호를 알려준다\n",
    "        # () 속 내용은 실제파일에서 명령어의 값이 무엇인지 알려준다\n",
    "        \n",
    "    # BTW it's ok to not understand all of this, because this is about the inner workings of Python that go on below the surface...\n",
    "        # It's pretty deep and complex material."
   ]
  },
  {
   "cell_type": "code",
   "execution_count": 21,
   "metadata": {
    "collapsed": true
   },
   "outputs": [],
   "source": [
    "g = dis.get_instructions(s)"
   ]
  },
  {
   "cell_type": "code",
   "execution_count": 22,
   "metadata": {},
   "outputs": [
    {
     "name": "stdout",
     "output_type": "stream",
     "text": [
      "LOAD_CONST            <code object func at 0x00000198F9622AE0, file \"<disassembly>\", line 1>\n",
      "LOAD_CONST            func\n",
      "MAKE_FUNCTION         0\n",
      "STORE_NAME            func\n",
      "LOAD_CONST            10\n",
      "STORE_NAME            a\n",
      "LOAD_CONST            20\n",
      "STORE_NAME            b\n",
      "LOAD_NAME             func\n",
      "LOAD_NAME             a\n",
      "LOAD_NAME             b\n",
      "CALL_FUNCTION         2\n",
      "STORE_NAME            c\n",
      "LOAD_NAME             print\n",
      "LOAD_NAME             c\n",
      "CALL_FUNCTION         1\n",
      "POP_TOP               None\n",
      "LOAD_CONST            None\n",
      "RETURN_VALUE          None\n"
     ]
    }
   ],
   "source": [
    "for inst in g:\n",
    "    print(inst.opname.ljust(20), end = '  ')\n",
    "        # opname, 즉 instruction을 구성하는 각 명령어를 출력하라는 말\n",
    "    print(inst.argval)\n",
    "        # 명령어의 값, 즉 \"무엇을 하라는\" 명령어인지를 출력하라는 말"
   ]
  },
  {
   "cell_type": "code",
   "execution_count": 23,
   "metadata": {},
   "outputs": [
    {
     "data": {
      "text/plain": [
       "<code object <module> at 0x00000198F965DC90, file \"test.py\", line 1>"
      ]
     },
     "execution_count": 23,
     "metadata": {},
     "output_type": "execute_result"
    }
   ],
   "source": [
    "# 명령어를 Code Object로 변환한다\n",
    "code = compile(s, 'test.py', 'exec')\n",
    "code"
   ]
  },
  {
   "cell_type": "code",
   "execution_count": 24,
   "metadata": {},
   "outputs": [
    {
     "data": {
      "text/plain": [
       "b'd\\x00d\\x01\\x84\\x00Z\\x00d\\x02Z\\x01d\\x03Z\\x02e\\x00e\\x01e\\x02\\x83\\x02Z\\x03e\\x04e\\x03\\x83\\x01\\x01\\x00d\\x04S\\x00'"
      ]
     },
     "execution_count": 24,
     "metadata": {},
     "output_type": "execute_result"
    }
   ],
   "source": [
    "code.co_code\n",
    "# 'test.py' 내용을 16진법 코드로 변환한 것"
   ]
  },
  {
   "cell_type": "code",
   "execution_count": 25,
   "metadata": {},
   "outputs": [
    {
     "data": {
      "text/plain": [
       "38"
      ]
     },
     "execution_count": 25,
     "metadata": {},
     "output_type": "execute_result"
    }
   ],
   "source": [
    "len(code.co_code)\n",
    "# code.co_code의 길이는 38byte"
   ]
  },
  {
   "cell_type": "code",
   "execution_count": 26,
   "metadata": {},
   "outputs": [
    {
     "data": {
      "text/plain": [
       "(<code object func at 0x00000198F9622AE0, file \"test.py\", line 1>,\n",
       " 'func',\n",
       " 10,\n",
       " 20,\n",
       " None)"
      ]
     },
     "execution_count": 26,
     "metadata": {},
     "output_type": "execute_result"
    }
   ],
   "source": [
    "code.co_consts"
   ]
  },
  {
   "cell_type": "code",
   "execution_count": 27,
   "metadata": {
    "collapsed": true
   },
   "outputs": [],
   "source": [
    "# How is the bytecode turned into machine code (so it can be executed by the CPU)?\n",
    "    # Instructions like LOAD_CONST are the bytecode for Python, not machine code\n",
    "    # The answer is the Python Virtual Machine (PVM)\n",
    "        # The PVM is basically an infinite for loop, like \"while True:\"\n",
    "        # If the bytecode is LOAD_CONST, this loop executes C code \"A\"... if the bytecode is LOAD_FAST, this loop executes C code \"B\"... etc."
   ]
  },
  {
   "cell_type": "code",
   "execution_count": 28,
   "metadata": {
    "collapsed": true
   },
   "outputs": [],
   "source": [
    "# DATA STRUCTURES & ALGORITHMS"
   ]
  },
  {
   "cell_type": "code",
   "execution_count": 29,
   "metadata": {
    "collapsed": true
   },
   "outputs": [],
   "source": [
    "# Linear Search & Binary Search, and the Big O\n",
    "\n",
    "# Objective: Compare performance of Linear Search vs. Binary Search\n",
    "    # Linear Search: Basically a for loop"
   ]
  },
  {
   "cell_type": "code",
   "execution_count": 30,
   "metadata": {
    "collapsed": true
   },
   "outputs": [],
   "source": [
    "# Linear Search\n",
    "\n",
    "# Write \"linear_search(data, target)\" & you get the index of the target\n",
    "def linear_search(data, target):\n",
    "    for e in data:\n",
    "        if e == target:\n",
    "            return data.index(e)\n",
    "    return None"
   ]
  },
  {
   "cell_type": "code",
   "execution_count": 31,
   "metadata": {},
   "outputs": [
    {
     "name": "stdout",
     "output_type": "stream",
     "text": [
      "5\n",
      "10\n"
     ]
    }
   ],
   "source": [
    "li = [4, 2, 7, 8, 9, 10]\n",
    "idx = linear_search(li, 10)\n",
    "    # 10을 찾기 위해 for loop을 6번 순회해야한다\n",
    "print(idx)\n",
    "if idx:\n",
    "    print(li[idx])\n",
    "else:\n",
    "    print(\"No such data\")"
   ]
  },
  {
   "cell_type": "code",
   "execution_count": 32,
   "metadata": {
    "collapsed": true
   },
   "outputs": [],
   "source": [
    "# Binary Search\n",
    "    # To use binary search, the list must always be ordered first\n",
    "    # When using binary search, you first go to the middle of the list & consider whether your target is bigger or smaller than the middle.\n",
    "        # If the target is smaller, the middle & everything bigger than the middle is unneeded and  not considered.\n",
    "            # Rinse & repeat until you find your target"
   ]
  },
  {
   "cell_type": "code",
   "execution_count": 33,
   "metadata": {
    "collapsed": true
   },
   "outputs": [],
   "source": [
    "# Write \"binary_search(data, target)\" & you get the index of the target\n",
    "    # Return \"None\" if target is not in data\n",
    "\n",
    "# My attempt to write this program\n",
    "def binary_search(data, target):\n",
    "    sta = data[0]\n",
    "    end = data[-1]\n",
    "    mid = end//2\n",
    "    while True:\n",
    "        if mid == target:\n",
    "            return data.index(e)\n",
    "        elif mid < target:\n",
    "            sta = data[mid+1]\n",
    "        elif mid > target:\n",
    "            end = data[mid-1]"
   ]
  },
  {
   "cell_type": "code",
   "execution_count": 34,
   "metadata": {
    "collapsed": true
   },
   "outputs": [],
   "source": [
    "# 강사의 모범답안\n",
    "def binary_search(data, target):\n",
    "    data.sort()\n",
    "        # 혹시 사용자가 정렬되지 않은 data를 입력할 것에 대비하여\n",
    "    start = 0\n",
    "    end = len(data) - 1\n",
    "    \n",
    "    while start <= end:\n",
    "        mid = (start + end)//2\n",
    "        if target == data[mid]:\n",
    "            return mid\n",
    "        elif target < data[mid]:\n",
    "            end = mid - 1\n",
    "        else:\n",
    "            start = mid + 1\n",
    "    return None"
   ]
  },
  {
   "cell_type": "code",
   "execution_count": 35,
   "metadata": {},
   "outputs": [
    {
     "data": {
      "text/plain": [
       "[0, 1, 4, 9, 16, 25, 36, 49, 64, 81]"
      ]
     },
     "execution_count": 35,
     "metadata": {},
     "output_type": "execute_result"
    }
   ],
   "source": [
    "li = [i**2 for i in range(10)]\n",
    "li"
   ]
  },
  {
   "cell_type": "code",
   "execution_count": 36,
   "metadata": {},
   "outputs": [
    {
     "name": "stdout",
     "output_type": "stream",
     "text": [
      "No data\n"
     ]
    }
   ],
   "source": [
    "target = 82\n",
    "idx = binary_search(li, target)\n",
    "if idx:\n",
    "    print(li[idx])\n",
    "else:\n",
    "    print(\"No data\")"
   ]
  },
  {
   "cell_type": "code",
   "execution_count": 37,
   "metadata": {
    "collapsed": true
   },
   "outputs": [],
   "source": [
    "# Recursion (재귀함수)\n",
    "    # 1. 함수 정의 안에 같은 함수로 호출해야\n",
    "    # 2. 탈출 조건이있어야"
   ]
  },
  {
   "cell_type": "code",
   "execution_count": 38,
   "metadata": {},
   "outputs": [
    {
     "ename": "RecursionError",
     "evalue": "maximum recursion depth exceeded",
     "output_type": "error",
     "traceback": [
      "\u001b[1;31m---------------------------------------------------------------------------\u001b[0m",
      "\u001b[1;31mRecursionError\u001b[0m                            Traceback (most recent call last)",
      "\u001b[1;32m<ipython-input-38-45083b7fa404>\u001b[0m in \u001b[0;36m<module>\u001b[1;34m()\u001b[0m\n\u001b[0;32m     10\u001b[0m         \u001b[1;31m# 탈출조건이 없다!!!\u001b[0m\u001b[1;33m\u001b[0m\u001b[1;33m\u001b[0m\u001b[0m\n\u001b[0;32m     11\u001b[0m \u001b[1;33m\u001b[0m\u001b[0m\n\u001b[1;32m---> 12\u001b[1;33m \u001b[0mfactorial\u001b[0m\u001b[1;33m(\u001b[0m\u001b[1;36m5\u001b[0m\u001b[1;33m)\u001b[0m\u001b[1;33m\u001b[0m\u001b[0m\n\u001b[0m\u001b[0;32m     13\u001b[0m \u001b[1;31m# 에러명 \"maximum recursion depth exceeded\" == \"stack overflow\"\u001b[0m\u001b[1;33m\u001b[0m\u001b[1;33m\u001b[0m\u001b[0m\n\u001b[0;32m     14\u001b[0m     \u001b[1;31m# 실행을 하면 factorial(n) stack frame 생성 => 그 위에 factorial(n-1) stack frame 생성\u001b[0m\u001b[1;33m\u001b[0m\u001b[1;33m\u001b[0m\u001b[0m\n",
      "\u001b[1;32m<ipython-input-38-45083b7fa404>\u001b[0m in \u001b[0;36mfactorial\u001b[1;34m(n)\u001b[0m\n\u001b[0;32m      7\u001b[0m \u001b[1;33m\u001b[0m\u001b[0m\n\u001b[0;32m      8\u001b[0m \u001b[1;32mdef\u001b[0m \u001b[0mfactorial\u001b[0m\u001b[1;33m(\u001b[0m\u001b[0mn\u001b[0m\u001b[1;33m)\u001b[0m\u001b[1;33m:\u001b[0m\u001b[1;33m\u001b[0m\u001b[0m\n\u001b[1;32m----> 9\u001b[1;33m     \u001b[1;32mreturn\u001b[0m \u001b[0mn\u001b[0m \u001b[1;33m*\u001b[0m \u001b[0mfactorial\u001b[0m\u001b[1;33m(\u001b[0m\u001b[0mn\u001b[0m\u001b[1;33m-\u001b[0m\u001b[1;36m1\u001b[0m\u001b[1;33m)\u001b[0m\u001b[1;33m\u001b[0m\u001b[0m\n\u001b[0m\u001b[0;32m     10\u001b[0m         \u001b[1;31m# 탈출조건이 없다!!!\u001b[0m\u001b[1;33m\u001b[0m\u001b[1;33m\u001b[0m\u001b[0m\n\u001b[0;32m     11\u001b[0m \u001b[1;33m\u001b[0m\u001b[0m\n",
      "... last 1 frames repeated, from the frame below ...\n",
      "\u001b[1;32m<ipython-input-38-45083b7fa404>\u001b[0m in \u001b[0;36mfactorial\u001b[1;34m(n)\u001b[0m\n\u001b[0;32m      7\u001b[0m \u001b[1;33m\u001b[0m\u001b[0m\n\u001b[0;32m      8\u001b[0m \u001b[1;32mdef\u001b[0m \u001b[0mfactorial\u001b[0m\u001b[1;33m(\u001b[0m\u001b[0mn\u001b[0m\u001b[1;33m)\u001b[0m\u001b[1;33m:\u001b[0m\u001b[1;33m\u001b[0m\u001b[0m\n\u001b[1;32m----> 9\u001b[1;33m     \u001b[1;32mreturn\u001b[0m \u001b[0mn\u001b[0m \u001b[1;33m*\u001b[0m \u001b[0mfactorial\u001b[0m\u001b[1;33m(\u001b[0m\u001b[0mn\u001b[0m\u001b[1;33m-\u001b[0m\u001b[1;36m1\u001b[0m\u001b[1;33m)\u001b[0m\u001b[1;33m\u001b[0m\u001b[0m\n\u001b[0m\u001b[0;32m     10\u001b[0m         \u001b[1;31m# 탈출조건이 없다!!!\u001b[0m\u001b[1;33m\u001b[0m\u001b[1;33m\u001b[0m\u001b[0m\n\u001b[0;32m     11\u001b[0m \u001b[1;33m\u001b[0m\u001b[0m\n",
      "\u001b[1;31mRecursionError\u001b[0m: maximum recursion depth exceeded"
     ]
    }
   ],
   "source": [
    "# Recursion with Factorial\n",
    "    # Factorial (계승)\n",
    "    \n",
    "    # ex) 3! = 3 * 2 * 1\n",
    "        # 4! = 4 * 3 * 2 * 1\n",
    "        # 5! = 5 * 4 * 3 * 2 * 1\n",
    "\n",
    "def factorial(n):\n",
    "    return n * factorial(n-1)\n",
    "        # 탈출조건이 없다!!!\n",
    "\n",
    "factorial(5)\n",
    "# 에러명 \"maximum recursion depth exceeded\" == \"stack overflow\"\n",
    "    # 실행을 하면 factorial(n) stack frame 생성 => 그 위에 factorial(n-1) stack frame 생성\n",
    "    # => 그 위에 facctorial(n-1-1) stack frame 생성 => 무한반복!!!\n",
    "        # 하지만 stack은 static memory allocation(SMA)이기에 메모리 용량이 정해져있다... 이것을 초과하면 overflow한다"
   ]
  },
  {
   "cell_type": "code",
   "execution_count": 40,
   "metadata": {},
   "outputs": [
    {
     "data": {
      "text/plain": [
       "6"
      ]
     },
     "execution_count": 40,
     "metadata": {},
     "output_type": "execute_result"
    }
   ],
   "source": [
    "# Recursion with Factorial with 탈출조건\n",
    "\n",
    "def factorial(n):\n",
    "    if n <= 1:\n",
    "        return 1\n",
    "    return n * factorial(n-1)\n",
    "\n",
    "\n",
    "factorial(3)"
   ]
  },
  {
   "cell_type": "code",
   "execution_count": 41,
   "metadata": {
    "collapsed": true
   },
   "outputs": [],
   "source": [
    "# Recursion with Fibonnaci\n",
    "    # n = 0 or n = 1이면, 값이 1\n",
    "    # v(n) = v(n-2) + v(n-1)\n",
    "        \n",
    "def fibonacci(n):\n",
    "    if n == 0 or n == 1:\n",
    "        return 1\n",
    "    return fibonacci(n-2) + fibonacci(n-1)"
   ]
  },
  {
   "cell_type": "code",
   "execution_count": 42,
   "metadata": {},
   "outputs": [
    {
     "name": "stdout",
     "output_type": "stream",
     "text": [
      "1  1  2  3  5  8  13  21  34  55  "
     ]
    }
   ],
   "source": [
    "for i in range(10):\n",
    "    print(fibonacci(i), end = '  ')"
   ]
  },
  {
   "cell_type": "code",
   "execution_count": 43,
   "metadata": {},
   "outputs": [],
   "source": [
    "# Recursion with Hanoi Tower\n",
    "\n",
    "# n : 쟁반 개수\n",
    "# from, by, to : A, B, C\n",
    "\n",
    "# Apparently this should be enough hints to solve this thing.....\n",
    "\n",
    "def hanoi(from_, by_, to_, n):\n",
    "    # 탈출조건\n",
    "    if n == 1:\n",
    "        pass\n",
    "\n",
    "    print('{}에서 {}로 {}번째 쟁반 이동'.format(from_, to_, n))"
   ]
  },
  {
   "cell_type": "code",
   "execution_count": 44,
   "metadata": {},
   "outputs": [
    {
     "name": "stdout",
     "output_type": "stream",
     "text": [
      "원반의 개수를 입력하세요!(종료 : 0) :3\n",
      "A에서 C로 1번째 쟁반 이동\n",
      "A에서 B로 2번째 쟁반 이동\n",
      "C에서 B로 1번째 쟁반 이동\n",
      "A에서 C로 3번째 쟁반 이동\n",
      "B에서 A로 1번째 쟁반 이동\n",
      "B에서 C로 2번째 쟁반 이동\n",
      "A에서 C로 1번째 쟁반 이동\n",
      "원반의 개수를 입력하세요!(종료 : 0) :0\n"
     ]
    }
   ],
   "source": [
    "# 강사의 모범답안\n",
    "\n",
    "# This is the hanoi code\n",
    "def hanoi(from_, by_, to_, n):\n",
    "    # 탈출조건\n",
    "    if n == 1:\n",
    "        print('{}에서 {}로 {}번째 쟁반 이동'.format(from_, to_, n))\n",
    "        return\n",
    "    hanoi(from_, to_, by_, n-1)\n",
    "    print('{}에서 {}로 {}번째 쟁반 이동'.format(from_, to_, n))\n",
    "    hanoi(by_, from_, to_, n-1)\n",
    "\n",
    "# This is the test code to test whether the hanoi code works properly\n",
    "while 1:\n",
    "    numOfTray = int(input(\"원반의 개수를 입력하세요!(종료 : 0) :\"))\n",
    "    if numOfTray == 0:\n",
    "        break\n",
    "    hanoi('A', 'B', 'C', numOfTray)"
   ]
  },
  {
   "cell_type": "code",
   "execution_count": 45,
   "metadata": {
    "collapsed": true
   },
   "outputs": [],
   "source": [
    "# Do a binary search with recursion\n",
    "\n",
    "# The original binary search function using while\n",
    "def binary_search(data, target):\n",
    "    data.sort()\n",
    "    # 첫 번째 인덱스\n",
    "    start = 0\n",
    "    # 마지막 인덱스\n",
    "    end = len(data) - 1\n",
    "    \n",
    "    while start <= end:\n",
    "        mid = (start + end) // 2\n",
    "        if target == data[mid]:\n",
    "            return mid\n",
    "        elif target < data[mid]:\n",
    "            end = mid - 1\n",
    "        else:\n",
    "            start = mid + 1\n",
    "    return None"
   ]
  },
  {
   "cell_type": "code",
   "execution_count": 46,
   "metadata": {},
   "outputs": [
    {
     "ename": "SyntaxError",
     "evalue": "invalid syntax (<ipython-input-46-97538888cad8>, line 4)",
     "output_type": "error",
     "traceback": [
      "\u001b[1;36m  File \u001b[1;32m\"<ipython-input-46-97538888cad8>\"\u001b[1;36m, line \u001b[1;32m4\u001b[0m\n\u001b[1;33m    if ....\u001b[0m\n\u001b[1;37m           ^\u001b[0m\n\u001b[1;31mSyntaxError\u001b[0m\u001b[1;31m:\u001b[0m invalid syntax\n"
     ]
    }
   ],
   "source": [
    "# The interface for doing a binary search with recursion\n",
    "def binary_search(data, target, start, end):\n",
    "    # 1. 탈출조건\n",
    "    if ....\n",
    "\n",
    "    ......\n",
    "    \n",
    "    return binary_search(...)"
   ]
  },
  {
   "cell_type": "code",
   "execution_count": 47,
   "metadata": {
    "collapsed": true
   },
   "outputs": [],
   "source": [
    "# My attempt to do a binary search with recursion\n",
    "\n",
    "def binary_search(data, target, start, end):\n",
    "    # 1. 탈출조건\n",
    "    if start >= end:\n",
    "        return None\n",
    "\n",
    "    mid = (start + end) // 2\n",
    "    if target == data[mid]:\n",
    "        return mid\n",
    "    \n",
    "    binary_search(data, target, mid + 1, end)\n",
    "    print\n",
    "    binary_search(data, target, start, mid -1)\n",
    "    \n",
    "    return binary_search(...)"
   ]
  },
  {
   "cell_type": "code",
   "execution_count": 48,
   "metadata": {
    "collapsed": true
   },
   "outputs": [],
   "source": [
    "# 강사의 모범답안\n",
    "\n",
    "def binary_search(data, target, start, end):\n",
    "    # 1. 탈출조건\n",
    "    if start > end:\n",
    "        return None\n",
    "    \n",
    "    mid = (start + end) // 2\n",
    "    \n",
    "    if target == data[mid]:\n",
    "        return mid\n",
    "    elif target < data[mid]:\n",
    "        end = mid - 1\n",
    "    else:\n",
    "        start = mid + 1\n",
    "\n",
    "    return binary_search(data, target, start, end)"
   ]
  },
  {
   "cell_type": "code",
   "execution_count": 50,
   "metadata": {},
   "outputs": [
    {
     "name": "stdout",
     "output_type": "stream",
     "text": [
      "찾는 데이터의 인덱스는 1이고 데이터는 4 입니다\n"
     ]
    }
   ],
   "source": [
    "data = [i**2 for i in range(1, 11)]\n",
    "        \n",
    "target = 4\n",
    "start = 0\n",
    "end = len(data) -1\n",
    "    \n",
    "idx = binary_search(data, target, start, end)\n",
    "\n",
    "if idx == None:\n",
    "    print(\"{}이 존재하지 않습니다\".format(target))\n",
    "else:\n",
    "    print(\"찾는 데이터의 인덱스는 {}이고 데이터는 {} 입니다\".format(idx, data[idx]))"
   ]
  },
  {
   "cell_type": "code",
   "execution_count": 56,
   "metadata": {
    "collapsed": true
   },
   "outputs": [],
   "source": [
    "# Exercise)) n을 입력하면, 1 + 2 + 3 + 4 + ... ...+ n을 연산하게 하는 재귀함수를 설계하라.\n",
    "    # 함수 sum_to_n(n) -> interger(sum이 나오도록)\n",
    "\n",
    "# My attempt to do this exercise\n",
    "total = 0\n",
    "\n",
    "def sum_to_n(n):\n",
    "    if n == 0:\n",
    "        print(total)\n",
    "        return\n",
    "    # 탈출조건\n",
    "    # 함수 내부에서 sum_to_n()\n",
    "    total += n\n",
    "    sum_to_n(n-1)"
   ]
  },
  {
   "cell_type": "code",
   "execution_count": 57,
   "metadata": {},
   "outputs": [
    {
     "ename": "UnboundLocalError",
     "evalue": "local variable 'total' referenced before assignment",
     "output_type": "error",
     "traceback": [
      "\u001b[1;31m---------------------------------------------------------------------------\u001b[0m",
      "\u001b[1;31mUnboundLocalError\u001b[0m                         Traceback (most recent call last)",
      "\u001b[1;32m<ipython-input-57-2c1f7c54cfaf>\u001b[0m in \u001b[0;36m<module>\u001b[1;34m()\u001b[0m\n\u001b[1;32m----> 1\u001b[1;33m \u001b[0mprint\u001b[0m\u001b[1;33m(\u001b[0m\u001b[0msum_to_n\u001b[0m\u001b[1;33m(\u001b[0m\u001b[1;36m10\u001b[0m\u001b[1;33m)\u001b[0m\u001b[1;33m)\u001b[0m\u001b[1;33m\u001b[0m\u001b[0m\n\u001b[0m",
      "\u001b[1;32m<ipython-input-56-09b0a115b2e3>\u001b[0m in \u001b[0;36msum_to_n\u001b[1;34m(n)\u001b[0m\n\u001b[0;32m     11\u001b[0m     \u001b[1;31m# 탈출조건\u001b[0m\u001b[1;33m\u001b[0m\u001b[1;33m\u001b[0m\u001b[0m\n\u001b[0;32m     12\u001b[0m     \u001b[1;31m# 함수 내부에서 sum_to_n()\u001b[0m\u001b[1;33m\u001b[0m\u001b[1;33m\u001b[0m\u001b[0m\n\u001b[1;32m---> 13\u001b[1;33m     \u001b[0mtotal\u001b[0m \u001b[1;33m+=\u001b[0m \u001b[0mn\u001b[0m\u001b[1;33m\u001b[0m\u001b[0m\n\u001b[0m\u001b[0;32m     14\u001b[0m     \u001b[0msum_to_n\u001b[0m\u001b[1;33m(\u001b[0m\u001b[0mn\u001b[0m\u001b[1;33m-\u001b[0m\u001b[1;36m1\u001b[0m\u001b[1;33m)\u001b[0m\u001b[1;33m\u001b[0m\u001b[0m\n",
      "\u001b[1;31mUnboundLocalError\u001b[0m: local variable 'total' referenced before assignment"
     ]
    }
   ],
   "source": [
    "print(sum_to_n(10))"
   ]
  },
  {
   "cell_type": "code",
   "execution_count": 58,
   "metadata": {
    "collapsed": true
   },
   "outputs": [],
   "source": [
    "# 강사의 모범답안\n",
    "def sum_to_n(n):\n",
    "    if n == 1:\n",
    "        return 1\n",
    "\n",
    "    return sum_to_n(n-1) + n"
   ]
  },
  {
   "cell_type": "code",
   "execution_count": 59,
   "metadata": {},
   "outputs": [
    {
     "name": "stdout",
     "output_type": "stream",
     "text": [
      "55\n"
     ]
    }
   ],
   "source": [
    "print(sum_to_n(10))"
   ]
  },
  {
   "cell_type": "code",
   "execution_count": 61,
   "metadata": {},
   "outputs": [],
   "source": [
    "# 누군가의 면접에서의 질문\n",
    "\n",
    "# 실제로 면접관이 물어보는 것:\n",
    "    # 자료구조를 아는가?\n",
    "    # recursion을 아는가?\n",
    "    # 개발자에게 필요한 수학을 할 줄 아는가?\n",
    "# 해법: 등차수열 --> 버블소트의 빅오"
   ]
  },
  {
   "cell_type": "code",
   "execution_count": 65,
   "metadata": {},
   "outputs": [
    {
     "name": "stdout",
     "output_type": "stream",
     "text": [
      "5000000050000000\n"
     ]
    }
   ],
   "source": [
    "# 일반적으로 이렇게 푼다... 하지만 면접에서는 반복문을 사용하지 말라고 했다...\n",
    "res = 0\n",
    "for i in range(1, 100000001):\n",
    "    res += 1\n",
    "print(sum_to_num(100000000))"
   ]
  },
  {
   "cell_type": "code",
   "execution_count": 64,
   "metadata": {},
   "outputs": [
    {
     "name": "stdout",
     "output_type": "stream",
     "text": [
      "5000000050000000\n"
     ]
    }
   ],
   "source": [
    "# 등차수열을 이용한 해법\n",
    "def sum_to_num(n):\n",
    "    return (n * (1 + n)) // 2\n",
    "print(sum_to_num(100000000))"
   ]
  },
  {
   "cell_type": "code",
   "execution_count": null,
   "metadata": {
    "collapsed": true
   },
   "outputs": [],
   "source": []
  }
 ],
 "metadata": {
  "kernelspec": {
   "display_name": "Python 3",
   "language": "python",
   "name": "python3"
  },
  "language_info": {
   "codemirror_mode": {
    "name": "ipython",
    "version": 3
   },
   "file_extension": ".py",
   "mimetype": "text/x-python",
   "name": "python",
   "nbconvert_exporter": "python",
   "pygments_lexer": "ipython3",
   "version": "3.6.1"
  }
 },
 "nbformat": 4,
 "nbformat_minor": 2
}
