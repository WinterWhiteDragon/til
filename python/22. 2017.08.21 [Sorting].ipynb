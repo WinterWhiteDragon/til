{
 "cells": [
  {
   "cell_type": "code",
   "execution_count": 1,
   "metadata": {
    "collapsed": true
   },
   "outputs": [],
   "source": [
    "# BUBBLE SORT"
   ]
  },
  {
   "cell_type": "code",
   "execution_count": 2,
   "metadata": {
    "collapsed": true
   },
   "outputs": [],
   "source": [
    "# ADT\n",
    "    # data를 list로 만든다\n",
    "    # return은 None을 반환한다\n",
    "def bubble_sort(data):\n",
    "    G = len(data) - 1\n",
    "    for H in range(len(data) - 1):\n",
    "        for E in range(G):\n",
    "            if data[E] > data[E+1]:\n",
    "                temp_data = data[E]\n",
    "                data[E] = data[E+1]\n",
    "                data[E+1] = temp_data\n",
    "        G = G - 1\n",
    "        \n",
    "# It works, and the principles are the same. That's good enough"
   ]
  },
  {
   "cell_type": "code",
   "execution_count": 3,
   "metadata": {},
   "outputs": [
    {
     "name": "stdout",
     "output_type": "stream",
     "text": [
      "[1, 2, 2, 3, 3, 4, 5, 6, 7, 8, 8, 10]\n"
     ]
    }
   ],
   "source": [
    "if __name__ == \"__main__\":\n",
    "    li = [2, 3, 5, 2, 3, 8, 6, 7, 10, 8, 1, 4]\n",
    "    bubble_sort(li)\n",
    "    print(li)"
   ]
  },
  {
   "cell_type": "code",
   "execution_count": 4,
   "metadata": {},
   "outputs": [
    {
     "data": {
      "text/plain": [
       "12"
      ]
     },
     "execution_count": 4,
     "metadata": {},
     "output_type": "execute_result"
    }
   ],
   "source": [
    "len(li)"
   ]
  },
  {
   "cell_type": "code",
   "execution_count": 5,
   "metadata": {
    "collapsed": true
   },
   "outputs": [],
   "source": [
    "# 강사의 모범답안\n",
    "def bubble_sort(data):\n",
    "    n = len(data)\n",
    "    for i in range(n-1):\n",
    "        for j in range(n-i-1):\n",
    "            if data[j] > data[j+1]:\n",
    "                data[j], data[j+1] = data[j+1], data[j]"
   ]
  },
  {
   "cell_type": "code",
   "execution_count": 6,
   "metadata": {
    "collapsed": true
   },
   "outputs": [],
   "source": [
    "# QUICK SORT"
   ]
  },
  {
   "cell_type": "code",
   "execution_count": 7,
   "metadata": {
    "collapsed": true
   },
   "outputs": [],
   "source": [
    "def quick_sort(data, start, end):\n",
    "    # 탈출조건\n",
    "    if start >= end:\n",
    "        return\n",
    "    \n",
    "    # start, end, left, right은 전부 index 번호다\n",
    "        # pivot만 index 값을 의미한다\n",
    "    left = start\n",
    "    right = end\n",
    "    pivot = data[(start+end)//2]\n",
    "    \n",
    "    while left <= right:\n",
    "        while data[left] < pivot:\n",
    "            left += 1\n",
    "        while data[right] > pivot:\n",
    "            right -= 1\n",
    "        \n",
    "    # 교차하지 않았으면 값을 교환, 교체 후 left & right은 한 칸 씩 이동\n",
    "        if left <= right:\n",
    "            data[left], data[right] = data[right], data[left]\n",
    "            left += 1\n",
    "            right -= 1\n",
    "    \n",
    "    # 입력값으로 무엇을 넣어야할까?\n",
    "    quick_sort(data, start, right)\n",
    "        # 교차 후이기에 start ~ right까지만 실행하면 된다\n",
    "    quick_sort(data, left, end)\n",
    "        # 교차 후이기에 left ~ end까지만 실행하면 된다"
   ]
  },
  {
   "cell_type": "code",
   "execution_count": 8,
   "metadata": {},
   "outputs": [
    {
     "name": "stdout",
     "output_type": "stream",
     "text": [
      "[1, 2, 2, 3, 3, 4, 5, 6, 7, 8, 8, 10]\n"
     ]
    }
   ],
   "source": [
    "if __name__ == \"__main__\":\n",
    "    li = [2, 3, 5, 2, 3, 8, 6, 7, 10, 8, 1, 4]\n",
    "    quick_sort(li, 0, len(li)-1)\n",
    "    print(li)\n",
    "\n",
    "    # LOL I was confused because I seemed to have written quick_sort() correctly but it wasn't working...\n",
    "        # turns out it wasn't working because the test code was wrong LOL\n",
    "    # start, end refer to index numbers, and I put in literally 2 (the first no.) & 4 (the last no.)"
   ]
  },
  {
   "cell_type": "code",
   "execution_count": null,
   "metadata": {
    "collapsed": true
   },
   "outputs": [],
   "source": []
  }
 ],
 "metadata": {
  "kernelspec": {
   "display_name": "Python 3",
   "language": "python",
   "name": "python3"
  },
  "language_info": {
   "codemirror_mode": {
    "name": "ipython",
    "version": 3
   },
   "file_extension": ".py",
   "mimetype": "text/x-python",
   "name": "python",
   "nbconvert_exporter": "python",
   "pygments_lexer": "ipython3",
   "version": "3.6.1"
  }
 },
 "nbformat": 4,
 "nbformat_minor": 2
}
