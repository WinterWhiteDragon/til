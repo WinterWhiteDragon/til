{
 "cells": [
  {
   "cell_type": "code",
   "execution_count": 1,
   "metadata": {
    "collapsed": true
   },
   "outputs": [],
   "source": [
    "# Queue"
   ]
  },
  {
   "cell_type": "code",
   "execution_count": 2,
   "metadata": {},
   "outputs": [],
   "source": [
    "# Queue를 구현하다\n",
    "class Queue(list):\n",
    "    # Python의 기본 클래스인 list를 상속받는다\n",
    "    \n",
    "    # enqueue\n",
    "    enqueue = list.append\n",
    "    # 상속받은 list를 사용하기에 method로 정의 불필요.\n",
    "    \n",
    "    def dequeue(self):\n",
    "        return self.pop(0)\n",
    "        # indexing 할 때는 ()가 아니라 []를 써야한다...\n",
    "            # self()를 하면 함수 호출을 의미한다\n",
    "        \n",
    "        # This results in an error:\n",
    "            # return self[0]\n",
    "            # list.pop(0)\n",
    "                # 이것은 index 0자리 수를 return하고 pop은 method 내부에서만 작동한다.\n",
    "                # dequeue는 pop을 return하지 않기에, 밖에서는 pop을 하지 않았다고 인식한다.\n",
    "            # How about returning both of these lines of code?\n",
    "                # YOU CANNOT RETURN TWO OR MORE VALUES IN A SINGLE FUNCTION\n",
    "        \n",
    "    \n",
    "    def peek(self):\n",
    "        return self[0]\n",
    "    \n",
    "    def empty(self):\n",
    "        if not self:\n",
    "            return True\n",
    "        return False   "
   ]
  },
  {
   "cell_type": "code",
   "execution_count": 3,
   "metadata": {},
   "outputs": [
    {
     "name": "stdout",
     "output_type": "stream",
     "text": [
      "2 4 6 8 10 "
     ]
    }
   ],
   "source": [
    "# Test Code for Queue\n",
    "if __name__ == \"__main__\":\n",
    "    q = Queue()\n",
    "    q.enqueue(2)\n",
    "    q.enqueue(4)\n",
    "    q.enqueue(6)\n",
    "    q.enqueue(8)\n",
    "    q.enqueue(10)\n",
    "    \n",
    "    while not q.empty():\n",
    "        print(q.dequeue(), end = ' ')"
   ]
  },
  {
   "cell_type": "code",
   "execution_count": null,
   "metadata": {
    "collapsed": true
   },
   "outputs": [],
   "source": []
  }
 ],
 "metadata": {
  "kernelspec": {
   "display_name": "Python 3",
   "language": "python",
   "name": "python3"
  },
  "language_info": {
   "codemirror_mode": {
    "name": "ipython",
    "version": 3
   },
   "file_extension": ".py",
   "mimetype": "text/x-python",
   "name": "python",
   "nbconvert_exporter": "python",
   "pygments_lexer": "ipython3",
   "version": "3.6.1"
  }
 },
 "nbformat": 4,
 "nbformat_minor": 2
}
