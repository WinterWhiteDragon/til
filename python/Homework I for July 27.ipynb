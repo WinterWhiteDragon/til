{
 "cells": [
  {
   "cell_type": "code",
   "execution_count": 1,
   "metadata": {},
   "outputs": [
    {
     "name": "stdout",
     "output_type": "stream",
     "text": [
      "81\n",
      "Hi there, what's your name? Jackpot\n",
      "Welcome to this game, Jackpot, guess the number please, an integer and nothing else!!! So? Your guess? 3\n",
      "Hey, Jackpot, you are an idiot, aren't you?\n"
     ]
    }
   ],
   "source": [
    "# Numguess Original\n",
    "import random\n",
    "\n",
    "\n",
    "answer = random.randint(1,100+1)\n",
    "print(answer)\n",
    "\n",
    "username = input(\"Hi there, what's your name? \")\n",
    "guess = eval(input(\"Welcome to this game, %s, guess the number please, an integer and nothing else!!! So? Your guess? \" % username))    \n",
    "\n",
    "if answer == guess:\n",
    "    print(\"Congratulations, \" + username + \", you were right! The answer is \" + str(answer) + \". You are a genius!\")\n",
    "else:\n",
    "    print(\"Hey, %s, you are an idiot, aren't you?\" % (username))"
   ]
  },
  {
   "cell_type": "code",
   "execution_count": 2,
   "metadata": {},
   "outputs": [
    {
     "name": "stdout",
     "output_type": "stream",
     "text": [
      "33\n",
      "Hi there, what's your name? Jackpot\n",
      "Welcome to this game, Jackpot, guess the number please, an integer and nothing else!!! So? Your guess? 2\n",
      "Hey, Jackpot, you are an idiot, aren't you?\n",
      "Welcome to this game, Jackpot, guess the number please, an integer and nothing else!!! So? Your guess? 5\n",
      "Hey, Jackpot, you are an idiot, aren't you?\n",
      "Welcome to this game, Jackpot, guess the number please, an integer and nothing else!!! So? Your guess? 33\n",
      "Congratulations, Jackpot, you were right! The answer is 33. You are a genius!\n"
     ]
    }
   ],
   "source": [
    "# Numguess Infinite Loop\n",
    "import random\n",
    "\n",
    "\n",
    "answer = random.randint(1,100+1)\n",
    "print(answer)\n",
    "username = input(\"Hi there, what's your name? \")\n",
    "\n",
    "while 3:\n",
    "    guess = eval(input(\"Welcome to this game, %s, guess the number please, an integer and nothing else!!! So? Your guess? \" % username))    \n",
    "    if answer == guess:\n",
    "        print(\"Congratulations, \" + username + \", you were right! The answer is \" + str(answer) + \". You are a genius!\")\n",
    "        break\n",
    "    else:\n",
    "        print(\"Hey, %s, you are an idiot, aren't you?\" % (username))"
   ]
  },
  {
   "cell_type": "code",
   "execution_count": 3,
   "metadata": {},
   "outputs": [
    {
     "name": "stdout",
     "output_type": "stream",
     "text": [
      "82\n",
      "Hi there, what's your name? Jackpot\n",
      "Welcome to this game, Jackpot, guess the number please, an integer and nothing else!!! So? Your guess? 3\n",
      "What an idiot, Jackpot, you should go jump off a bridge. But I'm magnanimous, so I'll give you another chance. Your guess was too low!\n",
      "Welcome to this game, Jackpot, guess the number please, an integer and nothing else!!! So? Your guess? 90\n",
      "Hey, Jackpot, you are an idiot, aren't you? But I'll give you another chance. Your guess was too high!\n",
      "Welcome to this game, Jackpot, guess the number please, an integer and nothing else!!! So? Your guess? 82\n",
      "Congratulations, Jackpot, you were right! The answer is 82. You are a genius!\n"
     ]
    }
   ],
   "source": [
    "# Numguess Infinite Loop with a Hint\n",
    "import random\n",
    "\n",
    "\n",
    "answer = random.randint(1,100+1)\n",
    "print(answer)\n",
    "username = input(\"Hi there, what's your name? \")\n",
    "\n",
    "while 3:\n",
    "    guess = eval(input(\"Welcome to this game, %s, guess the number please, an integer and nothing else!!! So? Your guess? \" % username))    \n",
    "    if answer == guess:\n",
    "        print(\"Congratulations, \" + username + \", you were right! The answer is \" + str(answer) + \". You are a genius!\")\n",
    "        break\n",
    "    elif answer < guess:\n",
    "        print(\"Hey, %s, you are an idiot, aren't you? But I'll give you another chance. Your guess was too high!\" % username)\n",
    "    else:\n",
    "        print(\"What an idiot, %s, you should go jump off a bridge. But I'm magnanimous, so I'll give you another chance. Your guess was too low!\" % username)"
   ]
  },
  {
   "cell_type": "code",
   "execution_count": 4,
   "metadata": {
    "scrolled": true
   },
   "outputs": [
    {
     "name": "stdout",
     "output_type": "stream",
     "text": [
      "64\n",
      "Hi there, what's your name? Jackpot\n",
      "Welcome to this game, Jackpot, guess the number please, an integer and nothing else!!! So? Your guess? 55\n",
      "Wrooooooooooong! Jackpot, your guess was too low!\n",
      "Welcome to this game, Jackpot, guess the number please, an integer and nothing else!!! So? Your guess? 80\n",
      "Hey, Jackpot, you are an idiot, aren't you? But I'll give you another chance. Your guess was too high!\n",
      "Welcome to this game, Jackpot, guess the number please, an integer and nothing else!!! So? Your guess? 63\n",
      "Wrooooooooooong! Jackpot, your guess was too low!\n",
      "Welcome to this game, Jackpot, guess the number please, an integer and nothing else!!! So? Your guess? 65\n",
      "Hey, Jackpot, you are an idiot, aren't you? But I'll give you another chance. Your guess was too high!\n",
      "Welcome to this game, Jackpot, guess the number please, an integer and nothing else!!! So? Your guess? 66\n",
      "Hey, Jackpot, you are an idiot, aren't you? But I'll give you another chance. Your guess was too high!\n",
      "You are the stupidest piece of sh*t I've ever seen. The answer was 64, dumbass!!\n"
     ]
    }
   ],
   "source": [
    "# Numguess Finite Loop with a Hint\n",
    "import random\n",
    "\n",
    "\n",
    "answer = random.randint(1,100+1)\n",
    "print(answer)\n",
    "username = input(\"Hi there, what's your name? \")\n",
    "trial = 5\n",
    "\n",
    "while trial:\n",
    "    guess = eval(input(\"Welcome to this game, %s, guess the number please, an integer and nothing else!!! So? Your guess? \" % username))    \n",
    "    if answer == guess:\n",
    "        print(\"Congratulations, \" + username + \", you were right! The answer is \" + str(answer) + \". You are a genius!\")\n",
    "        break\n",
    "    elif answer < guess:\n",
    "        print(\"Hey, %s, you are an idiot, aren't you? But I'll give you another chance. Your guess was too high!\" % username)\n",
    "        trial -= 1\n",
    "    else:\n",
    "        print(\"Wrooooooooooong! %s, your guess was too low!\" % username)\n",
    "        trial -= 1\n",
    "\n",
    "if trial == 0:\n",
    "    print(\"You are the stupidest piece of sh*t I've ever seen. The answer was %d, dumbass!!\" % answer)\n"
   ]
  },
  {
   "cell_type": "code",
   "execution_count": 5,
   "metadata": {},
   "outputs": [
    {
     "ename": "SyntaxError",
     "evalue": "EOL while scanning string literal (<ipython-input-5-2bff49999bb0>, line 8)",
     "output_type": "error",
     "traceback": [
      "\u001b[1;36m  File \u001b[1;32m\"<ipython-input-5-2bff49999bb0>\"\u001b[1;36m, line \u001b[1;32m8\u001b[0m\n\u001b[1;33m    username = input(\"Welcome to the Old Great Hall Party House of Sydney, Australia, the finest establishment in the world for our sort of business! \\n\u001b[0m\n\u001b[1;37m                                                                                                                                                        ^\u001b[0m\n\u001b[1;31mSyntaxError\u001b[0m\u001b[1;31m:\u001b[0m EOL while scanning string literal\n"
     ]
    }
   ],
   "source": [
    "# Numguess Finite Loop with Line Break for Input(Question)\n",
    "import random\n",
    "\n",
    "\n",
    "answer = random.randint(1,100+1)\n",
    "print(answer)\n",
    "# \"\\\"를 backslash로 사용하려고 했으나 \"SyntaxError: EOL while scanning string literal\"????\n",
    "username = input(\"Welcome to the Old Great Hall Party House of Sydney, Australia, the finest establishment in the world for our sort of business! \\n\n",
    "But wait a minute! What have we here? Hello, sir or madame, how's your day going and may I ask for your name? \")"
   ]
  },
  {
   "cell_type": "code",
   "execution_count": 6,
   "metadata": {},
   "outputs": [
    {
     "name": "stdout",
     "output_type": "stream",
     "text": [
      "91\n",
      "Welcome to the Grand Old Party House, the finest establishment in the world for our sort of business! If you need to ask what our business is, you surely don't belong here - you can find the door right behind you. For all others, welcome, sir or madame, please input your name into the little box before you.Jackpot\n",
      "Welcome to this game, Jackpot, guess the number please, an integer and nothing else!!! So? Your guess? 4\n",
      "I don't know what to say. You're horrible. WRONG! Too low! But try again.\n",
      "Welcome to this game, Jackpot, guess the number please, an integer and nothing else!!! So? Your guess? 80\n",
      "Hmm, not so good, Jackpot, you're a bit far from the answer. Too low! Here's another chance!\n",
      "Welcome to this game, Jackpot, guess the number please, an integer and nothing else!!! So? Your guess? 90\n",
      "Hmm, not bad, not bad... Jackpot, you got it wrong, your answer is too low, but you're almost there. I'll give you another chance.\n",
      "Welcome to this game, Jackpot, guess the number please, an integer and nothing else!!! So? Your guess? 92\n",
      "Hmm, not bad, not bad... Jackpot, you got it wrong, your answer is too high, but you're almost there. I'll give you another chance.\n",
      "Welcome to this game, Jackpot, guess the number please, an integer and nothing else!!! So? Your guess? 96\n",
      "Hmm, not bad, not bad... Jackpot, you got it wrong, your answer is too high, but you're almost there. I'll give you another chance.\n",
      "Welcome to this game, Jackpot, guess the number please, an integer and nothing else!!! So? Your guess? 120\n",
      "I don't know what to say. You're horrible. WRONG! Too high! But try again.\n",
      "Welcome to this game, Jackpot, guess the number please, an integer and nothing else!!! So? Your guess? 91\n",
      "Congratulations, Jackpot, you were right! The answer is 91. You are a genius!\n"
     ]
    }
   ],
   "source": [
    "# Numguess Finite Loop with Detailed Hints\n",
    "import random\n",
    "\n",
    "\n",
    "answer = random.randint(1,100+1)\n",
    "print(answer)\n",
    "# \"\\\"를 backslash로 사용하려고 했으나 \"SyntaxError: EOL while scanning string literal\"????\n",
    "username = input(\"Welcome to the Grand Old Party House, the finest establishment in the world for our sort of business! If you need to ask what our business is, you surely don't belong here - you can find the door right behind you. For all others, welcome, sir or madame, please input your name into the little box before you.\")\n",
    "trial = 10\n",
    "\n",
    "while trial:\n",
    "    guess = eval(input(\"Welcome to this game, %s, guess the number please, an integer and nothing else!!! So? Your guess? \" % username))    \n",
    "    # 다시 loop를 돌릴 때, 바로 전의 guess 입력값을 참조할 수 있나? 예) 답이 10, 첫번째 guess는 15, 두번째 guess는 20, 그러면 \"점점 멀어지고 있다\"로 출력?\n",
    "    if answer == guess:\n",
    "        print(\"Congratulations, \" + username + \", you were right! The answer is \" + str(answer) + \". You are a genius!\")\n",
    "        break\n",
    "    elif answer < guess < answer+10:\n",
    "        print(\"Hmm, not bad, not bad... %s, you got it wrong, your answer is too high, but you're almost there. I'll give you another chance.\" % username)\n",
    "        trial -= 1\n",
    "    elif answer+10 < guess < answer+20:\n",
    "        print(\"Hmm, not so good, %s, you're a bit far from the answer. Too high! Here's another chance!\" % username)\n",
    "        trial -= 1\n",
    "    elif answer+20 < guess:\n",
    "        print(\"I don't know what to say. You're horrible. WRONG! Too high! But try again.\")\n",
    "        trial -= 1\n",
    "    elif answer-10 < guess < answer:\n",
    "        print(\"Hmm, not bad, not bad... %s, you got it wrong, your answer is too low, but you're almost there. I'll give you another chance.\" % username)\n",
    "        trial -= 1\n",
    "    elif answer-20 < guess < answer-10:\n",
    "        print(\"Hmm, not so good, %s, you're a bit far from the answer. Too low! Here's another chance!\" % username)\n",
    "        trial -= 1\n",
    "    elif guess < answer-10 < answer:\n",
    "        print(\"I don't know what to say. You're horrible. WRONG! Too low! But try again.\")\n",
    "        trial -= 1\n",
    "        \n",
    "if trial == 0:\n",
    "    print(\"You are the stupidest piece of sh*t I've ever seen. The answer was %d, dumbass!!\" % answer)"
   ]
  },
  {
   "cell_type": "code",
   "execution_count": 7,
   "metadata": {},
   "outputs": [
    {
     "name": "stdout",
     "output_type": "stream",
     "text": [
      "61\n",
      "Welcome to the Grand Old Party House, the finest establishment in the world for our sort of business! If you need to ask what our business is, you surely don't belong here - you can find the door right behind you. For all others, welcome, sir or madame, please input your name into the little box before you.Jackpot\n",
      "Welcome to this game, Jackpot, guess the number please, an integer and nothing else!!! So? Your guess? 60\n",
      "Hmm, not bad, not bad... Jackpot, you got it wrong, your answer is too low, but you're almost there. I'll give you another chance.\n",
      "Welcome to this game, Jackpot, guess the number please, an integer and nothing else!!! So? Your guess? 50\n",
      "Hmm, not so good, Jackpot, you're a bit far from the answer. Too low! Here's another chance!\n",
      "Welcome to this game, Jackpot, guess the number please, an integer and nothing else!!! So? Your guess? 40\n",
      "I don't know what to say. You're horrible. WRONG! Too low! But try again.\n",
      "Welcome to this game, Jackpot, guess the number please, an integer and nothing else!!! So? Your guess? 70\n",
      "Hmm, not bad, not bad... Jackpot, you got it wrong, your answer is too high, but you're almost there. I'll give you another chance.\n",
      "Welcome to this game, Jackpot, guess the number please, an integer and nothing else!!! So? Your guess? 80\n",
      "Hmm, not so good, Jackpot, you're a bit far from the answer. Too high! Here's another chance!\n",
      "Welcome to this game, Jackpot, guess the number please, an integer and nothing else!!! So? Your guess? 90\n",
      "I don't know what to say. You're horrible. WRONG! Too high! But try again.\n",
      "Welcome to this game, Jackpot, guess the number please, an integer and nothing else!!! So? Your guess? 61\n",
      "Congratulations, Jackpot, you were right! The answer is 61. You are a genius!\n"
     ]
    }
   ],
   "source": [
    "# Numguess Finite Loop with Detailed Hints using abs instead of \"a < b <c \"\n",
    "import random\n",
    "\n",
    "\n",
    "answer = random.randint(1,100+1)\n",
    "print(answer)\n",
    "username = input(\"Welcome to the Grand Old Party House, the finest establishment in the world for our sort of business! If you need to ask what our business is, you surely don't belong here - you can find the door right behind you. For all others, welcome, sir or madame, please input your name into the little box before you.\")\n",
    "trial = 10\n",
    "\n",
    "while trial:\n",
    "    guess = eval(input(\"Welcome to this game, %s, guess the number please, an integer and nothing else!!! So? Your guess? \" % username))\n",
    "    diff = abs(answer - guess)\n",
    "    if answer == guess:\n",
    "        print(\"Congratulations, \" + username + \", you were right! The answer is \" + str(answer) + \". You are a genius!\")\n",
    "        break\n",
    "    elif guess > answer and diff <= 10:\n",
    "        # \"and\"와 \"&\"가 다른가? \"&\"를 입력하여 실행하면 제대로 되지 않는다\n",
    "        print(\"Hmm, not bad, not bad... %s, you got it wrong, your answer is too high, but you're almost there. I'll give you another chance.\" % username)\n",
    "        trial -= 1\n",
    "    elif guess > answer and diff <= 20:\n",
    "        print(\"Hmm, not so good, %s, you're a bit far from the answer. Too high! Here's another chance!\" % username)\n",
    "        trial -= 1\n",
    "    elif guess > answer and diff > 20:\n",
    "        print(\"I don't know what to say. You're horrible. WRONG! Too high! But try again.\")\n",
    "        trial -= 1\n",
    "    elif answer > guess and diff <= 10:\n",
    "        print(\"Hmm, not bad, not bad... %s, you got it wrong, your answer is too low, but you're almost there. I'll give you another chance.\" % username)\n",
    "        trial -= 1\n",
    "    elif answer > guess and diff <= 20:\n",
    "        print(\"Hmm, not so good, %s, you're a bit far from the answer. Too low! Here's another chance!\" % username)\n",
    "        trial -= 1\n",
    "    elif answer > guess and diff > 20:\n",
    "        print(\"I don't know what to say. You're horrible. WRONG! Too low! But try again.\")\n",
    "        trial -= 1\n",
    "        \n",
    "if trial == 0:\n",
    "    print(\"You are the stupidest piece of sh*t I've ever seen. The answer was %d, dumbass!!\" % answer)"
   ]
  },
  {
   "cell_type": "code",
   "execution_count": 8,
   "metadata": {},
   "outputs": [
    {
     "name": "stdout",
     "output_type": "stream",
     "text": [
      "21\n",
      "Welcome to the Grand Old Party House, the finest establishment in the world for our sort of business! If you need to ask what our business is, you surely don't belong here - you can find the door right behind you. For all others, welcome, sir or madame, please input your name into the little box before you.Jackpot\n",
      "Welcome to this game, Jackpot, guess the number please, an integer and nothing else!!! So? Your guess? 20\n",
      "{20}\n"
     ]
    },
    {
     "ename": "TypeError",
     "evalue": "unsupported operand type(s) for &: 'int' and 'set'",
     "output_type": "error",
     "traceback": [
      "\u001b[1;31m---------------------------------------------------------------------------\u001b[0m",
      "\u001b[1;31mTypeError\u001b[0m                                 Traceback (most recent call last)",
      "\u001b[1;32m<ipython-input-8-e22bf011bcff>\u001b[0m in \u001b[0;36m<module>\u001b[1;34m()\u001b[0m\n\u001b[0;32m     15\u001b[0m     \u001b[0mprint\u001b[0m\u001b[1;33m(\u001b[0m\u001b[0msave_guess\u001b[0m\u001b[1;33m)\u001b[0m\u001b[1;33m\u001b[0m\u001b[0m\n\u001b[0;32m     16\u001b[0m     \u001b[1;31m# 다시 loop를 돌릴 때, 바로 전의 guess 입력값을 참조할 수 있나? 예) 답이 10, 첫번째 guess는 15, 두번째 guess는 20, 그러면 \"점점 멀어지고 있다\"로 출력?\u001b[0m\u001b[1;33m\u001b[0m\u001b[1;33m\u001b[0m\u001b[0m\n\u001b[1;32m---> 17\u001b[1;33m     \u001b[1;32mif\u001b[0m \u001b[0mguess\u001b[0m \u001b[1;33m&\u001b[0m \u001b[0msave_guess\u001b[0m \u001b[1;33m==\u001b[0m \u001b[1;36m0\u001b[0m\u001b[1;33m:\u001b[0m\u001b[1;33m\u001b[0m\u001b[0m\n\u001b[0m\u001b[0;32m     18\u001b[0m         \u001b[0mprint\u001b[0m\u001b[1;33m(\u001b[0m\u001b[1;34m\"You've chosen that answer before! Try another.\"\u001b[0m\u001b[1;33m)\u001b[0m\u001b[1;33m\u001b[0m\u001b[0m\n",
      "\u001b[1;31mTypeError\u001b[0m: unsupported operand type(s) for &: 'int' and 'set'"
     ]
    }
   ],
   "source": [
    "# Numguess Finite Loop that Checks Whether You've Input that Value Before\n",
    "import random\n",
    "\n",
    "\n",
    "answer = random.randint(1,100+1)\n",
    "print(answer)\n",
    "# \"\\\"를 backslash로 사용하려고 했으나 \"SyntaxError: EOL while scanning string literal\"????\n",
    "username = input(\"Welcome to the Grand Old Party House, the finest establishment in the world for our sort of business! If you need to ask what our business is, you surely don't belong here - you can find the door right behind you. For all others, welcome, sir or madame, please input your name into the little box before you.\")\n",
    "trial = 10\n",
    "save_guess = {}\n",
    "\n",
    "while trial:\n",
    "    guess = eval(input(\"Welcome to this game, %s, guess the number please, an integer and nothing else!!! So? Your guess? \" % username))    \n",
    "    save_guess = {guess}\n",
    "    print(save_guess)\n",
    "    # 다시 loop를 돌릴 때, 바로 전의 guess 입력값을 참조할 수 있나? 예) 답이 10, 첫번째 guess는 15, 두번째 guess는 20, 그러면 \"점점 멀어지고 있다\"로 출력?\n",
    "    if guess & save_guess == 0:\n",
    "        print(\"You've chosen that answer before! Try another.\")"
   ]
  },
  {
   "cell_type": "code",
   "execution_count": null,
   "metadata": {
    "collapsed": true
   },
   "outputs": [],
   "source": []
  }
 ],
 "metadata": {
  "kernelspec": {
   "display_name": "Python 3",
   "language": "python",
   "name": "python3"
  },
  "language_info": {
   "codemirror_mode": {
    "name": "ipython",
    "version": 3
   },
   "file_extension": ".py",
   "mimetype": "text/x-python",
   "name": "python",
   "nbconvert_exporter": "python",
   "pygments_lexer": "ipython3",
   "version": "3.6.1"
  }
 },
 "nbformat": 4,
 "nbformat_minor": 2
}
