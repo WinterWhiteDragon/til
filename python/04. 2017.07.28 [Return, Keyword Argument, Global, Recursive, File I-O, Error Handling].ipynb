{
 "cells": [
  {
   "cell_type": "code",
   "execution_count": 1,
   "metadata": {},
   "outputs": [
    {
     "data": {
      "text/plain": [
       "10"
      ]
     },
     "execution_count": 1,
     "metadata": {},
     "output_type": "execute_result"
    }
   ],
   "source": [
    "# 덧셈 함수를 만들기\n",
    "def awe_sum(a, b):\n",
    "    result = 0\n",
    "        # 안전하게 result를 초기화... 혹여나 result라는 변수에 이미 다른 값이 지정되어 있을 수 있으니까\n",
    "    result = a + b\n",
    "    return(result)\n",
    "\n",
    "awe_sum(4,6)"
   ]
  },
  {
   "cell_type": "code",
   "execution_count": 2,
   "metadata": {},
   "outputs": [
    {
     "data": {
      "text/plain": [
       "'hello'"
      ]
     },
     "execution_count": 2,
     "metadata": {},
     "output_type": "execute_result"
    }
   ],
   "source": [
    "# Function without input\n",
    "def print_hello():\n",
    "    return \"hello\"\n",
    "\n",
    "print_hello()\n",
    "    # 입력값이 없더라도 \"()\"를 붙여야지, 없으면 이것이 함수명인지 변수명인지 몰라서 에러난다"
   ]
  },
  {
   "cell_type": "code",
   "execution_count": 3,
   "metadata": {},
   "outputs": [
    {
     "name": "stdout",
     "output_type": "stream",
     "text": [
      "hi, this is 2.2 without return.\n"
     ]
    }
   ],
   "source": [
    "# Function without return\n",
    "def func_wo_return(a):\n",
    "    print(\"hi, this is \" + str(a) + \" without return.\")\n",
    "\n",
    "func_wo_return(2.2)\n",
    "    # return이 없으면 함수를 실행했으나, 함수 밖으로 출력값이 나오지 않는다"
   ]
  },
  {
   "cell_type": "code",
   "execution_count": 4,
   "metadata": {},
   "outputs": [
    {
     "data": {
      "text/plain": [
       "(23, 123)"
      ]
     },
     "execution_count": 4,
     "metadata": {},
     "output_type": "execute_result"
    }
   ],
   "source": [
    "# Function with multiple returns\n",
    "def mul_return(a):\n",
    "    b = 0\n",
    "    b = a + 100\n",
    "    return(a, b)\n",
    "\n",
    "mul_return(23)\n",
    "    # 출력값은 tuple로 묶여있다... 함수 연산 결과 나왔기에 임의로 바꾸지 못하게 고정한 것이다"
   ]
  },
  {
   "cell_type": "code",
   "execution_count": 5,
   "metadata": {},
   "outputs": [
    {
     "name": "stdout",
     "output_type": "stream",
     "text": [
      "Invalid id: admin\n",
      "None\n",
      "Invalid id: admin\n",
      "Valid id:  admin\n",
      "None\n"
     ]
    }
   ],
   "source": [
    "# return이 하는 일\n",
    "def id_check(id):\n",
    "    if id == \"admin\":\n",
    "        print(\"Invalid id: admin\")\n",
    "        return\n",
    "    print(\"Valid id: \", id)\n",
    "        # 정석되로면 \"else:\"를 넣어야하지만, 어차피 if가 아니면 else이기에 생략하는 경우가 많다\n",
    "\n",
    "print(id_check(\"admin\"))\n",
    "\n",
    "\n",
    "def id_check(id):\n",
    "    if id == \"admin\":\n",
    "        print(\"Invalid id: admin\")\n",
    "        # return은 while에서의 \"break\"와 비슷하게 함수를 끝내라고 명령하는 기능\n",
    "    print(\"Valid id: \", id)\n",
    "\n",
    "print(id_check(\"admin\"))"
   ]
  },
  {
   "cell_type": "code",
   "execution_count": 6,
   "metadata": {},
   "outputs": [
    {
     "name": "stdout",
     "output_type": "stream",
     "text": [
      "Hi,  Korea\n",
      "Oh, you are not a fool.\n"
     ]
    }
   ],
   "source": [
    "def say_hello(name=\"Fool\", nick=True):\n",
    "    # 함수에 초기 입력값을 준다\n",
    "        ## 함수에 초기값을 설정하는 것은, 사용자가 아무런 입력값도 넣지 않을 경우에 대비한다\n",
    "        ### 초기값을 설정할 때는 초기값 없는 argument를 먼저 쓰고 초기값이 항상 마지막에 와야한다\n",
    "            ### ex) \"name, nick=True\"는 가능하지만, \"name=\"Fool\", nick\"은 안된다\n",
    "    print(\"Hi, \", name)\n",
    "    if nick == True:\n",
    "        print(\"But you are a fool.\")\n",
    "    else:\n",
    "        print(\"Oh, you are not a fool.\")\n",
    "\n",
    "    \n",
    "say_hello(\"Korea\", False)\n",
    "    # 함수를 사용할 때 새로운 입력값을 대입하여 함수에 지정된 초기값을 덮어쓴다"
   ]
  },
  {
   "cell_type": "code",
   "execution_count": 7,
   "metadata": {},
   "outputs": [
    {
     "data": {
      "text/plain": [
       "55"
      ]
     },
     "execution_count": 7,
     "metadata": {},
     "output_type": "execute_result"
    }
   ],
   "source": [
    "# 함수에 \"*\"를 넣으면 입력값(입력값 == parameter == argument)에 여러 값을 입력할 수 있게 만든다...\n",
    "        ## 즉, \"*\"를 사용하면 복수의 입력값을 list로 바꾼다\n",
    "        ## \"**\"를 사용하면 복수의 입력값을 dictionary로 바꾼다\n",
    "        ### \"*\" 자체가 keyword argument를 나타낸다... 다만 통상 \"*\"는 그냥 argument라고 부른다\n",
    "        ### \"*\" or \"**\"가 붙으면 둘 다 keyword argument라고 부르며, 그 이유는 keyword argument란 확장/축소할 수 있는 입력값을 뜻하기 때문이다\n",
    "            ### 여기서는 10가지 입력값을 입력하였으나 list로 바꿔서 하나의 자료형으로 만들었다\n",
    "def mul_sum(*arg):\n",
    "    result = 0\n",
    "    for num in arg:\n",
    "         result = result + num\n",
    "    return(result)\n",
    "\n",
    "mul_sum(1, 2, 3, 4, 5, 6, 7, 8, 9, 10)   "
   ]
  },
  {
   "cell_type": "code",
   "execution_count": 8,
   "metadata": {},
   "outputs": [
    {
     "name": "stdout",
     "output_type": "stream",
     "text": [
      "{'a': 10, 'b': 'google', 'c': 'fastcampus'}\n"
     ]
    }
   ],
   "source": [
    "def show_kwargs(**kwargs):\n",
    "    print(str(kwargs))\n",
    "    # Dictionary key-value는 무조건 문자열로 만들어야한다\n",
    "\n",
    "show_kwargs(a=10, b=\"google\", c=\"fastcampus\",)"
   ]
  },
  {
   "cell_type": "code",
   "execution_count": 9,
   "metadata": {},
   "outputs": [
    {
     "name": "stdout",
     "output_type": "stream",
     "text": [
      "{'ie': 'utf-8', 'query': '덩케르크'}\n"
     ]
    },
    {
     "data": {
      "text/plain": [
       "'https://www.naver.com:10001?ie=utf-8&query=덩케르크&'"
      ]
     },
     "execution_count": 9,
     "metadata": {},
     "output_type": "execute_result"
    }
   ],
   "source": [
    "# Autocompleting an online search url\n",
    "def kwargs_url(server, port, **query):\n",
    "    # keyword argument가 항상 마지막 순번이다... 일반 argument를 다 명시하고 keyword argument 써야한다\n",
    "    print(query)\n",
    "    url = \"https://\" + server + \":\" + port +\"?\"\n",
    "    # \"?\" 이후부터가 query 부분이다\n",
    "    for key in query.keys():\n",
    "        url += key + \"=\" + query[key] + \"&\"\n",
    "        # The same as url = url + key + \"=\" + query[key] + \"&\"\n",
    "        ## url에서 여러 요소를 사용할 경우 \"&\"로 구분한다\n",
    "    return url\n",
    "\n",
    "kwargs_url(\"www.naver.com\", \"10001\", ie = \"utf-8\", query = \"덩케르크\")\n",
    "    # query는 검색어를 의미"
   ]
  },
  {
   "cell_type": "code",
   "execution_count": 52,
   "metadata": {
    "collapsed": true
   },
   "outputs": [],
   "source": [
    "def glob_test(user_input):\n",
    "    user_input += \"world\"\n",
    "    return user_input"
   ]
  },
  {
   "cell_type": "code",
   "execution_count": 54,
   "metadata": {},
   "outputs": [
    {
     "name": "stdout",
     "output_type": "stream",
     "text": [
      "a: hello\n",
      "result: helloworld\n"
     ]
    }
   ],
   "source": [
    "# When a variable is outside the function 1\n",
    "a = \"hello\"\n",
    "def glob_test(a):\n",
    "    a += \"world\"\n",
    "    return a\n",
    "    # 함수 내에 있는 변수 a는 함수 밖에 있는 변수 a와 아무런 관계가 없다.\n",
    "\n",
    "glob_test(a)\n",
    "print(a)"
   ]
  },
  {
   "cell_type": "code",
   "execution_count": 11,
   "metadata": {},
   "outputs": [
    {
     "name": "stdout",
     "output_type": "stream",
     "text": [
      "hello\n"
     ]
    }
   ],
   "source": [
    "# When a variable is outside the function 2\n",
    "a = \"hello\"\n",
    "def glob_test(x):\n",
    "    x += \"world\"\n",
    "    return x\n",
    "\n",
    "glob_test(a)\n",
    "print(a)"
   ]
  },
  {
   "cell_type": "code",
   "execution_count": 65,
   "metadata": {},
   "outputs": [
    {
     "ename": "SyntaxError",
     "evalue": "name 'a' is parameter and global (<ipython-input-65-7a0198b957a5>, line 4)",
     "output_type": "error",
     "traceback": [
      "\u001b[1;36m  File \u001b[1;32m\"<ipython-input-65-7a0198b957a5>\"\u001b[1;36m, line \u001b[1;32m4\u001b[0m\n\u001b[1;33m    global a\u001b[0m\n\u001b[1;37m    ^\u001b[0m\n\u001b[1;31mSyntaxError\u001b[0m\u001b[1;31m:\u001b[0m name 'a' is parameter and global\n"
     ]
    }
   ],
   "source": [
    "# Using \"global\"\n",
    "a = \"hello\"\n",
    "def glob_test(a):\n",
    "    global a\n",
    "    a += \"world\"\n",
    "    return a\n",
    "\n",
    "glob_test(a)\n",
    "print(a)"
   ]
  },
  {
   "cell_type": "code",
   "execution_count": 13,
   "metadata": {},
   "outputs": [
    {
     "name": "stdout",
     "output_type": "stream",
     "text": [
      "hello world\n"
     ]
    }
   ],
   "source": [
    "# global을 이용하여 전역변수를 만드는 것은 안좋다\n",
    "    # 전역변수는 함수 바깥 변수에게 종속되며, 함수 밖 변수가 없어지면 함수가 작동하지 않는다\n",
    "a = \"hello\"\n",
    "def glob_test(a):\n",
    "    a += \" world\"\n",
    "    return a\n",
    "    \n",
    "a = glob_test(a)\n",
    "print(a)\n",
    "    # 변수 a의 값을 \"hello\"라고 지정 => glob_test(a)를 이용하여 함수 glob_test에 \"hello\"를 입력 =>\n",
    "            ## => 함수를 돌려 a값을 새롭게 return 받고 변수 a에다가 함수 출력값을 덮어쓰기"
   ]
  },
  {
   "cell_type": "code",
   "execution_count": 66,
   "metadata": {},
   "outputs": [
    {
     "name": "stdout",
     "output_type": "stream",
     "text": [
      "What year? 1900\n",
      "평년\n"
     ]
    }
   ],
   "source": [
    "# Identify leap years\n",
    "\n",
    "# 함수명 is_leap, 함수의 입력값이 윤년인지 평년인지 알고 싶은 연도\n",
    "def is_leap(a):\n",
    "    is_leap = \"윤년\" * ((a % 4 == 0 and a % 100 != 0) or a % 400 == 0) or \"평년\"\n",
    "    return is_leap\n",
    "\n",
    "a = int(input(\"What year? \"))\n",
    "print(is_leap(a))"
   ]
  },
  {
   "cell_type": "code",
   "execution_count": 15,
   "metadata": {},
   "outputs": [
    {
     "name": "stdout",
     "output_type": "stream",
     "text": [
      "What year? 1900\n",
      "False\n"
     ]
    }
   ],
   "source": [
    "# 강사님 답\n",
    "\n",
    "# <<1단계>>\n",
    "# def is_leap(year):\n",
    "#     leap = False\n",
    "#         평년이 훨씬 많기에 윤년이 False\n",
    "#     year % 4 == 0\n",
    "#     year % 100 != 0\n",
    "#     year % 400 == 0\n",
    "\n",
    "# <<2단계>>\n",
    "def is_leap(year):\n",
    "    leap = False\n",
    "    if year % 4 == 0 and (year % 100 != 0 or year % 400 == 0):\n",
    "        # if문에서 False가 나온다면 하위 실행문을 실행하지 않고 넘어간다\n",
    "        leap = True\n",
    "    return leap\n",
    "\n",
    "year = int(input(\"What year? \"))\n",
    "print(is_leap(year))"
   ]
  },
  {
   "cell_type": "code",
   "execution_count": 16,
   "metadata": {},
   "outputs": [
    {
     "name": "stdout",
     "output_type": "stream",
     "text": [
      "How many times do you wish to stab this vampire??? 5\n",
      "It's still alive! Stab it again! (4 times left) 'stab' 'stab' 'stab'\n",
      "It's still alive! Stab it again! (3 times left) 'stab' 'stab' 'stab'\n",
      "It's still alive! Stab it again! (2 times left) 'stab' 'stab' 'stab'\n",
      "It's still alive! Stab it again! (1 times left) 'stab' 'stab' 'stab'\n",
      "It's still alive! Stab it again! (0 times left) 'stab' 'stab' 'stab'\n",
      "You have purified this demonic vampire!!!!\n",
      "None\n"
     ]
    }
   ],
   "source": [
    "# Recursive 재귀호출\n",
    "    # recursive 실행문을 넣어가지고 함수가 자기자신을 다시 호출하게 만들 수 있다\n",
    "\n",
    "def restab_vampire(a):\n",
    "    if a == 0:\n",
    "        print(\"You have purified this demonic vampire!!!!\")\n",
    "    else:\n",
    "        print(\"It's still alive! Stab it again! (%d times left) 'stab' 'stab' 'stab'\" % (a-1))\n",
    "        restab_vampire(a-1)\n",
    "\n",
    "times = int(input(\"How many times do you wish to stab this vampire??? \"))\n",
    "print(restab_vampire(times))\n",
    "    # 함수를 먼저 정의하고나서 함수실행문을 적어야한다"
   ]
  },
  {
   "cell_type": "code",
   "execution_count": 2,
   "metadata": {
    "collapsed": true
   },
   "outputs": [],
   "source": [
    "# 파일입출력 == File I/O\n",
    "\n",
    "# 새 파일 열기\n",
    "f = open(\"NewFile.txt\", 'w')\n",
    "    # '\"NewFile.txt\"라는 새로운 파일을 write모드로 열어라'라는 명령어\n",
    "    ## \"\"나 '' 똑같다... 다만 파일이름에 \"'\"가 사용될 수 있으니까 \"\"를 쓰는것이다\n",
    "f.close()"
   ]
  },
  {
   "cell_type": "code",
   "execution_count": 3,
   "metadata": {
    "collapsed": true
   },
   "outputs": [],
   "source": [
    "# 파일에 글을 입력하기\n",
    "h = open(\"NewFile.txt\", \"a\")\n",
    "for i in range(1,11):\n",
    "# for반복문을 이용하여 i값을 text에 입력한다.\n",
    "    text = \"Hello Fast Campus for %2d times. \\n\" % i\n",
    "    h.write(text)\n",
    "    # h.write(text)를 이용하여 text의 값들을 \"h\"라는 이름으로 열린 파일에 입력(write)한다\n",
    "h.close()\n",
    "    ## h파일을 열고 그 안에 또 다른 파일을 열 수 있으나, 이것은 쓸데없이 복잡해지는 것이고, 그냥 h파일을 닫고 새로 실행문을 짜는 것이 좋다"
   ]
  },
  {
   "cell_type": "code",
   "execution_count": 4,
   "metadata": {},
   "outputs": [
    {
     "name": "stdout",
     "output_type": "stream",
     "text": [
      "Hello Fast Campus for  1 times. \n",
      "\n"
     ]
    }
   ],
   "source": [
    "# 파일의 글 첫번째 줄을 읽어오는 것\n",
    "i = open(\"NewFile.txt\", \"r\")\n",
    "text = i.readline()\n",
    "    # 이것은 단 한 줄을 읽어온다\n",
    "    # <파일명>.readline()이면 첫 줄 전체를 읽어온다... <파일명>.readline(3)이면 첫 줄의 3번째 글자까지 읽어온다\n",
    "print(text)\n",
    "i.close()"
   ]
  },
  {
   "cell_type": "code",
   "execution_count": 5,
   "metadata": {},
   "outputs": [
    {
     "name": "stdout",
     "output_type": "stream",
     "text": [
      "Hello Fast Campus for  1 times. \n",
      "\n",
      "Hello Fast Campus for  2 times. \n",
      "\n",
      "Hello Fast Campus for  3 times. \n",
      "\n",
      "Hello Fast Campus for  4 times. \n",
      "\n",
      "Hello Fast Campus for  5 times. \n",
      "\n",
      "Hello Fast Campus for  6 times. \n",
      "\n",
      "Hello Fast Campus for  7 times. \n",
      "\n",
      "Hello Fast Campus for  8 times. \n",
      "\n",
      "Hello Fast Campus for  9 times. \n",
      "\n",
      "Hello Fast Campus for 10 times. \n",
      "\n"
     ]
    }
   ],
   "source": [
    "# 파일의 글 전체를 읽어오는 것\n",
    "i = open(\"NewFile.txt\", \"r\")\n",
    "while True:\n",
    "    text = i.readline()\n",
    "        ## readline()이 end-of-file에 도달하면 아무것도 읽어오지 않는다\n",
    "    if not text:\n",
    "        break\n",
    "    print(text)\n",
    "    # 이렇게 글 전체를 읽어온다\n",
    "\n",
    "i.close()\n",
    "    ### 한 줄 띄고 읽어오는 이유는 처음에 \"NewFile.txt\"에 글을 입력할 때 \"\\n\"를 넣었기 때문이다."
   ]
  },
  {
   "cell_type": "code",
   "execution_count": 7,
   "metadata": {},
   "outputs": [
    {
     "name": "stdout",
     "output_type": "stream",
     "text": [
      "Hello Fast Campus for  1 times. \n",
      "\n",
      "Hello Fast Campus for  2 times. \n",
      "\n",
      "Hello Fast Campus for  3 times. \n",
      "\n",
      "Hello Fast Campus for  4 times. \n",
      "\n",
      "Hello Fast Campus for  5 times. \n",
      "\n",
      "Hello Fast Campus for  6 times. \n",
      "\n",
      "Hello Fast Campus for  7 times. \n",
      "\n",
      "Hello Fast Campus for  8 times. \n",
      "\n",
      "Hello Fast Campus for  9 times. \n",
      "\n",
      "Hello Fast Campus for 10 times. \n",
      "\n"
     ]
    }
   ],
   "source": [
    "# 파일의 글 전체를 읽어오는 것\n",
    "i = open(\"NewFile.txt\", \"r\")\n",
    "texts = i.readlines()\n",
    "    # texts는 list 형태로 읽어온다\n",
    "for text in texts:\n",
    "    print(text)\n",
    "    # 바로 texts을 출력하면 list 형태 그대로 출력된다\n",
    "\n",
    "i.close()"
   ]
  },
  {
   "cell_type": "code",
   "execution_count": 8,
   "metadata": {
    "collapsed": true
   },
   "outputs": [],
   "source": [
    "# 파일에 다시 글을 입력하기\n",
    "h = open(\"NewFile.txt\", \"a\")\n",
    "for i in range(11,21):\n",
    "    text = \"Mrow Fast Campus for %2d times. \\n\" % i\n",
    "    h.write(text)\n",
    "h.close()"
   ]
  },
  {
   "cell_type": "code",
   "execution_count": 9,
   "metadata": {},
   "outputs": [
    {
     "name": "stdout",
     "output_type": "stream",
     "text": [
      "Hello Fast Campus for  1 times. \n",
      "\n",
      "Hello Fast Campus for  2 times. \n",
      "\n",
      "Hello Fast Campus for  3 times. \n",
      "\n",
      "Hello Fast Campus for  4 times. \n",
      "\n",
      "Hello Fast Campus for  5 times. \n",
      "\n",
      "Hello Fast Campus for  6 times. \n",
      "\n",
      "Hello Fast Campus for  7 times. \n",
      "\n",
      "Hello Fast Campus for  8 times. \n",
      "\n",
      "Hello Fast Campus for  9 times. \n",
      "\n",
      "Hello Fast Campus for 10 times. \n",
      "\n",
      "Mrow Fast Campus for 11 times. \n",
      "\n",
      "Mrow Fast Campus for 12 times. \n",
      "\n",
      "Mrow Fast Campus for 13 times. \n",
      "\n",
      "Mrow Fast Campus for 14 times. \n",
      "\n",
      "Mrow Fast Campus for 15 times. \n",
      "\n",
      "Mrow Fast Campus for 16 times. \n",
      "\n",
      "Mrow Fast Campus for 17 times. \n",
      "\n",
      "Mrow Fast Campus for 18 times. \n",
      "\n",
      "Mrow Fast Campus for 19 times. \n",
      "\n",
      "Mrow Fast Campus for 20 times. \n",
      "\n"
     ]
    }
   ],
   "source": [
    "# 파일의 글 전체를 읽어오는 것\n",
    "i = open(\"NewFile.txt\", \"r\")\n",
    "texts = i.readlines()\n",
    "for text in texts:\n",
    "    print(text)\n",
    "\n",
    "i.close()"
   ]
  },
  {
   "cell_type": "code",
   "execution_count": 24,
   "metadata": {
    "collapsed": true
   },
   "outputs": [],
   "source": [
    "# f.close 사용 안해도 자동으로 닫히게 하는 법\n",
    "\n",
    "with open(\"NewFile.txt\", \"a\") as f:\n",
    "    for i in range(21,31):\n",
    "        f.write(\"Grrr Fast Campus for %2d times. \\n\" % i)"
   ]
  },
  {
   "cell_type": "code",
   "execution_count": 25,
   "metadata": {},
   "outputs": [
    {
     "name": "stdout",
     "output_type": "stream",
     "text": [
      "Hello Fast Campus for  1 times. \n",
      "\n",
      "Hello Fast Campus for  2 times. \n",
      "\n",
      "Hello Fast Campus for  3 times. \n",
      "\n",
      "Hello Fast Campus for  4 times. \n",
      "\n",
      "Hello Fast Campus for  5 times. \n",
      "\n",
      "Hello Fast Campus for  6 times. \n",
      "\n",
      "Hello Fast Campus for  7 times. \n",
      "\n",
      "Hello Fast Campus for  8 times. \n",
      "\n",
      "Hello Fast Campus for  9 times. \n",
      "\n",
      "Hello Fast Campus for 10 times. \n",
      "\n",
      "Mrow Fast Campus for 11 times. \n",
      "\n",
      "Mrow Fast Campus for 12 times. \n",
      "\n",
      "Mrow Fast Campus for 13 times. \n",
      "\n",
      "Mrow Fast Campus for 14 times. \n",
      "\n",
      "Mrow Fast Campus for 15 times. \n",
      "\n",
      "Mrow Fast Campus for 16 times. \n",
      "\n",
      "Mrow Fast Campus for 17 times. \n",
      "\n",
      "Mrow Fast Campus for 18 times. \n",
      "\n",
      "Mrow Fast Campus for 19 times. \n",
      "\n",
      "Mrow Fast Campus for 20 times. \n",
      "\n",
      "Grrr Fast Campus for 21 times. \n",
      "\n",
      "Grrr Fast Campus for 22 times. \n",
      "\n",
      "Grrr Fast Campus for 23 times. \n",
      "\n",
      "Grrr Fast Campus for 24 times. \n",
      "\n",
      "Grrr Fast Campus for 25 times. \n",
      "\n",
      "Grrr Fast Campus for 26 times. \n",
      "\n",
      "Grrr Fast Campus for 27 times. \n",
      "\n",
      "Grrr Fast Campus for 28 times. \n",
      "\n",
      "Grrr Fast Campus for 29 times. \n",
      "\n",
      "Grrr Fast Campus for 30 times. \n",
      "\n"
     ]
    }
   ],
   "source": [
    "with open(\"NewFile.txt\", \"r\") as i:\n",
    "    texts = i.readlines()\n",
    "    for text in texts:\n",
    "        print(text)"
   ]
  },
  {
   "cell_type": "code",
   "execution_count": 26,
   "metadata": {},
   "outputs": [
    {
     "name": "stdout",
     "output_type": "stream",
     "text": [
      "Gimme an integer-- ㄹ\n",
      "Dumbass, an integer!\n",
      "invalid literal for int() with base 10: 'ㄹ'\n"
     ]
    }
   ],
   "source": [
    "# Error Handling\n",
    "    ## \"try\" & \"except\"를 이용하여, 일반적으로 try 실행문을 실행해보고, 안되면 except 실행문을 이용하라~\n",
    "\n",
    "try:\n",
    "    text = int(input(\"Gimme an integer-- \"))\n",
    "    ### ValueError는 정수를 입력할 수 없는 문자열을 넣었을 때처럼\n",
    "except ValueError as e:\n",
    "    ### \"except ValueError\"는 \"만약 에러가 났는데 그것이 ValueError라면 이것을 실행하라\"라는 뜻\n",
    "    ### \"ValueError as e\"를 이용하여 ValueError를 e라고 부를 수 있다... print(e)를 하면 ValueError에 대한 설명을 출력한다\n",
    "# pass\n",
    "    ### \"pass\"는 임의값이 필요할 때 유용하다... \"pass\"를 보면 프로그램은 실행하지 않고 넘어간다\n",
    "    print(\"No, an integer!\")\n",
    "    print(e)\n",
    "else:\n",
    "    print(text)"
   ]
  },
  {
   "cell_type": "code",
   "execution_count": 27,
   "metadata": {},
   "outputs": [
    {
     "name": "stdout",
     "output_type": "stream",
     "text": [
      "Wrong file name, genius--\n",
      "[Errno 2] No such file or directory: 'error.txt'\n"
     ]
    }
   ],
   "source": [
    "# try, except, else는 try를 해보고, 에러나면 except을 하고, 에러가 나지 않으면 else로 가게 만든다\n",
    "## 먼저 이렇게 만들어놓는다\n",
    "# try:\n",
    "#     pass\n",
    "# except:\n",
    "#     pass\n",
    "# else:\n",
    "#     pass\n",
    "\n",
    "try:\n",
    "    f = open('error.txt', 'r')\n",
    "except FileNotFoundError as f:\n",
    "    print(\"Wrong file name, genius--\")\n",
    "    print(f)\n",
    "else:\n",
    "    text = f.read()\n",
    "    f.close()\n",
    "    \n",
    "    ### try-except는 사용자와 대화할 때만 사용하고, 사용자가 사용할만한 스크립트가 아니면 안 쓰는 것이 좋다\n",
    "        ### try-except가 구조적으로 좋지 않은 구조이다."
   ]
  },
  {
   "cell_type": "code",
   "execution_count": 28,
   "metadata": {},
   "outputs": [
    {
     "ename": "FileNotFoundError",
     "evalue": "[Errno 2] No such file or directory: 'error.txt'",
     "output_type": "error",
     "traceback": [
      "\u001b[1;31m---------------------------------------------------------------------------\u001b[0m",
      "\u001b[1;31mFileNotFoundError\u001b[0m                         Traceback (most recent call last)",
      "\u001b[1;32m<ipython-input-28-37626224767a>\u001b[0m in \u001b[0;36m<module>\u001b[1;34m()\u001b[0m\n\u001b[1;32m----> 1\u001b[1;33m \u001b[0mf\u001b[0m \u001b[1;33m=\u001b[0m \u001b[0mopen\u001b[0m\u001b[1;33m(\u001b[0m\u001b[1;34m'error.txt'\u001b[0m\u001b[1;33m,\u001b[0m \u001b[1;34m'r'\u001b[0m\u001b[1;33m)\u001b[0m\u001b[1;33m\u001b[0m\u001b[0m\n\u001b[0m\u001b[0;32m      2\u001b[0m \u001b[0mf\u001b[0m\u001b[1;33m.\u001b[0m\u001b[0mclose\u001b[0m\u001b[1;33m(\u001b[0m\u001b[1;33m)\u001b[0m\u001b[1;33m\u001b[0m\u001b[0m\n",
      "\u001b[1;31mFileNotFoundError\u001b[0m: [Errno 2] No such file or directory: 'error.txt'"
     ]
    }
   ],
   "source": [
    "f = open('error.txt', 'r')\n",
    "f.close()"
   ]
  },
  {
   "cell_type": "code",
   "execution_count": 42,
   "metadata": {},
   "outputs": [
    {
     "name": "stdout",
     "output_type": "stream",
     "text": [
      "Wrong file name, genius--\n",
      "[Errno 2] No such file or directory: 'error.txt'\n"
     ]
    }
   ],
   "source": [
    "# with & texts-readlines 사용하기, 복수의 에러 가능성에 대비하기\n",
    "try:\n",
    "    with open('error.txt', 'r') as x1:\n",
    "        pass\n",
    "        # \"with\" 뒤에는 indent+실행문을 넣어야한다... 만약 아무것도 없이 \"except\"로 넘어가면 시작을 했는데 아무것도 안하고 넘어가기에 에러가 난다\n",
    "except FileNotFoundError as x:\n",
    "    print(\"Wrong file name, genius--\")\n",
    "    print(x)\n",
    "except ValueError as b:\n",
    "    pass\n",
    "    # 에러가 여러가지가 발생할 가능성이 있으면, 필요한만큼 except를 추가하면 된다\n",
    "except SyntaxError as L:\n",
    "    pass\n",
    "    # 에러를 pass시켜서 에러 났을 때 사용자에게 안보이게 만들 수 있다\n",
    "else:\n",
    "    texts = x1.readlines()\n",
    "    for text in texts:\n",
    "        print(text)"
   ]
  },
  {
   "cell_type": "code",
   "execution_count": 45,
   "metadata": {},
   "outputs": [
    {
     "name": "stdout",
     "output_type": "stream",
     "text": [
      "A\n"
     ]
    }
   ],
   "source": [
    "try:\n",
    "    print(\"A\")\n",
    "except:\n",
    "    print(\"b\")"
   ]
  },
  {
   "cell_type": "code",
   "execution_count": null,
   "metadata": {
    "collapsed": true
   },
   "outputs": [],
   "source": []
  }
 ],
 "metadata": {
  "kernelspec": {
   "display_name": "Python 3",
   "language": "python",
   "name": "python3"
  },
  "language_info": {
   "codemirror_mode": {
    "name": "ipython",
    "version": 3
   },
   "file_extension": ".py",
   "mimetype": "text/x-python",
   "name": "python",
   "nbconvert_exporter": "python",
   "pygments_lexer": "ipython3",
   "version": "3.6.1"
  }
 },
 "nbformat": 4,
 "nbformat_minor": 2
}
