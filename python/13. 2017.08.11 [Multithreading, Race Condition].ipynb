{
 "cells": [
  {
   "cell_type": "code",
   "execution_count": 1,
   "metadata": {
    "collapsed": true
   },
   "outputs": [],
   "source": [
    "# Multithreading (Concurrency)\n",
    "\n",
    "# Exercise\n",
    "    # Warning: Jupyter may show errors when attempting multithreading\n",
    "\n",
    "import threading"
   ]
  },
  {
   "cell_type": "code",
   "execution_count": 2,
   "metadata": {
    "collapsed": true
   },
   "outputs": [],
   "source": [
    "# You need a code to execute to use multithreading\n",
    "\n",
    "n = 100\n",
    "# The list currently consists of [0, 1, 2, 3, 4, 5, ......100]\n",
    "# The final result should be the multiply all elements by a factor of 2\n",
    "    # [0, 2, 4, 6, 8, 10, ......200]\n",
    "\n",
    "li = [i for i in range(n+1)]\n",
    "\n",
    "# If running with a single thread:\n",
    "'''\n",
    "for i in range(n + 1):\n",
    "    li[i] = li[i] * 2\n",
    "'''\n",
    "\n",
    "# For multithreading\n",
    "offset = n // 4 # Result should be 25    "
   ]
  },
  {
   "cell_type": "code",
   "execution_count": 3,
   "metadata": {
    "collapsed": true
   },
   "outputs": [],
   "source": [
    "def thread_main(li, m):\n",
    "    for idx in range(offset * m + 1, offset * (m + 1) + 1):\n",
    "        # offset은 25, 만약 n = 0이면 range(1,26)\n",
    "        # 만약 n = 1이면 range(26,51)\n",
    "        li[idx] = li[idx] * 2"
   ]
  },
  {
   "cell_type": "code",
   "execution_count": 4,
   "metadata": {
    "collapsed": true
   },
   "outputs": [],
   "source": [
    "# Making threads\n",
    "\n",
    "threads = []\n",
    "    # A list to hold the threads"
   ]
  },
  {
   "cell_type": "code",
   "execution_count": 5,
   "metadata": {
    "collapsed": true
   },
   "outputs": [],
   "source": [
    "for m in range(4):\n",
    "    th = threading.Thread(target = thread_main, args = (li, m))\n",
    "            # args에다가 여러 변수를 입력하면 error, tuple로 묶어서 입력해야한다.\n",
    "                # 더 많은 변수를 입력하려면 그냥 \",\"하고 추가하면 된다\n",
    "    threads.append(th)\n",
    "\n",
    "for t in threads:\n",
    "    t.start()\n",
    "    \n",
    "for h in threads:\n",
    "    h.join()\n",
    "    # 여기 작성한 코드가 main thread, print(li)까지 실행하면 main thread는 종료된다\n",
    "        # 문제는 main thread가 종료하면 4개의 thread는 자동으로 종료된다, 연산이 끝났던 안끝났던 \n",
    "    # join 함수는 모든 thread가 끝날 때까지 main thread가 끝나지 않고 기다리라는 명령."
   ]
  },
  {
   "cell_type": "code",
   "execution_count": 6,
   "metadata": {},
   "outputs": [
    {
     "name": "stdout",
     "output_type": "stream",
     "text": [
      "[0, 2, 4, 6, 8, 10, 12, 14, 16, 18, 20, 22, 24, 26, 28, 30, 32, 34, 36, 38, 40, 42, 44, 46, 48, 50, 52, 54, 56, 58, 60, 62, 64, 66, 68, 70, 72, 74, 76, 78, 80, 82, 84, 86, 88, 90, 92, 94, 96, 98, 100, 102, 104, 106, 108, 110, 112, 114, 116, 118, 120, 122, 124, 126, 128, 130, 132, 134, 136, 138, 140, 142, 144, 146, 148, 150, 152, 154, 156, 158, 160, 162, 164, 166, 168, 170, 172, 174, 176, 178, 180, 182, 184, 186, 188, 190, 192, 194, 196, 198, 200]\n"
     ]
    }
   ],
   "source": [
    "print(li)"
   ]
  },
  {
   "cell_type": "code",
   "execution_count": 13,
   "metadata": {
    "collapsed": true
   },
   "outputs": [],
   "source": [
    "# Race Condition simulation\n",
    "\n",
    "# 전역 변수\n",
    "g_count = 0\n",
    "    # 보통 전역 변수를 g라고 한다\n",
    "    # race condition을 확인하기 위해서는 g_count = 5,000,000 정도면 될 듯\n",
    "    # 전역변수는 data 영역에 저장되고, data 영역은 thread간 공유되는 \"공유자원\"이다\n",
    "    \n",
    "lock = threading.Lock()\n",
    "    # race condition을 막기위해서 추가"
   ]
  },
  {
   "cell_type": "code",
   "execution_count": 14,
   "metadata": {
    "collapsed": true
   },
   "outputs": [],
   "source": [
    "def thread_main_2():\n",
    "    global g_count\n",
    "    lock.acquire()\n",
    "        # race condition을 막기위해서 추가\n",
    "    \n",
    "    for i in range(100000):\n",
    "        g_count += 1\n",
    "    lock.release()\n",
    "        # race condition을 막기위해서 추가"
   ]
  },
  {
   "cell_type": "code",
   "execution_count": 15,
   "metadata": {},
   "outputs": [
    {
     "name": "stdout",
     "output_type": "stream",
     "text": [
      "g_count : 5,000,000\n"
     ]
    }
   ],
   "source": [
    "threads = []\n",
    "\n",
    "for a in range(50):\n",
    "    k = threading.Thread(target = thread_main_2)\n",
    "    threads.append(k)\n",
    "\n",
    "for b in threads:\n",
    "    b.start()\n",
    "    \n",
    "for c in threads:\n",
    "    c.join()\n",
    "\n",
    "print(\"g_count : {:,}\".format(g_count))\n",
    "    # {} 안에 \":,\"를 넣으면 숫자 표현을 할 때 3자리마다 \",\"를 넣는다\n",
    "\n",
    "# threading.Lock() 함수를 이용하니까 Mutual Exclusion을 사용하여 정확히 나온다"
   ]
  },
  {
   "cell_type": "code",
   "execution_count": null,
   "metadata": {
    "collapsed": true
   },
   "outputs": [],
   "source": []
  },
  {
   "cell_type": "code",
   "execution_count": null,
   "metadata": {
    "collapsed": true
   },
   "outputs": [],
   "source": []
  }
 ],
 "metadata": {
  "kernelspec": {
   "display_name": "Python 3",
   "language": "python",
   "name": "python3"
  },
  "language_info": {
   "codemirror_mode": {
    "name": "ipython",
    "version": 3
   },
   "file_extension": ".py",
   "mimetype": "text/x-python",
   "name": "python",
   "nbconvert_exporter": "python",
   "pygments_lexer": "ipython3",
   "version": "3.6.1"
  }
 },
 "nbformat": 4,
 "nbformat_minor": 2
}
