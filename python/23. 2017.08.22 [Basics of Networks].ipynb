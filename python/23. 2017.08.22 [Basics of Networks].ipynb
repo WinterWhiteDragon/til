{
 "cells": [
  {
   "cell_type": "code",
   "execution_count": 1,
   "metadata": {},
   "outputs": [
    {
     "name": "stdout",
     "output_type": "stream",
     "text": [
      "<http.client.HTTPResponse object at 0x000001FCB5217630>\n",
      "https://www.google.co.kr/?gfe_rd=cr&ei=HdKbWY2NH8zo8AfR-oGABA \n",
      " \n",
      "b'<!doctype html><html itemscope=\"\" itemtype=\"http://schema.org/WebPage\" lang=\"ko\"><head><meta content=\"text/html; charset=UTF-8\" http-equiv=\"Content-Type\"><meta content=\"/images/branding/googleg/1x/googleg_standard_color_128dp.png\" itemprop=\"image\"><title>Google</title><script>(function(){window.google={kEI:\\'HdKbWZzJLcaG0wK9wqqYCQ\\',kEXPI:\\'1353382,1354277,1354296,1354401,1354515,1354625,1354663,1354748,1355157,3700266,3700347,3700407,3700442,4029815,4031109,4043492,4045841,4048347,4072776,4076999,4078430,4081038,4081165,4083113,4093314,4094544,4095910,4097153,4097922,4097929,4098721,4098728,4098752,4102090,4103475,4103845,4103861,4104258,4107344,4107555,4109316,4109490,4110656,4111275,4113148,4113217,4113275,4114597,4115288,4116349,4116724,4116731,4116926,4116935,4117153,4117327,4117980,4118103,4118160,4118227,4118546,4118627,4118798,4119026,4119121,4119239,4119272,4120414,4120712,4121035,4121081,4121202,4121695,4121806,4122025,4122698,4123644,4123829,4123837,4123983,4124340,4124948,4125372,4125478,4126001,4126205,4126639,4126768,4126790,4126890,4126960,4126964,4127302,4127315,4127329,4127538,4127728,4127751,4127802,10200083,19003349,19003363\\',authuser:0,kscs:\\'c9c918f0_24\\',u:\\'c9c918f0\\'};google.kHL=\\'ko\\';})();(function(){google.lc=[];google.li=0;google.getEI=function(a){for(var b;a&&(!a.getAttribute||!(b=a.getAttribute(\"eid\")));)a=a.parentNode;return b||google.kEI};google.getLEI=function(a){for(var b=null;a&&(!a.getAttribute||!(b=a.getAttribute(\"leid\")));)a=a.parentNode;return b};google.https=function(){return\"https:\"==window.location.protocol};google.ml=function(){return null};google.wl=function(a,b){try{google.ml(Error(a),!1,b)}catch(c){}};google.time=function(){return(new Date).getTime()};google.log=function(a,b,c,d,g){if(a=google.logUrl(a,b,c,d,g)){b=new Image;var e=google.lc,f=google.li;e[f]=b;b.onerror=b.onload=b.onabort=function(){delete e[f]};google.vel&&google.vel.lu&&google.vel.lu(a);b.src=a;google.li=f+1}};google.logUrl=function(a,b,c,d,g){var e=\"\",f=google.ls||\"\";c||-1!=b.search(\"&ei=\")||(e=\"&ei=\"+google.getEI(d),-1==b.search(\"&lei=\")&&(d=google.getLEI(d))&&(e+=\"&lei=\"+d));d=\"\";!c&&google.cached&&-1==b.search(\"&cached=\")&&(d=\"&cached=\"+google.cached);a=c||\"/\"+(g||\"gen_204\")+\"?atyp=i&ct=\"+a+\"&cad=\"+b+e+f+\"&zx=\"+google.time()+d;/^http:/i.test(a)&&google.https()&&(google.ml(Error(\"a\"),!1,{src:a,glmm:1}),a=\"\");return a};google.y={};google.x=function(a,b){if(a)var c=a.id;else{do c=Math.random();while(google.y[c])}google.y[c]=[a,b];return!1};google.lq=[];google.load=function(a,b,c){google.lq.push([[a],b,c])};google.loadAll=function(a,b){google.lq.push([a,b])};}).call(this);google.f={};var a=window.location,b=a.href.indexOf(\"#\");if(0<=b){var c=a.href.substring(b+1);/(^|&)q=/.test(c)&&-1==c.indexOf(\"#\")&&a.replace(\"/search?\"+c.replace(/(^|&)fp=[^&]*/g,\"\")+\"&cad=h\")};</script><style>#gbar,#guser{font-size:13px;padding-top:1px !important;}#gbar{height:22px}#guser{padding-bottom:7px !important;text-align:right}.gbh,.gbd{border-top:1px solid #c9d7f1;font-size:1px}.gbh{height:0;position:absolute;top:24px;width:100%}@media all{.gb1{height:22px;margin-right:.5em;vertical-align:top}#gbar{float:left}}a.gb1,a.gb4{text-decoration:underline !important}a.gb1,a.gb4{color:#00c !important}.gbi .gb4{color:#dd8e27 !important}.gbf .gb4{color:#900 !important}\\n' \n",
      " \n",
      "200\n"
     ]
    }
   ],
   "source": [
    "# HTTP exercise\n",
    "\n",
    "from urllib.request import urlopen\n",
    "response = urlopen(\"https://www.google.com/\")\n",
    "print(response)\n",
    "print(response.url, end = \" \\n \\n\")\n",
    "    # \"https://www.google.com/\"라고 치면 .kr로 바뀌고 뒤에 부가 정보가 추가된다. 어떻게?\n",
    "        # http request를 할 때, IP정보와 기기정보가 같이 보내지기에 알아서 바뀐다\n",
    "            # ex) git-scm.com에 가면, 윈도스 OS를 쓰면 윈도스용을 다운로드 받을 수 있고, 맥북을 쓰면 맥용을 다운로드 받을 수 있다\n",
    "print(response.readline(), end = \" \\n \\n\")\n",
    "    # http request를 하면 응답은 html file이라는 것을 알 수 있다.\n",
    "        # 그리고 내 컴퓨터에서는 받은 html file을 가지고 사용자가 볼 수 있게 그림을 그려 보여준다\n",
    "        \n",
    "print(response.status)\n",
    "    # response의 status를 볼 수 있게 해준다.\n",
    "        # \"200\"번대 이라고 나오면 response를 제대로 처리했다는 뜻이다.\n",
    "        # \"300\"번대는 POST 요청을 보냈을 때 (e.g. 회원가입을 할 때), url이 변경됐지만 제대로 처리했다는 뜻이다.\n",
    "        # \"400~500\"번대는 어떠한 에러가 났다는 뜻이다 (정보가 지워져서 없거나, 접근권한이 없거나, 서버가 문제있다거나 등등)"
   ]
  },
  {
   "cell_type": "code",
   "execution_count": 2,
   "metadata": {
    "collapsed": true
   },
   "outputs": [],
   "source": [
    "# try / except로 error handling\n",
    "\n",
    "import urllib.error\n",
    "try:\n",
    "    urlopen(\"https://www.nate.com/39gj2ijjwsd9fij2i20989999999999999999999fjk2kik0hjo\")\n",
    "except urllib.error.HTTPError as e:\n",
    "    print('status', e.code)\n",
    "    print('reason', e.reason)\n",
    "    print('url', e.url)"
   ]
  },
  {
   "cell_type": "code",
   "execution_count": null,
   "metadata": {
    "collapsed": true
   },
   "outputs": [],
   "source": []
  }
 ],
 "metadata": {
  "kernelspec": {
   "display_name": "Python 3",
   "language": "python",
   "name": "python3"
  },
  "language_info": {
   "codemirror_mode": {
    "name": "ipython",
    "version": 3
   },
   "file_extension": ".py",
   "mimetype": "text/x-python",
   "name": "python",
   "nbconvert_exporter": "python",
   "pygments_lexer": "ipython3",
   "version": "3.6.1"
  }
 },
 "nbformat": 4,
 "nbformat_minor": 2
}
