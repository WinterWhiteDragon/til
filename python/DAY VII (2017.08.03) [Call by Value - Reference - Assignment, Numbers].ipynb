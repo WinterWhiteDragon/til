{
 "cells": [
  {
   "cell_type": "code",
   "execution_count": 1,
   "metadata": {
    "collapsed": true
   },
   "outputs": [],
   "source": [
    "# Stack Frame\n",
    "def func(a, b = 5):\n",
    "    # b = 5 is the default argument\n",
    "    return a + b"
   ]
  },
  {
   "cell_type": "code",
   "execution_count": 7,
   "metadata": {},
   "outputs": [
    {
     "data": {
      "text/plain": [
       "6"
      ]
     },
     "execution_count": 7,
     "metadata": {},
     "output_type": "execute_result"
    }
   ],
   "source": [
    "func(2, 4)\n",
    "# b is not empty, so the default argument doesn't apply"
   ]
  },
  {
   "cell_type": "code",
   "execution_count": 5,
   "metadata": {},
   "outputs": [
    {
     "data": {
      "text/plain": [
       "8"
      ]
     },
     "execution_count": 5,
     "metadata": {},
     "output_type": "execute_result"
    }
   ],
   "source": [
    "func(3)"
   ]
  },
  {
   "cell_type": "code",
   "execution_count": 4,
   "metadata": {},
   "outputs": [
    {
     "ename": "SyntaxError",
     "evalue": "non-default argument follows default argument (<ipython-input-4-2caea6fa62b9>, line 1)",
     "output_type": "error",
     "traceback": [
      "\u001b[1;36m  File \u001b[1;32m\"<ipython-input-4-2caea6fa62b9>\"\u001b[1;36m, line \u001b[1;32m1\u001b[0m\n\u001b[1;33m    def func(a = 2, b):\u001b[0m\n\u001b[1;37m            ^\u001b[0m\n\u001b[1;31mSyntaxError\u001b[0m\u001b[1;31m:\u001b[0m non-default argument follows default argument\n"
     ]
    }
   ],
   "source": [
    "def func(a = 2, b):\n",
    "    return\n",
    "# Stack을 뒤에서부터 채우기 때문에 에러가 난다"
   ]
  },
  {
   "cell_type": "code",
   "execution_count": 10,
   "metadata": {},
   "outputs": [
    {
     "ename": "SyntaxError",
     "evalue": "non-default argument follows default argument (<ipython-input-10-2fc9335a13f8>, line 1)",
     "output_type": "error",
     "traceback": [
      "\u001b[1;36m  File \u001b[1;32m\"<ipython-input-10-2fc9335a13f8>\"\u001b[1;36m, line \u001b[1;32m1\u001b[0m\n\u001b[1;33m    def func(a = 10, b, c, d = 3):\u001b[0m\n\u001b[1;37m            ^\u001b[0m\n\u001b[1;31mSyntaxError\u001b[0m\u001b[1;31m:\u001b[0m non-default argument follows default argument\n"
     ]
    }
   ],
   "source": [
    "def func(a = 10, b, c, d = 3):\n",
    "    return\n",
    "# Stack을 뒤에서부터 채우기 때문에, 가장 뒤는 채웠어도 중간이 비었기에 에러가 난다\n",
    "\n",
    "func(5, 20)\n",
    "# 이렇게 하면, compiler 입장에서는 입력값을 어느 변수에 넣을지 알 수가 없다"
   ]
  },
  {
   "cell_type": "code",
   "execution_count": 13,
   "metadata": {},
   "outputs": [
    {
     "ename": "FileNotFoundError",
     "evalue": "[Errno 2] No such file or directory: 'test.py'",
     "output_type": "error",
     "traceback": [
      "\u001b[1;31m---------------------------------------------------------------------------\u001b[0m",
      "\u001b[1;31mFileNotFoundError\u001b[0m                         Traceback (most recent call last)",
      "\u001b[1;32m<ipython-input-13-e4e091b617b9>\u001b[0m in \u001b[0;36m<module>\u001b[1;34m()\u001b[0m\n\u001b[0;32m      4\u001b[0m \u001b[0mos\u001b[0m\u001b[1;33m.\u001b[0m\u001b[0mgetcwd\u001b[0m\u001b[1;33m(\u001b[0m\u001b[1;33m)\u001b[0m\u001b[1;33m\u001b[0m\u001b[0m\n\u001b[0;32m      5\u001b[0m \u001b[1;34m'c:\\\\users\\\\tdbes\\\\desktop'\u001b[0m\u001b[1;33m\u001b[0m\u001b[0m\n\u001b[1;32m----> 6\u001b[1;33m \u001b[0ms\u001b[0m \u001b[1;33m=\u001b[0m \u001b[0mopen\u001b[0m\u001b[1;33m(\u001b[0m\u001b[1;34m'test.py'\u001b[0m\u001b[1;33m)\u001b[0m\u001b[1;33m.\u001b[0m\u001b[0mread\u001b[0m\u001b[1;33m(\u001b[0m\u001b[1;33m)\u001b[0m\u001b[1;33m\u001b[0m\u001b[0m\n\u001b[0m\u001b[0;32m      7\u001b[0m \u001b[1;32mimport\u001b[0m \u001b[0msymtable\u001b[0m\u001b[1;33m\u001b[0m\u001b[0m\n\u001b[0;32m      8\u001b[0m \u001b[0mtable\u001b[0m \u001b[1;33m=\u001b[0m \u001b[0msymtable\u001b[0m\u001b[1;33m.\u001b[0m\u001b[0msymtable\u001b[0m\u001b[1;33m(\u001b[0m\u001b[0ms\u001b[0m\u001b[1;33m,\u001b[0m \u001b[1;34m'test.py'\u001b[0m\u001b[1;33m,\u001b[0m \u001b[1;34m'exec'\u001b[0m\u001b[1;33m)\u001b[0m\u001b[1;33m\u001b[0m\u001b[0m\n",
      "\u001b[1;31mFileNotFoundError\u001b[0m: [Errno 2] No such file or directory: 'test.py'"
     ]
    }
   ],
   "source": [
    "# Taking a look at the symbol table in Python\n",
    "\n",
    "import os\n",
    "os.chdir(r'c:\\users\\tdbes\\desktop')\n",
    "os.getcwd()\n",
    "'c:\\\\users\\\\tdbes\\\\desktop'\n",
    "s = open('test.py').read()\n",
    "import symtable\n",
    "table = symtable.symtable(s, 'test.py', 'exec')\n",
    "table\n",
    "dir(table)\n",
    "table.get_identifiers()\n",
    "\n",
    "# Not working, maybe needs to make a 'test.py' file with a func defined to use as the subject"
   ]
  },
  {
   "cell_type": "code",
   "execution_count": 14,
   "metadata": {},
   "outputs": [
    {
     "name": "stdout",
     "output_type": "stream",
     "text": [
      "x: 20 in change_value\n",
      "x: 10 in change_value\n"
     ]
    }
   ],
   "source": [
    "# Call by Object Reference / AKA Call by Assignment\n",
    "    # Call by Assignment is unofficial, but the more intuitive and better understandable name\n",
    "\n",
    "# Assume I am someone who knows C but doesn't know Python, and I would like to see if call by value or call by reference works in Python\n",
    "def change_value(x, value):\n",
    "    x = value\n",
    "    print(\"x: {} in change_value\".format(x))\n",
    "        # .format(n) is combined with strings, and n is placed in the {} within the string\n",
    "\n",
    "x = 10\n",
    "change_value(x, 20)\n",
    "print(\"x: {} in change_value\".format(x))\n",
    "# x should not change if using call by value, but x should change if using call by reference\n",
    "    # x did not change, so maybe Python uses call by value"
   ]
  },
  {
   "cell_type": "code",
   "execution_count": 15,
   "metadata": {},
   "outputs": [
    {
     "name": "stdout",
     "output_type": "stream",
     "text": [
      "['I am your father!', 2, 3, 4]\n",
      "['I am your father!', 2, 3, 4]\n"
     ]
    }
   ],
   "source": [
    "# Trying call by value in Python\n",
    "def change_value(li, idx, value):\n",
    "    li[idx] = value\n",
    "    print(li)\n",
    "\n",
    "li = [1, 2, 3, 4,]\n",
    "change_value(li, 0, \"I am your father!\")\n",
    "print(li)\n",
    "# li should not have changed if call by value is used in Python, but it DID change... so Python doesn't use call by value either...\n",
    "    # Python uses neither call by value nor call by reference"
   ]
  },
  {
   "cell_type": "code",
   "execution_count": 17,
   "metadata": {},
   "outputs": [
    {
     "name": "stdout",
     "output_type": "stream",
     "text": [
      "['I am your father!', 2, 3, 4]\n",
      "[1, 2, 3, 4]\n"
     ]
    }
   ],
   "source": [
    "# So all mutable objects (like lists) can be changed? Testing...\n",
    "def change_value(li):\n",
    "    li = ['I am your father!', 2, 3, 4]\n",
    "    print(li)\n",
    "\n",
    "li = [1, 2, 3, 4,]\n",
    "change_value(li)\n",
    "print(li)\n",
    "# Doesn't work because in change_value(li), a new value for li is being assigned"
   ]
  },
  {
   "cell_type": "code",
   "execution_count": 19,
   "metadata": {},
   "outputs": [
    {
     "name": "stdout",
     "output_type": "stream",
     "text": [
      "zzzzzzz\n"
     ]
    }
   ],
   "source": [
    "# With a mutable object like a string\n",
    "def change_value(s):\n",
    "    s = \"abcde\"\n",
    "\n",
    "s = \"zzzzzzz\"\n",
    "change_value(s)\n",
    "print(s)\n",
    "# change_value(s) created a new value for s within the function (doesn't affect the global variable s)\n",
    "    # When change_value disappears after doing its job, \"abcde\"'s reference counter becomes 0 and it disappears as well"
   ]
  },
  {
   "cell_type": "code",
   "execution_count": 20,
   "metadata": {
    "collapsed": true
   },
   "outputs": [],
   "source": [
    "import sys"
   ]
  },
  {
   "cell_type": "code",
   "execution_count": 34,
   "metadata": {},
   "outputs": [
    {
     "data": {
      "text/plain": [
       "3"
      ]
     },
     "execution_count": 34,
     "metadata": {},
     "output_type": "execute_result"
    }
   ],
   "source": [
    "b = s\n",
    "sys.getrefcount(b)\n",
    "# \"s\" is being referenced by b and also by .getrefcount(b), and likely by something else in this kernel"
   ]
  },
  {
   "cell_type": "code",
   "execution_count": 35,
   "metadata": {
    "collapsed": true
   },
   "outputs": [],
   "source": [
    "a = 1"
   ]
  },
  {
   "cell_type": "code",
   "execution_count": 36,
   "metadata": {},
   "outputs": [
    {
     "data": {
      "text/plain": [
       "2437"
      ]
     },
     "execution_count": 36,
     "metadata": {},
     "output_type": "execute_result"
    }
   ],
   "source": [
    "# Extra information just to know...\n",
    "sys.getrefcount(a)\n",
    "# The number here is very high because creating and deleting objects consume a great deal of resources...\n",
    "    # to avoid this, objects like letters or numbers are created in advance the moment Python is first activated\n",
    "    # This characteristic is called the Object pool"
   ]
  },
  {
   "cell_type": "code",
   "execution_count": 37,
   "metadata": {
    "collapsed": true
   },
   "outputs": [],
   "source": [
    "a = 1024"
   ]
  },
  {
   "cell_type": "code",
   "execution_count": 38,
   "metadata": {},
   "outputs": [
    {
     "data": {
      "text/plain": [
       "3"
      ]
     },
     "execution_count": 38,
     "metadata": {},
     "output_type": "execute_result"
    }
   ],
   "source": [
    "sys.getrefcount(1024)\n",
    "# A number like this is uncommonly used and thus not created in advance, and so is only being referenced\n",
    "    # ...by a and .getrefcount(b), and likely by something else in this kernel"
   ]
  },
  {
   "cell_type": "code",
   "execution_count": 43,
   "metadata": {},
   "outputs": [
    {
     "name": "stdout",
     "output_type": "stream",
     "text": [
      "[10, 2, 3, 4]\n",
      "[10, 2, 3, 4]\n"
     ]
    }
   ],
   "source": [
    "# Mutable objects\n",
    "def func(lix):\n",
    "    lix[0] = 10\n",
    "    print(lix)\n",
    "\n",
    "lix = [1, 2, 3, 4,]\n",
    "func(lix)\n",
    "print(lix)"
   ]
  },
  {
   "cell_type": "code",
   "execution_count": 42,
   "metadata": {},
   "outputs": [
    {
     "name": "stdout",
     "output_type": "stream",
     "text": [
      "[10, 2, 3, 4]\n",
      "[1, 2, 3, 4]\n"
     ]
    }
   ],
   "source": [
    "def func(lis):\n",
    "    lis = [10, 2, 3, 4]\n",
    "    print(lis)\n",
    "\n",
    "lis = [1, 2, 3, 4]\n",
    "func(lis)\n",
    "print(lis)"
   ]
  },
  {
   "cell_type": "code",
   "execution_count": 44,
   "metadata": {
    "collapsed": true
   },
   "outputs": [],
   "source": [
    "# With immutable objects\n",
    "def func(a):\n",
    "    a = 20\n",
    "    \n",
    "x = 10\n",
    "func(x)\n",
    "# When func(x) is executed, x is assigned to a, and so a new stack frame \"a\" is created that refers to the value 10\n",
    "    # When the second line of func(a) is executed (a = 20), a new object with the value of \"20\" is created\n",
    "        # When func(a) is completed its stack frame disappears, and \"20\"'s reference count becomes \"0\", and it disappears"
   ]
  },
  {
   "cell_type": "code",
   "execution_count": 46,
   "metadata": {},
   "outputs": [],
   "source": [
    "# Adding a return\n",
    "def change_value(x):\n",
    "    x = \"abc\"\n",
    "    return x\n",
    "\n",
    "x = \"aaa\"\n",
    "x = change_value(x)\n",
    "# By returning x and assigning it's value to the original x, a new reference is created from \"x\" to \"abc\"\n",
    "    # change_value(x) disappears after executing, the old value of \"aaa\" disappears because its reference count becomes \"0\""
   ]
  },
  {
   "cell_type": "code",
   "execution_count": 47,
   "metadata": {},
   "outputs": [
    {
     "data": {
      "text/plain": [
       "250"
      ]
     },
     "execution_count": 47,
     "metadata": {},
     "output_type": "execute_result"
    }
   ],
   "source": [
    "# Change hexadecimal number to decimal number\n",
    "b = 0xfa\n",
    "b"
   ]
  },
  {
   "cell_type": "code",
   "execution_count": 49,
   "metadata": {},
   "outputs": [
    {
     "data": {
      "text/plain": [
       "250"
      ]
     },
     "execution_count": 49,
     "metadata": {},
     "output_type": "execute_result"
    }
   ],
   "source": [
    "# Change binary number to decimal number\n",
    "c = 0b11111010\n",
    "c"
   ]
  },
  {
   "cell_type": "code",
   "execution_count": 50,
   "metadata": {},
   "outputs": [
    {
     "data": {
      "text/plain": [
       "'0b11001'"
      ]
     },
     "execution_count": 50,
     "metadata": {},
     "output_type": "execute_result"
    }
   ],
   "source": [
    "# Change decimal number to binary number\n",
    "d = 25\n",
    "bin(d)"
   ]
  },
  {
   "cell_type": "code",
   "execution_count": 51,
   "metadata": {},
   "outputs": [
    {
     "data": {
      "text/plain": [
       "'0x19'"
      ]
     },
     "execution_count": 51,
     "metadata": {},
     "output_type": "execute_result"
    }
   ],
   "source": [
    "# Change decimal number to hexadecimal number\n",
    "hex(d)"
   ]
  },
  {
   "cell_type": "code",
   "execution_count": 52,
   "metadata": {},
   "outputs": [
    {
     "data": {
      "text/plain": [
       "'0x5e43b560'"
      ]
     },
     "execution_count": 52,
     "metadata": {},
     "output_type": "execute_result"
    }
   ],
   "source": [
    "# Check the address of what a is pointing at: 10 (a's address cannot be checked)\n",
    "a = 10\n",
    "hex(id(a))"
   ]
  }
 ],
 "metadata": {
  "kernelspec": {
   "display_name": "Python 3",
   "language": "python",
   "name": "python3"
  },
  "language_info": {
   "codemirror_mode": {
    "name": "ipython",
    "version": 3
   },
   "file_extension": ".py",
   "mimetype": "text/x-python",
   "name": "python",
   "nbconvert_exporter": "python",
   "pygments_lexer": "ipython3",
   "version": "3.6.1"
  }
 },
 "nbformat": 4,
 "nbformat_minor": 2
}
