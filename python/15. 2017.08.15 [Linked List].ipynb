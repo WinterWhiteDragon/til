{
 "cells": [
  {
   "cell_type": "code",
   "execution_count": 1,
   "metadata": {
    "collapsed": true
   },
   "outputs": [],
   "source": [
    "# Linked List\n",
    "    # Simple Single Linked List"
   ]
  },
  {
   "cell_type": "code",
   "execution_count": 2,
   "metadata": {
    "collapsed": true
   },
   "outputs": [],
   "source": [
    "# Node를 구현하다\n",
    "\n",
    "class Node:\n",
    "    def __init__(self, data):\n",
    "        self.data = data\n",
    "        self.next = None\n",
    "    \n",
    "# 원래 remove함수를 사용하면 Python에서 __del__()를 실행하는데,\n",
    "    # 거기에 내가 __del__()가 실행될 때마다 print하라는 명령을 추가한 것이다.\n",
    "        # 하지만 계속 kernel error가 발생해가지고 제외했다.\n",
    "        \n",
    "#     def __del__(self):\n",
    "#          print(\"data of {} is deleted\".format(self.data))"
   ]
  },
  {
   "cell_type": "code",
   "execution_count": 3,
   "metadata": {
    "collapsed": true
   },
   "outputs": [],
   "source": [
    "# ADT를 구현하다\n",
    "    # ADT란 interface 목록일 뿐이다.\n",
    "        # ex) \"empty() -> bool을 return한다\" 같은 interface들...\n",
    "        # 하지만 ADT는 Big O를 표현하지 않는다 == 성능에 대해 얘기하지 않는다\n",
    "    # 여기서는 ADT의 구현부를 설계하였다\n",
    "\n",
    "class LinkedList:\n",
    "    def __init__(self):\n",
    "        self.head = None\n",
    "        self.tail = None\n",
    "        \n",
    "        self.before = None\n",
    "        self.current = None\n",
    "        \n",
    "        self.num_data = 0\n",
    "    \n",
    "    def empty(self):\n",
    "        if self.num_data == 0:\n",
    "            return True\n",
    "        else:\n",
    "            return False\n",
    "    \n",
    "    def size(self):\n",
    "        return self.num_data\n",
    "    \n",
    "    def append(self, data):\n",
    "        new_node = Node(data)\n",
    "        if self.empty():\n",
    "            self.head = new_node\n",
    "            self.tail = new_node\n",
    "            self.num_data += 1\n",
    "        else:\n",
    "            self.tail.next = new_node\n",
    "            self.tail = new_node\n",
    "            self.num_data += 1\n",
    "    \n",
    "    def traverse(self, mode = 'next'):\n",
    "        if self.empty():\n",
    "            return None\n",
    "        \n",
    "        if mode == 'first':\n",
    "            self.before = self.head\n",
    "            self.current = self.head\n",
    "        else:\n",
    "            if self.current.next == None:\n",
    "                return None\n",
    "            self.before = self.current\n",
    "            self.current = self.current.next\n",
    "            \n",
    "        return self.current.data\n",
    "    \n",
    "    def remove(self):\n",
    "        ret_data = self.current.data\n",
    "        \n",
    "        if self.num_data == 1:\n",
    "            self.head = None\n",
    "            self.tail = None\n",
    "            self.before = None\n",
    "            self.current = None        \n",
    "        elif self.current == self.head:\n",
    "            self.head = self.head.next\n",
    "            self.before = self.before.next\n",
    "            self.current = self.current.next\n",
    "        else:\n",
    "            if self.current == self.tail:\n",
    "                self.tail = self.before\n",
    "            self.before.next = self.current.next\n",
    "            self.current = self.before\n",
    "        \n",
    "        self.num_data -= 1\n",
    "        return ret_data"
   ]
  },
  {
   "cell_type": "code",
   "execution_count": 4,
   "metadata": {},
   "outputs": [
    {
     "name": "stdout",
     "output_type": "stream",
     "text": [
      "5\n",
      "7\n"
     ]
    }
   ],
   "source": [
    "# Test Code to check if append is working correctly\n",
    "    # 이 경우, 사용자가 별도로 LinkedList()를 가지고 코드를 짜야 사용 가능하다.\n",
    "\n",
    "slist = LinkedList()\n",
    "slist.append(5)\n",
    "slist.append(7)\n",
    "print(slist.head.data)\n",
    "print(slist.tail.data)\n",
    "    # \"head\"는 node를 가리키기에, 그 내용을 보려면 head.data라고 해야한다\n",
    "    \n",
    "# slist라는 변수에 head, tail 값이 저장되는 형식이 아니다!!!\n",
    "    # slist는 LinkedList() 그 자체이다.\n",
    "    # 원래 list는 하나의 이어진 데이터이며 하나의 덩어리로 저장되지만,\n",
    "        # linked list는 각 node가 heap 어딘가에 개별로 저장되고, 서로 참조를 하면서 연결되있다.\n",
    "        # head, tail, before, current는 node 그 자체가 아니라 node를 가리키는 것이다."
   ]
  },
  {
   "cell_type": "code",
   "execution_count": 5,
   "metadata": {},
   "outputs": [
    {
     "name": "stdout",
     "output_type": "stream",
     "text": [
      "3   1   8   3   4   4   "
     ]
    }
   ],
   "source": [
    "# Test Code to check if traverse is working correctly\n",
    "    # 이 경우, 사용자가 별도로 LinkedList()를 가지고 코드를 짜야 사용 가능하다.\n",
    "\n",
    "slist = LinkedList()\n",
    "slist.append(3)\n",
    "slist.append(1)\n",
    "slist.append(8)\n",
    "slist.append(3)\n",
    "slist.append(4)\n",
    "slist.append(4)\n",
    "\n",
    "data = slist.traverse('first')\n",
    "while data:\n",
    "    print(data, end = '   ')\n",
    "    data = slist.traverse()"
   ]
  },
  {
   "cell_type": "code",
   "execution_count": 6,
   "metadata": {},
   "outputs": [
    {
     "name": "stdout",
     "output_type": "stream",
     "text": [
      "2   3   1   8   3   4   2   4   9   2   \n",
      "3   1   8   3   4   4   9   "
     ]
    }
   ],
   "source": [
    "# Test Code to check if remove is working correctly\n",
    "\n",
    "slist = LinkedList()\n",
    "slist.append(2)\n",
    "slist.append(3)\n",
    "slist.append(1)\n",
    "slist.append(8)\n",
    "slist.append(3)\n",
    "slist.append(4)\n",
    "slist.append(2)\n",
    "slist.append(4)\n",
    "slist.append(9)\n",
    "slist.append(2)\n",
    "\n",
    "data = slist.traverse('first')\n",
    "while data:\n",
    "    print(data, end = '   ')\n",
    "    data = slist.traverse()\n",
    "\n",
    "print('')\n",
    "    \n",
    "data = slist.traverse('first')\n",
    "while data:\n",
    "    if data == 2:\n",
    "        slist.remove()\n",
    "    data = slist.traverse()\n",
    "    \n",
    "data = slist.traverse('first')\n",
    "while data:\n",
    "    print(data, end = '   ')\n",
    "    data = slist.traverse()"
   ]
  },
  {
   "cell_type": "code",
   "execution_count": 7,
   "metadata": {},
   "outputs": [
    {
     "name": "stdout",
     "output_type": "stream",
     "text": [
      "8\n",
      "4\n",
      "6\n"
     ]
    }
   ],
   "source": [
    "# 위에 있는 Traverse는 순회할 뿐, 특정 값을 찾지 않는다\n",
    "    # 하지만 특정 값을 찾으라고 하려면, 상속을 받아 기능을 확장시킬 수 있다.\n",
    "class NewLL(LinkedList):\n",
    "    def search(self, target):\n",
    "        data = self.traverse('first')\n",
    "        while data:\n",
    "            if target == data:\n",
    "                return data\n",
    "            data = self.traverse()\n",
    "        return None\n",
    "\n",
    "    # method overriding\n",
    "    def remove(self, target):\n",
    "        # Current을 지우는 원래 remove함수가 아니라, list 내의 모든 target을 찾아가서 모두 지우는 함수로 바꾸기\n",
    "        data = self.traverse('first')\n",
    "        while data:\n",
    "            if data == target:\n",
    "                super().remove()\n",
    "                # 상속 받을 때, 부모 클래스의 메서드를 받아와 사용할 때 \"super()\"를 추가\n",
    "            data = self.traverse()\n",
    "            # 단 하나의 target만 지우고 싶으면, 바로 위 문장을 제외하고 break를 넣으면 된다\n",
    "        return self.size()\n",
    "\n",
    "AK = NewLL()\n",
    "AK.append(2)\n",
    "AK.append(4)\n",
    "AK.append(5)\n",
    "AK.append(3)\n",
    "AK.append(5)\n",
    "AK.append(4)\n",
    "AK.append(2)\n",
    "AK.append(5)\n",
    "\n",
    "print(AK.size())\n",
    "\n",
    "print(AK.search(4))\n",
    "\n",
    "print(AK.remove(2))"
   ]
  },
  {
   "cell_type": "code",
   "execution_count": 8,
   "metadata": {
    "collapsed": true
   },
   "outputs": [],
   "source": [
    "# Assignment : Dummy Link List\n",
    "    # Modify the LinkedList to include a dummy before the very first node (i.e. before the head there should be a dummy node)\n",
    "    # It doesn't matter what data's in the dummy, since it won't be used.\n",
    "\n",
    "class Node:\n",
    "    def __init__(self, data):\n",
    "        self.data = data\n",
    "        self.next = None\n",
    "    \n",
    "class LinkedListDummy:\n",
    "    def __init__(self):     \n",
    "        dummy_node = Node(\"DUMMY\")\n",
    "        \n",
    "        self.head = dummy_node\n",
    "        self.tail = dummy_node\n",
    "        \n",
    "        self.before = None\n",
    "        self.current = None\n",
    "        \n",
    "        self.num_data = 0\n",
    "    \n",
    "    def empty(self):\n",
    "        if self.num_data == 0:\n",
    "            return True\n",
    "        else:\n",
    "            return False\n",
    "    \n",
    "    def size(self):\n",
    "        return self.num_data\n",
    "    \n",
    "    def append(self, data):\n",
    "        new_node = Node(data)\n",
    "        if self.empty():\n",
    "            self.tail = new_node\n",
    "            self.num_data += 1\n",
    "        else:\n",
    "            self.tail.next = new_node\n",
    "            self.tail = new_node\n",
    "            self.num_data += 1\n",
    "    \n",
    "    def traverse(self, mode = 'next'):\n",
    "        if self.empty():\n",
    "            return None\n",
    "        \n",
    "        if mode == 'first':\n",
    "            self.before = dummy_node\n",
    "            self.current = dummy_node.next\n",
    "        else:\n",
    "            if self.current.next == None:\n",
    "                return None\n",
    "            self.before = self.current\n",
    "            self.current = self.current.next\n",
    "            \n",
    "        return self.current.data\n",
    "    \n",
    "    def remove(self):\n",
    "        ret_data = self.current.data\n",
    "        \n",
    "        if self.current == self.tail:\n",
    "            self.tail = self.before\n",
    "        self.before.next = self.current.next\n",
    "        self.current = self.before\n",
    "        \n",
    "        self.num_data -= 1\n",
    "        return ret_data"
   ]
  },
  {
   "cell_type": "code",
   "execution_count": 9,
   "metadata": {},
   "outputs": [
    {
     "name": "stdout",
     "output_type": "stream",
     "text": [
      "DUMMY\n",
      "1\n"
     ]
    }
   ],
   "source": [
    "# Assignment : Test if append in the dummy single linked list is working properly\n",
    "slist = LinkedListDummy()\n",
    "slist.append(5)\n",
    "slist.append(7)\n",
    "slist.append(1)\n",
    "\n",
    "print(slist.head.data)\n",
    "print(slist.tail.data)"
   ]
  },
  {
   "cell_type": "code",
   "execution_count": 10,
   "metadata": {},
   "outputs": [
    {
     "ename": "NameError",
     "evalue": "name 'dummy_node' is not defined",
     "output_type": "error",
     "traceback": [
      "\u001b[1;31m---------------------------------------------------------------------------\u001b[0m",
      "\u001b[1;31mNameError\u001b[0m                                 Traceback (most recent call last)",
      "\u001b[1;32m<ipython-input-10-c08798215f8b>\u001b[0m in \u001b[0;36m<module>\u001b[1;34m()\u001b[0m\n\u001b[0;32m      9\u001b[0m \u001b[0mslist\u001b[0m\u001b[1;33m.\u001b[0m\u001b[0mappend\u001b[0m\u001b[1;33m(\u001b[0m\u001b[1;36m4\u001b[0m\u001b[1;33m)\u001b[0m\u001b[1;33m\u001b[0m\u001b[0m\n\u001b[0;32m     10\u001b[0m \u001b[1;33m\u001b[0m\u001b[0m\n\u001b[1;32m---> 11\u001b[1;33m \u001b[0mdata\u001b[0m \u001b[1;33m=\u001b[0m \u001b[0mslist\u001b[0m\u001b[1;33m.\u001b[0m\u001b[0mtraverse\u001b[0m\u001b[1;33m(\u001b[0m\u001b[1;34m'first'\u001b[0m\u001b[1;33m)\u001b[0m\u001b[1;33m\u001b[0m\u001b[0m\n\u001b[0m\u001b[0;32m     12\u001b[0m \u001b[1;32mwhile\u001b[0m \u001b[0mdata\u001b[0m\u001b[1;33m:\u001b[0m\u001b[1;33m\u001b[0m\u001b[0m\n\u001b[0;32m     13\u001b[0m     \u001b[0mprint\u001b[0m\u001b[1;33m(\u001b[0m\u001b[0mdata\u001b[0m\u001b[1;33m,\u001b[0m \u001b[0mend\u001b[0m \u001b[1;33m=\u001b[0m \u001b[1;34m'   '\u001b[0m\u001b[1;33m)\u001b[0m\u001b[1;33m\u001b[0m\u001b[0m\n",
      "\u001b[1;32m<ipython-input-8-ba9ceb473f55>\u001b[0m in \u001b[0;36mtraverse\u001b[1;34m(self, mode)\u001b[0m\n\u001b[0;32m     44\u001b[0m \u001b[1;33m\u001b[0m\u001b[0m\n\u001b[0;32m     45\u001b[0m         \u001b[1;32mif\u001b[0m \u001b[0mmode\u001b[0m \u001b[1;33m==\u001b[0m \u001b[1;34m'first'\u001b[0m\u001b[1;33m:\u001b[0m\u001b[1;33m\u001b[0m\u001b[0m\n\u001b[1;32m---> 46\u001b[1;33m             \u001b[0mself\u001b[0m\u001b[1;33m.\u001b[0m\u001b[0mbefore\u001b[0m \u001b[1;33m=\u001b[0m \u001b[0mdummy_node\u001b[0m\u001b[1;33m\u001b[0m\u001b[0m\n\u001b[0m\u001b[0;32m     47\u001b[0m             \u001b[0mself\u001b[0m\u001b[1;33m.\u001b[0m\u001b[0mcurrent\u001b[0m \u001b[1;33m=\u001b[0m \u001b[0mdummy_node\u001b[0m\u001b[1;33m.\u001b[0m\u001b[0mnext\u001b[0m\u001b[1;33m\u001b[0m\u001b[0m\n\u001b[0;32m     48\u001b[0m         \u001b[1;32melse\u001b[0m\u001b[1;33m:\u001b[0m\u001b[1;33m\u001b[0m\u001b[0m\n",
      "\u001b[1;31mNameError\u001b[0m: name 'dummy_node' is not defined"
     ]
    }
   ],
   "source": [
    "# Assignment : Test if traverse in the dummy single linked list is working properly\n",
    "\n",
    "slist = LinkedListDummy()\n",
    "slist.append(3)\n",
    "slist.append(1)\n",
    "slist.append(8)\n",
    "slist.append(3)\n",
    "slist.append(4)\n",
    "slist.append(4)\n",
    "\n",
    "data = slist.traverse('first')\n",
    "while data:\n",
    "    print(data, end = '   ')\n",
    "    data = slist.traverse()"
   ]
  },
  {
   "cell_type": "code",
   "execution_count": 11,
   "metadata": {},
   "outputs": [
    {
     "ename": "NameError",
     "evalue": "name 'dummy_node' is not defined",
     "output_type": "error",
     "traceback": [
      "\u001b[1;31m---------------------------------------------------------------------------\u001b[0m",
      "\u001b[1;31mNameError\u001b[0m                                 Traceback (most recent call last)",
      "\u001b[1;32m<ipython-input-11-3fab80b673f7>\u001b[0m in \u001b[0;36m<module>\u001b[1;34m()\u001b[0m\n\u001b[0;32m     13\u001b[0m \u001b[0mslist\u001b[0m\u001b[1;33m.\u001b[0m\u001b[0mappend\u001b[0m\u001b[1;33m(\u001b[0m\u001b[1;36m2\u001b[0m\u001b[1;33m)\u001b[0m\u001b[1;33m\u001b[0m\u001b[0m\n\u001b[0;32m     14\u001b[0m \u001b[1;33m\u001b[0m\u001b[0m\n\u001b[1;32m---> 15\u001b[1;33m \u001b[0mdata\u001b[0m \u001b[1;33m=\u001b[0m \u001b[0mslist\u001b[0m\u001b[1;33m.\u001b[0m\u001b[0mtraverse\u001b[0m\u001b[1;33m(\u001b[0m\u001b[1;34m'first'\u001b[0m\u001b[1;33m)\u001b[0m\u001b[1;33m\u001b[0m\u001b[0m\n\u001b[0m\u001b[0;32m     16\u001b[0m \u001b[1;32mwhile\u001b[0m \u001b[0mdata\u001b[0m\u001b[1;33m:\u001b[0m\u001b[1;33m\u001b[0m\u001b[0m\n\u001b[0;32m     17\u001b[0m     \u001b[0mprint\u001b[0m\u001b[1;33m(\u001b[0m\u001b[0mdata\u001b[0m\u001b[1;33m,\u001b[0m \u001b[0mend\u001b[0m \u001b[1;33m=\u001b[0m \u001b[1;34m'   '\u001b[0m\u001b[1;33m)\u001b[0m\u001b[1;33m\u001b[0m\u001b[0m\n",
      "\u001b[1;32m<ipython-input-8-ba9ceb473f55>\u001b[0m in \u001b[0;36mtraverse\u001b[1;34m(self, mode)\u001b[0m\n\u001b[0;32m     44\u001b[0m \u001b[1;33m\u001b[0m\u001b[0m\n\u001b[0;32m     45\u001b[0m         \u001b[1;32mif\u001b[0m \u001b[0mmode\u001b[0m \u001b[1;33m==\u001b[0m \u001b[1;34m'first'\u001b[0m\u001b[1;33m:\u001b[0m\u001b[1;33m\u001b[0m\u001b[0m\n\u001b[1;32m---> 46\u001b[1;33m             \u001b[0mself\u001b[0m\u001b[1;33m.\u001b[0m\u001b[0mbefore\u001b[0m \u001b[1;33m=\u001b[0m \u001b[0mdummy_node\u001b[0m\u001b[1;33m\u001b[0m\u001b[0m\n\u001b[0m\u001b[0;32m     47\u001b[0m             \u001b[0mself\u001b[0m\u001b[1;33m.\u001b[0m\u001b[0mcurrent\u001b[0m \u001b[1;33m=\u001b[0m \u001b[0mdummy_node\u001b[0m\u001b[1;33m.\u001b[0m\u001b[0mnext\u001b[0m\u001b[1;33m\u001b[0m\u001b[0m\n\u001b[0;32m     48\u001b[0m         \u001b[1;32melse\u001b[0m\u001b[1;33m:\u001b[0m\u001b[1;33m\u001b[0m\u001b[0m\n",
      "\u001b[1;31mNameError\u001b[0m: name 'dummy_node' is not defined"
     ]
    }
   ],
   "source": [
    "# Assignment : Test if remove in the dummy single linked list is working properly\n",
    "\n",
    "slist = LinkedListDummy()\n",
    "slist.append(2)\n",
    "slist.append(3)\n",
    "slist.append(1)\n",
    "slist.append(8)\n",
    "slist.append(3)\n",
    "slist.append(4)\n",
    "slist.append(2)\n",
    "slist.append(4)\n",
    "slist.append(9)\n",
    "slist.append(2)\n",
    "\n",
    "data = slist.traverse('first')\n",
    "while data:\n",
    "    print(data, end = '   ')\n",
    "    data = slist.traverse()\n",
    "\n",
    "print('')\n",
    "    \n",
    "data = slist.traverse('first')\n",
    "while data:\n",
    "    if data == 2:\n",
    "        slist.remove()\n",
    "    data = slist.traverse()\n",
    "    \n",
    "data = slist.traverse('first')\n",
    "while data:\n",
    "    print(data, end = '   ')\n",
    "    data = slist.traverse()"
   ]
  },
  {
   "cell_type": "code",
   "execution_count": null,
   "metadata": {
    "collapsed": true
   },
   "outputs": [],
   "source": []
  }
 ],
 "metadata": {
  "kernelspec": {
   "display_name": "Python 3",
   "language": "python",
   "name": "python3"
  },
  "language_info": {
   "codemirror_mode": {
    "name": "ipython",
    "version": 3
   },
   "file_extension": ".py",
   "mimetype": "text/x-python",
   "name": "python",
   "nbconvert_exporter": "python",
   "pygments_lexer": "ipython3",
   "version": "3.6.1"
  }
 },
 "nbformat": 4,
 "nbformat_minor": 2
}
