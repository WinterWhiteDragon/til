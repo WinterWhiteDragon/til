{
 "cells": [
  {
   "cell_type": "code",
   "execution_count": 1,
   "metadata": {
    "collapsed": true
   },
   "outputs": [],
   "source": [
    "from linked_list import *"
   ]
  },
  {
   "cell_type": "code",
   "execution_count": 2,
   "metadata": {
    "collapsed": true
   },
   "outputs": [],
   "source": [
    "class LinkedListEx(LinkedList): \n",
    "    # \"Ex\"는 기존에 만든 list의 확장판을 의미하여 많이 사용\n",
    "    \n",
    "    # ADT : search(target, mod = \"next\") -> data 반환 (없으면 None)\n",
    "    def search(self, target, mode = \"next\"):\n",
    "        if mode == \"first\":\n",
    "            data = self.traverse('first')\n",
    "        else:\n",
    "            data = self.traverse('next')\n",
    "            \n",
    "        while data:\n",
    "            if data == target:\n",
    "                return data\n",
    "            data = self.traverse()\n",
    "        return None\n",
    "        # 만약 while까지 실행했는데 찾지 못했다하면 while문이 끝날테고, 그러면 None을 반환하라는 뜻\n",
    "    \n",
    "    # Current가 가리키는 node's data를 업데이트하기\n",
    "    # ADT : update(data) -> None 반환\n",
    "    def update(self, data):\n",
    "        self.current.data = data\n",
    "    \n",
    "    # 찾은 데이터 하나만 지우기\n",
    "    # ADT : remove(target) -> 지운 data 반환\n",
    "    def remove(self, target):\n",
    "        data = self.traverse('first')\n",
    "        while data:\n",
    "            if data == target:\n",
    "                return super().remove()\n",
    "                # 만약 self.remove()라고 한다면, recursion인줄 혼동하고 stack overflow현상 발생\n",
    "            data = self.traverse()\n",
    "        return None\n",
    "    \n",
    "    # 찾는 데이터의 개수 반환하기\n",
    "    # ADT : count(target) -> number of target 반환\n",
    "    def count(self, target):\n",
    "        counter = 0\n",
    "        data = self.search(target, 'first')\n",
    "        while data:\n",
    "            counter += 1\n",
    "            data = self.search(target)\n",
    "        return counter\n",
    "                \n",
    "        \n",
    "    # My attempt to create a count method\n",
    "        # data = self.traverse('first')\n",
    "        # num_of_target = 0\n",
    "        # while data:\n",
    "            # if data == target:\n",
    "                # num_of_target += 1\n",
    "            # data = self.traverse()\n",
    "        # return num_of_target"
   ]
  },
  {
   "cell_type": "code",
   "execution_count": 3,
   "metadata": {},
   "outputs": [
    {
     "name": "stdout",
     "output_type": "stream",
     "text": [
      "데이터의 개수 : 0\n",
      "There is no data\n",
      "\n",
      "데이터의 개수 : 11\n",
      "9  1  8  2  7  3  6  4  5  3  1  \n",
      "\n",
      "데이터의 개수는 11\n",
      "9  1  8  4  7  3  6  4  5  3  1  "
     ]
    }
   ],
   "source": [
    "# 직접 test code를 만들기\n",
    "    # 사용자가 직접 제작한 test code를 \"client code\"라고 한다\n",
    "        # client code 제작을 고민하는 것도 실력향상에 도움...\n",
    "\n",
    "if __name__ == \"__main__\":    \n",
    "    foobar = LinkedListEx()\n",
    "    print(\"데이터의 개수 : {}\".format(foobar.size()))\n",
    "    show_list(foobar)\n",
    "    print('')\n",
    "\n",
    "    foobar.append(9)\n",
    "    foobar.append(1)\n",
    "    foobar.append(8)\n",
    "    foobar.append(2)\n",
    "    foobar.append(7)\n",
    "    foobar.append(3)\n",
    "    foobar.append(6)\n",
    "    foobar.append(4)\n",
    "    foobar.append(5)\n",
    "    foobar.append(3)\n",
    "    foobar.append(1)\n",
    "    \n",
    "    print(\"데이터의 개수 : {}\".format(foobar.size()))\n",
    "    show_list(foobar)\n",
    "    print('\\n')  \n",
    "\n",
    "    # Client Code for Replace\n",
    "    data = foobar.search(2, 'first')\n",
    "    while data:\n",
    "        foobar.update(4)\n",
    "        data = foobar.search(2)\n",
    "    \n",
    "    print(\"데이터의 개수는 {}\".format(foobar.size()))\n",
    "    show_list(foobar)"
   ]
  },
  {
   "cell_type": "code",
   "execution_count": 4,
   "metadata": {},
   "outputs": [
    {
     "name": "stdout",
     "output_type": "stream",
     "text": [
      "None\n"
     ]
    }
   ],
   "source": [
    "# My Test Code for Search()\n",
    "\n",
    "data = foobar.search(0, mode = 'first')\n",
    "print(data)"
   ]
  },
  {
   "cell_type": "code",
   "execution_count": 5,
   "metadata": {},
   "outputs": [
    {
     "name": "stdout",
     "output_type": "stream",
     "text": [
      "10\n",
      " \n",
      "9\n",
      "1\n",
      "8\n",
      "4\n",
      "7\n",
      "3\n",
      "6\n",
      "4\n",
      "5\n",
      "3\n",
      "10\n"
     ]
    }
   ],
   "source": [
    "# My Test Code for Update()\n",
    "\n",
    "data = foobar.update(10)\n",
    "print(foobar.current.data, end = \"\\n \\n\")\n",
    "\n",
    "data = foobar.traverse('first')\n",
    "while data:\n",
    "    print(data)\n",
    "    data = foobar.traverse()"
   ]
  },
  {
   "cell_type": "code",
   "execution_count": 6,
   "metadata": {},
   "outputs": [
    {
     "name": "stdout",
     "output_type": "stream",
     "text": [
      "2\n"
     ]
    }
   ],
   "source": [
    "# My Test Code for Count()\n",
    "\n",
    "data = foobar.count(3)\n",
    "print(data)"
   ]
  },
  {
   "cell_type": "code",
   "execution_count": 7,
   "metadata": {
    "collapsed": true
   },
   "outputs": [],
   "source": [
    "# Add Replace Method to LinkedListEX(LinkedList)\n",
    "from linked_list import *\n",
    "\n",
    "\n",
    "class LinkedListEx(LinkedList): \n",
    "    def search(self, target, mode = \"next\"):\n",
    "        if mode == \"first\":\n",
    "            data = self.traverse('first')\n",
    "        else:\n",
    "            data = self.traverse('next')\n",
    "            \n",
    "        while data:\n",
    "            if data == target:\n",
    "                return data\n",
    "            data = self.traverse()\n",
    "        return None\n",
    "\n",
    "    def update(self, data):\n",
    "        self.current.data = data\n",
    "    \n",
    "    def remove(self, target):\n",
    "        data = self.traverse('first')\n",
    "        while data:\n",
    "            if data == target:\n",
    "                return super().remove()\n",
    "            data = self.traverse()\n",
    "        return None\n",
    "    \n",
    "    def count(self, target):\n",
    "        counter = 0\n",
    "        data = self.search(target, 'first')\n",
    "        while data:\n",
    "            counter += 1\n",
    "            data = self.search(target)\n",
    "        return counter\n",
    "    \n",
    "    # My attempt to create a replace method\n",
    "    def replace(self, target, f):\n",
    "        # f means function, replace() puts target into f and calls update(), with the output from f as the input for update()\n",
    "        data = self.search(target, 'first')\n",
    "        while data:\n",
    "            # \"while f(data)\" results in an error...\n",
    "                # Python says sometimes f(data) is an int but other times it's NoneType (i.e. None)\n",
    "                # Not even the instructor knows why this happens ahah\n",
    "            data = self.update(f(data))\n",
    "            data = self.search(target)"
   ]
  },
  {
   "cell_type": "code",
   "execution_count": 8,
   "metadata": {},
   "outputs": [
    {
     "name": "stdout",
     "output_type": "stream",
     "text": [
      "데이터의 개수 : 0\n",
      "There is no data\n",
      "\n",
      "데이터의 개수 : 11\n",
      "1  9  8  2  7  3  1  4  5  3  1  \n",
      "\n",
      "데이터의 개수는 11\n",
      "5.5  9  8  2  7  3  5.5  4  5  3  5.5  "
     ]
    }
   ],
   "source": [
    "# 직접 test code를 만들기\n",
    "    # 사용자가 직접 제작한 test code를 \"client code\"라고 한다\n",
    "        # client code 제작을 고민하는 것도 실력향상에 도움...\n",
    "if __name__ == \"__main__\":    \n",
    "    foobar = LinkedListEx()\n",
    "    print(\"데이터의 개수 : {}\".format(foobar.size()))\n",
    "    show_list(foobar)\n",
    "    print('')\n",
    "\n",
    "    foobar.append(1)\n",
    "    foobar.append(9)\n",
    "    foobar.append(8)\n",
    "    foobar.append(2)\n",
    "    foobar.append(7)\n",
    "    foobar.append(3)\n",
    "    foobar.append(1)\n",
    "    foobar.append(4)\n",
    "    foobar.append(5)\n",
    "    foobar.append(3)\n",
    "    foobar.append(1)\n",
    "    \n",
    "    print(\"데이터의 개수 : {}\".format(foobar.size()))\n",
    "    show_list(foobar)\n",
    "    print('\\n')  \n",
    "\n",
    "    foobar.replace(1, lambda a: a * 11 / 2)\n",
    "    \n",
    "    print(\"데이터의 개수는 {}\".format(foobar.size()))\n",
    "    show_list(foobar)"
   ]
  },
  {
   "cell_type": "code",
   "execution_count": null,
   "metadata": {
    "collapsed": true
   },
   "outputs": [],
   "source": [
    "# As I can see from this,\n",
    "    # A user can extend a linked list in countless different ways\n",
    "    # Without actually seeing the innards of the original linked list"
   ]
  }
 ],
 "metadata": {
  "kernelspec": {
   "display_name": "Python 3",
   "language": "python",
   "name": "python3"
  },
  "language_info": {
   "codemirror_mode": {
    "name": "ipython",
    "version": 3
   },
   "file_extension": ".py",
   "mimetype": "text/x-python",
   "name": "python",
   "nbconvert_exporter": "python",
   "pygments_lexer": "ipython3",
   "version": "3.6.1"
  }
 },
 "nbformat": 4,
 "nbformat_minor": 2
}
