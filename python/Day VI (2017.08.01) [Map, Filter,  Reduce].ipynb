{
 "cells": [
  {
   "cell_type": "code",
   "execution_count": 2,
   "metadata": {
    "collapsed": true
   },
   "outputs": [],
   "source": [
    "# 오늘 배울 내용:\n",
    "    # functional programming을 구현했고 & 게으른 연산(lazy evaluation)을 하는 함수들:\n",
    "        # map\n",
    "        # filter\n",
    "        # reduce\n",
    "    # decorator"
   ]
  },
  {
   "cell_type": "code",
   "execution_count": 8,
   "metadata": {},
   "outputs": [
    {
     "name": "stdout",
     "output_type": "stream",
     "text": [
      "1\n",
      "2\n",
      "3\n",
      "4\n",
      "a b c d e "
     ]
    },
    {
     "data": {
      "text/plain": [
       "<zip at 0x2394cd3f288>"
      ]
     },
     "execution_count": 8,
     "metadata": {},
     "output_type": "execute_result"
    }
   ],
   "source": [
    "# iterable object(순회 가능한 객체): an object that can be used in the \"for\" statement, such as a list, string, dictionary, tuple, iterator, or generator\n",
    "# ex) list가 iterable하다\n",
    "li = [1, 2, 3, 4]\n",
    "for e in li:\n",
    "    print(e) # 사실 이것은 print(e, end = \"\\n\")이기에 한 줄 띄고 출력된다\n",
    "\n",
    "# ex) string이 iterable하다\n",
    "s = 'abcde'\n",
    "for i in s:\n",
    "    print(i, end = \" \") # default end 값은 \"\\n\"를 \" \"으로 바꿨기에 한 줄 띄는 대신 공백 한 칸을 만든다\n",
    "\n",
    "key = ('a', 'b', 'c', 'd')\n",
    "value = [1, 2, 3, 4]\n",
    "# {'a': 1, 'b': 2, 'c': 3, 'd': 4}를 만들고 싶으면 dictionary comprehension 사용하면 된다\n",
    "z = zip(key, value) # zip()는 generator의 한 경우 (제너레이터도 게으른 연산을 한다)\n",
    "    # zip은 \n",
    "z    \n",
    "# dic = {k: v for k, v in zip(key, value)}"
   ]
  },
  {
   "cell_type": "code",
   "execution_count": 9,
   "metadata": {
    "collapsed": true
   },
   "outputs": [],
   "source": [
    "key = ('a', 'b', 'c', 'd')\n",
    "value = [1, 2, 3, 4]\n",
    "# {'a': 1, 'b': 2, 'c': 3, 'd': 4}를 만들고 싶다.\n",
    "z = zip(key, value) # z는 generator (제너레이터도 게으른 연산을 한다)\n",
    "    # zip은"
   ]
  },
  {
   "cell_type": "code",
   "execution_count": 10,
   "metadata": {},
   "outputs": [
    {
     "data": {
      "text/plain": [
       "<zip at 0x2394cd3a588>"
      ]
     },
     "execution_count": 10,
     "metadata": {},
     "output_type": "execute_result"
    }
   ],
   "source": [
    "z"
   ]
  },
  {
   "cell_type": "code",
   "execution_count": 11,
   "metadata": {},
   "outputs": [
    {
     "data": {
      "text/plain": [
       "('a', 1)"
      ]
     },
     "execution_count": 11,
     "metadata": {},
     "output_type": "execute_result"
    }
   ],
   "source": [
    "next(z)"
   ]
  },
  {
   "cell_type": "code",
   "execution_count": 12,
   "metadata": {},
   "outputs": [
    {
     "data": {
      "text/plain": [
       "('b', 2)"
      ]
     },
     "execution_count": 12,
     "metadata": {},
     "output_type": "execute_result"
    }
   ],
   "source": [
    "next(z)"
   ]
  },
  {
   "cell_type": "code",
   "execution_count": 13,
   "metadata": {},
   "outputs": [
    {
     "data": {
      "text/plain": [
       "('c', 3)"
      ]
     },
     "execution_count": 13,
     "metadata": {},
     "output_type": "execute_result"
    }
   ],
   "source": [
    "next(z)"
   ]
  },
  {
   "cell_type": "code",
   "execution_count": 14,
   "metadata": {},
   "outputs": [
    {
     "data": {
      "text/plain": [
       "('d', 4)"
      ]
     },
     "execution_count": 14,
     "metadata": {},
     "output_type": "execute_result"
    }
   ],
   "source": [
    "next(z)"
   ]
  },
  {
   "cell_type": "code",
   "execution_count": 15,
   "metadata": {},
   "outputs": [
    {
     "ename": "StopIteration",
     "evalue": "",
     "output_type": "error",
     "traceback": [
      "\u001b[1;31m---------------------------------------------------------------------------\u001b[0m",
      "\u001b[1;31mStopIteration\u001b[0m                             Traceback (most recent call last)",
      "\u001b[1;32m<ipython-input-15-7b32f85a2b4e>\u001b[0m in \u001b[0;36m<module>\u001b[1;34m()\u001b[0m\n\u001b[1;32m----> 1\u001b[1;33m \u001b[0mnext\u001b[0m\u001b[1;33m(\u001b[0m\u001b[0mz\u001b[0m\u001b[1;33m)\u001b[0m\u001b[1;33m\u001b[0m\u001b[0m\n\u001b[0m",
      "\u001b[1;31mStopIteration\u001b[0m: "
     ]
    }
   ],
   "source": [
    "next(z)\n",
    "# generator는 next()를 이용하여 값을 호출할 수 있다. 그리고 끝까지 돌렸을 때 StopIteratiion이 나온다."
   ]
  },
  {
   "cell_type": "code",
   "execution_count": 23,
   "metadata": {},
   "outputs": [
    {
     "name": "stdout",
     "output_type": "stream",
     "text": [
      "{'a': 1, 'b': 2, 'c': 3, 'd': 4}\n",
      "{'a': 1, 'b': 2, 'c': 3, 'd': 4}\n"
     ]
    }
   ],
   "source": [
    "# zip을 사용하는 대신 dictionary comprehension 사용할 수도 있다\n",
    "dic = {k: v for k, v in zip(key, value)}\n",
    "print(dic)\n",
    "\n",
    "# dictionary comprehension 대신 dict() 함수를 이용하여 같은 결과 내기\n",
    "dic = dict(zip(key, value))\n",
    "print(dic)"
   ]
  },
  {
   "cell_type": "code",
   "execution_count": 26,
   "metadata": {},
   "outputs": [
    {
     "name": "stdout",
     "output_type": "stream",
     "text": [
      "('a', 1)\n",
      "('b', 2)\n",
      "('c', 3)\n",
      "('d', 4)\n",
      "a\n",
      "b\n",
      "c\n",
      "d\n",
      "a 1\n",
      "b 2\n",
      "c 3\n",
      "d 4\n",
      "<list_iterator object at 0x000002394CD2A828>\n"
     ]
    }
   ],
   "source": [
    "# 왜 k, v라는 서로 다른 2가지 변수를 사용하는가?\n",
    "\n",
    "# dic.items를 한 변수로 받으면 tuple로 묶여서 출력된다\n",
    "dic = {'a': 1, 'b': 2, 'c': 3, 'd': 4}\n",
    "for e in dic.items():\n",
    "    print(e)\n",
    "\n",
    "# dictionary의 key만 전부 출력한다\n",
    "for e in dic:\n",
    "    print(e)\n",
    "\n",
    "# dic.items를 두 가지 다른 변수로 받으면 tuple로 묶이지 않고 출력된다\n",
    "for k, v in dic.items():\n",
    "    print(k, v)\n",
    "\n",
    "# 원래 dictionary는 순서가 없다. 하지만 \"for\" statement에 입력하면, list, dictionary, tuple 등은 iterator로 변환이 되어 입력이되어 반복해서 실행한다.\n",
    "it = iter(li)\n",
    "print(it)\n",
    "# iter()는 입력값을 iterator라는 함수로 만드는 함수\n",
    "    # iterator라는 함수의 한 경우가 generator라는 함수, iterator가 게으른 연산을 한다 (그래서 iterator에 포함되는 generator도 게으른 연산을 한다)"
   ]
  },
  {
   "cell_type": "code",
   "execution_count": 27,
   "metadata": {
    "collapsed": true
   },
   "outputs": [],
   "source": [
    "# Map\n",
    "# map(a, b) is the common shape of the function \"map\". a is a function and b is an iterable object.\n",
    "    # map(a, b) takes the argument b and runs it through function a to produce the result.\n",
    "    # map() returns the map object, which is also a generator\n",
    "    ## map is essentially f(x) = y\n",
    "\n",
    "li = [1, 2, 3, 4]\n",
    "def mul_10(x):\n",
    "    return x * 10\n",
    "m = map(mul_10, li)"
   ]
  },
  {
   "cell_type": "code",
   "execution_count": 28,
   "metadata": {},
   "outputs": [
    {
     "data": {
      "text/plain": [
       "<map at 0x2394cd2a710>"
      ]
     },
     "execution_count": 28,
     "metadata": {},
     "output_type": "execute_result"
    }
   ],
   "source": [
    "m"
   ]
  },
  {
   "cell_type": "code",
   "execution_count": 29,
   "metadata": {},
   "outputs": [
    {
     "data": {
      "text/plain": [
       "10"
      ]
     },
     "execution_count": 29,
     "metadata": {},
     "output_type": "execute_result"
    }
   ],
   "source": [
    "next(m)"
   ]
  },
  {
   "cell_type": "code",
   "execution_count": 30,
   "metadata": {},
   "outputs": [
    {
     "data": {
      "text/plain": [
       "20"
      ]
     },
     "execution_count": 30,
     "metadata": {},
     "output_type": "execute_result"
    }
   ],
   "source": [
    "next(m)"
   ]
  },
  {
   "cell_type": "code",
   "execution_count": 31,
   "metadata": {},
   "outputs": [
    {
     "data": {
      "text/plain": [
       "30"
      ]
     },
     "execution_count": 31,
     "metadata": {},
     "output_type": "execute_result"
    }
   ],
   "source": [
    "next(m)"
   ]
  },
  {
   "cell_type": "code",
   "execution_count": 32,
   "metadata": {},
   "outputs": [
    {
     "data": {
      "text/plain": [
       "40"
      ]
     },
     "execution_count": 32,
     "metadata": {},
     "output_type": "execute_result"
    }
   ],
   "source": [
    "next(m)"
   ]
  },
  {
   "cell_type": "code",
   "execution_count": 33,
   "metadata": {},
   "outputs": [
    {
     "ename": "StopIteration",
     "evalue": "",
     "output_type": "error",
     "traceback": [
      "\u001b[1;31m---------------------------------------------------------------------------\u001b[0m",
      "\u001b[1;31mStopIteration\u001b[0m                             Traceback (most recent call last)",
      "\u001b[1;32m<ipython-input-33-f1f9edf9efdd>\u001b[0m in \u001b[0;36m<module>\u001b[1;34m()\u001b[0m\n\u001b[1;32m----> 1\u001b[1;33m \u001b[0mnext\u001b[0m\u001b[1;33m(\u001b[0m\u001b[0mm\u001b[0m\u001b[1;33m)\u001b[0m\u001b[1;33m\u001b[0m\u001b[0m\n\u001b[0m",
      "\u001b[1;31mStopIteration\u001b[0m: "
     ]
    }
   ],
   "source": [
    "next(m)"
   ]
  },
  {
   "cell_type": "code",
   "execution_count": 36,
   "metadata": {},
   "outputs": [
    {
     "name": "stdout",
     "output_type": "stream",
     "text": [
      "10\n",
      "20\n",
      "30\n",
      "40\n"
     ]
    }
   ],
   "source": [
    "m = map(mul_10, li)\n",
    "for e in m:\n",
    "    print(e)"
   ]
  },
  {
   "cell_type": "code",
   "execution_count": 37,
   "metadata": {},
   "outputs": [
    {
     "name": "stdout",
     "output_type": "stream",
     "text": [
      "10\n",
      "20\n",
      "30\n",
      "40\n"
     ]
    }
   ],
   "source": [
    "# Using lambda with map\n",
    "m = map(lambda x: x * 10, li)\n",
    "# After 1 use, the lambda function disappears from memory, meaning it is not a now-useless function taking up space in the computer's memory\n",
    "for e in m:\n",
    "    print(e)\n",
    "\n",
    "# 아래와 같이 만들어 낼 수도 있다... 하지만 아래 방법은 memory를 많이 잡아먹는다.\n",
    "y = []\n",
    "for e in li:\n",
    "    y.append(e * 10)"
   ]
  },
  {
   "cell_type": "code",
   "execution_count": 50,
   "metadata": {
    "collapsed": true
   },
   "outputs": [],
   "source": [
    "dic = {'a': 1, 'b': 2, 'c': 3, 'd': 4,}"
   ]
  },
  {
   "cell_type": "code",
   "execution_count": 51,
   "metadata": {},
   "outputs": [
    {
     "data": {
      "text/plain": [
       "dict_keys(['a', 'b', 'c', 'd'])"
      ]
     },
     "execution_count": 51,
     "metadata": {},
     "output_type": "execute_result"
    }
   ],
   "source": [
    "dic.keys()\n",
    "# python 2.X 형식인 아래 출력값 \"dict_keys\"가 memory를 많이 잡아먹는다"
   ]
  },
  {
   "cell_type": "code",
   "execution_count": 52,
   "metadata": {},
   "outputs": [
    {
     "name": "stdout",
     "output_type": "stream",
     "text": [
      "dict_keys(['a', 'b', 'c', 'd'])\n",
      "{'a': 1, 'b': 2, 'c': 3, 'd': 4, 'e': 5}\n",
      "['a', 'b', 'c', 'd']\n",
      "dict_keys(['a', 'b', 'c', 'd', 'e'])\n"
     ]
    }
   ],
   "source": [
    "# keys(), values(), items(): VIEW 객체\n",
    "    # these are dynamic\n",
    "key_view = dic.keys()\n",
    "print(key_view)\n",
    "\n",
    "key_list = list(dic.keys())\n",
    "\n",
    "dic['e'] = 5\n",
    "print(dic)\n",
    "print(key_list)\n",
    "print(key_view)\n",
    "# key_list은 dic.keys()를 미리 list로 만들어놓고 값으로 저장해서 변하지 않는다\n",
    "# 하지만 key_view는 현 시점의 dic.keys()를 뽑는 것이기에 바뀐 것을 반영한다"
   ]
  },
  {
   "cell_type": "code",
   "execution_count": 64,
   "metadata": {},
   "outputs": [
    {
     "data": {
      "text/plain": [
       "<map at 0x2394cd1e6d8>"
      ]
     },
     "execution_count": 64,
     "metadata": {},
     "output_type": "execute_result"
    }
   ],
   "source": [
    "# lazy evaluation (게으른 연산) means 필요할 때 마다 연산한다\n",
    "\n",
    "def func(a):\n",
    "    print(\"func is executed\")\n",
    "    return a ** 2\n",
    "\n",
    "li = [1, 2, 3, 4,]\n",
    "\n",
    "m = map(func, li)\n",
    "m"
   ]
  },
  {
   "cell_type": "code",
   "execution_count": 67,
   "metadata": {},
   "outputs": [
    {
     "name": "stdout",
     "output_type": "stream",
     "text": [
      "func is executed\n"
     ]
    },
    {
     "data": {
      "text/plain": [
       "9"
      ]
     },
     "execution_count": 67,
     "metadata": {},
     "output_type": "execute_result"
    }
   ],
   "source": [
    "next(m)\n",
    "# next(m)을 다시한번 실행했다. 그래서 3번째로 실행한 것이 되어 li에서 '3'을 func에 넣어 실행했다."
   ]
  },
  {
   "cell_type": "code",
   "execution_count": 54,
   "metadata": {},
   "outputs": [
    {
     "name": "stdout",
     "output_type": "stream",
     "text": [
      "Lovely weather\n"
     ]
    }
   ],
   "source": [
    "print(\"Lovely weather\")"
   ]
  },
  {
   "cell_type": "code",
   "execution_count": 66,
   "metadata": {},
   "outputs": [
    {
     "name": "stdout",
     "output_type": "stream",
     "text": [
      "func is executed\n"
     ]
    },
    {
     "data": {
      "text/plain": [
       "4"
      ]
     },
     "execution_count": 66,
     "metadata": {},
     "output_type": "execute_result"
    }
   ],
   "source": [
    "next(m)\n",
    "# lazy evaluation은 연산하라는 명령이 나면 연산을 하지, 한 번에 모두 연산해 놓고 준비하지 않는다.\n",
    "    # lazy evaluation의 장점은 원할 때만 연산을 하게 만들 수 있고, 그래서 미리 연산해놓아 memory를 잡아먹는 일도 없고 쓸때없이 모든 것을 연산해서 cpu 잡아먹는 일도 없다\n"
   ]
  },
  {
   "cell_type": "code",
   "execution_count": 74,
   "metadata": {},
   "outputs": [
    {
     "data": {
      "text/plain": [
       "<filter at 0x2394cd1e978>"
      ]
     },
     "execution_count": 74,
     "metadata": {},
     "output_type": "execute_result"
    }
   ],
   "source": [
    "# Filter\n",
    "    # 조건이 참이면 포함하고 조건이 거짓이면 포함 안함\n",
    "\n",
    "li = [-3, 2, 0, 4]\n",
    "result = filter(lambda x: x> 0, li)\n",
    "result"
   ]
  },
  {
   "cell_type": "code",
   "execution_count": 75,
   "metadata": {},
   "outputs": [
    {
     "name": "stdout",
     "output_type": "stream",
     "text": [
      "2\n",
      "4\n"
     ]
    }
   ],
   "source": [
    "for e in result:\n",
    "    print(e)"
   ]
  },
  {
   "cell_type": "code",
   "execution_count": 77,
   "metadata": {},
   "outputs": [
    {
     "name": "stdout",
     "output_type": "stream",
     "text": [
      "a > 0\n"
     ]
    }
   ],
   "source": [
    "# 삼항연산자\n",
    "a = 10\n",
    "if a > 0:\n",
    "    print(\"a > 0\")\n",
    "else:\n",
    "    print(\"a < 0\")"
   ]
  },
  {
   "cell_type": "code",
   "execution_count": 79,
   "metadata": {},
   "outputs": [
    {
     "name": "stdout",
     "output_type": "stream",
     "text": [
      "a > 0\n"
     ]
    }
   ],
   "source": [
    "# 위 예시를 삼항연산자로 바꾼 것\n",
    "print(\"a > 0\" if a > 0 else \"a < 0\")\n",
    "# 참일 때 값 + if + 참일 조건 + else + 거짓일 때 값"
   ]
  },
  {
   "cell_type": "code",
   "execution_count": 80,
   "metadata": {},
   "outputs": [
    {
     "name": "stdout",
     "output_type": "stream",
     "text": [
      "a > 0\n"
     ]
    }
   ],
   "source": [
    "# a > 0\n",
    "# a < 0\n",
    "# a == 0\n",
    "print(\"a > 0\" if a > 0 else (\"a == 0\" if a == 0 else \"a < 0\"))\n",
    "# if-else처럼 간단할 때 삼항연산자가 유용, 하지만 조건이 많아질수록 삼항연산자 대신 풀어 쓰는 것이 좋다"
   ]
  },
  {
   "cell_type": "code",
   "execution_count": 117,
   "metadata": {
    "collapsed": true
   },
   "outputs": [],
   "source": [
    "# 연습문제 No.1\n",
    "    #양수이면 \"양수\", 음수이면 \"음수\", 0이면 \"0\" 출력\n",
    "\n",
    "def func(a):\n",
    "    return (\"양수\" if a > 0 else (\"음수\" if a < 0 else \"0\"))\n",
    "    \n",
    "li = [2, 0, 5, -7,]\n",
    "result = list(map(func, li))"
   ]
  },
  {
   "cell_type": "code",
   "execution_count": 118,
   "metadata": {},
   "outputs": [
    {
     "data": {
      "text/plain": [
       "['양수', '0', '양수', '음수']"
      ]
     },
     "execution_count": 118,
     "metadata": {},
     "output_type": "execute_result"
    }
   ],
   "source": [
    "result"
   ]
  },
  {
   "cell_type": "code",
   "execution_count": 104,
   "metadata": {},
   "outputs": [
    {
     "data": {
      "text/plain": [
       "['양수', '0', '양수', '음수']"
      ]
     },
     "execution_count": 104,
     "metadata": {},
     "output_type": "execute_result"
    }
   ],
   "source": [
    "# 강사님의 연습문제 No.1 해결법\n",
    "li = [2, 0, 5, -7,]\n",
    "결과 = list(map(lambda a: \"양수\" if a > 0 else (\"음수\" if a < 0 else \"0\"), li))\n",
    "결과"
   ]
  },
  {
   "cell_type": "code",
   "execution_count": 120,
   "metadata": {},
   "outputs": [
    {
     "data": {
      "text/plain": [
       "[4, 25]"
      ]
     },
     "execution_count": 120,
     "metadata": {},
     "output_type": "execute_result"
    }
   ],
   "source": [
    "# 연습문제 No.2\n",
    "    # filter & map 사용할 것\n",
    "    # 양수만 뽑아서 (use filter) 제곱한 (use map) 값\n",
    "    # result should be [4, 25]\n",
    "lis = [2, 5, -6, 0, -7]\n",
    "값 = list(map(lambda a: a ** 2, filter(lambda a: a > 0, lis)))\n",
    "    # map과 filter는 iterable object이기 때문에, 그 출력값도 iterable하여 map(func, li) & filter(func, li)의 \"li\" 위치에 입력할 수 있다\n",
    "        # map & filter's second argument spot must be filled by an iterable object\n",
    "                ## map(func, li) & filter(func, li)'s \"li\" spots are the second argument spots\n",
    "                    ### naturally, the first argument spots, the \"func\" spots, must be filled by functions\n",
    "\n",
    "# 값 = list(map(lambda a: \n",
    "#              a ** 2, \n",
    "#              filter(lambda a: a > 0, lis)))\n",
    "    # 함수 내, 즉, \"()\" 내에서는 원하는대로 여러 줄에 걸쳐 내용을 쓸 수 있다. 여러 줄에 나눠쓴 것은 함수실행에 문제되지 않는다\n",
    "\n",
    "값"
   ]
  },
  {
   "cell_type": "code",
   "execution_count": 121,
   "metadata": {},
   "outputs": [
    {
     "ename": "SyntaxError",
     "evalue": "invalid syntax (<ipython-input-121-856f1ed08c35>, line 2)",
     "output_type": "error",
     "traceback": [
      "\u001b[1;36m  File \u001b[1;32m\"<ipython-input-121-856f1ed08c35>\"\u001b[1;36m, line \u001b[1;32m2\u001b[0m\n\u001b[1;33m    result = filter(lambdas x:x>0, li) # result는 양수만 뽑은 것\u001b[0m\n\u001b[1;37m                            ^\u001b[0m\n\u001b[1;31mSyntaxError\u001b[0m\u001b[1;31m:\u001b[0m invalid syntax\n"
     ]
    }
   ],
   "source": [
    "# 강사님의 연습문제 No.2 해결법\n",
    "result = filter(lambda x:x>0, li) # result는 양수만 뽑은 것\n",
    "result2 = map(lambda x: x**2, result) # result2는 result를 제곱한 것\n",
    "final_result = list(result2)"
   ]
  },
  {
   "cell_type": "code",
   "execution_count": 124,
   "metadata": {},
   "outputs": [
    {
     "name": "stdout",
     "output_type": "stream",
     "text": [
      "[6, 8, 10, 12]\n",
      "[14, 22, 32, 44]\n"
     ]
    }
   ],
   "source": [
    "# Advanced version of map as f(x, y) = z\n",
    "    # Input 2 arguments (x & y) into a function to result in z\n",
    "\n",
    "a = [1, 2, 3, 4]\n",
    "b = [5, 6, 7, 8, ]\n",
    "result = list(map(lambda x, y: x + y, a, b))\n",
    "print(result)\n",
    "\n",
    "c = [9, 10, 11, 12]\n",
    "result2 = list(map(lambda x, y, z: x * y + z, a, b, c))\n",
    "print(result2)"
   ]
  },
  {
   "cell_type": "code",
   "execution_count": 125,
   "metadata": {
    "collapsed": true
   },
   "outputs": [],
   "source": [
    "# Reduce\n",
    "from functools import reduce\n",
    "    # import the function \"reduce\" from the library \"functools\"\n",
    "        ## the library \"functools\" is a default library that is preloaded in the python 3 program"
   ]
  },
  {
   "cell_type": "code",
   "execution_count": 128,
   "metadata": {},
   "outputs": [
    {
     "data": {
      "text/plain": [
       "15"
      ]
     },
     "execution_count": 128,
     "metadata": {},
     "output_type": "execute_result"
    }
   ],
   "source": [
    "# ex) use reduce to calculate the sum of all the elements of the list = [1, 2, 3, 4, 5]\n",
    "    # 1st. 1 + 2 = 3, list is [3, 3, 4, 5]\n",
    "    # 2nd. 3 + 3 = 6, list is [6, 4, 5]\n",
    "    # 3rd. 6 + 4 = 10, list is [10, 5]\n",
    "    # 4th. 1 + 10 = 5, list is [15]\n",
    "        ## Called \"reduce\" because everytime the calculation occurs,\n",
    "            ## the number of elements in the list being used by the function is reduced by 1\n",
    "\n",
    "li = [1, 2, 3, 4, 5,]\n",
    "result = reduce(lambda a, b: a + b, li)\n",
    "result\n",
    "# You can do the same with the \"for\" statement, but this is faster and better"
   ]
  },
  {
   "cell_type": "code",
   "execution_count": 179,
   "metadata": {},
   "outputs": [
    {
     "name": "stdout",
     "output_type": "stream",
     "text": [
      "16\n",
      "50\n"
     ]
    }
   ],
   "source": [
    "# 최대값 산출\n",
    "list = [5, 8, 1, -4, 16, 2, 9]\n",
    "\n",
    "# 형태: result = reduce(함수, iterable 객체, 초기값)\n",
    "result03 = reduce(\n",
    "                lambda a, b: \n",
    "                    b if b > a \n",
    "                        else a,\n",
    "                            list)\n",
    "        ## 함수: lambda a, b: b if b > a else a\n",
    "        ## iterable 객체: list\n",
    "        ## 초기값: \"default status (whatever that is)\"\n",
    "    # 함수 내, 즉, \"()\" 내에서는 원하는대로 여러 줄에 걸쳐 내용을 쓸 수 있다. 여러 줄에 나눠쓴 것은 함수실행에 문제되지 않는다\n",
    "\n",
    "print(result03)\n",
    "\n",
    "# 초기값을 설정하기\n",
    "result05 = reduce(lambda a, b: b if b > a else a, list, 50)\n",
    "# 50 is the default value of a, so the very first time this function is executed, a is 50\n",
    "print(result05)"
   ]
  },
  {
   "cell_type": "code",
   "execution_count": 138,
   "metadata": {
    "collapsed": true
   },
   "outputs": [],
   "source": [
    "# THE FINAL\n",
    "# 마지막 reduce 연습문제\n",
    "li = ['a', 'b', 'c', 'a', 'b', 'a']\n",
    "    # li를 가지고 각 글자가 몇 개 있는지 알고 싶을 때... 답은 {'a': 3, 'b': 2, 'c': 1}\n",
    "        ## webcrawling, textmining에서 유용하다\n"
   ]
  },
  {
   "cell_type": "code",
   "execution_count": 144,
   "metadata": {},
   "outputs": [
    {
     "name": "stdout",
     "output_type": "stream",
     "text": [
      "{'a': 1, 'b': 2, 'c': 3, 'd': 4, 'e': 5}\n",
      "1\n",
      "None\n",
      "20\n",
      "1\n",
      "20\n",
      "{'a': 1, 'b': 2, 'c': 3, 'd': 4, 'e': 5, 'g': 20}\n"
     ]
    }
   ],
   "source": [
    "# THE FINAL을 위해 배워야할 것 1.\n",
    "dic = {'a': 1, 'b': 2, 'c': 3}\n",
    "dic.update({'d': 4, 'e': 5})\n",
    "    # 하나만 넣고 싶을 때도 사용 가능 ex) dic.update({'d': 4})\n",
    "    # 이미 있는 key의 value를 변경 가능 ex) dic.update({'d': 10})\n",
    "    # dic['d'] = 4보다 한번에 여러 key-value를 넣을 수 있는 장점\n",
    "print(dic)\n",
    "\n",
    "# THE FINAL을 위해 배워야할 것 2.\n",
    "print(dic.get('a'))\n",
    "    # 특정 key의 value를 가져오기 위해 다른 방법은 dic['e']\n",
    "    # 하지만 dic['e']은 없는 key면 에러나지만, .get()은 key가 없으면 null을 return한다\n",
    "    # .get()는 default value가 있다.\n",
    "        # ex) dic.get('e', 10)... dic에 가서 'e'를 찾고, 없으면 10을 return하라... dic이 바뀌지는 않는다\n",
    "print(dic.get('g'))\n",
    "print(dic.get('g', 20))\n",
    "\n",
    "# THE FINAL을 위해 배워야할 것 3.\n",
    "    # key가 있는지 보고 있으면 value를 return한다... key가 없으면 새로 key로 추가하고 default 값을 value로 입력한다\n",
    "print(dic.setdefault('a'))\n",
    "print(dic.setdefault('g', 20))\n",
    "    # dic.update은 한 번에 여러 argument를 입력할 수 있지만, dic.setdefault는 한 번에 한 개 'key-value' argument만을 입력할 수 있다\n",
    "print(dic)"
   ]
  },
  {
   "cell_type": "code",
   "execution_count": 150,
   "metadata": {},
   "outputs": [
    {
     "name": "stdout",
     "output_type": "stream",
     "text": [
      "[1, 2]\n",
      "[1, 2]\n",
      "[3, 4]\n",
      "[]\n",
      "2\n"
     ]
    }
   ],
   "source": [
    "# THE FINAL을 위해 배워야할 것 4. and, or\n",
    "print([1, 2] or [])\n",
    "    # True가 출력되지 않고 list값이 return된다\n",
    "print([1, 2] or [3, 4])\n",
    "print([1, 2] and [3, 4])\n",
    "print([] and [1, 2])\n",
    "\n",
    "# python에서 False로 취급하는 것들: [], {}, (), '', \"\", None\n",
    "# python은 마지막으로 참고한 list만 return하고 뒤를 보지 않는다\n",
    "    # [1, 2] or []에서는 or이기 때문에 둘 중 하나만 참이면 참이다...\n",
    "        # 그래서 [1, 2]가 참이니까 더 이상 보지 않고 return한다\n",
    "    # 반면, [1, 2] and [3, 4]는 and이기 때문에 둘 다 참이어야 참이다...\n",
    "        # 그래서 끝까지 보고, 마지막으로 본 것이 [3, 4]이니까 return한다\n",
    "    # [] and [1, 2]는 and이기 때문에 둘 다 참이어야 참이다...\n",
    "        # 하지만 []는 거짓이기에 더 볼 필요 없이 거짓이니까 끝내고 마지막에 본 []을 return한다\n",
    "\n",
    "if [0] and [1]:\n",
    "    print(2)\n",
    "    # python에서 자동으로 True, False로 인식하기 때문에 이대로 쓰면 된다"
   ]
  },
  {
   "cell_type": "code",
   "execution_count": 176,
   "metadata": {
    "collapsed": true
   },
   "outputs": [],
   "source": [
    "# In python, functions are expressions, it MUST return something\n",
    "dic = {'a': 1, \"b\": 2,}\n",
    "a = 10\n",
    "a = dic.update({'c': 3})\n",
    "a\n",
    "# Nothing happens, because dic.update() is a function that doesn't return anything and so what is returned is \"none\" "
   ]
  },
  {
   "cell_type": "code",
   "execution_count": 178,
   "metadata": {},
   "outputs": [
    {
     "ename": "AttributeError",
     "evalue": "'NoneType' object has no attribute 'update'",
     "output_type": "error",
     "traceback": [
      "\u001b[1;31m---------------------------------------------------------------------------\u001b[0m",
      "\u001b[1;31mAttributeError\u001b[0m                            Traceback (most recent call last)",
      "\u001b[1;32m<ipython-input-178-8e50e2569def>\u001b[0m in \u001b[0;36m<module>\u001b[1;34m()\u001b[0m\n\u001b[1;32m----> 1\u001b[1;33m \u001b[0mdic\u001b[0m \u001b[1;33m=\u001b[0m \u001b[0mdic\u001b[0m\u001b[1;33m.\u001b[0m\u001b[0mupdate\u001b[0m\u001b[1;33m(\u001b[0m\u001b[1;33m{\u001b[0m\u001b[1;34m'c'\u001b[0m\u001b[1;33m:\u001b[0m \u001b[1;36m3\u001b[0m\u001b[1;33m}\u001b[0m\u001b[1;33m)\u001b[0m\u001b[1;33m\u001b[0m\u001b[0m\n\u001b[0m\u001b[0;32m      2\u001b[0m \u001b[0mdic\u001b[0m\u001b[1;33m\u001b[0m\u001b[0m\n\u001b[0;32m      3\u001b[0m \u001b[0mprint\u001b[0m\u001b[1;33m(\u001b[0m\u001b[0mdic\u001b[0m\u001b[1;33m)\u001b[0m\u001b[1;33m\u001b[0m\u001b[0m\n",
      "\u001b[1;31mAttributeError\u001b[0m: 'NoneType' object has no attribute 'update'"
     ]
    }
   ],
   "source": [
    "dic = dic.update({'c': 3})\n",
    "dic\n",
    "# dic was updated, then what dic.update returned (none) became the value of \"dic\"\n",
    "\n",
    "dic = dic.update({'c': 3}) or dic\n",
    "dic\n",
    "# dic was updated, then what dic.update returned was none, but because of \"or\", it is False or True and thus the True (dic) became the value of dic\n",
    "# lambda must always return something, which is why \"dic = dic.update({'c': 3})\" is unuseable\n",
    "# lambda must be written on one linem which is why \"dic.update({'c': 3}) \\n dic\" is unuseable"
   ]
  },
  {
   "cell_type": "code",
   "execution_count": 180,
   "metadata": {},
   "outputs": [
    {
     "data": {
      "text/plain": [
       "[{}]"
      ]
     },
     "execution_count": 180,
     "metadata": {},
     "output_type": "execute_result"
    }
   ],
   "source": [
    "li = []\n",
    "li.append({})\n",
    "li\n",
    "# list 안에 none을 추가할 수 있다"
   ]
  },
  {
   "cell_type": "code",
   "execution_count": 181,
   "metadata": {
    "collapsed": true
   },
   "outputs": [],
   "source": [
    "# THE FINAL을 위해 배워야할 것 5.\n",
    "# dictionary도 초기값을 설정하여 넣을 수 있지 않을까?"
   ]
  },
  {
   "cell_type": "code",
   "execution_count": 193,
   "metadata": {},
   "outputs": [
    {
     "data": {
      "text/plain": [
       "[1, 2, 3, 4]"
      ]
     },
     "execution_count": 193,
     "metadata": {},
     "output_type": "execute_result"
    }
   ],
   "source": [
    "d = [1, 2, 3, 4]\n",
    "res = reduce(lambda a, d: a.append(d) or a, d, [])\n",
    "res"
   ]
  },
  {
   "cell_type": "code",
   "execution_count": 199,
   "metadata": {},
   "outputs": [
    {
     "ename": "AttributeError",
     "evalue": "'int' object has no attribute 'setdefault'",
     "output_type": "error",
     "traceback": [
      "\u001b[1;31m---------------------------------------------------------------------------\u001b[0m",
      "\u001b[1;31mAttributeError\u001b[0m                            Traceback (most recent call last)",
      "\u001b[1;32m<ipython-input-199-ca388affb1ef>\u001b[0m in \u001b[0;36m<module>\u001b[1;34m()\u001b[0m\n\u001b[0;32m      1\u001b[0m \u001b[0mL\u001b[0m \u001b[1;33m=\u001b[0m \u001b[1;33m[\u001b[0m\u001b[1;34m'a'\u001b[0m\u001b[1;33m,\u001b[0m \u001b[1;34m'b'\u001b[0m\u001b[1;33m,\u001b[0m \u001b[1;34m'c'\u001b[0m\u001b[1;33m,\u001b[0m \u001b[1;34m'a'\u001b[0m\u001b[1;33m,\u001b[0m \u001b[1;34m'b'\u001b[0m\u001b[1;33m,\u001b[0m \u001b[1;34m'a'\u001b[0m\u001b[1;33m]\u001b[0m\u001b[1;33m\u001b[0m\u001b[0m\n\u001b[0;32m      2\u001b[0m     \u001b[1;31m# 답은 {'a': 3, 'b': 2, 'c': 1}\u001b[0m\u001b[1;33m\u001b[0m\u001b[1;33m\u001b[0m\u001b[0m\n\u001b[1;32m----> 3\u001b[1;33m \u001b[0mTHEFINAL\u001b[0m \u001b[1;33m=\u001b[0m \u001b[0mreduce\u001b[0m\u001b[1;33m(\u001b[0m\u001b[1;32mlambda\u001b[0m \u001b[0mdic\u001b[0m\u001b[1;33m,\u001b[0m \u001b[0mL\u001b[0m\u001b[1;33m:\u001b[0m \u001b[0mdic\u001b[0m\u001b[1;33m.\u001b[0m\u001b[0msetdefault\u001b[0m\u001b[1;33m(\u001b[0m\u001b[0mL\u001b[0m\u001b[1;33m,\u001b[0m \u001b[0mdic\u001b[0m\u001b[1;33m.\u001b[0m\u001b[0mget\u001b[0m\u001b[1;33m(\u001b[0m\u001b[0mL\u001b[0m\u001b[1;33m,\u001b[0m \u001b[1;36m0\u001b[0m\u001b[1;33m)\u001b[0m \u001b[1;33m+\u001b[0m \u001b[1;36m1\u001b[0m\u001b[1;33m)\u001b[0m \u001b[1;32mor\u001b[0m \u001b[0mdic\u001b[0m\u001b[1;33m,\u001b[0m \u001b[0mL\u001b[0m\u001b[1;33m,\u001b[0m \u001b[1;33m{\u001b[0m\u001b[1;33m}\u001b[0m\u001b[1;33m)\u001b[0m\u001b[1;33m\u001b[0m\u001b[0m\n\u001b[0m",
      "\u001b[1;32m<ipython-input-199-ca388affb1ef>\u001b[0m in \u001b[0;36m<lambda>\u001b[1;34m(dic, L)\u001b[0m\n\u001b[0;32m      1\u001b[0m \u001b[0mL\u001b[0m \u001b[1;33m=\u001b[0m \u001b[1;33m[\u001b[0m\u001b[1;34m'a'\u001b[0m\u001b[1;33m,\u001b[0m \u001b[1;34m'b'\u001b[0m\u001b[1;33m,\u001b[0m \u001b[1;34m'c'\u001b[0m\u001b[1;33m,\u001b[0m \u001b[1;34m'a'\u001b[0m\u001b[1;33m,\u001b[0m \u001b[1;34m'b'\u001b[0m\u001b[1;33m,\u001b[0m \u001b[1;34m'a'\u001b[0m\u001b[1;33m]\u001b[0m\u001b[1;33m\u001b[0m\u001b[0m\n\u001b[0;32m      2\u001b[0m     \u001b[1;31m# 답은 {'a': 3, 'b': 2, 'c': 1}\u001b[0m\u001b[1;33m\u001b[0m\u001b[1;33m\u001b[0m\u001b[0m\n\u001b[1;32m----> 3\u001b[1;33m \u001b[0mTHEFINAL\u001b[0m \u001b[1;33m=\u001b[0m \u001b[0mreduce\u001b[0m\u001b[1;33m(\u001b[0m\u001b[1;32mlambda\u001b[0m \u001b[0mdic\u001b[0m\u001b[1;33m,\u001b[0m \u001b[0mL\u001b[0m\u001b[1;33m:\u001b[0m \u001b[0mdic\u001b[0m\u001b[1;33m.\u001b[0m\u001b[0msetdefault\u001b[0m\u001b[1;33m(\u001b[0m\u001b[0mL\u001b[0m\u001b[1;33m,\u001b[0m \u001b[0mdic\u001b[0m\u001b[1;33m.\u001b[0m\u001b[0mget\u001b[0m\u001b[1;33m(\u001b[0m\u001b[0mL\u001b[0m\u001b[1;33m,\u001b[0m \u001b[1;36m0\u001b[0m\u001b[1;33m)\u001b[0m \u001b[1;33m+\u001b[0m \u001b[1;36m1\u001b[0m\u001b[1;33m)\u001b[0m \u001b[1;32mor\u001b[0m \u001b[0mdic\u001b[0m\u001b[1;33m,\u001b[0m \u001b[0mL\u001b[0m\u001b[1;33m,\u001b[0m \u001b[1;33m{\u001b[0m\u001b[1;33m}\u001b[0m\u001b[1;33m)\u001b[0m\u001b[1;33m\u001b[0m\u001b[0m\n\u001b[0m",
      "\u001b[1;31mAttributeError\u001b[0m: 'int' object has no attribute 'setdefault'"
     ]
    }
   ],
   "source": [
    "# My attempts to tackle THEFINAL\n",
    "L = ['a', 'b', 'c', 'a', 'b', 'a']\n",
    "    # 답은 {'a': 3, 'b': 2, 'c': 1}\n",
    "THEFINAL = reduce(lambda dic, L: dic.setdefault(L, dic.get(L, 0) + 1) or dic, L, {})"
   ]
  },
  {
   "cell_type": "code",
   "execution_count": 203,
   "metadata": {
    "collapsed": true
   },
   "outputs": [],
   "source": [
    "# 강사님의 THEFINAL 해결법\n",
    "\n",
    "# lambda 사용 시\n",
    "reduce(lambda r, ch: r.update() or r, li, {})\n",
    "reduce(lambda r, ch: r.update({ch: r.get(ch, 0)+1}) or r, li, {})\n",
    "# 일반함수 사용 시\n",
    "def func(res, ch):\n",
    "    ret = {}\n",
    "    ret[ch] = res.get(ch, 0) + 1\n",
    "    res.update(ret)\n",
    "    return res"
   ]
  },
  {
   "cell_type": "code",
   "execution_count": 215,
   "metadata": {},
   "outputs": [
    {
     "data": {
      "text/plain": [
       "{'a': 3, 'b': 2, 'c': 1}"
      ]
     },
     "execution_count": 215,
     "metadata": {},
     "output_type": "execute_result"
    }
   ],
   "source": [
    "L = ['a', 'b', 'c', 'a', 'b', 'a']\n",
    "\n",
    "# 아래 일반함수 \"func\"는 lambda식을 대신하는 것\n",
    "def func(res, ch):\n",
    "    ret = {}\n",
    "    ret[ch] = res.get(ch, 0) + 1\n",
    "    res.update(ret)\n",
    "    return res\n",
    "reduce(func, li, {})"
   ]
  },
  {
   "cell_type": "code",
   "execution_count": 217,
   "metadata": {},
   "outputs": [
    {
     "data": {
      "text/plain": [
       "{'a': 3, 'b': 2, 'c': 1}"
      ]
     },
     "execution_count": 217,
     "metadata": {},
     "output_type": "execute_result"
    }
   ],
   "source": [
    "L = ['a', 'b', 'c', 'a', 'b', 'a']\n",
    "    # 답은 {'a': 3, 'b': 2, 'c': 1}\n",
    "THEFINAL = reduce(lambda dic, L: dic.update({L: dic.get(L, 0) + 1}) or dic, L, {})\n",
    "THEFINAL\n",
    "# Basically, I was trying to use setdefault when I needed update...... --"
   ]
  },
  {
   "cell_type": "code",
   "execution_count": null,
   "metadata": {
    "collapsed": true
   },
   "outputs": [],
   "source": []
  }
 ],
 "metadata": {
  "kernelspec": {
   "display_name": "Python 3",
   "language": "python",
   "name": "python3"
  },
  "language_info": {
   "codemirror_mode": {
    "name": "ipython",
    "version": 3
   },
   "file_extension": ".py",
   "mimetype": "text/x-python",
   "name": "python",
   "nbconvert_exporter": "python",
   "pygments_lexer": "ipython3",
   "version": "3.6.1"
  }
 },
 "nbformat": 4,
 "nbformat_minor": 2
}
